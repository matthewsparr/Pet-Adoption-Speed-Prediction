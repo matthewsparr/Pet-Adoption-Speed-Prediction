{
 "cells": [
  {
   "cell_type": "markdown",
   "metadata": {},
   "source": [
    "## Final Project Submission\n",
    "\n",
    "Please fill out:\n",
    "* Student name: Matthew Sparr\n",
    "* Student pace: self paced \n",
    "* Scheduled project review date/time: \n",
    "* Instructor name: Eli \n",
    "* Blog post URL:"
   ]
  },
  {
   "cell_type": "markdown",
   "metadata": {},
   "source": [
    "## Import libraries"
   ]
  },
  {
   "cell_type": "code",
   "execution_count": 1,
   "metadata": {},
   "outputs": [],
   "source": [
    "import pandas as pd\n",
    "import numpy as np\n",
    "import matplotlib.pyplot as plt\n",
    "%matplotlib inline\n",
    "import seaborn as sns\n",
    "from sklearn.preprocessing import StandardScaler\n",
    "from sklearn.model_selection import train_test_split\n",
    "from sklearn.linear_model import LogisticRegression\n",
    "from sklearn.pipeline import Pipeline\n",
    "from sklearn.decomposition import PCA\n",
    "from sklearn.ensemble import RandomForestClassifier\n",
    "from imblearn.over_sampling import SMOTE, ADASYN\n",
    "from sklearn.model_selection import GridSearchCV\n",
    "import xgboost as xgb\n",
    "import os\n",
    "import json\n",
    "from sklearn.metrics import cohen_kappa_score\n",
    "from sklearn.model_selection import cross_val_score"
   ]
  },
  {
   "cell_type": "markdown",
   "metadata": {},
   "source": [
    "## Introduction"
   ]
  },
  {
   "cell_type": "markdown",
   "metadata": {},
   "source": [
    "## Grab train and test set"
   ]
  },
  {
   "cell_type": "code",
   "execution_count": 2,
   "metadata": {},
   "outputs": [],
   "source": [
    "train = pd.read_csv('train/train.csv')\n",
    "test = pd.read_csv('test/test.csv')"
   ]
  },
  {
   "cell_type": "markdown",
   "metadata": {},
   "source": [
    "## Fill missing values"
   ]
  },
  {
   "cell_type": "code",
   "execution_count": 52,
   "metadata": {},
   "outputs": [
    {
     "data": {
      "text/plain": [
       "Type                0\n",
       "Name             1257\n",
       "Age                 0\n",
       "Breed1              0\n",
       "Breed2              0\n",
       "Gender              0\n",
       "Color1              0\n",
       "Color2              0\n",
       "Color3              0\n",
       "MaturitySize        0\n",
       "FurLength           0\n",
       "Vaccinated          0\n",
       "Dewormed            0\n",
       "Sterilized          0\n",
       "Health              0\n",
       "Quantity            0\n",
       "Fee                 0\n",
       "State               0\n",
       "RescuerID           0\n",
       "VideoAmt            0\n",
       "Description        12\n",
       "PetID               0\n",
       "PhotoAmt            0\n",
       "AdoptionSpeed       0\n",
       "dtype: int64"
      ]
     },
     "execution_count": 52,
     "metadata": {},
     "output_type": "execute_result"
    }
   ],
   "source": [
    "train.isna().sum()"
   ]
  },
  {
   "cell_type": "code",
   "execution_count": 53,
   "metadata": {},
   "outputs": [
    {
     "data": {
      "text/plain": [
       "Type              0\n",
       "Name            303\n",
       "Age               0\n",
       "Breed1            0\n",
       "Breed2            0\n",
       "Gender            0\n",
       "Color1            0\n",
       "Color2            0\n",
       "Color3            0\n",
       "MaturitySize      0\n",
       "FurLength         0\n",
       "Vaccinated        0\n",
       "Dewormed          0\n",
       "Sterilized        0\n",
       "Health            0\n",
       "Quantity          0\n",
       "Fee               0\n",
       "State             0\n",
       "RescuerID         0\n",
       "VideoAmt          0\n",
       "Description       2\n",
       "PetID             0\n",
       "PhotoAmt          0\n",
       "dtype: int64"
      ]
     },
     "execution_count": 53,
     "metadata": {},
     "output_type": "execute_result"
    }
   ],
   "source": [
    "test.isna().sum()"
   ]
  },
  {
   "cell_type": "code",
   "execution_count": 3,
   "metadata": {},
   "outputs": [],
   "source": [
    "train.Name.fillna(' ', inplace=True)\n",
    "train.Description.fillna(' ', inplace=True)\n",
    "\n",
    "test.Name.fillna(' ', inplace=True)\n",
    "test.Description.fillna(' ', inplace=True)"
   ]
  },
  {
   "cell_type": "markdown",
   "metadata": {},
   "source": [
    "## Explore variables"
   ]
  },
  {
   "cell_type": "code",
   "execution_count": 55,
   "metadata": {
    "scrolled": true
   },
   "outputs": [
    {
     "data": {
      "text/plain": [
       "array([[<matplotlib.axes._subplots.AxesSubplot object at 0x000002B97C1FBF28>,\n",
       "        <matplotlib.axes._subplots.AxesSubplot object at 0x000002B97C2025C0>,\n",
       "        <matplotlib.axes._subplots.AxesSubplot object at 0x000002B9798DC898>,\n",
       "        <matplotlib.axes._subplots.AxesSubplot object at 0x000002B9799EFBA8>],\n",
       "       [<matplotlib.axes._subplots.AxesSubplot object at 0x000002B9798B2EB8>,\n",
       "        <matplotlib.axes._subplots.AxesSubplot object at 0x000002B9798B2EF0>,\n",
       "        <matplotlib.axes._subplots.AxesSubplot object at 0x000002B97983B518>,\n",
       "        <matplotlib.axes._subplots.AxesSubplot object at 0x000002B90005B828>],\n",
       "       [<matplotlib.axes._subplots.AxesSubplot object at 0x000002B900082B38>,\n",
       "        <matplotlib.axes._subplots.AxesSubplot object at 0x000002B9000ABE48>,\n",
       "        <matplotlib.axes._subplots.AxesSubplot object at 0x000002B9000DE198>,\n",
       "        <matplotlib.axes._subplots.AxesSubplot object at 0x000002B9001074A8>],\n",
       "       [<matplotlib.axes._subplots.AxesSubplot object at 0x000002B9001317B8>,\n",
       "        <matplotlib.axes._subplots.AxesSubplot object at 0x000002B900949AC8>,\n",
       "        <matplotlib.axes._subplots.AxesSubplot object at 0x000002B900974E10>,\n",
       "        <matplotlib.axes._subplots.AxesSubplot object at 0x000002B9009A9128>],\n",
       "       [<matplotlib.axes._subplots.AxesSubplot object at 0x000002B9009D1438>,\n",
       "        <matplotlib.axes._subplots.AxesSubplot object at 0x000002B9009F9860>,\n",
       "        <matplotlib.axes._subplots.AxesSubplot object at 0x000002B900A22EF0>,\n",
       "        <matplotlib.axes._subplots.AxesSubplot object at 0x000002B900A535C0>]],\n",
       "      dtype=object)"
      ]
     },
     "execution_count": 55,
     "metadata": {},
     "output_type": "execute_result"
    },
    {
     "data": {
      "image/png": "[encoded data removed]",
      "text/plain": [
       "<Figure size 1440x1440 with 20 Axes>"
      ]
     },
     "metadata": {
      "needs_background": "light"
     },
     "output_type": "display_data"
    }
   ],
   "source": [
    "train.hist(figsize=(20,20))"
   ]
  },
  {
   "cell_type": "code",
   "execution_count": 56,
   "metadata": {},
   "outputs": [
    {
     "data": {
      "text/plain": [
       "<matplotlib.axes._subplots.AxesSubplot at 0x2b900a85e80>"
      ]
     },
     "execution_count": 56,
     "metadata": {},
     "output_type": "execute_result"
    },
    {
     "data": {
      "image/png": "[encoded data removed]",
      "text/plain": [
       "<Figure size 1440x1440 with 2 Axes>"
      ]
     },
     "metadata": {
      "needs_background": "light"
     },
     "output_type": "display_data"
    }
   ],
   "source": [
    "f, ax = plt.subplots(figsize=(20, 20))\n",
    "sns.heatmap(train.corr(),vmax=.3, center=0,\n",
    "            square=True, linewidths=.5,cbar_kws={\"shrink\": .5})"
   ]
  },
  {
   "cell_type": "code",
   "execution_count": 57,
   "metadata": {},
   "outputs": [
    {
     "data": {
      "text/plain": [
       "AdoptionSpeed  AdoptionSpeed    1.000000\n",
       "Vaccinated     Dewormed         0.722596\n",
       "Gender         Quantity         0.494489\n",
       "Vaccinated     Sterilized       0.471204\n",
       "Dewormed       Sterilized       0.426256\n",
       "Breed1         Age              0.314346\n",
       "Color1         Color3           0.282897\n",
       "Quantity       Color3           0.272548\n",
       "Color3         Gender           0.259309\n",
       "Type           Color2           0.246333\n",
       "dtype: float64"
      ]
     },
     "execution_count": 57,
     "metadata": {},
     "output_type": "execute_result"
    }
   ],
   "source": [
    "train.corr().abs().unstack().sort_values(ascending=False).drop_duplicates()[0:10]"
   ]
  },
  {
   "cell_type": "code",
   "execution_count": 58,
   "metadata": {},
   "outputs": [
    {
     "data": {
      "text/plain": [
       "1    8132\n",
       "2    6861\n",
       "Name: Type, dtype: int64"
      ]
     },
     "execution_count": 58,
     "metadata": {},
     "output_type": "execute_result"
    }
   ],
   "source": [
    "train.Type.value_counts()\n",
    "# 1 == Dog, 2 == Cat"
   ]
  },
  {
   "cell_type": "code",
   "execution_count": 10,
   "metadata": {},
   "outputs": [
    {
     "data": {
      "text/plain": [
       "307    5927\n",
       "266    3634\n",
       "265    1258\n",
       "299     342\n",
       "264     296\n",
       "292     264\n",
       "285     221\n",
       "141     205\n",
       "205     190\n",
       "179     167\n",
       "218     162\n",
       "109     151\n",
       "254     105\n",
       "103      98\n",
       "243      94\n",
       "Name: Breed1, dtype: int64"
      ]
     },
     "execution_count": 10,
     "metadata": {},
     "output_type": "execute_result"
    }
   ],
   "source": [
    "train.Breed1.value_counts().head(15)"
   ]
  },
  {
   "cell_type": "code",
   "execution_count": 11,
   "metadata": {},
   "outputs": [
    {
     "data": {
      "text/plain": [
       "0      10762\n",
       "307     1727\n",
       "266      599\n",
       "265      321\n",
       "299      138\n",
       "264      125\n",
       "292      105\n",
       "218       91\n",
       "141       86\n",
       "285       78\n",
       "103       55\n",
       "213       49\n",
       "254       42\n",
       "189       40\n",
       "109       39\n",
       "Name: Breed2, dtype: int64"
      ]
     },
     "execution_count": 11,
     "metadata": {},
     "output_type": "execute_result"
    }
   ],
   "source": [
    "train.Breed2.value_counts().head(15)"
   ]
  },
  {
   "cell_type": "code",
   "execution_count": 12,
   "metadata": {},
   "outputs": [
    {
     "data": {
      "text/plain": [
       "2    7277\n",
       "1    5536\n",
       "3    2180\n",
       "Name: Gender, dtype: int64"
      ]
     },
     "execution_count": 12,
     "metadata": {},
     "output_type": "execute_result"
    }
   ],
   "source": [
    "train.Gender.value_counts()"
   ]
  },
  {
   "cell_type": "code",
   "execution_count": 13,
   "metadata": {},
   "outputs": [
    {
     "data": {
      "text/plain": [
       "Text(0,0.5,'Average Age')"
      ]
     },
     "execution_count": 13,
     "metadata": {},
     "output_type": "execute_result"
    },
    {
     "data": {
      "image/png": "[encoded data removed]",
      "text/plain": [
       "<Figure size 1440x1440 with 1 Axes>"
      ]
     },
     "metadata": {
      "needs_background": "light"
     },
     "output_type": "display_data"
    }
   ],
   "source": [
    "x = train.Breed1.unique()\n",
    "y = []\n",
    "for i in x:\n",
    "    y.append(train.Age[train.Breed1 == i].mean())\n",
    "breed_vs_age = pd.DataFrame()\n",
    "breed_vs_age['Breed'] = x\n",
    "breed_vs_age['Age'] = y\n",
    "breed_vs_age.sort_values('Age', inplace=True)\n",
    "breed_vs_age.head()\n",
    "f, ax = plt.subplots(figsize=(20, 20))\n",
    "plt.bar(breed_vs_age['Breed'], breed_vs_age['Age'])\n",
    "plt.xlabel('Breed ID')\n",
    "plt.ylabel('Average Age')"
   ]
  },
  {
   "cell_type": "markdown",
   "metadata": {},
   "source": [
    "## Add image metadata"
   ]
  },
  {
   "cell_type": "code",
   "execution_count": 65,
   "metadata": {},
   "outputs": [],
   "source": [
    "for index, row in train.iterrows():\n",
    "    file = 'train_metadata/' + row['PetID'] + '-1.json'\n",
    "    if os.path.exists(file):\n",
    "        data = json.load(open(file, encoding=\"utf8\"))\n",
    "        vertex_x = data['cropHintsAnnotation']['cropHints'][0]['boundingPoly']['vertices'][2]['x']\n",
    "        vertex_y = data['cropHintsAnnotation']['cropHints'][0]['boundingPoly']['vertices'][2]['y']\n",
    "        bounding_confidence = data['cropHintsAnnotation']['cropHints'][0]['confidence']\n",
    "        bounding_importance_frac = data['cropHintsAnnotation']['cropHints'][0].get('importanceFraction', -1)\n",
    "        dominant_blue = data['imagePropertiesAnnotation']['dominantColors']['colors'][0]['color']['blue']\n",
    "        dominant_green = data['imagePropertiesAnnotation']['dominantColors']['colors'][0]['color']['green']\n",
    "        dominant_red = data['imagePropertiesAnnotation']['dominantColors']['colors'][0]['color']['red']\n",
    "        dominant_pixel_frac = data['imagePropertiesAnnotation']['dominantColors']['colors'][0]['pixelFraction']\n",
    "        dominant_score = data['imagePropertiesAnnotation']['dominantColors']['colors'][0]['score']\n",
    "        train.loc[index, 'vertex_x']= vertex_x\n",
    "        train.loc[index, 'vertex_y']= vertex_y\n",
    "        train.loc[index, 'bounding_conf']= bounding_confidence\n",
    "        train.loc[index, 'bounding_imp']= bounding_importance_frac\n",
    "        train.loc[index, 'dom_blue']= dominant_blue\n",
    "        train.loc[index, 'dom_green']= dominant_green\n",
    "        train.loc[index, 'dom_red']= dominant_red\n",
    "        train.loc[index, 'pixel_frac']= dominant_pixel_frac\n",
    "        train.loc[index, 'score']= dominant_score\n",
    "    else:\n",
    "        train.loc[index, 'vertex_x']= -1\n",
    "        train.loc[index, 'vertex_y']= -1\n",
    "        train.loc[index, 'bounding_conf']= -1\n",
    "        train.loc[index, 'bounding_imp']= -1\n",
    "        train.loc[index, 'dom_blue']= -1\n",
    "        train.loc[index, 'dom_green']= -1\n",
    "        train.loc[index, 'dom_red']= -1\n",
    "        train.loc[index, 'pixel_frac']= -1\n",
    "        train.loc[index, 'score']= -1"
   ]
  },
  {
   "cell_type": "code",
   "execution_count": 66,
   "metadata": {
    "scrolled": true
   },
   "outputs": [],
   "source": [
    "for index, row in test.iterrows():\n",
    "    file = 'test_metadata/' + row['PetID'] + '-1.json'\n",
    "    if os.path.exists(file):\n",
    "        data = json.load(open(file, encoding=\"utf8\"))\n",
    "        vertex_x = data['cropHintsAnnotation']['cropHints'][0]['boundingPoly']['vertices'][2]['x']\n",
    "        vertex_y = data['cropHintsAnnotation']['cropHints'][0]['boundingPoly']['vertices'][2]['y']\n",
    "        bounding_confidence = data['cropHintsAnnotation']['cropHints'][0]['confidence']\n",
    "        bounding_importance_frac = data['cropHintsAnnotation']['cropHints'][0].get('importanceFraction', -1)\n",
    "        dominant_blue = data['imagePropertiesAnnotation']['dominantColors']['colors'][0]['color']['blue']\n",
    "        dominant_green = data['imagePropertiesAnnotation']['dominantColors']['colors'][0]['color']['green']\n",
    "        dominant_red = data['imagePropertiesAnnotation']['dominantColors']['colors'][0]['color']['red']\n",
    "        dominant_pixel_frac = data['imagePropertiesAnnotation']['dominantColors']['colors'][0]['pixelFraction']\n",
    "        dominant_score = data['imagePropertiesAnnotation']['dominantColors']['colors'][0]['score']\n",
    "        test.loc[index, 'vertex_x']= vertex_x\n",
    "        test.loc[index, 'vertex_y']= vertex_y\n",
    "        test.loc[index, 'bounding_conf']= bounding_confidence\n",
    "        test.loc[index, 'bounding_imp']= bounding_importance_frac\n",
    "        test.loc[index, 'dom_blue']= dominant_blue\n",
    "        test.loc[index, 'dom_green']= dominant_green\n",
    "        test.loc[index, 'dom_red']= dominant_red\n",
    "        test.loc[index, 'pixel_frac']= dominant_pixel_frac\n",
    "        test.loc[index, 'score']= dominant_score\n",
    "    else:\n",
    "        test.loc[index, 'vertex_x']= -1\n",
    "        test.loc[index, 'vertex_y']= -1\n",
    "        test.loc[index, 'bounding_conf']= -1\n",
    "        test.loc[index, 'bounding_imp']= -1\n",
    "        test.loc[index, 'dom_blue']= -1\n",
    "        test.loc[index, 'dom_green']= -1\n",
    "        test.loc[index, 'dom_red']= -1\n",
    "        test.loc[index, 'pixel_frac']= -1\n",
    "        test.loc[index, 'score']= -1"
   ]
  },
  {
   "cell_type": "markdown",
   "metadata": {},
   "source": [
    "## Add name and description length"
   ]
  },
  {
   "cell_type": "code",
   "execution_count": 67,
   "metadata": {},
   "outputs": [],
   "source": [
    "train['NameLength'] = train['Name'].map(lambda x: 0 if x == 'None' else len(x)).astype('int')\n",
    "train['DescLength'] = train['Description'].map(lambda x: len(x)).astype('int')\n",
    "test['NameLength'] = test['Name'].map(lambda x: 0 if x == 'None' else len(x)).astype('int')\n",
    "test['DescLength'] = test['Description'].map(lambda x: len(x)).astype('int')"
   ]
  },
  {
   "cell_type": "markdown",
   "metadata": {},
   "source": [
    "## Add dog data"
   ]
  },
  {
   "cell_type": "code",
   "execution_count": 5,
   "metadata": {},
   "outputs": [],
   "source": [
    "dog_data = pd.read_csv('dog_breeds.csv')"
   ]
  },
  {
   "cell_type": "code",
   "execution_count": 6,
   "metadata": {},
   "outputs": [
    {
     "data": {
      "text/html": [
       "<div>\n",
       "<style scoped>\n",
       "    .dataframe tbody tr th:only-of-type {\n",
       "        vertical-align: middle;\n",
       "    }\n",
       "\n",
       "    .dataframe tbody tr th {\n",
       "        vertical-align: top;\n",
       "    }\n",
       "\n",
       "    .dataframe thead th {\n",
       "        text-align: right;\n",
       "    }\n",
       "</style>\n",
       "<table border=\"1\" class=\"dataframe\">\n",
       "  <thead>\n",
       "    <tr style=\"text-align: right;\">\n",
       "      <th></th>\n",
       "      <th>Unnamed: 0</th>\n",
       "      <th>BreedID</th>\n",
       "      <th>Type</th>\n",
       "      <th>BreedName</th>\n",
       "      <th>Group</th>\n",
       "    </tr>\n",
       "  </thead>\n",
       "  <tbody>\n",
       "    <tr>\n",
       "      <th>0</th>\n",
       "      <td>0</td>\n",
       "      <td>1</td>\n",
       "      <td>1</td>\n",
       "      <td>Affenpinscher</td>\n",
       "      <td>Toy</td>\n",
       "    </tr>\n",
       "    <tr>\n",
       "      <th>1</th>\n",
       "      <td>1</td>\n",
       "      <td>2</td>\n",
       "      <td>1</td>\n",
       "      <td>Afghan Hound</td>\n",
       "      <td>Hound</td>\n",
       "    </tr>\n",
       "    <tr>\n",
       "      <th>2</th>\n",
       "      <td>2</td>\n",
       "      <td>3</td>\n",
       "      <td>1</td>\n",
       "      <td>Airedale Terrier</td>\n",
       "      <td>Terrier</td>\n",
       "    </tr>\n",
       "    <tr>\n",
       "      <th>3</th>\n",
       "      <td>3</td>\n",
       "      <td>4</td>\n",
       "      <td>1</td>\n",
       "      <td>Akbash</td>\n",
       "      <td>Working</td>\n",
       "    </tr>\n",
       "    <tr>\n",
       "      <th>4</th>\n",
       "      <td>4</td>\n",
       "      <td>5</td>\n",
       "      <td>1</td>\n",
       "      <td>Akita</td>\n",
       "      <td>Working</td>\n",
       "    </tr>\n",
       "  </tbody>\n",
       "</table>\n",
       "</div>"
      ],
      "text/plain": [
       "   Unnamed: 0  BreedID  Type         BreedName    Group\n",
       "0           0        1     1     Affenpinscher      Toy\n",
       "1           1        2     1      Afghan Hound    Hound\n",
       "2           2        3     1  Airedale Terrier  Terrier\n",
       "3           3        4     1            Akbash  Working\n",
       "4           4        5     1             Akita  Working"
      ]
     },
     "execution_count": 6,
     "metadata": {},
     "output_type": "execute_result"
    }
   ],
   "source": [
    "dog_data.head()"
   ]
  },
  {
   "cell_type": "code",
   "execution_count": 255,
   "metadata": {},
   "outputs": [],
   "source": [
    "for index, row in train.iterrows():\n",
    "    for i, r in dog_data.iterrows():\n",
    "        if row['Breed1'] == r['BreedID']:\n",
    "            train.at[index,'Group'] = r['Group']\n",
    "            break"
   ]
  },
  {
   "cell_type": "code",
   "execution_count": null,
   "metadata": {},
   "outputs": [],
   "source": [
    "for index, row in test.iterrows():\n",
    "    for i, r in dog_data.iterrows():\n",
    "        if row['Breed1'] == r['BreedID']:\n",
    "            test.at[index,'Group'] = r['Group']\n",
    "            break"
   ]
  },
  {
   "cell_type": "code",
   "execution_count": null,
   "metadata": {},
   "outputs": [],
   "source": [
    "train.Group.isna().sum()"
   ]
  },
  {
   "cell_type": "code",
   "execution_count": 25,
   "metadata": {},
   "outputs": [
    {
     "data": {
      "text/plain": [
       "Index(['Unnamed: 0', 'BreedID', 'Type', 'BreedName', 'Group'], dtype='object')"
      ]
     },
     "execution_count": 25,
     "metadata": {},
     "output_type": "execute_result"
    }
   ],
   "source": [
    "dog_data.columns"
   ]
  },
  {
   "cell_type": "code",
   "execution_count": 37,
   "metadata": {},
   "outputs": [],
   "source": [
    "for index, row in train.iterrows():\n",
    "    try:\n",
    "        breed = row['Breed1']\n",
    "        group = dog_data[dog_data['BreedID'] == breed]['Group'].values[0]\n",
    "    except:\n",
    "        group = 'Cat'\n",
    "    train.loc[index,'Group'] = group    "
   ]
  },
  {
   "cell_type": "code",
   "execution_count": 42,
   "metadata": {},
   "outputs": [],
   "source": [
    "for index, row in test.iterrows():\n",
    "    try:\n",
    "        breed = row['Breed1']\n",
    "        group = dog_data[dog_data['BreedID'] == breed]['Group'].values[0]\n",
    "    except:\n",
    "        group = 'Cat'\n",
    "    test.loc[index,'Group'] = group "
   ]
  },
  {
   "cell_type": "code",
   "execution_count": 38,
   "metadata": {},
   "outputs": [
    {
     "data": {
      "text/plain": [
       "Cat             6853\n",
       "Misc            6018\n",
       "Sporting         448\n",
       "Toy              409\n",
       "Working          366\n",
       "Terrier          311\n",
       "Non-Sporting     247\n",
       "Herding          168\n",
       "Hound            155\n",
       "FSS               13\n",
       "Hunting            5\n",
       "Name: Group, dtype: int64"
      ]
     },
     "execution_count": 38,
     "metadata": {},
     "output_type": "execute_result"
    }
   ],
   "source": [
    "train.Group.value_counts()"
   ]
  },
  {
   "cell_type": "code",
   "execution_count": 43,
   "metadata": {},
   "outputs": [
    {
     "data": {
      "text/plain": [
       "Cat             2072\n",
       "Misc            1323\n",
       "Toy              125\n",
       "Sporting         110\n",
       "Working          101\n",
       "Non-Sporting      70\n",
       "Terrier           65\n",
       "Herding           44\n",
       "Hound             37\n",
       "FSS                1\n",
       "Name: Group, dtype: int64"
      ]
     },
     "execution_count": 43,
     "metadata": {},
     "output_type": "execute_result"
    }
   ],
   "source": [
    "test.Group.value_counts()"
   ]
  },
  {
   "cell_type": "markdown",
   "metadata": {},
   "source": [
    "## Add cat data"
   ]
  },
  {
   "cell_type": "code",
   "execution_count": 46,
   "metadata": {},
   "outputs": [],
   "source": [
    "cat_data = pd.read_csv('cat_info.csv')"
   ]
  },
  {
   "cell_type": "code",
   "execution_count": 47,
   "metadata": {},
   "outputs": [
    {
     "data": {
      "text/html": [
       "<div>\n",
       "<style scoped>\n",
       "    .dataframe tbody tr th:only-of-type {\n",
       "        vertical-align: middle;\n",
       "    }\n",
       "\n",
       "    .dataframe tbody tr th {\n",
       "        vertical-align: top;\n",
       "    }\n",
       "\n",
       "    .dataframe thead th {\n",
       "        text-align: right;\n",
       "    }\n",
       "</style>\n",
       "<table border=\"1\" class=\"dataframe\">\n",
       "  <thead>\n",
       "    <tr style=\"text-align: right;\">\n",
       "      <th></th>\n",
       "      <th>BreedID</th>\n",
       "      <th>Type</th>\n",
       "      <th>BreedName</th>\n",
       "      <th>Cute</th>\n",
       "      <th>Hypo</th>\n",
       "    </tr>\n",
       "  </thead>\n",
       "  <tbody>\n",
       "    <tr>\n",
       "      <th>0</th>\n",
       "      <td>241</td>\n",
       "      <td>2</td>\n",
       "      <td>Abyssinian</td>\n",
       "      <td>0</td>\n",
       "      <td>0</td>\n",
       "    </tr>\n",
       "    <tr>\n",
       "      <th>1</th>\n",
       "      <td>242</td>\n",
       "      <td>2</td>\n",
       "      <td>American Curl</td>\n",
       "      <td>1</td>\n",
       "      <td>0</td>\n",
       "    </tr>\n",
       "    <tr>\n",
       "      <th>2</th>\n",
       "      <td>243</td>\n",
       "      <td>2</td>\n",
       "      <td>American Shorthair</td>\n",
       "      <td>1</td>\n",
       "      <td>0</td>\n",
       "    </tr>\n",
       "    <tr>\n",
       "      <th>3</th>\n",
       "      <td>244</td>\n",
       "      <td>2</td>\n",
       "      <td>American Wirehair</td>\n",
       "      <td>0</td>\n",
       "      <td>0</td>\n",
       "    </tr>\n",
       "    <tr>\n",
       "      <th>4</th>\n",
       "      <td>245</td>\n",
       "      <td>2</td>\n",
       "      <td>Applehead Siamese</td>\n",
       "      <td>0</td>\n",
       "      <td>0</td>\n",
       "    </tr>\n",
       "  </tbody>\n",
       "</table>\n",
       "</div>"
      ],
      "text/plain": [
       "   BreedID  Type           BreedName  Cute  Hypo\n",
       "0      241     2          Abyssinian     0     0\n",
       "1      242     2       American Curl     1     0\n",
       "2      243     2  American Shorthair     1     0\n",
       "3      244     2   American Wirehair     0     0\n",
       "4      245     2   Applehead Siamese     0     0"
      ]
     },
     "execution_count": 47,
     "metadata": {},
     "output_type": "execute_result"
    }
   ],
   "source": [
    "cat_data.head()"
   ]
  },
  {
   "cell_type": "code",
   "execution_count": 51,
   "metadata": {},
   "outputs": [],
   "source": [
    "for index, row in train.iterrows():\n",
    "    try:\n",
    "        breed = row['Breed1']\n",
    "        cute = cat_data[cat_data['BreedID'] == breed]['Cute'].values[0]\n",
    "        hypo = cat_data[cat_data['BreedID'] == breed]['Hypo'].values[0]\n",
    "    except:\n",
    "        cute = -1\n",
    "        hypo = -1\n",
    "    train.loc[index,'Cat_Cute'] = cute\n",
    "    train.loc[index,'Cat_Hypo'] = hypo"
   ]
  },
  {
   "cell_type": "code",
   "execution_count": 53,
   "metadata": {},
   "outputs": [],
   "source": [
    "for index, row in test.iterrows():\n",
    "    try:\n",
    "        breed = row['Breed1']\n",
    "        cute = cat_data[cat_data['BreedID'] == breed]['Cute'].values[0]\n",
    "        hypo = cat_data[cat_data['BreedID'] == breed]['Hypo'].values[0]\n",
    "    except:\n",
    "        cute = -1\n",
    "        hypo = -1\n",
    "    test.loc[index,'Cat_Cute'] = cute\n",
    "    test.loc[index,'Cat_Hypo'] = hypo"
   ]
  },
  {
   "cell_type": "code",
   "execution_count": 50,
   "metadata": {},
   "outputs": [
    {
     "data": {
      "text/plain": [
       "-1.0    8145\n",
       " 0.0    6404\n",
       " 1.0     444\n",
       "Name: Cat_Cute, dtype: int64"
      ]
     },
     "execution_count": 50,
     "metadata": {},
     "output_type": "execute_result"
    }
   ],
   "source": [
    "train.Cat_Cute.value_counts()"
   ]
  },
  {
   "cell_type": "code",
   "execution_count": 52,
   "metadata": {},
   "outputs": [
    {
     "data": {
      "text/plain": [
       "-1.0    8145\n",
       " 0.0    6350\n",
       " 1.0     498\n",
       "Name: Cat_Hypo, dtype: int64"
      ]
     },
     "execution_count": 52,
     "metadata": {},
     "output_type": "execute_result"
    }
   ],
   "source": [
    "train.Cat_Hypo.value_counts()"
   ]
  },
  {
   "cell_type": "code",
   "execution_count": 54,
   "metadata": {},
   "outputs": [
    {
     "data": {
      "text/plain": [
       " 0.0    1952\n",
       "-1.0    1876\n",
       " 1.0     120\n",
       "Name: Cat_Cute, dtype: int64"
      ]
     },
     "execution_count": 54,
     "metadata": {},
     "output_type": "execute_result"
    }
   ],
   "source": [
    "test.Cat_Cute.value_counts()"
   ]
  },
  {
   "cell_type": "code",
   "execution_count": 55,
   "metadata": {},
   "outputs": [
    {
     "data": {
      "text/plain": [
       " 0.0    1948\n",
       "-1.0    1876\n",
       " 1.0     124\n",
       "Name: Cat_Hypo, dtype: int64"
      ]
     },
     "execution_count": 55,
     "metadata": {},
     "output_type": "execute_result"
    }
   ],
   "source": [
    "test.Cat_Hypo.value_counts()"
   ]
  },
  {
   "cell_type": "markdown",
   "metadata": {},
   "source": [
    "## Add state data"
   ]
  },
  {
   "cell_type": "code",
   "execution_count": 59,
   "metadata": {},
   "outputs": [
    {
     "data": {
      "text/html": [
       "<div>\n",
       "<style scoped>\n",
       "    .dataframe tbody tr th:only-of-type {\n",
       "        vertical-align: middle;\n",
       "    }\n",
       "\n",
       "    .dataframe tbody tr th {\n",
       "        vertical-align: top;\n",
       "    }\n",
       "\n",
       "    .dataframe thead th {\n",
       "        text-align: right;\n",
       "    }\n",
       "</style>\n",
       "<table border=\"1\" class=\"dataframe\">\n",
       "  <thead>\n",
       "    <tr style=\"text-align: right;\">\n",
       "      <th></th>\n",
       "      <th>State</th>\n",
       "      <th>Population</th>\n",
       "      <th>StateID</th>\n",
       "      <th>UrbanPercent</th>\n",
       "      <th>PopDensity</th>\n",
       "    </tr>\n",
       "  </thead>\n",
       "  <tbody>\n",
       "    <tr>\n",
       "      <th>0</th>\n",
       "      <td>Kuala Lumpur</td>\n",
       "      <td>1627172</td>\n",
       "      <td>41401</td>\n",
       "      <td>100.0</td>\n",
       "      <td>6891</td>\n",
       "    </tr>\n",
       "    <tr>\n",
       "      <th>1</th>\n",
       "      <td>Labuan</td>\n",
       "      <td>86908</td>\n",
       "      <td>41415</td>\n",
       "      <td>82.3</td>\n",
       "      <td>950</td>\n",
       "    </tr>\n",
       "    <tr>\n",
       "      <th>2</th>\n",
       "      <td>Johor</td>\n",
       "      <td>3348283</td>\n",
       "      <td>41336</td>\n",
       "      <td>71.9</td>\n",
       "      <td>174</td>\n",
       "    </tr>\n",
       "    <tr>\n",
       "      <th>3</th>\n",
       "      <td>Kedah</td>\n",
       "      <td>1890098</td>\n",
       "      <td>41325</td>\n",
       "      <td>64.6</td>\n",
       "      <td>199</td>\n",
       "    </tr>\n",
       "    <tr>\n",
       "      <th>4</th>\n",
       "      <td>Kelantan</td>\n",
       "      <td>1459994</td>\n",
       "      <td>41367</td>\n",
       "      <td>42.4</td>\n",
       "      <td>97</td>\n",
       "    </tr>\n",
       "  </tbody>\n",
       "</table>\n",
       "</div>"
      ],
      "text/plain": [
       "          State  Population  StateID  UrbanPercent  PopDensity\n",
       "0  Kuala Lumpur     1627172    41401         100.0        6891\n",
       "1        Labuan       86908    41415          82.3         950\n",
       "2         Johor     3348283    41336          71.9         174\n",
       "3         Kedah     1890098    41325          64.6         199\n",
       "4      Kelantan     1459994    41367          42.4          97"
      ]
     },
     "execution_count": 59,
     "metadata": {},
     "output_type": "execute_result"
    }
   ],
   "source": [
    "state_data = pd.read_csv('state_data.csv')\n",
    "state_data.head()"
   ]
  },
  {
   "cell_type": "code",
   "execution_count": 60,
   "metadata": {},
   "outputs": [],
   "source": [
    "for index, row in train.iterrows():\n",
    "    state = row['State']\n",
    "    urban = state_data[state_data['StateID'] == state]['UrbanPercent'].values[0]\n",
    "    pop = state_data[state_data['StateID'] == state]['Population'].values[0]\n",
    "    pop_den = state_data[state_data['StateID'] == state]['PopDensity'].values[0]\n",
    "\n",
    "    train.loc[index,'UrbanPercent'] = urban\n",
    "    train.loc[index,'Population'] = pop\n",
    "    train.loc[index,'PopDensity'] = pop_den"
   ]
  },
  {
   "cell_type": "code",
   "execution_count": 62,
   "metadata": {},
   "outputs": [],
   "source": [
    "for index, row in test.iterrows():\n",
    "    state = row['State']\n",
    "    urban = state_data[state_data['StateID'] == state]['UrbanPercent'].values[0]\n",
    "    pop = state_data[state_data['StateID'] == state]['Population'].values[0]\n",
    "    pop_den = state_data[state_data['StateID'] == state]['PopDensity'].values[0]\n",
    "\n",
    "    test.loc[index,'UrbanPercent'] = urban\n",
    "    test.loc[index,'Population'] = pop\n",
    "    test.loc[index,'PopDensity'] = pop_den"
   ]
  },
  {
   "cell_type": "code",
   "execution_count": 63,
   "metadata": {},
   "outputs": [
    {
     "data": {
      "text/plain": [
       "5411324.0    8714\n",
       "1627172.0    3845\n",
       "1520143.0     843\n",
       "3348283.0     507\n",
       "2258428.0     420\n",
       "997071.0      253\n",
       "788706.0      137\n",
       "1890098.0     110\n",
       "1443365.0      85\n",
       "1015776.0      26\n",
       "3117405.0      22\n",
       "1459994.0      15\n",
       "2420009.0      13\n",
       "86908.0         3\n",
       "Name: Population, dtype: int64"
      ]
     },
     "execution_count": 63,
     "metadata": {},
     "output_type": "execute_result"
    }
   ],
   "source": [
    "train.Population.value_counts()"
   ]
  },
  {
   "cell_type": "code",
   "execution_count": 64,
   "metadata": {},
   "outputs": [
    {
     "data": {
      "text/plain": [
       "5411324.0    2018\n",
       "1627172.0    1279\n",
       "1520143.0     229\n",
       "3348283.0     136\n",
       "2258428.0     104\n",
       "997071.0       55\n",
       "788706.0       47\n",
       "1890098.0      45\n",
       "2420009.0      22\n",
       "3117405.0       7\n",
       "1015776.0       2\n",
       "1459994.0       2\n",
       "1443365.0       2\n",
       "Name: Population, dtype: int64"
      ]
     },
     "execution_count": 64,
     "metadata": {},
     "output_type": "execute_result"
    }
   ],
   "source": [
    "test.Population.value_counts()"
   ]
  },
  {
   "cell_type": "markdown",
   "metadata": {},
   "source": [
    "## Save preprocessed data"
   ]
  },
  {
   "cell_type": "code",
   "execution_count": 68,
   "metadata": {},
   "outputs": [],
   "source": [
    "train.to_csv('processed_train.csv')\n",
    "test.to_csv('processed_test.csv')"
   ]
  },
  {
   "cell_type": "markdown",
   "metadata": {},
   "source": [
    "## Import preprocessed data"
   ]
  },
  {
   "cell_type": "code",
   "execution_count": 69,
   "metadata": {},
   "outputs": [],
   "source": [
    "train = pd.read_csv('processed_train.csv')\n",
    "test = pd.read_csv('processed_test.csv')"
   ]
  },
  {
   "cell_type": "markdown",
   "metadata": {},
   "source": [
    "## Encode categorical variables"
   ]
  },
  {
   "cell_type": "code",
   "execution_count": 70,
   "metadata": {},
   "outputs": [],
   "source": [
    "train = pd.get_dummies(train, columns = ['Breed1', 'Breed2', 'Gender', 'Color1', 'Color2', 'Color3',\n",
    "                                 'MaturitySize', 'FurLength', 'Vaccinated', 'Dewormed', 'Sterilized', 'Health',\n",
    "                                 'State', 'Type', 'Group'\n",
    "                                ])\n",
    "test = pd.get_dummies(test, columns = ['Breed1', 'Breed2', 'Gender', 'Color1', 'Color2', 'Color3',\n",
    "                                 'MaturitySize', 'FurLength', 'Vaccinated', 'Dewormed', 'Sterilized', 'Health',\n",
    "                                 'State', 'Type', 'Group'\n",
    "                                ])"
   ]
  },
  {
   "cell_type": "code",
   "execution_count": null,
   "metadata": {},
   "outputs": [],
   "source": []
  },
  {
   "cell_type": "markdown",
   "metadata": {},
   "source": [
    "## Make sure train and test have same columns"
   ]
  },
  {
   "cell_type": "code",
   "execution_count": 71,
   "metadata": {},
   "outputs": [],
   "source": [
    "diff_columns = set(train.columns).difference(set(test.columns))\n",
    "for i in diff_columns:\n",
    "    test[i] = test.apply(lambda _: 0, axis=1)\n",
    "diff_columns2 = set(test.columns).difference(set(train.columns))\n",
    "for i in diff_columns2:\n",
    "    train[i] = train.apply(lambda _: 0, axis=1)\n",
    "test = test[train.columns]"
   ]
  },
  {
   "cell_type": "code",
   "execution_count": 72,
   "metadata": {},
   "outputs": [
    {
     "data": {
      "text/plain": [
       "(14993, 433)"
      ]
     },
     "execution_count": 72,
     "metadata": {},
     "output_type": "execute_result"
    }
   ],
   "source": [
    "train.shape"
   ]
  },
  {
   "cell_type": "code",
   "execution_count": 73,
   "metadata": {},
   "outputs": [
    {
     "data": {
      "text/plain": [
       "(3948, 433)"
      ]
     },
     "execution_count": 73,
     "metadata": {},
     "output_type": "execute_result"
    }
   ],
   "source": [
    "test.shape"
   ]
  },
  {
   "cell_type": "markdown",
   "metadata": {},
   "source": [
    "## Set target variable"
   ]
  },
  {
   "cell_type": "code",
   "execution_count": 75,
   "metadata": {},
   "outputs": [],
   "source": [
    "target = train['AdoptionSpeed'].astype('int')"
   ]
  },
  {
   "cell_type": "markdown",
   "metadata": {},
   "source": [
    "## Drop irrelevent columns"
   ]
  },
  {
   "cell_type": "code",
   "execution_count": 82,
   "metadata": {},
   "outputs": [
    {
     "data": {
      "text/plain": [
       "Index(['Unnamed: 0', 'Age', 'Quantity', 'Fee', 'VideoAmt', 'PhotoAmt',\n",
       "       'NameLength', 'DescLength', 'Cat_Cute', 'Cat_Hypo',\n",
       "       ...\n",
       "       'Breed1_6', 'Breed2_165', 'Breed2_51', 'Breed2_233', 'Breed1_278',\n",
       "       'Breed1_51', 'Breed2_280', 'Breed2_100', 'Breed1_112', 'Breed2_62'],\n",
       "      dtype='object', length=428)"
      ]
     },
     "execution_count": 82,
     "metadata": {},
     "output_type": "execute_result"
    }
   ],
   "source": [
    "X.columns"
   ]
  },
  {
   "cell_type": "code",
   "execution_count": 84,
   "metadata": {},
   "outputs": [],
   "source": [
    "X = train.drop(['Name', 'RescuerID', 'Description', 'PetID', 'AdoptionSpeed', 'Unnamed: 0'], axis=1)\n",
    "X_pred = test.drop(['Name', 'RescuerID', 'Description', 'Unnamed: 0'], axis=1)"
   ]
  },
  {
   "cell_type": "markdown",
   "metadata": {},
   "source": [
    "## Baseline XGBoost"
   ]
  },
  {
   "cell_type": "code",
   "execution_count": 85,
   "metadata": {},
   "outputs": [
    {
     "data": {
      "text/plain": [
       "XGBClassifier(base_score=0.5, booster='gbtree', colsample_bylevel=1,\n",
       "       colsample_bytree=1, gamma=0, learning_rate=0.1, max_delta_step=0,\n",
       "       max_depth=3, min_child_weight=1, missing=None, n_estimators=100,\n",
       "       n_jobs=1, nthread=None, objective='multi:softprob', random_state=0,\n",
       "       reg_alpha=0, reg_lambda=1, scale_pos_weight=1, seed=None,\n",
       "       silent=True, subsample=1)"
      ]
     },
     "execution_count": 85,
     "metadata": {},
     "output_type": "execute_result"
    }
   ],
   "source": [
    "clf = xgb.XGBClassifier()\n",
    "clf.fit(X, target)"
   ]
  },
  {
   "cell_type": "code",
   "execution_count": 86,
   "metadata": {},
   "outputs": [],
   "source": [
    "scores = cross_val_score(clf, X, target, cv=2)"
   ]
  },
  {
   "cell_type": "code",
   "execution_count": 87,
   "metadata": {},
   "outputs": [
    {
     "data": {
      "text/plain": [
       "0.4060558288080735"
      ]
     },
     "execution_count": 87,
     "metadata": {},
     "output_type": "execute_result"
    }
   ],
   "source": [
    "scores.mean()"
   ]
  },
  {
   "cell_type": "code",
   "execution_count": 88,
   "metadata": {
    "scrolled": true
   },
   "outputs": [
    {
     "data": {
      "image/png": "[encoded data removed]",
      "text/plain": [
       "<Figure size 864x1296 with 1 Axes>"
      ]
     },
     "metadata": {
      "needs_background": "light"
     },
     "output_type": "display_data"
    }
   ],
   "source": [
    "from xgboost import plot_importance\n",
    "fig, ax = plt.subplots(figsize=(12,18))\n",
    "plot_importance(clf, max_num_features=50, height=0.8, ax=ax)\n",
    "plt.show()"
   ]
  },
  {
   "cell_type": "code",
   "execution_count": 89,
   "metadata": {},
   "outputs": [],
   "source": [
    "test_pred = clf.predict(X_pred.drop(['AdoptionSpeed','PetID'], axis=1))"
   ]
  },
  {
   "cell_type": "code",
   "execution_count": 90,
   "metadata": {},
   "outputs": [],
   "source": [
    "pred = pd.DataFrame()\n",
    "pred['PetID'] = X_pred['PetID']\n",
    "pred['AdoptionSpeed'] = test_pred\n",
    "pred.set_index('PetID').to_csv(\"submission.csv\", index=True)"
   ]
  },
  {
   "cell_type": "code",
   "execution_count": 91,
   "metadata": {},
   "outputs": [
    {
     "data": {
      "text/plain": [
       "array([[<matplotlib.axes._subplots.AxesSubplot object at 0x000001AC67AF25F8>]],\n",
       "      dtype=object)"
      ]
     },
     "execution_count": 91,
     "metadata": {},
     "output_type": "execute_result"
    },
    {
     "data": {
      "image/png": "[encoded data removed]",
      "text/plain": [
       "<Figure size 432x288 with 1 Axes>"
      ]
     },
     "metadata": {
      "needs_background": "light"
     },
     "output_type": "display_data"
    }
   ],
   "source": [
    "pred.hist()"
   ]
  },
  {
   "cell_type": "markdown",
   "metadata": {},
   "source": [
    "### This received a score of 0.334 on the Kaggle competition's test data #1"
   ]
  },
  {
   "cell_type": "markdown",
   "metadata": {},
   "source": [
    "## Dimensionality reduction"
   ]
  },
  {
   "cell_type": "markdown",
   "metadata": {},
   "source": [
    "## Class imbalance"
   ]
  },
  {
   "cell_type": "code",
   "execution_count": null,
   "metadata": {},
   "outputs": [],
   "source": []
  },
  {
   "cell_type": "code",
   "execution_count": null,
   "metadata": {},
   "outputs": [],
   "source": []
  }
 ],
 "metadata": {
  "kernelspec": {
   "display_name": "Python 3",
   "language": "python",
   "name": "python3"
  },
  "language_info": {
   "codemirror_mode": {
    "name": "ipython",
    "version": 3
   },
   "file_extension": ".py",
   "mimetype": "text/x-python",
   "name": "python",
   "nbconvert_exporter": "python",
   "pygments_lexer": "ipython3",
   "version": "3.7.1"
  }
 },
 "nbformat": 4,
 "nbformat_minor": 2
}
