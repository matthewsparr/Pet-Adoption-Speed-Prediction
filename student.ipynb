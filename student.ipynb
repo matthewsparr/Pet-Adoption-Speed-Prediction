{
 "cells": [
  {
   "cell_type": "markdown",
   "metadata": {},
   "source": [
    "## Final Project Submission\n",
    "\n",
    "Please fill out:\n",
    "* Student name: Matthew Sparr\n",
    "* Student pace: self paced \n",
    "* Scheduled project review date/time: \n",
    "* Instructor name: Eli \n",
    "* Blog post URL:"
   ]
  },
  {
   "cell_type": "markdown",
   "metadata": {},
   "source": [
    "## Introduction"
   ]
  },
  {
   "cell_type": "markdown",
   "metadata": {},
   "source": [
    "For this project I chose a Kaggle dataset for an ongoing competition that can be found at https://www.kaggle.com/c/petfinder-adoption-prediction. This competition involves predicting the speed of adoption for a pet adoption site in Malaysia. Provided are various data fields such as the color of the pet, the age, and the breed. \n",
    "\n",
    "Also provided are image data on uploaded photos of the pets that was ran through Google's Vision API and sentiment data on the description given for the pets. "
   ]
  },
  {
   "cell_type": "markdown",
   "metadata": {},
   "source": []
  },
  {
   "cell_type": "markdown",
   "metadata": {},
   "source": [
    "## Import libraries"
   ]
  },
  {
   "cell_type": "code",
   "execution_count": 248,
   "metadata": {},
   "outputs": [],
   "source": [
    "import pandas as pd\n",
    "import numpy as np\n",
    "import matplotlib.pyplot as plt\n",
    "%matplotlib inline\n",
    "import seaborn as sns\n",
    "from sklearn.preprocessing import StandardScaler\n",
    "from sklearn.model_selection import train_test_split\n",
    "from sklearn.linear_model import LogisticRegression\n",
    "from sklearn.pipeline import Pipeline\n",
    "from sklearn.decomposition import PCA\n",
    "from sklearn.ensemble import RandomForestClassifier\n",
    "from imblearn.over_sampling import SMOTE, ADASYN\n",
    "from sklearn.model_selection import GridSearchCV\n",
    "import xgboost as xgb\n",
    "import os\n",
    "import json\n",
    "from sklearn.metrics import cohen_kappa_score\n",
    "from sklearn.metrics import accuracy_score\n",
    "from sklearn.model_selection import cross_val_score\n",
    "from sklearn.metrics import confusion_matrix"
   ]
  },
  {
   "cell_type": "markdown",
   "metadata": {},
   "source": [
    "## Grab train and test set"
   ]
  },
  {
   "cell_type": "markdown",
   "metadata": {},
   "source": [
    "The test set provided does not include the 'AdoptionSpeed' target variable and is only used to make predictions to submit to Kaggle for scoring."
   ]
  },
  {
   "cell_type": "code",
   "execution_count": 265,
   "metadata": {},
   "outputs": [],
   "source": [
    "train = pd.read_csv('train/train.csv')\n",
    "test = pd.read_csv('test/test.csv')"
   ]
  },
  {
   "cell_type": "markdown",
   "metadata": {},
   "source": [
    "## Fill missing values"
   ]
  },
  {
   "cell_type": "markdown",
   "metadata": {},
   "source": [
    "The 'Name' and 'Description' columns are the only two columns will missing data for both the train and test set. Since both fields are text, they will be filled with a blank space, ' '."
   ]
  },
  {
   "cell_type": "code",
   "execution_count": 4,
   "metadata": {},
   "outputs": [
    {
     "data": {
      "text/plain": [
       "Type                0\n",
       "Name             1257\n",
       "Age                 0\n",
       "Breed1              0\n",
       "Breed2              0\n",
       "Gender              0\n",
       "Color1              0\n",
       "Color2              0\n",
       "Color3              0\n",
       "MaturitySize        0\n",
       "FurLength           0\n",
       "Vaccinated          0\n",
       "Dewormed            0\n",
       "Sterilized          0\n",
       "Health              0\n",
       "Quantity            0\n",
       "Fee                 0\n",
       "State               0\n",
       "RescuerID           0\n",
       "VideoAmt            0\n",
       "Description        12\n",
       "PetID               0\n",
       "PhotoAmt            0\n",
       "AdoptionSpeed       0\n",
       "dtype: int64"
      ]
     },
     "execution_count": 4,
     "metadata": {},
     "output_type": "execute_result"
    }
   ],
   "source": [
    "train.isna().sum()"
   ]
  },
  {
   "cell_type": "code",
   "execution_count": 5,
   "metadata": {},
   "outputs": [
    {
     "data": {
      "text/plain": [
       "Type              0\n",
       "Name            303\n",
       "Age               0\n",
       "Breed1            0\n",
       "Breed2            0\n",
       "Gender            0\n",
       "Color1            0\n",
       "Color2            0\n",
       "Color3            0\n",
       "MaturitySize      0\n",
       "FurLength         0\n",
       "Vaccinated        0\n",
       "Dewormed          0\n",
       "Sterilized        0\n",
       "Health            0\n",
       "Quantity          0\n",
       "Fee               0\n",
       "State             0\n",
       "RescuerID         0\n",
       "VideoAmt          0\n",
       "Description       2\n",
       "PetID             0\n",
       "PhotoAmt          0\n",
       "dtype: int64"
      ]
     },
     "execution_count": 5,
     "metadata": {},
     "output_type": "execute_result"
    }
   ],
   "source": [
    "test.isna().sum()"
   ]
  },
  {
   "cell_type": "code",
   "execution_count": 6,
   "metadata": {},
   "outputs": [],
   "source": [
    "train.Name.fillna(' ', inplace=True)\n",
    "train.Description.fillna(' ', inplace=True)\n",
    "\n",
    "test.Name.fillna(' ', inplace=True)\n",
    "test.Description.fillna(' ', inplace=True)"
   ]
  },
  {
   "cell_type": "markdown",
   "metadata": {},
   "source": [
    "## Explore variables"
   ]
  },
  {
   "cell_type": "code",
   "execution_count": 219,
   "metadata": {
    "scrolled": true
   },
   "outputs": [
    {
     "data": {
      "text/plain": [
       "array([[<matplotlib.axes._subplots.AxesSubplot object at 0x0000022794D508D0>,\n",
       "        <matplotlib.axes._subplots.AxesSubplot object at 0x0000022792C089B0>,\n",
       "        <matplotlib.axes._subplots.AxesSubplot object at 0x0000022795235128>,\n",
       "        <matplotlib.axes._subplots.AxesSubplot object at 0x000002279363C278>],\n",
       "       [<matplotlib.axes._subplots.AxesSubplot object at 0x0000022799173390>,\n",
       "        <matplotlib.axes._subplots.AxesSubplot object at 0x0000022799173748>,\n",
       "        <matplotlib.axes._subplots.AxesSubplot object at 0x00000227991DAB38>,\n",
       "        <matplotlib.axes._subplots.AxesSubplot object at 0x00000227938B14E0>],\n",
       "       [<matplotlib.axes._subplots.AxesSubplot object at 0x00000227D6777DD8>,\n",
       "        <matplotlib.axes._subplots.AxesSubplot object at 0x00000227D64E5128>,\n",
       "        <matplotlib.axes._subplots.AxesSubplot object at 0x00000227D6505438>,\n",
       "        <matplotlib.axes._subplots.AxesSubplot object at 0x00000227D63A5780>],\n",
       "       [<matplotlib.axes._subplots.AxesSubplot object at 0x00000227D63C7A58>,\n",
       "        <matplotlib.axes._subplots.AxesSubplot object at 0x00000227D63C1D68>,\n",
       "        <matplotlib.axes._subplots.AxesSubplot object at 0x00000227D63B30B8>,\n",
       "        <matplotlib.axes._subplots.AxesSubplot object at 0x00000227D656D3C8>],\n",
       "       [<matplotlib.axes._subplots.AxesSubplot object at 0x00000227D659C6D8>,\n",
       "        <matplotlib.axes._subplots.AxesSubplot object at 0x00000227D65909E8>,\n",
       "        <matplotlib.axes._subplots.AxesSubplot object at 0x00000227D6469CF8>,\n",
       "        <matplotlib.axes._subplots.AxesSubplot object at 0x00000227D6470048>]],\n",
       "      dtype=object)"
      ]
     },
     "execution_count": 219,
     "metadata": {},
     "output_type": "execute_result"
    },
    {
     "data": {
      "image/png": "[encoded data removed]",
      "text/plain": [
       "<Figure size 1440x1440 with 20 Axes>"
      ]
     },
     "metadata": {
      "needs_background": "light"
     },
     "output_type": "display_data"
    }
   ],
   "source": [
    "train.hist(figsize=(20,20))"
   ]
  },
  {
   "cell_type": "markdown",
   "metadata": {},
   "source": [
    "<b>Most of the variables do not have a normal distribution which means we will probably want to standardize them later on. The target variable 'AdoptionSpeed' has a low count of '0' values which could negatively impact training a classifier on the training set.\n",
    "\n",
    "We can also see that most pets have only one breed and one color as there are many zero values for 'Breed2', 'Color2', and 'Color3'."
   ]
  },
  {
   "cell_type": "code",
   "execution_count": 8,
   "metadata": {
    "scrolled": true
   },
   "outputs": [
    {
     "data": {
      "text/plain": [
       "<matplotlib.axes._subplots.AxesSubplot at 0x227c809b518>"
      ]
     },
     "execution_count": 8,
     "metadata": {},
     "output_type": "execute_result"
    },
    {
     "data": {
      "image/png": "[encoded data removed]",
      "text/plain": [
       "<Figure size 1440x1440 with 2 Axes>"
      ]
     },
     "metadata": {
      "needs_background": "light"
     },
     "output_type": "display_data"
    }
   ],
   "source": [
    "f, ax = plt.subplots(figsize=(20, 20))\n",
    "sns.heatmap(train.corr(),vmax=.3, center=0,\n",
    "            square=True, linewidths=.5,cbar_kws={\"shrink\": .5})"
   ]
  },
  {
   "cell_type": "markdown",
   "metadata": {},
   "source": [
    "<b>From the correlation graph above we can see that the only significant correlations are between the 'Vaccinate', 'Dewormed', and 'Sterilized' variables. This is most likely due to the fact that if a pet has been taken to a vet, it is likely that all three of these treatments will be given and not just one or two of them.\n",
    "\n",
    "We can look at the correlation coefficients below to see that 'Vaccinated' and 'Dewormed' have the highest at 0.722. This is somewhat high but not high enough to have to consider removing or combining the columns."
   ]
  },
  {
   "cell_type": "code",
   "execution_count": 9,
   "metadata": {},
   "outputs": [
    {
     "data": {
      "text/plain": [
       "AdoptionSpeed  AdoptionSpeed    1.000000\n",
       "Vaccinated     Dewormed         0.722596\n",
       "Gender         Quantity         0.494489\n",
       "Vaccinated     Sterilized       0.471204\n",
       "Dewormed       Sterilized       0.426256\n",
       "Breed1         Age              0.314346\n",
       "Color1         Color3           0.282897\n",
       "Quantity       Color3           0.272548\n",
       "Color3         Gender           0.259309\n",
       "Type           Color2           0.246333\n",
       "dtype: float64"
      ]
     },
     "execution_count": 9,
     "metadata": {},
     "output_type": "execute_result"
    }
   ],
   "source": [
    "train.corr().abs().unstack().sort_values(ascending=False).drop_duplicates()[0:10]"
   ]
  },
  {
   "cell_type": "markdown",
   "metadata": {},
   "source": [
    "<b>Now we can look at some of the value counts of various columns just to get a feel of the distribution of the pets."
   ]
  },
  {
   "cell_type": "code",
   "execution_count": 299,
   "metadata": {},
   "outputs": [
    {
     "data": {
      "image/png": "[encoded data removed]",
      "text/plain": [
       "<Figure size 432x288 with 1 Axes>"
      ]
     },
     "metadata": {
      "needs_background": "light"
     },
     "output_type": "display_data"
    }
   ],
   "source": [
    "plt.hist(train.Type, bins=3)\n",
    "plt.tick_params(\n",
    "    axis='x',          # changes apply to the x-axis\n",
    "    which='both',      # both major and minor ticks are affected\n",
    "    bottom=False,      # ticks along the bottom edge are off\n",
    "    top=False,         # ticks along the top edge are off\n",
    "    labelbottom=False)\n",
    "plt.show()"
   ]
  },
  {
   "cell_type": "code",
   "execution_count": 10,
   "metadata": {},
   "outputs": [
    {
     "data": {
      "text/plain": [
       "1    8132\n",
       "2    6861\n",
       "Name: Type, dtype: int64"
      ]
     },
     "execution_count": 10,
     "metadata": {},
     "output_type": "execute_result"
    }
   ],
   "source": [
    "train.Type.value_counts()\n",
    "# 1 == Dog, 2 == Cat"
   ]
  },
  {
   "cell_type": "markdown",
   "metadata": {},
   "source": [
    "<b>Slightly more dogs than cats."
   ]
  },
  {
   "cell_type": "code",
   "execution_count": 11,
   "metadata": {},
   "outputs": [
    {
     "data": {
      "text/plain": [
       "307    5927\n",
       "266    3634\n",
       "265    1258\n",
       "299     342\n",
       "264     296\n",
       "292     264\n",
       "285     221\n",
       "141     205\n",
       "205     190\n",
       "179     167\n",
       "218     162\n",
       "109     151\n",
       "254     105\n",
       "103      98\n",
       "243      94\n",
       "Name: Breed1, dtype: int64"
      ]
     },
     "execution_count": 11,
     "metadata": {},
     "output_type": "execute_result"
    }
   ],
   "source": [
    "train.Breed1.value_counts().head(15)"
   ]
  },
  {
   "cell_type": "markdown",
   "metadata": {},
   "source": [
    "<b> Breed 307 which signifies an unknown breed is the most common primary breed followed by Breed 266 which are domestic shorthair cats."
   ]
  },
  {
   "cell_type": "code",
   "execution_count": 12,
   "metadata": {},
   "outputs": [
    {
     "data": {
      "text/plain": [
       "0      10762\n",
       "307     1727\n",
       "266      599\n",
       "265      321\n",
       "299      138\n",
       "264      125\n",
       "292      105\n",
       "218       91\n",
       "141       86\n",
       "285       78\n",
       "103       55\n",
       "213       49\n",
       "254       42\n",
       "189       40\n",
       "109       39\n",
       "Name: Breed2, dtype: int64"
      ]
     },
     "execution_count": 12,
     "metadata": {},
     "output_type": "execute_result"
    }
   ],
   "source": [
    "train.Breed2.value_counts().head(15)"
   ]
  },
  {
   "cell_type": "markdown",
   "metadata": {},
   "source": [
    "<b> Most pets do not have a second breed but the largest number of the ones that do have an unknown second breed."
   ]
  },
  {
   "cell_type": "code",
   "execution_count": 13,
   "metadata": {},
   "outputs": [
    {
     "data": {
      "text/plain": [
       "2    7277\n",
       "1    5536\n",
       "3    2180\n",
       "Name: Gender, dtype: int64"
      ]
     },
     "execution_count": 13,
     "metadata": {},
     "output_type": "execute_result"
    }
   ],
   "source": [
    "train.Gender.value_counts()\n",
    "# 1 = male, 2 = female, 3 = mixed"
   ]
  },
  {
   "cell_type": "markdown",
   "metadata": {},
   "source": [
    "<b> Most pets are female with a decent amount being a mixed group of pets."
   ]
  },
  {
   "cell_type": "markdown",
   "metadata": {},
   "source": [
    "<b> From the correlation matrix, 'Breed1' and 'Age' showed the lowest correlation coefficient so I wanted to explore that fact with the below chart of 'BreedID' versus the average age of pets with that breed."
   ]
  },
  {
   "cell_type": "code",
   "execution_count": 14,
   "metadata": {},
   "outputs": [
    {
     "data": {
      "text/plain": [
       "Text(0,0.5,'Average Age')"
      ]
     },
     "execution_count": 14,
     "metadata": {},
     "output_type": "execute_result"
    },
    {
     "data": {
      "image/png": "[encoded data removed]",
      "text/plain": [
       "<Figure size 1440x1440 with 1 Axes>"
      ]
     },
     "metadata": {
      "needs_background": "light"
     },
     "output_type": "display_data"
    }
   ],
   "source": [
    "x = train.Breed1.unique()\n",
    "y = []\n",
    "for i in x:\n",
    "    y.append(train.Age[train.Breed1 == i].mean())\n",
    "breed_vs_age = pd.DataFrame()\n",
    "breed_vs_age['Breed'] = x\n",
    "breed_vs_age['Age'] = y\n",
    "breed_vs_age.sort_values('Age', inplace=True)\n",
    "breed_vs_age.head()\n",
    "f, ax = plt.subplots(figsize=(20, 20))\n",
    "plt.bar(breed_vs_age['Breed'], breed_vs_age['Age'])\n",
    "plt.xlabel('Breed ID')\n",
    "plt.ylabel('Average Age')"
   ]
  },
  {
   "cell_type": "markdown",
   "metadata": {},
   "source": [
    "<b> From the above chart it would seem that average age of pets varies wildly with the breed. This suggests that some breeds of pets are more likely to be up for adoption at a younger age and some breeds are more likely to be put up for adoption at an older age."
   ]
  },
  {
   "cell_type": "markdown",
   "metadata": {},
   "source": [
    "## Add image metadata"
   ]
  },
  {
   "cell_type": "markdown",
   "metadata": {},
   "source": [
    "<b>The image metadata is given by a collection of JSON files with the 'PetID' of the corresponding pet in the name of the file. Some pets have multiple pictures but I will initially just use the first photo of each pet if available as this is most likely the first photo seen by people searching for pets to adopt and thus has the largest effect on drawing in a perspective adoption.\n",
    "  "
   ]
  },
  {
   "cell_type": "code",
   "execution_count": 15,
   "metadata": {},
   "outputs": [],
   "source": [
    "for index, row in train.iterrows():\n",
    "    file = 'train_metadata/' + row['PetID'] + '-1.json'\n",
    "    if os.path.exists(file):\n",
    "        data = json.load(open(file, encoding=\"utf8\"))\n",
    "        vertex_x = data['cropHintsAnnotation']['cropHints'][0]['boundingPoly']['vertices'][2]['x']\n",
    "        vertex_y = data['cropHintsAnnotation']['cropHints'][0]['boundingPoly']['vertices'][2]['y']\n",
    "        bounding_confidence = data['cropHintsAnnotation']['cropHints'][0]['confidence']\n",
    "        bounding_importance_frac = data['cropHintsAnnotation']['cropHints'][0].get('importanceFraction', -1)\n",
    "        dominant_blue = data['imagePropertiesAnnotation']['dominantColors']['colors'][0]['color']['blue']\n",
    "        dominant_green = data['imagePropertiesAnnotation']['dominantColors']['colors'][0]['color']['green']\n",
    "        dominant_red = data['imagePropertiesAnnotation']['dominantColors']['colors'][0]['color']['red']\n",
    "        dominant_pixel_frac = data['imagePropertiesAnnotation']['dominantColors']['colors'][0]['pixelFraction']\n",
    "        dominant_score = data['imagePropertiesAnnotation']['dominantColors']['colors'][0]['score']\n",
    "        train.loc[index, 'vertex_x']= vertex_x\n",
    "        train.loc[index, 'vertex_y']= vertex_y\n",
    "        train.loc[index, 'bounding_conf']= bounding_confidence\n",
    "        train.loc[index, 'bounding_imp']= bounding_importance_frac\n",
    "        train.loc[index, 'dom_blue']= dominant_blue\n",
    "        train.loc[index, 'dom_green']= dominant_green\n",
    "        train.loc[index, 'dom_red']= dominant_red\n",
    "        train.loc[index, 'pixel_frac']= dominant_pixel_frac\n",
    "        train.loc[index, 'score']= dominant_score\n",
    "    else:\n",
    "        train.loc[index, 'vertex_x']= -1\n",
    "        train.loc[index, 'vertex_y']= -1\n",
    "        train.loc[index, 'bounding_conf']= -1\n",
    "        train.loc[index, 'bounding_imp']= -1\n",
    "        train.loc[index, 'dom_blue']= -1\n",
    "        train.loc[index, 'dom_green']= -1\n",
    "        train.loc[index, 'dom_red']= -1\n",
    "        train.loc[index, 'pixel_frac']= -1\n",
    "        train.loc[index, 'score']= -1"
   ]
  },
  {
   "cell_type": "code",
   "execution_count": 16,
   "metadata": {
    "scrolled": true
   },
   "outputs": [],
   "source": [
    "for index, row in test.iterrows():\n",
    "    file = 'test_metadata/' + row['PetID'] + '-1.json'\n",
    "    if os.path.exists(file):\n",
    "        data = json.load(open(file, encoding=\"utf8\"))\n",
    "        vertex_x = data['cropHintsAnnotation']['cropHints'][0]['boundingPoly']['vertices'][2]['x']\n",
    "        vertex_y = data['cropHintsAnnotation']['cropHints'][0]['boundingPoly']['vertices'][2]['y']\n",
    "        bounding_confidence = data['cropHintsAnnotation']['cropHints'][0]['confidence']\n",
    "        bounding_importance_frac = data['cropHintsAnnotation']['cropHints'][0].get('importanceFraction', -1)\n",
    "        dominant_blue = data['imagePropertiesAnnotation']['dominantColors']['colors'][0]['color']['blue']\n",
    "        dominant_green = data['imagePropertiesAnnotation']['dominantColors']['colors'][0]['color']['green']\n",
    "        dominant_red = data['imagePropertiesAnnotation']['dominantColors']['colors'][0]['color']['red']\n",
    "        dominant_pixel_frac = data['imagePropertiesAnnotation']['dominantColors']['colors'][0]['pixelFraction']\n",
    "        dominant_score = data['imagePropertiesAnnotation']['dominantColors']['colors'][0]['score']\n",
    "        test.loc[index, 'vertex_x']= vertex_x\n",
    "        test.loc[index, 'vertex_y']= vertex_y\n",
    "        test.loc[index, 'bounding_conf']= bounding_confidence\n",
    "        test.loc[index, 'bounding_imp']= bounding_importance_frac\n",
    "        test.loc[index, 'dom_blue']= dominant_blue\n",
    "        test.loc[index, 'dom_green']= dominant_green\n",
    "        test.loc[index, 'dom_red']= dominant_red\n",
    "        test.loc[index, 'pixel_frac']= dominant_pixel_frac\n",
    "        test.loc[index, 'score']= dominant_score\n",
    "    else:\n",
    "        test.loc[index, 'vertex_x']= -1\n",
    "        test.loc[index, 'vertex_y']= -1\n",
    "        test.loc[index, 'bounding_conf']= -1\n",
    "        test.loc[index, 'bounding_imp']= -1\n",
    "        test.loc[index, 'dom_blue']= -1\n",
    "        test.loc[index, 'dom_green']= -1\n",
    "        test.loc[index, 'dom_red']= -1\n",
    "        test.loc[index, 'pixel_frac']= -1\n",
    "        test.loc[index, 'score']= -1"
   ]
  },
  {
   "cell_type": "markdown",
   "metadata": {},
   "source": [
    "## Add sentiment data"
   ]
  },
  {
   "cell_type": "markdown",
   "metadata": {},
   "source": [
    "<b> The sentiment data, similar to the image data, is provided as JSON files with the 'PetID' of the corresponding pet as the file name.\n",
    "    The relevant values I chose to include from the sentiment data are magnitude and score."
   ]
  },
  {
   "cell_type": "code",
   "execution_count": 18,
   "metadata": {},
   "outputs": [],
   "source": [
    "for index, row in train.iterrows():\n",
    "    file = 'train_sentiment/' + row['PetID'] + '.json'\n",
    "    if os.path.exists(file):\n",
    "        data = json.load(open(file, encoding=\"utf8\"))\n",
    "        mag = data['documentSentiment']['magnitude']\n",
    "        score = data['documentSentiment']['score']     \n",
    "        train.loc[index, 'magnitude']= mag\n",
    "        train.loc[index, 'sentiment_score']= score\n",
    "    else:\n",
    "        train.loc[index, 'magnitude']= -1\n",
    "        train.loc[index, 'sentiment_score']= -1"
   ]
  },
  {
   "cell_type": "code",
   "execution_count": 19,
   "metadata": {},
   "outputs": [],
   "source": [
    "for index, row in test.iterrows():\n",
    "    file = 'test_sentiment/' + row['PetID'] + '.json'\n",
    "    if os.path.exists(file):\n",
    "        data = json.load(open(file, encoding=\"utf8\"))\n",
    "        mag = data['documentSentiment']['magnitude']\n",
    "        score = data['documentSentiment']['score']     \n",
    "        test.loc[index, 'magnitude']= mag\n",
    "        test.loc[index, 'sentiment_score']= score\n",
    "    else:\n",
    "        test.loc[index, 'magnitude']= -1\n",
    "        test.loc[index, 'sentiment_score']= -1"
   ]
  },
  {
   "cell_type": "markdown",
   "metadata": {},
   "source": [
    "## Save data before adding addtional columns"
   ]
  },
  {
   "cell_type": "markdown",
   "metadata": {},
   "source": [
    "<b> I will be adding additional columns of data but wanted to save a copy of the train and test sets to compare with later on."
   ]
  },
  {
   "cell_type": "code",
   "execution_count": 220,
   "metadata": {},
   "outputs": [],
   "source": [
    "train.to_csv('pre_train.csv')\n",
    "test.to_csv('pre_test.csv')"
   ]
  },
  {
   "cell_type": "markdown",
   "metadata": {},
   "source": [
    "## Add name and description length"
   ]
  },
  {
   "cell_type": "markdown",
   "metadata": {},
   "source": [
    "<b> To include a bit more data on 'Description' column and the otherwise unused 'Name' column, I decided to include the length of each as new columns of data. "
   ]
  },
  {
   "cell_type": "code",
   "execution_count": 221,
   "metadata": {},
   "outputs": [
    {
     "ename": "TypeError",
     "evalue": "object of type 'float' has no len()",
     "output_type": "error",
     "traceback": [
      "\u001b[1;31m---------------------------------------------------------------------------\u001b[0m",
      "\u001b[1;31mTypeError\u001b[0m                                 Traceback (most recent call last)",
      "\u001b[1;32m<ipython-input-221-e263af339c52>\u001b[0m in \u001b[0;36m<module>\u001b[1;34m\u001b[0m\n\u001b[1;32m----> 1\u001b[1;33m \u001b[0mtrain\u001b[0m\u001b[1;33m[\u001b[0m\u001b[1;34m'NameLength'\u001b[0m\u001b[1;33m]\u001b[0m \u001b[1;33m=\u001b[0m \u001b[0mtrain\u001b[0m\u001b[1;33m[\u001b[0m\u001b[1;34m'Name'\u001b[0m\u001b[1;33m]\u001b[0m\u001b[1;33m.\u001b[0m\u001b[0mmap\u001b[0m\u001b[1;33m(\u001b[0m\u001b[1;32mlambda\u001b[0m \u001b[0mx\u001b[0m\u001b[1;33m:\u001b[0m \u001b[1;36m0\u001b[0m \u001b[1;32mif\u001b[0m \u001b[0mx\u001b[0m \u001b[1;33m==\u001b[0m \u001b[1;34m'None'\u001b[0m \u001b[1;32melse\u001b[0m \u001b[0mlen\u001b[0m\u001b[1;33m(\u001b[0m\u001b[0mx\u001b[0m\u001b[1;33m)\u001b[0m\u001b[1;33m)\u001b[0m\u001b[1;33m.\u001b[0m\u001b[0mastype\u001b[0m\u001b[1;33m(\u001b[0m\u001b[1;34m'int'\u001b[0m\u001b[1;33m)\u001b[0m\u001b[1;33m\u001b[0m\u001b[1;33m\u001b[0m\u001b[0m\n\u001b[0m\u001b[0;32m      2\u001b[0m \u001b[0mtrain\u001b[0m\u001b[1;33m[\u001b[0m\u001b[1;34m'DescLength'\u001b[0m\u001b[1;33m]\u001b[0m \u001b[1;33m=\u001b[0m \u001b[0mtrain\u001b[0m\u001b[1;33m[\u001b[0m\u001b[1;34m'Description'\u001b[0m\u001b[1;33m]\u001b[0m\u001b[1;33m.\u001b[0m\u001b[0mmap\u001b[0m\u001b[1;33m(\u001b[0m\u001b[1;32mlambda\u001b[0m \u001b[0mx\u001b[0m\u001b[1;33m:\u001b[0m \u001b[0mlen\u001b[0m\u001b[1;33m(\u001b[0m\u001b[0mx\u001b[0m\u001b[1;33m)\u001b[0m\u001b[1;33m)\u001b[0m\u001b[1;33m.\u001b[0m\u001b[0mastype\u001b[0m\u001b[1;33m(\u001b[0m\u001b[1;34m'int'\u001b[0m\u001b[1;33m)\u001b[0m\u001b[1;33m\u001b[0m\u001b[1;33m\u001b[0m\u001b[0m\n\u001b[0;32m      3\u001b[0m \u001b[0mtest\u001b[0m\u001b[1;33m[\u001b[0m\u001b[1;34m'NameLength'\u001b[0m\u001b[1;33m]\u001b[0m \u001b[1;33m=\u001b[0m \u001b[0mtest\u001b[0m\u001b[1;33m[\u001b[0m\u001b[1;34m'Name'\u001b[0m\u001b[1;33m]\u001b[0m\u001b[1;33m.\u001b[0m\u001b[0mmap\u001b[0m\u001b[1;33m(\u001b[0m\u001b[1;32mlambda\u001b[0m \u001b[0mx\u001b[0m\u001b[1;33m:\u001b[0m \u001b[1;36m0\u001b[0m \u001b[1;32mif\u001b[0m \u001b[0mx\u001b[0m \u001b[1;33m==\u001b[0m \u001b[1;34m'None'\u001b[0m \u001b[1;32melse\u001b[0m \u001b[0mlen\u001b[0m\u001b[1;33m(\u001b[0m\u001b[0mx\u001b[0m\u001b[1;33m)\u001b[0m\u001b[1;33m)\u001b[0m\u001b[1;33m.\u001b[0m\u001b[0mastype\u001b[0m\u001b[1;33m(\u001b[0m\u001b[1;34m'int'\u001b[0m\u001b[1;33m)\u001b[0m\u001b[1;33m\u001b[0m\u001b[1;33m\u001b[0m\u001b[0m\n\u001b[0;32m      4\u001b[0m \u001b[0mtest\u001b[0m\u001b[1;33m[\u001b[0m\u001b[1;34m'DescLength'\u001b[0m\u001b[1;33m]\u001b[0m \u001b[1;33m=\u001b[0m \u001b[0mtest\u001b[0m\u001b[1;33m[\u001b[0m\u001b[1;34m'Description'\u001b[0m\u001b[1;33m]\u001b[0m\u001b[1;33m.\u001b[0m\u001b[0mmap\u001b[0m\u001b[1;33m(\u001b[0m\u001b[1;32mlambda\u001b[0m \u001b[0mx\u001b[0m\u001b[1;33m:\u001b[0m \u001b[0mlen\u001b[0m\u001b[1;33m(\u001b[0m\u001b[0mx\u001b[0m\u001b[1;33m)\u001b[0m\u001b[1;33m)\u001b[0m\u001b[1;33m.\u001b[0m\u001b[0mastype\u001b[0m\u001b[1;33m(\u001b[0m\u001b[1;34m'int'\u001b[0m\u001b[1;33m)\u001b[0m\u001b[1;33m\u001b[0m\u001b[1;33m\u001b[0m\u001b[0m\n",
      "\u001b[1;32m~\\Anaconda3\\lib\\site-packages\\pandas\\core\\series.py\u001b[0m in \u001b[0;36mmap\u001b[1;34m(self, arg, na_action)\u001b[0m\n\u001b[0;32m   2996\u001b[0m         \"\"\"\n\u001b[0;32m   2997\u001b[0m         new_values = super(Series, self)._map_values(\n\u001b[1;32m-> 2998\u001b[1;33m             arg, na_action=na_action)\n\u001b[0m\u001b[0;32m   2999\u001b[0m         return self._constructor(new_values,\n\u001b[0;32m   3000\u001b[0m                                  index=self.index).__finalize__(self)\n",
      "\u001b[1;32m~\\Anaconda3\\lib\\site-packages\\pandas\\core\\base.py\u001b[0m in \u001b[0;36m_map_values\u001b[1;34m(self, mapper, na_action)\u001b[0m\n\u001b[0;32m   1002\u001b[0m \u001b[1;33m\u001b[0m\u001b[0m\n\u001b[0;32m   1003\u001b[0m         \u001b[1;31m# mapper is a function\u001b[0m\u001b[1;33m\u001b[0m\u001b[1;33m\u001b[0m\u001b[1;33m\u001b[0m\u001b[0m\n\u001b[1;32m-> 1004\u001b[1;33m         \u001b[0mnew_values\u001b[0m \u001b[1;33m=\u001b[0m \u001b[0mmap_f\u001b[0m\u001b[1;33m(\u001b[0m\u001b[0mvalues\u001b[0m\u001b[1;33m,\u001b[0m \u001b[0mmapper\u001b[0m\u001b[1;33m)\u001b[0m\u001b[1;33m\u001b[0m\u001b[1;33m\u001b[0m\u001b[0m\n\u001b[0m\u001b[0;32m   1005\u001b[0m \u001b[1;33m\u001b[0m\u001b[0m\n\u001b[0;32m   1006\u001b[0m         \u001b[1;32mreturn\u001b[0m \u001b[0mnew_values\u001b[0m\u001b[1;33m\u001b[0m\u001b[1;33m\u001b[0m\u001b[0m\n",
      "\u001b[1;32mpandas/_libs/src\\inference.pyx\u001b[0m in \u001b[0;36mpandas._libs.lib.map_infer\u001b[1;34m()\u001b[0m\n",
      "\u001b[1;32m<ipython-input-221-e263af339c52>\u001b[0m in \u001b[0;36m<lambda>\u001b[1;34m(x)\u001b[0m\n\u001b[1;32m----> 1\u001b[1;33m \u001b[0mtrain\u001b[0m\u001b[1;33m[\u001b[0m\u001b[1;34m'NameLength'\u001b[0m\u001b[1;33m]\u001b[0m \u001b[1;33m=\u001b[0m \u001b[0mtrain\u001b[0m\u001b[1;33m[\u001b[0m\u001b[1;34m'Name'\u001b[0m\u001b[1;33m]\u001b[0m\u001b[1;33m.\u001b[0m\u001b[0mmap\u001b[0m\u001b[1;33m(\u001b[0m\u001b[1;32mlambda\u001b[0m \u001b[0mx\u001b[0m\u001b[1;33m:\u001b[0m \u001b[1;36m0\u001b[0m \u001b[1;32mif\u001b[0m \u001b[0mx\u001b[0m \u001b[1;33m==\u001b[0m \u001b[1;34m'None'\u001b[0m \u001b[1;32melse\u001b[0m \u001b[0mlen\u001b[0m\u001b[1;33m(\u001b[0m\u001b[0mx\u001b[0m\u001b[1;33m)\u001b[0m\u001b[1;33m)\u001b[0m\u001b[1;33m.\u001b[0m\u001b[0mastype\u001b[0m\u001b[1;33m(\u001b[0m\u001b[1;34m'int'\u001b[0m\u001b[1;33m)\u001b[0m\u001b[1;33m\u001b[0m\u001b[1;33m\u001b[0m\u001b[0m\n\u001b[0m\u001b[0;32m      2\u001b[0m \u001b[0mtrain\u001b[0m\u001b[1;33m[\u001b[0m\u001b[1;34m'DescLength'\u001b[0m\u001b[1;33m]\u001b[0m \u001b[1;33m=\u001b[0m \u001b[0mtrain\u001b[0m\u001b[1;33m[\u001b[0m\u001b[1;34m'Description'\u001b[0m\u001b[1;33m]\u001b[0m\u001b[1;33m.\u001b[0m\u001b[0mmap\u001b[0m\u001b[1;33m(\u001b[0m\u001b[1;32mlambda\u001b[0m \u001b[0mx\u001b[0m\u001b[1;33m:\u001b[0m \u001b[0mlen\u001b[0m\u001b[1;33m(\u001b[0m\u001b[0mx\u001b[0m\u001b[1;33m)\u001b[0m\u001b[1;33m)\u001b[0m\u001b[1;33m.\u001b[0m\u001b[0mastype\u001b[0m\u001b[1;33m(\u001b[0m\u001b[1;34m'int'\u001b[0m\u001b[1;33m)\u001b[0m\u001b[1;33m\u001b[0m\u001b[1;33m\u001b[0m\u001b[0m\n\u001b[0;32m      3\u001b[0m \u001b[0mtest\u001b[0m\u001b[1;33m[\u001b[0m\u001b[1;34m'NameLength'\u001b[0m\u001b[1;33m]\u001b[0m \u001b[1;33m=\u001b[0m \u001b[0mtest\u001b[0m\u001b[1;33m[\u001b[0m\u001b[1;34m'Name'\u001b[0m\u001b[1;33m]\u001b[0m\u001b[1;33m.\u001b[0m\u001b[0mmap\u001b[0m\u001b[1;33m(\u001b[0m\u001b[1;32mlambda\u001b[0m \u001b[0mx\u001b[0m\u001b[1;33m:\u001b[0m \u001b[1;36m0\u001b[0m \u001b[1;32mif\u001b[0m \u001b[0mx\u001b[0m \u001b[1;33m==\u001b[0m \u001b[1;34m'None'\u001b[0m \u001b[1;32melse\u001b[0m \u001b[0mlen\u001b[0m\u001b[1;33m(\u001b[0m\u001b[0mx\u001b[0m\u001b[1;33m)\u001b[0m\u001b[1;33m)\u001b[0m\u001b[1;33m.\u001b[0m\u001b[0mastype\u001b[0m\u001b[1;33m(\u001b[0m\u001b[1;34m'int'\u001b[0m\u001b[1;33m)\u001b[0m\u001b[1;33m\u001b[0m\u001b[1;33m\u001b[0m\u001b[0m\n\u001b[0;32m      4\u001b[0m \u001b[0mtest\u001b[0m\u001b[1;33m[\u001b[0m\u001b[1;34m'DescLength'\u001b[0m\u001b[1;33m]\u001b[0m \u001b[1;33m=\u001b[0m \u001b[0mtest\u001b[0m\u001b[1;33m[\u001b[0m\u001b[1;34m'Description'\u001b[0m\u001b[1;33m]\u001b[0m\u001b[1;33m.\u001b[0m\u001b[0mmap\u001b[0m\u001b[1;33m(\u001b[0m\u001b[1;32mlambda\u001b[0m \u001b[0mx\u001b[0m\u001b[1;33m:\u001b[0m \u001b[0mlen\u001b[0m\u001b[1;33m(\u001b[0m\u001b[0mx\u001b[0m\u001b[1;33m)\u001b[0m\u001b[1;33m)\u001b[0m\u001b[1;33m.\u001b[0m\u001b[0mastype\u001b[0m\u001b[1;33m(\u001b[0m\u001b[1;34m'int'\u001b[0m\u001b[1;33m)\u001b[0m\u001b[1;33m\u001b[0m\u001b[1;33m\u001b[0m\u001b[0m\n",
      "\u001b[1;31mTypeError\u001b[0m: object of type 'float' has no len()"
     ]
    }
   ],
   "source": [
    "train['NameLength'] = train['Name'].map(lambda x: 0 if x == 'None' else len(x)).astype('int')\n",
    "train['DescLength'] = train['Description'].map(lambda x: len(x)).astype('int')\n",
    "test['NameLength'] = test['Name'].map(lambda x: 0 if x == 'None' else len(x)).astype('int')\n",
    "test['DescLength'] = test['Description'].map(lambda x: len(x)).astype('int')"
   ]
  },
  {
   "cell_type": "markdown",
   "metadata": {},
   "source": [
    "## Add dog data"
   ]
  },
  {
   "cell_type": "markdown",
   "metadata": {},
   "source": [
    "<b> Using data from an AKC website as well as Wikipedia, I assigned a breed group to each dog breed as I suspect that there is a difference in adoptability amongst the dog breed groups. I added these breed groups in Microsoft Excel and generated a csv file 'dog_breeds' using the providing csv of breed labels. Now I just have to add a new column 'Group' to the train and test set. Since this only works for dogs, any cats will just be assigned the group 'Cat'."
   ]
  },
  {
   "cell_type": "code",
   "execution_count": 21,
   "metadata": {},
   "outputs": [],
   "source": [
    "dog_data = pd.read_csv('dog_breeds.csv')"
   ]
  },
  {
   "cell_type": "code",
   "execution_count": 22,
   "metadata": {},
   "outputs": [
    {
     "data": {
      "text/html": [
       "<div>\n",
       "<style scoped>\n",
       "    .dataframe tbody tr th:only-of-type {\n",
       "        vertical-align: middle;\n",
       "    }\n",
       "\n",
       "    .dataframe tbody tr th {\n",
       "        vertical-align: top;\n",
       "    }\n",
       "\n",
       "    .dataframe thead th {\n",
       "        text-align: right;\n",
       "    }\n",
       "</style>\n",
       "<table border=\"1\" class=\"dataframe\">\n",
       "  <thead>\n",
       "    <tr style=\"text-align: right;\">\n",
       "      <th></th>\n",
       "      <th>Unnamed: 0</th>\n",
       "      <th>BreedID</th>\n",
       "      <th>Type</th>\n",
       "      <th>BreedName</th>\n",
       "      <th>Group</th>\n",
       "    </tr>\n",
       "  </thead>\n",
       "  <tbody>\n",
       "    <tr>\n",
       "      <th>0</th>\n",
       "      <td>0</td>\n",
       "      <td>1</td>\n",
       "      <td>1</td>\n",
       "      <td>Affenpinscher</td>\n",
       "      <td>Toy</td>\n",
       "    </tr>\n",
       "    <tr>\n",
       "      <th>1</th>\n",
       "      <td>1</td>\n",
       "      <td>2</td>\n",
       "      <td>1</td>\n",
       "      <td>Afghan Hound</td>\n",
       "      <td>Hound</td>\n",
       "    </tr>\n",
       "    <tr>\n",
       "      <th>2</th>\n",
       "      <td>2</td>\n",
       "      <td>3</td>\n",
       "      <td>1</td>\n",
       "      <td>Airedale Terrier</td>\n",
       "      <td>Terrier</td>\n",
       "    </tr>\n",
       "    <tr>\n",
       "      <th>3</th>\n",
       "      <td>3</td>\n",
       "      <td>4</td>\n",
       "      <td>1</td>\n",
       "      <td>Akbash</td>\n",
       "      <td>Working</td>\n",
       "    </tr>\n",
       "    <tr>\n",
       "      <th>4</th>\n",
       "      <td>4</td>\n",
       "      <td>5</td>\n",
       "      <td>1</td>\n",
       "      <td>Akita</td>\n",
       "      <td>Working</td>\n",
       "    </tr>\n",
       "  </tbody>\n",
       "</table>\n",
       "</div>"
      ],
      "text/plain": [
       "   Unnamed: 0  BreedID  Type         BreedName    Group\n",
       "0           0        1     1     Affenpinscher      Toy\n",
       "1           1        2     1      Afghan Hound    Hound\n",
       "2           2        3     1  Airedale Terrier  Terrier\n",
       "3           3        4     1            Akbash  Working\n",
       "4           4        5     1             Akita  Working"
      ]
     },
     "execution_count": 22,
     "metadata": {},
     "output_type": "execute_result"
    }
   ],
   "source": [
    "dog_data.head()"
   ]
  },
  {
   "cell_type": "code",
   "execution_count": 23,
   "metadata": {},
   "outputs": [],
   "source": [
    "for index, row in train.iterrows():\n",
    "    for i, r in dog_data.iterrows():\n",
    "        if row['Breed1'] == r['BreedID']:\n",
    "            train.at[index,'Group'] = r['Group']\n",
    "            break"
   ]
  },
  {
   "cell_type": "code",
   "execution_count": 24,
   "metadata": {},
   "outputs": [],
   "source": [
    "for index, row in test.iterrows():\n",
    "    for i, r in dog_data.iterrows():\n",
    "        if row['Breed1'] == r['BreedID']:\n",
    "            test.at[index,'Group'] = r['Group']\n",
    "            break"
   ]
  },
  {
   "cell_type": "code",
   "execution_count": 25,
   "metadata": {},
   "outputs": [
    {
     "data": {
      "text/plain": [
       "6853"
      ]
     },
     "execution_count": 25,
     "metadata": {},
     "output_type": "execute_result"
    }
   ],
   "source": [
    "train.Group.isna().sum()"
   ]
  },
  {
   "cell_type": "code",
   "execution_count": 26,
   "metadata": {},
   "outputs": [
    {
     "data": {
      "text/plain": [
       "Index(['Unnamed: 0', 'BreedID', 'Type', 'BreedName', 'Group'], dtype='object')"
      ]
     },
     "execution_count": 26,
     "metadata": {},
     "output_type": "execute_result"
    }
   ],
   "source": [
    "dog_data.columns"
   ]
  },
  {
   "cell_type": "code",
   "execution_count": 27,
   "metadata": {},
   "outputs": [],
   "source": [
    "for index, row in train.iterrows():\n",
    "    try:\n",
    "        breed = row['Breed1']\n",
    "        group = dog_data[dog_data['BreedID'] == breed]['Group'].values[0]\n",
    "    except:\n",
    "        group = 'Cat'\n",
    "    train.loc[index,'Group'] = group    "
   ]
  },
  {
   "cell_type": "code",
   "execution_count": 28,
   "metadata": {},
   "outputs": [],
   "source": [
    "for index, row in test.iterrows():\n",
    "    try:\n",
    "        breed = row['Breed1']\n",
    "        group = dog_data[dog_data['BreedID'] == breed]['Group'].values[0]\n",
    "    except:\n",
    "        group = 'Cat'\n",
    "    test.loc[index,'Group'] = group "
   ]
  },
  {
   "cell_type": "code",
   "execution_count": 29,
   "metadata": {},
   "outputs": [
    {
     "data": {
      "text/plain": [
       "Cat             6853\n",
       "Misc            6018\n",
       "Sporting         448\n",
       "Toy              409\n",
       "Working          366\n",
       "Terrier          311\n",
       "Non-Sporting     247\n",
       "Herding          168\n",
       "Hound            155\n",
       "FSS               13\n",
       "Hunting            5\n",
       "Name: Group, dtype: int64"
      ]
     },
     "execution_count": 29,
     "metadata": {},
     "output_type": "execute_result"
    }
   ],
   "source": [
    "train.Group.value_counts()"
   ]
  },
  {
   "cell_type": "code",
   "execution_count": 30,
   "metadata": {},
   "outputs": [
    {
     "data": {
      "text/plain": [
       "Cat             2072\n",
       "Misc            1323\n",
       "Toy              125\n",
       "Sporting         110\n",
       "Working          101\n",
       "Non-Sporting      70\n",
       "Terrier           65\n",
       "Herding           44\n",
       "Hound             37\n",
       "FSS                1\n",
       "Name: Group, dtype: int64"
      ]
     },
     "execution_count": 30,
     "metadata": {},
     "output_type": "execute_result"
    }
   ],
   "source": [
    "test.Group.value_counts()"
   ]
  },
  {
   "cell_type": "markdown",
   "metadata": {},
   "source": [
    "<b> It seems that 'Misc' is the most common breed group apart from 'Cat'."
   ]
  },
  {
   "cell_type": "markdown",
   "metadata": {},
   "source": [
    "## Add cat data"
   ]
  },
  {
   "cell_type": "markdown",
   "metadata": {},
   "source": [
    "<b> Using data from http://www.catbreedslist.com, I decided to include two new variables for the 'Cats' in the dataset. The first is 'Hypo' which is whether or not the cat breed is hypoallergenic. The second is 'Cute' which if the value in this column is 1 then that cat breed is one of the top 10 cutest cat breeds. "
   ]
  },
  {
   "cell_type": "code",
   "execution_count": 31,
   "metadata": {},
   "outputs": [],
   "source": [
    "cat_data = pd.read_csv('cat_info.csv')"
   ]
  },
  {
   "cell_type": "code",
   "execution_count": 32,
   "metadata": {},
   "outputs": [
    {
     "data": {
      "text/html": [
       "<div>\n",
       "<style scoped>\n",
       "    .dataframe tbody tr th:only-of-type {\n",
       "        vertical-align: middle;\n",
       "    }\n",
       "\n",
       "    .dataframe tbody tr th {\n",
       "        vertical-align: top;\n",
       "    }\n",
       "\n",
       "    .dataframe thead th {\n",
       "        text-align: right;\n",
       "    }\n",
       "</style>\n",
       "<table border=\"1\" class=\"dataframe\">\n",
       "  <thead>\n",
       "    <tr style=\"text-align: right;\">\n",
       "      <th></th>\n",
       "      <th>BreedID</th>\n",
       "      <th>Type</th>\n",
       "      <th>BreedName</th>\n",
       "      <th>Cute</th>\n",
       "      <th>Hypo</th>\n",
       "    </tr>\n",
       "  </thead>\n",
       "  <tbody>\n",
       "    <tr>\n",
       "      <th>0</th>\n",
       "      <td>241</td>\n",
       "      <td>2</td>\n",
       "      <td>Abyssinian</td>\n",
       "      <td>0</td>\n",
       "      <td>0</td>\n",
       "    </tr>\n",
       "    <tr>\n",
       "      <th>1</th>\n",
       "      <td>242</td>\n",
       "      <td>2</td>\n",
       "      <td>American Curl</td>\n",
       "      <td>1</td>\n",
       "      <td>0</td>\n",
       "    </tr>\n",
       "    <tr>\n",
       "      <th>2</th>\n",
       "      <td>243</td>\n",
       "      <td>2</td>\n",
       "      <td>American Shorthair</td>\n",
       "      <td>1</td>\n",
       "      <td>0</td>\n",
       "    </tr>\n",
       "    <tr>\n",
       "      <th>3</th>\n",
       "      <td>244</td>\n",
       "      <td>2</td>\n",
       "      <td>American Wirehair</td>\n",
       "      <td>0</td>\n",
       "      <td>0</td>\n",
       "    </tr>\n",
       "    <tr>\n",
       "      <th>4</th>\n",
       "      <td>245</td>\n",
       "      <td>2</td>\n",
       "      <td>Applehead Siamese</td>\n",
       "      <td>0</td>\n",
       "      <td>0</td>\n",
       "    </tr>\n",
       "  </tbody>\n",
       "</table>\n",
       "</div>"
      ],
      "text/plain": [
       "   BreedID  Type           BreedName  Cute  Hypo\n",
       "0      241     2          Abyssinian     0     0\n",
       "1      242     2       American Curl     1     0\n",
       "2      243     2  American Shorthair     1     0\n",
       "3      244     2   American Wirehair     0     0\n",
       "4      245     2   Applehead Siamese     0     0"
      ]
     },
     "execution_count": 32,
     "metadata": {},
     "output_type": "execute_result"
    }
   ],
   "source": [
    "cat_data.head()"
   ]
  },
  {
   "cell_type": "code",
   "execution_count": 33,
   "metadata": {},
   "outputs": [],
   "source": [
    "for index, row in train.iterrows():\n",
    "    try:\n",
    "        breed = row['Breed1']\n",
    "        cute = cat_data[cat_data['BreedID'] == breed]['Cute'].values[0]\n",
    "        hypo = cat_data[cat_data['BreedID'] == breed]['Hypo'].values[0]\n",
    "    except:\n",
    "        cute = -1\n",
    "        hypo = -1\n",
    "    train.loc[index,'Cat_Cute'] = cute\n",
    "    train.loc[index,'Cat_Hypo'] = hypo"
   ]
  },
  {
   "cell_type": "code",
   "execution_count": 34,
   "metadata": {},
   "outputs": [],
   "source": [
    "for index, row in test.iterrows():\n",
    "    try:\n",
    "        breed = row['Breed1']\n",
    "        cute = cat_data[cat_data['BreedID'] == breed]['Cute'].values[0]\n",
    "        hypo = cat_data[cat_data['BreedID'] == breed]['Hypo'].values[0]\n",
    "    except:\n",
    "        cute = -1\n",
    "        hypo = -1\n",
    "    test.loc[index,'Cat_Cute'] = cute\n",
    "    test.loc[index,'Cat_Hypo'] = hypo"
   ]
  },
  {
   "cell_type": "code",
   "execution_count": 35,
   "metadata": {},
   "outputs": [
    {
     "data": {
      "text/plain": [
       "-1.0    8145\n",
       " 0.0    6404\n",
       " 1.0     444\n",
       "Name: Cat_Cute, dtype: int64"
      ]
     },
     "execution_count": 35,
     "metadata": {},
     "output_type": "execute_result"
    }
   ],
   "source": [
    "train.Cat_Cute.value_counts()"
   ]
  },
  {
   "cell_type": "code",
   "execution_count": 36,
   "metadata": {},
   "outputs": [
    {
     "data": {
      "text/plain": [
       "-1.0    8145\n",
       " 0.0    6350\n",
       " 1.0     498\n",
       "Name: Cat_Hypo, dtype: int64"
      ]
     },
     "execution_count": 36,
     "metadata": {},
     "output_type": "execute_result"
    }
   ],
   "source": [
    "train.Cat_Hypo.value_counts()"
   ]
  },
  {
   "cell_type": "code",
   "execution_count": 37,
   "metadata": {},
   "outputs": [
    {
     "data": {
      "text/plain": [
       " 0.0    1952\n",
       "-1.0    1876\n",
       " 1.0     120\n",
       "Name: Cat_Cute, dtype: int64"
      ]
     },
     "execution_count": 37,
     "metadata": {},
     "output_type": "execute_result"
    }
   ],
   "source": [
    "test.Cat_Cute.value_counts()"
   ]
  },
  {
   "cell_type": "code",
   "execution_count": 38,
   "metadata": {},
   "outputs": [
    {
     "data": {
      "text/plain": [
       " 0.0    1948\n",
       "-1.0    1876\n",
       " 1.0     124\n",
       "Name: Cat_Hypo, dtype: int64"
      ]
     },
     "execution_count": 38,
     "metadata": {},
     "output_type": "execute_result"
    }
   ],
   "source": [
    "test.Cat_Hypo.value_counts()"
   ]
  },
  {
   "cell_type": "markdown",
   "metadata": {},
   "source": [
    "## Add state data"
   ]
  },
  {
   "cell_type": "markdown",
   "metadata": {},
   "source": [
    "<b> Using census data found on Wikipedia for the states in Malaysia, I added the population, percentage of urban environment, and population density for each state.\n",
    " "
   ]
  },
  {
   "cell_type": "code",
   "execution_count": 223,
   "metadata": {},
   "outputs": [
    {
     "data": {
      "text/html": [
       "<div>\n",
       "<style scoped>\n",
       "    .dataframe tbody tr th:only-of-type {\n",
       "        vertical-align: middle;\n",
       "    }\n",
       "\n",
       "    .dataframe tbody tr th {\n",
       "        vertical-align: top;\n",
       "    }\n",
       "\n",
       "    .dataframe thead th {\n",
       "        text-align: right;\n",
       "    }\n",
       "</style>\n",
       "<table border=\"1\" class=\"dataframe\">\n",
       "  <thead>\n",
       "    <tr style=\"text-align: right;\">\n",
       "      <th></th>\n",
       "      <th>State</th>\n",
       "      <th>Population</th>\n",
       "      <th>StateID</th>\n",
       "      <th>UrbanPercent</th>\n",
       "      <th>PopDensity</th>\n",
       "    </tr>\n",
       "  </thead>\n",
       "  <tbody>\n",
       "    <tr>\n",
       "      <th>0</th>\n",
       "      <td>Kuala Lumpur</td>\n",
       "      <td>1627172</td>\n",
       "      <td>41401</td>\n",
       "      <td>100.0</td>\n",
       "      <td>6891</td>\n",
       "    </tr>\n",
       "    <tr>\n",
       "      <th>1</th>\n",
       "      <td>Labuan</td>\n",
       "      <td>86908</td>\n",
       "      <td>41415</td>\n",
       "      <td>82.3</td>\n",
       "      <td>950</td>\n",
       "    </tr>\n",
       "    <tr>\n",
       "      <th>2</th>\n",
       "      <td>Johor</td>\n",
       "      <td>3348283</td>\n",
       "      <td>41336</td>\n",
       "      <td>71.9</td>\n",
       "      <td>174</td>\n",
       "    </tr>\n",
       "    <tr>\n",
       "      <th>3</th>\n",
       "      <td>Kedah</td>\n",
       "      <td>1890098</td>\n",
       "      <td>41325</td>\n",
       "      <td>64.6</td>\n",
       "      <td>199</td>\n",
       "    </tr>\n",
       "    <tr>\n",
       "      <th>4</th>\n",
       "      <td>Kelantan</td>\n",
       "      <td>1459994</td>\n",
       "      <td>41367</td>\n",
       "      <td>42.4</td>\n",
       "      <td>97</td>\n",
       "    </tr>\n",
       "  </tbody>\n",
       "</table>\n",
       "</div>"
      ],
      "text/plain": [
       "          State  Population  StateID  UrbanPercent  PopDensity\n",
       "0  Kuala Lumpur     1627172    41401         100.0        6891\n",
       "1        Labuan       86908    41415          82.3         950\n",
       "2         Johor     3348283    41336          71.9         174\n",
       "3         Kedah     1890098    41325          64.6         199\n",
       "4      Kelantan     1459994    41367          42.4          97"
      ]
     },
     "execution_count": 223,
     "metadata": {},
     "output_type": "execute_result"
    }
   ],
   "source": [
    "state_data = pd.read_csv('state_data.csv')\n",
    "state_data.head()"
   ]
  },
  {
   "cell_type": "code",
   "execution_count": 40,
   "metadata": {},
   "outputs": [],
   "source": [
    "for index, row in train.iterrows():\n",
    "    state = row['State']\n",
    "    urban = state_data[state_data['StateID'] == state]['UrbanPercent'].values[0]\n",
    "    pop = state_data[state_data['StateID'] == state]['Population'].values[0]\n",
    "    pop_den = state_data[state_data['StateID'] == state]['PopDensity'].values[0]\n",
    "\n",
    "    train.loc[index,'UrbanPercent'] = urban\n",
    "    train.loc[index,'Population'] = pop\n",
    "    train.loc[index,'PopDensity'] = pop_den"
   ]
  },
  {
   "cell_type": "code",
   "execution_count": 41,
   "metadata": {},
   "outputs": [],
   "source": [
    "for index, row in test.iterrows():\n",
    "    state = row['State']\n",
    "    urban = state_data[state_data['StateID'] == state]['UrbanPercent'].values[0]\n",
    "    pop = state_data[state_data['StateID'] == state]['Population'].values[0]\n",
    "    pop_den = state_data[state_data['StateID'] == state]['PopDensity'].values[0]\n",
    "\n",
    "    test.loc[index,'UrbanPercent'] = urban\n",
    "    test.loc[index,'Population'] = pop\n",
    "    test.loc[index,'PopDensity'] = pop_den"
   ]
  },
  {
   "cell_type": "code",
   "execution_count": 42,
   "metadata": {},
   "outputs": [
    {
     "data": {
      "text/plain": [
       "5411324.0    8714\n",
       "1627172.0    3845\n",
       "1520143.0     843\n",
       "3348283.0     507\n",
       "2258428.0     420\n",
       "997071.0      253\n",
       "788706.0      137\n",
       "1890098.0     110\n",
       "1443365.0      85\n",
       "1015776.0      26\n",
       "3117405.0      22\n",
       "1459994.0      15\n",
       "2420009.0      13\n",
       "86908.0         3\n",
       "Name: Population, dtype: int64"
      ]
     },
     "execution_count": 42,
     "metadata": {},
     "output_type": "execute_result"
    }
   ],
   "source": [
    "train.Population.value_counts()"
   ]
  },
  {
   "cell_type": "code",
   "execution_count": 43,
   "metadata": {},
   "outputs": [
    {
     "data": {
      "text/plain": [
       "5411324.0    2018\n",
       "1627172.0    1279\n",
       "1520143.0     229\n",
       "3348283.0     136\n",
       "2258428.0     104\n",
       "997071.0       55\n",
       "788706.0       47\n",
       "1890098.0      45\n",
       "2420009.0      22\n",
       "3117405.0       7\n",
       "1015776.0       2\n",
       "1459994.0       2\n",
       "1443365.0       2\n",
       "Name: Population, dtype: int64"
      ]
     },
     "execution_count": 43,
     "metadata": {},
     "output_type": "execute_result"
    }
   ],
   "source": [
    "test.Population.value_counts()"
   ]
  },
  {
   "cell_type": "markdown",
   "metadata": {},
   "source": [
    "## Save preprocessed data"
   ]
  },
  {
   "cell_type": "code",
   "execution_count": 44,
   "metadata": {},
   "outputs": [],
   "source": [
    "train.to_csv('processed_train.csv')\n",
    "test.to_csv('processed_test.csv')"
   ]
  },
  {
   "cell_type": "markdown",
   "metadata": {},
   "source": [
    "## Import preprocessed data"
   ]
  },
  {
   "cell_type": "code",
   "execution_count": 230,
   "metadata": {},
   "outputs": [],
   "source": [
    "train = pd.read_csv('processed_train.csv')\n",
    "test = pd.read_csv('processed_test.csv')"
   ]
  },
  {
   "cell_type": "markdown",
   "metadata": {},
   "source": [
    "## Encode categorical variables"
   ]
  },
  {
   "cell_type": "code",
   "execution_count": 232,
   "metadata": {},
   "outputs": [],
   "source": [
    "train = pd.get_dummies(train, columns = ['Breed1', 'Breed2', 'Gender', 'Color1', 'Color2', 'Color3',\n",
    "                                 'MaturitySize', 'FurLength', 'Vaccinated', 'Dewormed', 'Sterilized', 'Health',\n",
    "                                 'State', 'Type', 'Group'\n",
    "                                ])\n",
    "test = pd.get_dummies(test, columns = ['Breed1', 'Breed2', 'Gender', 'Color1', 'Color2', 'Color3',\n",
    "                                 'MaturitySize', 'FurLength', 'Vaccinated', 'Dewormed', 'Sterilized', 'Health',\n",
    "                                 'State', 'Type', 'Group'\n",
    "                                ])"
   ]
  },
  {
   "cell_type": "markdown",
   "metadata": {},
   "source": [
    "## Make sure train and test have same columns"
   ]
  },
  {
   "cell_type": "code",
   "execution_count": 235,
   "metadata": {},
   "outputs": [],
   "source": [
    "diff_columns = set(train.columns).difference(set(test.columns))\n",
    "for i in diff_columns:\n",
    "    test[i] = test.apply(lambda _: 0, axis=1)\n",
    "diff_columns2 = set(test.columns).difference(set(train.columns))\n",
    "for i in diff_columns2:\n",
    "    train[i] = train.apply(lambda _: 0, axis=1)\n",
    "test = test[train.columns]"
   ]
  },
  {
   "cell_type": "code",
   "execution_count": 125,
   "metadata": {},
   "outputs": [
    {
     "data": {
      "text/plain": [
       "(14993, 435)"
      ]
     },
     "execution_count": 125,
     "metadata": {},
     "output_type": "execute_result"
    }
   ],
   "source": [
    "train.shape"
   ]
  },
  {
   "cell_type": "code",
   "execution_count": 126,
   "metadata": {},
   "outputs": [
    {
     "data": {
      "text/plain": [
       "(3948, 435)"
      ]
     },
     "execution_count": 126,
     "metadata": {},
     "output_type": "execute_result"
    }
   ],
   "source": [
    "test.shape"
   ]
  },
  {
   "cell_type": "markdown",
   "metadata": {},
   "source": [
    "## Set target variable"
   ]
  },
  {
   "cell_type": "code",
   "execution_count": 236,
   "metadata": {},
   "outputs": [],
   "source": [
    "target = train['AdoptionSpeed'].astype('int')"
   ]
  },
  {
   "cell_type": "markdown",
   "metadata": {},
   "source": [
    "## Drop irrelevent columns"
   ]
  },
  {
   "cell_type": "code",
   "execution_count": 243,
   "metadata": {},
   "outputs": [],
   "source": [
    "X = train.drop(['Name', 'RescuerID', 'Description', 'PetID', 'AdoptionSpeed', 'Unnamed: 0'], axis=1)\n",
    "X_pred = test.drop(['Name', 'RescuerID', 'Description', 'Unnamed: 0'], axis=1)"
   ]
  },
  {
   "cell_type": "markdown",
   "metadata": {},
   "source": [
    "## Baseline XGBoost"
   ]
  },
  {
   "cell_type": "code",
   "execution_count": 244,
   "metadata": {},
   "outputs": [
    {
     "data": {
      "text/plain": [
       "XGBClassifier(base_score=0.5, booster='gbtree', colsample_bylevel=1,\n",
       "       colsample_bytree=1, gamma=0, learning_rate=0.1, max_delta_step=0,\n",
       "       max_depth=3, min_child_weight=1, missing=None, n_estimators=100,\n",
       "       n_jobs=1, nthread=None, objective='multi:softprob', random_state=0,\n",
       "       reg_alpha=0, reg_lambda=1, scale_pos_weight=1, seed=None,\n",
       "       silent=True, subsample=1)"
      ]
     },
     "execution_count": 244,
     "metadata": {},
     "output_type": "execute_result"
    }
   ],
   "source": [
    "clf = xgb.XGBClassifier()\n",
    "clf.fit(X, target)"
   ]
  },
  {
   "cell_type": "code",
   "execution_count": 239,
   "metadata": {},
   "outputs": [],
   "source": [
    "scores = cross_val_score(clf, X, target, cv=2)"
   ]
  },
  {
   "cell_type": "code",
   "execution_count": 240,
   "metadata": {},
   "outputs": [
    {
     "data": {
      "text/plain": [
       "0.40365430781541745"
      ]
     },
     "execution_count": 240,
     "metadata": {},
     "output_type": "execute_result"
    }
   ],
   "source": [
    "scores.mean()"
   ]
  },
  {
   "cell_type": "code",
   "execution_count": 242,
   "metadata": {
    "scrolled": true
   },
   "outputs": [
    {
     "data": {
      "image/png": "[encoded data removed]",
      "text/plain": [
       "<Figure size 864x1296 with 1 Axes>"
      ]
     },
     "metadata": {
      "needs_background": "light"
     },
     "output_type": "display_data"
    }
   ],
   "source": [
    "from xgboost import plot_importance\n",
    "fig, ax = plt.subplots(figsize=(12,18))\n",
    "plot_importance(clf, max_num_features=50, height=0.8, ax=ax)\n",
    "plt.show()"
   ]
  },
  {
   "cell_type": "code",
   "execution_count": 245,
   "metadata": {},
   "outputs": [],
   "source": [
    "test_pred = clf.predict(X_pred.drop(['AdoptionSpeed','PetID'], axis=1))"
   ]
  },
  {
   "cell_type": "code",
   "execution_count": 58,
   "metadata": {},
   "outputs": [],
   "source": [
    "pred = pd.DataFrame()\n",
    "pred['PetID'] = X_pred['PetID']\n",
    "pred['AdoptionSpeed'] = test_pred\n",
    "pred.set_index('PetID').to_csv(\"submission.csv\", index=True)"
   ]
  },
  {
   "cell_type": "code",
   "execution_count": 62,
   "metadata": {},
   "outputs": [
    {
     "data": {
      "text/plain": [
       "array([[<matplotlib.axes._subplots.AxesSubplot object at 0x00000227BFF72668>]],\n",
       "      dtype=object)"
      ]
     },
     "execution_count": 62,
     "metadata": {},
     "output_type": "execute_result"
    },
    {
     "data": {
      "image/png": "[encoded data removed]",
      "text/plain": [
       "<Figure size 432x288 with 1 Axes>"
      ]
     },
     "metadata": {
      "needs_background": "light"
     },
     "output_type": "display_data"
    }
   ],
   "source": [
    "pred.hist()"
   ]
  },
  {
   "cell_type": "markdown",
   "metadata": {},
   "source": [
    "### This received a score of 0.337 on the Kaggle competition's test data #1"
   ]
  },
  {
   "cell_type": "code",
   "execution_count": 249,
   "metadata": {},
   "outputs": [],
   "source": [
    "def quadratic_weighted_kappa(y, y_pred):\n",
    "    \"\"\"\n",
    "    Calculates the quadratic weighted kappa\n",
    "    axquadratic_weighted_kappa calculates the quadratic weighted kappa\n",
    "    value, which is a measure of inter-rater agreement between two raters\n",
    "    that provide discrete numeric ratings.  Potential values range from -1\n",
    "    (representing complete disagreement) to 1 (representing complete\n",
    "    agreement).  A kappa value of 0 is expected if all agreement is due to\n",
    "    chance.\n",
    "    quadratic_weighted_kappa(rater_a, rater_b), where rater_a and rater_b\n",
    "    each correspond to a list of integer ratings.  These lists must have the\n",
    "    same length.\n",
    "    The ratings should be integers, and it is assumed that they contain\n",
    "    the complete range of possible ratings.\n",
    "    quadratic_weighted_kappa(X, min_rating, max_rating), where min_rating\n",
    "    is the minimum possible rating, and max_rating is the maximum possible\n",
    "    rating\n",
    "    \"\"\"\n",
    "    rater_a = y\n",
    "    rater_b = y_pred\n",
    "    min_rating=None\n",
    "    max_rating=None\n",
    "    rater_a = np.array(rater_a, dtype=int)\n",
    "    rater_b = np.array(rater_b, dtype=int)\n",
    "    assert(len(rater_a) == len(rater_b))\n",
    "    if min_rating is None:\n",
    "        min_rating = min(min(rater_a), min(rater_b))\n",
    "    if max_rating is None:\n",
    "        max_rating = max(max(rater_a), max(rater_b))\n",
    "    conf_mat = confusion_matrix(rater_a, rater_b,\n",
    "                                min_rating, max_rating)\n",
    "    num_ratings = len(conf_mat)\n",
    "    num_scored_items = float(len(rater_a))\n",
    "\n",
    "    hist_rater_a = histogram(rater_a, min_rating, max_rating)\n",
    "    hist_rater_b = histogram(rater_b, min_rating, max_rating)\n",
    "\n",
    "    numerator = 0.0\n",
    "    denominator = 0.0\n",
    "\n",
    "    for i in range(num_ratings):\n",
    "        for j in range(num_ratings):\n",
    "            expected_count = (hist_rater_a[i] * hist_rater_b[j]\n",
    "                              / num_scored_items)\n",
    "            d = pow(i - j, 2.0) / pow(num_ratings - 1, 2.0)\n",
    "            numerator += d * conf_mat[i][j] / num_scored_items\n",
    "            denominator += d * expected_count / num_scored_items\n",
    "\n",
    "    return (1.0 - numerator / denominator)"
   ]
  },
  {
   "cell_type": "code",
   "execution_count": 251,
   "metadata": {},
   "outputs": [],
   "source": [
    "def confusion_matrix(rater_a, rater_b, min_rating=None, max_rating=None):\n",
    "    \"\"\"\n",
    "    Returns the confusion matrix between rater's ratings\n",
    "    \"\"\"\n",
    "    assert(len(rater_a) == len(rater_b))\n",
    "    if min_rating is None:\n",
    "        min_rating = min(rater_a + rater_b)\n",
    "    if max_rating is None:\n",
    "        max_rating = max(rater_a + rater_b)\n",
    "    num_ratings = int(max_rating - min_rating + 1)\n",
    "    conf_mat = [[0 for i in range(num_ratings)]\n",
    "                for j in range(num_ratings)]\n",
    "    for a, b in zip(rater_a, rater_b):\n",
    "        conf_mat[a - min_rating][b - min_rating] += 1\n",
    "    return conf_mat"
   ]
  },
  {
   "cell_type": "code",
   "execution_count": 253,
   "metadata": {},
   "outputs": [],
   "source": [
    "def histogram(ratings, min_rating=None, max_rating=None):\n",
    "    \"\"\"\n",
    "    Returns the counts of each type of rating that a rater made\n",
    "    \"\"\"\n",
    "    if min_rating is None:\n",
    "        min_rating = min(ratings)\n",
    "    if max_rating is None:\n",
    "        max_rating = max(ratings)\n",
    "    num_ratings = int(max_rating - min_rating + 1)\n",
    "    hist_ratings = [0 for x in range(num_ratings)]\n",
    "    for r in ratings:\n",
    "        hist_ratings[r - min_rating] += 1\n",
    "    return hist_ratings\n"
   ]
  },
  {
   "cell_type": "code",
   "execution_count": 254,
   "metadata": {},
   "outputs": [
    {
     "data": {
      "text/plain": [
       "0.3998913422314485"
      ]
     },
     "execution_count": 254,
     "metadata": {},
     "output_type": "execute_result"
    }
   ],
   "source": [
    "quadratic_weighted_kappa(target, clf.predict(X))"
   ]
  },
  {
   "cell_type": "markdown",
   "metadata": {},
   "source": [
    "## Standardization"
   ]
  },
  {
   "cell_type": "code",
   "execution_count": 143,
   "metadata": {},
   "outputs": [
    {
     "name": "stderr",
     "output_type": "stream",
     "text": [
      "C:\\Users\\sparr\\Anaconda3\\lib\\site-packages\\sklearn\\preprocessing\\data.py:625: DataConversionWarning: Data with input dtype uint8, int64, float64 were all converted to float64 by StandardScaler.\n",
      "  return self.partial_fit(X, y)\n",
      "C:\\Users\\sparr\\Anaconda3\\lib\\site-packages\\sklearn\\base.py:462: DataConversionWarning: Data with input dtype uint8, int64, float64 were all converted to float64 by StandardScaler.\n",
      "  return self.fit(X, **fit_params).transform(X)\n"
     ]
    }
   ],
   "source": [
    "X_stan = StandardScaler().fit_transform(X)"
   ]
  },
  {
   "cell_type": "code",
   "execution_count": 144,
   "metadata": {},
   "outputs": [
    {
     "name": "stderr",
     "output_type": "stream",
     "text": [
      "C:\\Users\\sparr\\Anaconda3\\lib\\site-packages\\sklearn\\preprocessing\\data.py:625: DataConversionWarning: Data with input dtype uint8, int64, float64 were all converted to float64 by StandardScaler.\n",
      "  return self.partial_fit(X, y)\n",
      "C:\\Users\\sparr\\Anaconda3\\lib\\site-packages\\sklearn\\base.py:462: DataConversionWarning: Data with input dtype uint8, int64, float64 were all converted to float64 by StandardScaler.\n",
      "  return self.fit(X, **fit_params).transform(X)\n"
     ]
    }
   ],
   "source": [
    "test_stan = StandardScaler().fit_transform(X_pred.drop(['AdoptionSpeed','PetID'], axis=1))"
   ]
  },
  {
   "cell_type": "markdown",
   "metadata": {},
   "source": [
    "## Dimensionality reduction"
   ]
  },
  {
   "cell_type": "code",
   "execution_count": 145,
   "metadata": {},
   "outputs": [],
   "source": [
    "pca = PCA(n_components=0.8, svd_solver='full', random_state=47)\n",
    "principalComponents = pca.fit_transform(X_stan)"
   ]
  },
  {
   "cell_type": "code",
   "execution_count": null,
   "metadata": {},
   "outputs": [],
   "source": []
  },
  {
   "cell_type": "code",
   "execution_count": 146,
   "metadata": {},
   "outputs": [],
   "source": [
    "test_pca = pca.transform(test_stan)"
   ]
  },
  {
   "cell_type": "markdown",
   "metadata": {},
   "source": [
    "## Random Forest Baseline"
   ]
  },
  {
   "cell_type": "code",
   "execution_count": 255,
   "metadata": {},
   "outputs": [
    {
     "name": "stderr",
     "output_type": "stream",
     "text": [
      "C:\\Users\\sparr\\Anaconda3\\lib\\site-packages\\sklearn\\ensemble\\forest.py:246: FutureWarning: The default value of n_estimators will change from 10 in version 0.20 to 100 in 0.22.\n",
      "  \"10 in version 0.20 to 100 in 0.22.\", FutureWarning)\n"
     ]
    },
    {
     "data": {
      "text/plain": [
       "RandomForestClassifier(bootstrap=True, class_weight=None, criterion='gini',\n",
       "            max_depth=None, max_features='auto', max_leaf_nodes=None,\n",
       "            min_impurity_decrease=0.0, min_impurity_split=None,\n",
       "            min_samples_leaf=1, min_samples_split=2,\n",
       "            min_weight_fraction_leaf=0.0, n_estimators=10, n_jobs=None,\n",
       "            oob_score=False, random_state=None, verbose=0,\n",
       "            warm_start=False)"
      ]
     },
     "execution_count": 255,
     "metadata": {},
     "output_type": "execute_result"
    }
   ],
   "source": [
    "clf_rf = RandomForestClassifier()\n",
    "clf_rf.fit(X_stan, target)"
   ]
  },
  {
   "cell_type": "code",
   "execution_count": 256,
   "metadata": {},
   "outputs": [
    {
     "data": {
      "text/plain": [
       "0.40618927365512003"
      ]
     },
     "execution_count": 256,
     "metadata": {},
     "output_type": "execute_result"
    }
   ],
   "source": [
    "scores = cross_val_score(clf, X_stan, target, cv=3)\n",
    "scores.mean()"
   ]
  },
  {
   "cell_type": "code",
   "execution_count": 257,
   "metadata": {},
   "outputs": [
    {
     "data": {
      "text/plain": [
       "0.9859424501243039"
      ]
     },
     "execution_count": 257,
     "metadata": {},
     "output_type": "execute_result"
    }
   ],
   "source": [
    "quadratic_weighted_kappa(target, clf_rf.predict(X_stan))"
   ]
  },
  {
   "cell_type": "code",
   "execution_count": 258,
   "metadata": {},
   "outputs": [],
   "source": [
    "test_pred = clf_rf.predict(test_stan)"
   ]
  },
  {
   "cell_type": "code",
   "execution_count": 259,
   "metadata": {},
   "outputs": [],
   "source": [
    "pred = pd.DataFrame()\n",
    "pred['PetID'] = X_pred['PetID']\n",
    "pred['AdoptionSpeed'] = test_pred\n",
    "pred.set_index('PetID').to_csv(\"submission-rf.csv\", index=True)"
   ]
  },
  {
   "cell_type": "code",
   "execution_count": 260,
   "metadata": {},
   "outputs": [
    {
     "data": {
      "text/plain": [
       "array([[<matplotlib.axes._subplots.AxesSubplot object at 0x000002279140C6A0>]],\n",
       "      dtype=object)"
      ]
     },
     "execution_count": 260,
     "metadata": {},
     "output_type": "execute_result"
    },
    {
     "data": {
      "image/png": "[encoded data removed]",
      "text/plain": [
       "<Figure size 432x288 with 1 Axes>"
      ]
     },
     "metadata": {
      "needs_background": "light"
     },
     "output_type": "display_data"
    }
   ],
   "source": [
    "pd.DataFrame(test_pred).hist()"
   ]
  },
  {
   "cell_type": "markdown",
   "metadata": {},
   "source": [
    "### This received a score of 0.242 on the Kaggle competition's test data #1"
   ]
  },
  {
   "cell_type": "code",
   "execution_count": 261,
   "metadata": {},
   "outputs": [],
   "source": [
    "import lightgbm as lgb\n",
    "\n",
    "d_train = lgb.Dataset(X_stan, label=target)\n",
    "\n",
    "params = {}\n",
    "params['learning_rate'] = 0.003\n",
    "params['boosting_type'] = 'gbdt'\n",
    "params['objective'] = 'multiclass'\n",
    "params['num_class'] = 5\n",
    "params['sub_feature'] = 0.5\n",
    "params['num_leaves'] = 10\n",
    "params['min_data'] = 50\n",
    "params['max_depth'] = 10\n",
    "\n",
    "clf = lgb.train(params, d_train, 100)"
   ]
  },
  {
   "cell_type": "code",
   "execution_count": 262,
   "metadata": {},
   "outputs": [],
   "source": [
    "preds = clf.predict(X_stan, num_iteration=clf.best_iteration)\n",
    "preds_round = np.array([])\n",
    "for i in preds:\n",
    "    k = 0\n",
    "    c = 0\n",
    "    for j in i:\n",
    "        if j > k:\n",
    "            k = j\n",
    "            c += 1\n",
    "    preds_round = np.append(preds_round, c)"
   ]
  },
  {
   "cell_type": "code",
   "execution_count": 263,
   "metadata": {},
   "outputs": [
    {
     "data": {
      "text/html": [
       "<div>\n",
       "<style scoped>\n",
       "    .dataframe tbody tr th:only-of-type {\n",
       "        vertical-align: middle;\n",
       "    }\n",
       "\n",
       "    .dataframe tbody tr th {\n",
       "        vertical-align: top;\n",
       "    }\n",
       "\n",
       "    .dataframe thead th {\n",
       "        text-align: right;\n",
       "    }\n",
       "</style>\n",
       "<table border=\"1\" class=\"dataframe\">\n",
       "  <thead>\n",
       "    <tr style=\"text-align: right;\">\n",
       "      <th></th>\n",
       "      <th>0</th>\n",
       "      <th>1</th>\n",
       "      <th>2</th>\n",
       "      <th>3</th>\n",
       "      <th>4</th>\n",
       "    </tr>\n",
       "  </thead>\n",
       "  <tbody>\n",
       "    <tr>\n",
       "      <th>0</th>\n",
       "      <td>0.028672</td>\n",
       "      <td>0.212389</td>\n",
       "      <td>0.276491</td>\n",
       "      <td>0.213621</td>\n",
       "      <td>0.268827</td>\n",
       "    </tr>\n",
       "    <tr>\n",
       "      <th>1</th>\n",
       "      <td>0.028561</td>\n",
       "      <td>0.220633</td>\n",
       "      <td>0.261740</td>\n",
       "      <td>0.207142</td>\n",
       "      <td>0.281924</td>\n",
       "    </tr>\n",
       "    <tr>\n",
       "      <th>2</th>\n",
       "      <td>0.025203</td>\n",
       "      <td>0.204471</td>\n",
       "      <td>0.278694</td>\n",
       "      <td>0.236541</td>\n",
       "      <td>0.255091</td>\n",
       "    </tr>\n",
       "    <tr>\n",
       "      <th>3</th>\n",
       "      <td>0.025198</td>\n",
       "      <td>0.194609</td>\n",
       "      <td>0.262512</td>\n",
       "      <td>0.230506</td>\n",
       "      <td>0.287174</td>\n",
       "    </tr>\n",
       "    <tr>\n",
       "      <th>4</th>\n",
       "      <td>0.025186</td>\n",
       "      <td>0.208209</td>\n",
       "      <td>0.286982</td>\n",
       "      <td>0.216172</td>\n",
       "      <td>0.263451</td>\n",
       "    </tr>\n",
       "    <tr>\n",
       "      <th>5</th>\n",
       "      <td>0.027978</td>\n",
       "      <td>0.208111</td>\n",
       "      <td>0.282343</td>\n",
       "      <td>0.213277</td>\n",
       "      <td>0.268291</td>\n",
       "    </tr>\n",
       "    <tr>\n",
       "      <th>6</th>\n",
       "      <td>0.031063</td>\n",
       "      <td>0.212125</td>\n",
       "      <td>0.260599</td>\n",
       "      <td>0.207632</td>\n",
       "      <td>0.288580</td>\n",
       "    </tr>\n",
       "    <tr>\n",
       "      <th>7</th>\n",
       "      <td>0.025613</td>\n",
       "      <td>0.202703</td>\n",
       "      <td>0.283709</td>\n",
       "      <td>0.223803</td>\n",
       "      <td>0.264172</td>\n",
       "    </tr>\n",
       "    <tr>\n",
       "      <th>8</th>\n",
       "      <td>0.027830</td>\n",
       "      <td>0.226639</td>\n",
       "      <td>0.278091</td>\n",
       "      <td>0.214860</td>\n",
       "      <td>0.252580</td>\n",
       "    </tr>\n",
       "    <tr>\n",
       "      <th>9</th>\n",
       "      <td>0.028027</td>\n",
       "      <td>0.202143</td>\n",
       "      <td>0.262813</td>\n",
       "      <td>0.207768</td>\n",
       "      <td>0.299249</td>\n",
       "    </tr>\n",
       "    <tr>\n",
       "      <th>10</th>\n",
       "      <td>0.025344</td>\n",
       "      <td>0.207599</td>\n",
       "      <td>0.281050</td>\n",
       "      <td>0.225812</td>\n",
       "      <td>0.260195</td>\n",
       "    </tr>\n",
       "    <tr>\n",
       "      <th>11</th>\n",
       "      <td>0.030826</td>\n",
       "      <td>0.213479</td>\n",
       "      <td>0.279291</td>\n",
       "      <td>0.212152</td>\n",
       "      <td>0.264252</td>\n",
       "    </tr>\n",
       "    <tr>\n",
       "      <th>12</th>\n",
       "      <td>0.026154</td>\n",
       "      <td>0.206393</td>\n",
       "      <td>0.279815</td>\n",
       "      <td>0.222941</td>\n",
       "      <td>0.264696</td>\n",
       "    </tr>\n",
       "    <tr>\n",
       "      <th>13</th>\n",
       "      <td>0.028666</td>\n",
       "      <td>0.213551</td>\n",
       "      <td>0.262098</td>\n",
       "      <td>0.209100</td>\n",
       "      <td>0.286586</td>\n",
       "    </tr>\n",
       "    <tr>\n",
       "      <th>14</th>\n",
       "      <td>0.025635</td>\n",
       "      <td>0.195033</td>\n",
       "      <td>0.265439</td>\n",
       "      <td>0.214790</td>\n",
       "      <td>0.299104</td>\n",
       "    </tr>\n",
       "    <tr>\n",
       "      <th>15</th>\n",
       "      <td>0.028070</td>\n",
       "      <td>0.203582</td>\n",
       "      <td>0.268215</td>\n",
       "      <td>0.219788</td>\n",
       "      <td>0.280345</td>\n",
       "    </tr>\n",
       "    <tr>\n",
       "      <th>16</th>\n",
       "      <td>0.027745</td>\n",
       "      <td>0.199926</td>\n",
       "      <td>0.254571</td>\n",
       "      <td>0.212394</td>\n",
       "      <td>0.305364</td>\n",
       "    </tr>\n",
       "    <tr>\n",
       "      <th>17</th>\n",
       "      <td>0.025270</td>\n",
       "      <td>0.184311</td>\n",
       "      <td>0.254376</td>\n",
       "      <td>0.219601</td>\n",
       "      <td>0.316442</td>\n",
       "    </tr>\n",
       "    <tr>\n",
       "      <th>18</th>\n",
       "      <td>0.025452</td>\n",
       "      <td>0.202201</td>\n",
       "      <td>0.283069</td>\n",
       "      <td>0.232021</td>\n",
       "      <td>0.257256</td>\n",
       "    </tr>\n",
       "    <tr>\n",
       "      <th>19</th>\n",
       "      <td>0.028021</td>\n",
       "      <td>0.216358</td>\n",
       "      <td>0.272393</td>\n",
       "      <td>0.212563</td>\n",
       "      <td>0.270665</td>\n",
       "    </tr>\n",
       "    <tr>\n",
       "      <th>20</th>\n",
       "      <td>0.025178</td>\n",
       "      <td>0.184348</td>\n",
       "      <td>0.254968</td>\n",
       "      <td>0.231804</td>\n",
       "      <td>0.303702</td>\n",
       "    </tr>\n",
       "    <tr>\n",
       "      <th>21</th>\n",
       "      <td>0.025791</td>\n",
       "      <td>0.202957</td>\n",
       "      <td>0.282193</td>\n",
       "      <td>0.222115</td>\n",
       "      <td>0.266943</td>\n",
       "    </tr>\n",
       "    <tr>\n",
       "      <th>22</th>\n",
       "      <td>0.030253</td>\n",
       "      <td>0.198089</td>\n",
       "      <td>0.247232</td>\n",
       "      <td>0.207944</td>\n",
       "      <td>0.316482</td>\n",
       "    </tr>\n",
       "    <tr>\n",
       "      <th>23</th>\n",
       "      <td>0.028704</td>\n",
       "      <td>0.182778</td>\n",
       "      <td>0.250650</td>\n",
       "      <td>0.209375</td>\n",
       "      <td>0.328493</td>\n",
       "    </tr>\n",
       "    <tr>\n",
       "      <th>24</th>\n",
       "      <td>0.027581</td>\n",
       "      <td>0.214057</td>\n",
       "      <td>0.275784</td>\n",
       "      <td>0.228720</td>\n",
       "      <td>0.253858</td>\n",
       "    </tr>\n",
       "    <tr>\n",
       "      <th>25</th>\n",
       "      <td>0.029636</td>\n",
       "      <td>0.204579</td>\n",
       "      <td>0.262337</td>\n",
       "      <td>0.210226</td>\n",
       "      <td>0.293222</td>\n",
       "    </tr>\n",
       "    <tr>\n",
       "      <th>26</th>\n",
       "      <td>0.030503</td>\n",
       "      <td>0.225952</td>\n",
       "      <td>0.277705</td>\n",
       "      <td>0.215085</td>\n",
       "      <td>0.250755</td>\n",
       "    </tr>\n",
       "    <tr>\n",
       "      <th>27</th>\n",
       "      <td>0.027699</td>\n",
       "      <td>0.217448</td>\n",
       "      <td>0.279608</td>\n",
       "      <td>0.210807</td>\n",
       "      <td>0.264438</td>\n",
       "    </tr>\n",
       "    <tr>\n",
       "      <th>28</th>\n",
       "      <td>0.031852</td>\n",
       "      <td>0.207932</td>\n",
       "      <td>0.247920</td>\n",
       "      <td>0.210146</td>\n",
       "      <td>0.302150</td>\n",
       "    </tr>\n",
       "    <tr>\n",
       "      <th>29</th>\n",
       "      <td>0.027974</td>\n",
       "      <td>0.224961</td>\n",
       "      <td>0.273637</td>\n",
       "      <td>0.213463</td>\n",
       "      <td>0.259965</td>\n",
       "    </tr>\n",
       "    <tr>\n",
       "      <th>...</th>\n",
       "      <td>...</td>\n",
       "      <td>...</td>\n",
       "      <td>...</td>\n",
       "      <td>...</td>\n",
       "      <td>...</td>\n",
       "    </tr>\n",
       "    <tr>\n",
       "      <th>14963</th>\n",
       "      <td>0.028593</td>\n",
       "      <td>0.213602</td>\n",
       "      <td>0.266603</td>\n",
       "      <td>0.208049</td>\n",
       "      <td>0.283152</td>\n",
       "    </tr>\n",
       "    <tr>\n",
       "      <th>14964</th>\n",
       "      <td>0.027341</td>\n",
       "      <td>0.202336</td>\n",
       "      <td>0.267389</td>\n",
       "      <td>0.210755</td>\n",
       "      <td>0.292179</td>\n",
       "    </tr>\n",
       "    <tr>\n",
       "      <th>14965</th>\n",
       "      <td>0.027879</td>\n",
       "      <td>0.195737</td>\n",
       "      <td>0.237941</td>\n",
       "      <td>0.207586</td>\n",
       "      <td>0.330857</td>\n",
       "    </tr>\n",
       "    <tr>\n",
       "      <th>14966</th>\n",
       "      <td>0.028731</td>\n",
       "      <td>0.229117</td>\n",
       "      <td>0.272894</td>\n",
       "      <td>0.210529</td>\n",
       "      <td>0.258729</td>\n",
       "    </tr>\n",
       "    <tr>\n",
       "      <th>14967</th>\n",
       "      <td>0.028302</td>\n",
       "      <td>0.204627</td>\n",
       "      <td>0.264369</td>\n",
       "      <td>0.209898</td>\n",
       "      <td>0.292804</td>\n",
       "    </tr>\n",
       "    <tr>\n",
       "      <th>14968</th>\n",
       "      <td>0.027635</td>\n",
       "      <td>0.216589</td>\n",
       "      <td>0.278308</td>\n",
       "      <td>0.211002</td>\n",
       "      <td>0.266466</td>\n",
       "    </tr>\n",
       "    <tr>\n",
       "      <th>14969</th>\n",
       "      <td>0.027402</td>\n",
       "      <td>0.195374</td>\n",
       "      <td>0.263621</td>\n",
       "      <td>0.212545</td>\n",
       "      <td>0.301058</td>\n",
       "    </tr>\n",
       "    <tr>\n",
       "      <th>14970</th>\n",
       "      <td>0.025712</td>\n",
       "      <td>0.203957</td>\n",
       "      <td>0.280897</td>\n",
       "      <td>0.218133</td>\n",
       "      <td>0.271300</td>\n",
       "    </tr>\n",
       "    <tr>\n",
       "      <th>14971</th>\n",
       "      <td>0.028111</td>\n",
       "      <td>0.218894</td>\n",
       "      <td>0.266030</td>\n",
       "      <td>0.211892</td>\n",
       "      <td>0.275072</td>\n",
       "    </tr>\n",
       "    <tr>\n",
       "      <th>14972</th>\n",
       "      <td>0.027300</td>\n",
       "      <td>0.223984</td>\n",
       "      <td>0.279647</td>\n",
       "      <td>0.211466</td>\n",
       "      <td>0.257603</td>\n",
       "    </tr>\n",
       "    <tr>\n",
       "      <th>14973</th>\n",
       "      <td>0.025654</td>\n",
       "      <td>0.203544</td>\n",
       "      <td>0.280431</td>\n",
       "      <td>0.224478</td>\n",
       "      <td>0.265892</td>\n",
       "    </tr>\n",
       "    <tr>\n",
       "      <th>14974</th>\n",
       "      <td>0.025362</td>\n",
       "      <td>0.204365</td>\n",
       "      <td>0.280061</td>\n",
       "      <td>0.232227</td>\n",
       "      <td>0.257987</td>\n",
       "    </tr>\n",
       "    <tr>\n",
       "      <th>14975</th>\n",
       "      <td>0.024996</td>\n",
       "      <td>0.181769</td>\n",
       "      <td>0.247210</td>\n",
       "      <td>0.210310</td>\n",
       "      <td>0.335714</td>\n",
       "    </tr>\n",
       "    <tr>\n",
       "      <th>14976</th>\n",
       "      <td>0.028480</td>\n",
       "      <td>0.198490</td>\n",
       "      <td>0.262164</td>\n",
       "      <td>0.211470</td>\n",
       "      <td>0.299396</td>\n",
       "    </tr>\n",
       "    <tr>\n",
       "      <th>14977</th>\n",
       "      <td>0.028862</td>\n",
       "      <td>0.222550</td>\n",
       "      <td>0.274623</td>\n",
       "      <td>0.212354</td>\n",
       "      <td>0.261611</td>\n",
       "    </tr>\n",
       "    <tr>\n",
       "      <th>14978</th>\n",
       "      <td>0.025412</td>\n",
       "      <td>0.190420</td>\n",
       "      <td>0.254659</td>\n",
       "      <td>0.215564</td>\n",
       "      <td>0.313946</td>\n",
       "    </tr>\n",
       "    <tr>\n",
       "      <th>14979</th>\n",
       "      <td>0.025199</td>\n",
       "      <td>0.183372</td>\n",
       "      <td>0.253123</td>\n",
       "      <td>0.221028</td>\n",
       "      <td>0.317278</td>\n",
       "    </tr>\n",
       "    <tr>\n",
       "      <th>14980</th>\n",
       "      <td>0.025306</td>\n",
       "      <td>0.188060</td>\n",
       "      <td>0.253307</td>\n",
       "      <td>0.213758</td>\n",
       "      <td>0.319569</td>\n",
       "    </tr>\n",
       "    <tr>\n",
       "      <th>14981</th>\n",
       "      <td>0.025934</td>\n",
       "      <td>0.193458</td>\n",
       "      <td>0.263690</td>\n",
       "      <td>0.214846</td>\n",
       "      <td>0.302073</td>\n",
       "    </tr>\n",
       "    <tr>\n",
       "      <th>14982</th>\n",
       "      <td>0.026858</td>\n",
       "      <td>0.214405</td>\n",
       "      <td>0.276653</td>\n",
       "      <td>0.225330</td>\n",
       "      <td>0.256754</td>\n",
       "    </tr>\n",
       "    <tr>\n",
       "      <th>14983</th>\n",
       "      <td>0.025335</td>\n",
       "      <td>0.202456</td>\n",
       "      <td>0.280881</td>\n",
       "      <td>0.233795</td>\n",
       "      <td>0.257534</td>\n",
       "    </tr>\n",
       "    <tr>\n",
       "      <th>14984</th>\n",
       "      <td>0.024943</td>\n",
       "      <td>0.184427</td>\n",
       "      <td>0.245118</td>\n",
       "      <td>0.205395</td>\n",
       "      <td>0.340117</td>\n",
       "    </tr>\n",
       "    <tr>\n",
       "      <th>14985</th>\n",
       "      <td>0.042737</td>\n",
       "      <td>0.199578</td>\n",
       "      <td>0.242201</td>\n",
       "      <td>0.215136</td>\n",
       "      <td>0.300348</td>\n",
       "    </tr>\n",
       "    <tr>\n",
       "      <th>14986</th>\n",
       "      <td>0.028683</td>\n",
       "      <td>0.216753</td>\n",
       "      <td>0.278062</td>\n",
       "      <td>0.212737</td>\n",
       "      <td>0.263765</td>\n",
       "    </tr>\n",
       "    <tr>\n",
       "      <th>14987</th>\n",
       "      <td>0.040806</td>\n",
       "      <td>0.217111</td>\n",
       "      <td>0.261995</td>\n",
       "      <td>0.216230</td>\n",
       "      <td>0.263859</td>\n",
       "    </tr>\n",
       "    <tr>\n",
       "      <th>14988</th>\n",
       "      <td>0.027286</td>\n",
       "      <td>0.212716</td>\n",
       "      <td>0.277065</td>\n",
       "      <td>0.209771</td>\n",
       "      <td>0.273162</td>\n",
       "    </tr>\n",
       "    <tr>\n",
       "      <th>14989</th>\n",
       "      <td>0.028550</td>\n",
       "      <td>0.198676</td>\n",
       "      <td>0.261637</td>\n",
       "      <td>0.211501</td>\n",
       "      <td>0.299636</td>\n",
       "    </tr>\n",
       "    <tr>\n",
       "      <th>14990</th>\n",
       "      <td>0.028752</td>\n",
       "      <td>0.211570</td>\n",
       "      <td>0.260959</td>\n",
       "      <td>0.210882</td>\n",
       "      <td>0.287838</td>\n",
       "    </tr>\n",
       "    <tr>\n",
       "      <th>14991</th>\n",
       "      <td>0.027740</td>\n",
       "      <td>0.199995</td>\n",
       "      <td>0.260328</td>\n",
       "      <td>0.212557</td>\n",
       "      <td>0.299379</td>\n",
       "    </tr>\n",
       "    <tr>\n",
       "      <th>14992</th>\n",
       "      <td>0.025210</td>\n",
       "      <td>0.207084</td>\n",
       "      <td>0.284887</td>\n",
       "      <td>0.211697</td>\n",
       "      <td>0.271122</td>\n",
       "    </tr>\n",
       "  </tbody>\n",
       "</table>\n",
       "<p>14993 rows × 5 columns</p>\n",
       "</div>"
      ],
      "text/plain": [
       "              0         1         2         3         4\n",
       "0      0.028672  0.212389  0.276491  0.213621  0.268827\n",
       "1      0.028561  0.220633  0.261740  0.207142  0.281924\n",
       "2      0.025203  0.204471  0.278694  0.236541  0.255091\n",
       "3      0.025198  0.194609  0.262512  0.230506  0.287174\n",
       "4      0.025186  0.208209  0.286982  0.216172  0.263451\n",
       "5      0.027978  0.208111  0.282343  0.213277  0.268291\n",
       "6      0.031063  0.212125  0.260599  0.207632  0.288580\n",
       "7      0.025613  0.202703  0.283709  0.223803  0.264172\n",
       "8      0.027830  0.226639  0.278091  0.214860  0.252580\n",
       "9      0.028027  0.202143  0.262813  0.207768  0.299249\n",
       "10     0.025344  0.207599  0.281050  0.225812  0.260195\n",
       "11     0.030826  0.213479  0.279291  0.212152  0.264252\n",
       "12     0.026154  0.206393  0.279815  0.222941  0.264696\n",
       "13     0.028666  0.213551  0.262098  0.209100  0.286586\n",
       "14     0.025635  0.195033  0.265439  0.214790  0.299104\n",
       "15     0.028070  0.203582  0.268215  0.219788  0.280345\n",
       "16     0.027745  0.199926  0.254571  0.212394  0.305364\n",
       "17     0.025270  0.184311  0.254376  0.219601  0.316442\n",
       "18     0.025452  0.202201  0.283069  0.232021  0.257256\n",
       "19     0.028021  0.216358  0.272393  0.212563  0.270665\n",
       "20     0.025178  0.184348  0.254968  0.231804  0.303702\n",
       "21     0.025791  0.202957  0.282193  0.222115  0.266943\n",
       "22     0.030253  0.198089  0.247232  0.207944  0.316482\n",
       "23     0.028704  0.182778  0.250650  0.209375  0.328493\n",
       "24     0.027581  0.214057  0.275784  0.228720  0.253858\n",
       "25     0.029636  0.204579  0.262337  0.210226  0.293222\n",
       "26     0.030503  0.225952  0.277705  0.215085  0.250755\n",
       "27     0.027699  0.217448  0.279608  0.210807  0.264438\n",
       "28     0.031852  0.207932  0.247920  0.210146  0.302150\n",
       "29     0.027974  0.224961  0.273637  0.213463  0.259965\n",
       "...         ...       ...       ...       ...       ...\n",
       "14963  0.028593  0.213602  0.266603  0.208049  0.283152\n",
       "14964  0.027341  0.202336  0.267389  0.210755  0.292179\n",
       "14965  0.027879  0.195737  0.237941  0.207586  0.330857\n",
       "14966  0.028731  0.229117  0.272894  0.210529  0.258729\n",
       "14967  0.028302  0.204627  0.264369  0.209898  0.292804\n",
       "14968  0.027635  0.216589  0.278308  0.211002  0.266466\n",
       "14969  0.027402  0.195374  0.263621  0.212545  0.301058\n",
       "14970  0.025712  0.203957  0.280897  0.218133  0.271300\n",
       "14971  0.028111  0.218894  0.266030  0.211892  0.275072\n",
       "14972  0.027300  0.223984  0.279647  0.211466  0.257603\n",
       "14973  0.025654  0.203544  0.280431  0.224478  0.265892\n",
       "14974  0.025362  0.204365  0.280061  0.232227  0.257987\n",
       "14975  0.024996  0.181769  0.247210  0.210310  0.335714\n",
       "14976  0.028480  0.198490  0.262164  0.211470  0.299396\n",
       "14977  0.028862  0.222550  0.274623  0.212354  0.261611\n",
       "14978  0.025412  0.190420  0.254659  0.215564  0.313946\n",
       "14979  0.025199  0.183372  0.253123  0.221028  0.317278\n",
       "14980  0.025306  0.188060  0.253307  0.213758  0.319569\n",
       "14981  0.025934  0.193458  0.263690  0.214846  0.302073\n",
       "14982  0.026858  0.214405  0.276653  0.225330  0.256754\n",
       "14983  0.025335  0.202456  0.280881  0.233795  0.257534\n",
       "14984  0.024943  0.184427  0.245118  0.205395  0.340117\n",
       "14985  0.042737  0.199578  0.242201  0.215136  0.300348\n",
       "14986  0.028683  0.216753  0.278062  0.212737  0.263765\n",
       "14987  0.040806  0.217111  0.261995  0.216230  0.263859\n",
       "14988  0.027286  0.212716  0.277065  0.209771  0.273162\n",
       "14989  0.028550  0.198676  0.261637  0.211501  0.299636\n",
       "14990  0.028752  0.211570  0.260959  0.210882  0.287838\n",
       "14991  0.027740  0.199995  0.260328  0.212557  0.299379\n",
       "14992  0.025210  0.207084  0.284887  0.211697  0.271122\n",
       "\n",
       "[14993 rows x 5 columns]"
      ]
     },
     "execution_count": 263,
     "metadata": {},
     "output_type": "execute_result"
    }
   ],
   "source": [
    "pd.DataFrame(preds)"
   ]
  },
  {
   "cell_type": "code",
   "execution_count": 210,
   "metadata": {},
   "outputs": [
    {
     "data": {
      "text/html": [
       "<div>\n",
       "<style scoped>\n",
       "    .dataframe tbody tr th:only-of-type {\n",
       "        vertical-align: middle;\n",
       "    }\n",
       "\n",
       "    .dataframe tbody tr th {\n",
       "        vertical-align: top;\n",
       "    }\n",
       "\n",
       "    .dataframe thead th {\n",
       "        text-align: right;\n",
       "    }\n",
       "</style>\n",
       "<table border=\"1\" class=\"dataframe\">\n",
       "  <thead>\n",
       "    <tr style=\"text-align: right;\">\n",
       "      <th></th>\n",
       "      <th>0</th>\n",
       "    </tr>\n",
       "  </thead>\n",
       "  <tbody>\n",
       "    <tr>\n",
       "      <th>0</th>\n",
       "      <td>3.0</td>\n",
       "    </tr>\n",
       "    <tr>\n",
       "      <th>1</th>\n",
       "      <td>4.0</td>\n",
       "    </tr>\n",
       "    <tr>\n",
       "      <th>2</th>\n",
       "      <td>3.0</td>\n",
       "    </tr>\n",
       "    <tr>\n",
       "      <th>3</th>\n",
       "      <td>4.0</td>\n",
       "    </tr>\n",
       "    <tr>\n",
       "      <th>4</th>\n",
       "      <td>3.0</td>\n",
       "    </tr>\n",
       "  </tbody>\n",
       "</table>\n",
       "</div>"
      ],
      "text/plain": [
       "     0\n",
       "0  3.0\n",
       "1  4.0\n",
       "2  3.0\n",
       "3  4.0\n",
       "4  3.0"
      ]
     },
     "execution_count": 210,
     "metadata": {},
     "output_type": "execute_result"
    }
   ],
   "source": [
    "pd.DataFrame(preds_round).head()"
   ]
  },
  {
   "cell_type": "code",
   "execution_count": 192,
   "metadata": {},
   "outputs": [
    {
     "data": {
      "text/plain": [
       "(14993,)"
      ]
     },
     "execution_count": 192,
     "metadata": {},
     "output_type": "execute_result"
    }
   ],
   "source": [
    "target.values.shape"
   ]
  },
  {
   "cell_type": "code",
   "execution_count": 196,
   "metadata": {},
   "outputs": [
    {
     "data": {
      "text/plain": [
       "(14993,)"
      ]
     },
     "execution_count": 196,
     "metadata": {},
     "output_type": "execute_result"
    }
   ],
   "source": [
    "preds_round.shape"
   ]
  },
  {
   "cell_type": "code",
   "execution_count": 211,
   "metadata": {},
   "outputs": [
    {
     "data": {
      "text/plain": [
       "0.32335089708530645"
      ]
     },
     "execution_count": 211,
     "metadata": {},
     "output_type": "execute_result"
    }
   ],
   "source": [
    "accuracy_score(preds_round, target.values)"
   ]
  },
  {
   "cell_type": "code",
   "execution_count": 212,
   "metadata": {},
   "outputs": [
    {
     "data": {
      "text/plain": [
       "array([[<matplotlib.axes._subplots.AxesSubplot object at 0x00000227D6E9CE10>]],\n",
       "      dtype=object)"
      ]
     },
     "execution_count": 212,
     "metadata": {},
     "output_type": "execute_result"
    },
    {
     "data": {
      "image/png": "[encoded data removed]",
      "text/plain": [
       "<Figure size 432x288 with 1 Axes>"
      ]
     },
     "metadata": {
      "needs_background": "light"
     },
     "output_type": "display_data"
    }
   ],
   "source": [
    "pd.DataFrame(preds_round).hist()"
   ]
  },
  {
   "cell_type": "code",
   "execution_count": null,
   "metadata": {},
   "outputs": [],
   "source": []
  }
 ],
 "metadata": {
  "kernelspec": {
   "display_name": "Python 3",
   "language": "python",
   "name": "python3"
  }
 },
 "nbformat": 4,
 "nbformat_minor": 2
}
