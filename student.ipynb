{
 "cells": [
  {
   "cell_type": "markdown",
   "metadata": {},
   "source": [
    "## Final Project Submission\n",
    "\n",
    "Please fill out:\n",
    "* Student name: Matthew Sparr\n",
    "* Student pace: self paced \n",
    "* Scheduled project review date/time: \n",
    "* Instructor name: Eli \n",
    "* Blog post URL:"
   ]
  },
  {
   "cell_type": "markdown",
   "metadata": {},
   "source": [
    "## Import libraries"
   ]
  },
  {
   "cell_type": "code",
   "execution_count": 1,
   "metadata": {},
   "outputs": [],
   "source": [
    "import pandas as pd\n",
    "import numpy as np\n",
    "import matplotlib.pyplot as plt\n",
    "%matplotlib inline\n",
    "import seaborn as sns\n",
    "from sklearn.preprocessing import StandardScaler\n",
    "from sklearn.model_selection import train_test_split\n",
    "from sklearn.linear_model import LogisticRegression\n",
    "from sklearn.pipeline import Pipeline\n",
    "from sklearn.decomposition import PCA\n",
    "from sklearn.ensemble import RandomForestClassifier\n",
    "from imblearn.over_sampling import SMOTE, ADASYN\n",
    "from sklearn.model_selection import GridSearchCV\n",
    "import xgboost as xgb\n",
    "import os\n",
    "import json\n",
    "from sklearn.metrics import cohen_kappa_score"
   ]
  },
  {
   "cell_type": "markdown",
   "metadata": {},
   "source": [
    "## Prework"
   ]
  },
  {
   "cell_type": "markdown",
   "metadata": {},
   "source": [
    "Added 'Group', 'cat_cute', and 'cat_hypo'"
   ]
  },
  {
   "cell_type": "markdown",
   "metadata": {},
   "source": [
    "## Grab train and test set"
   ]
  },
  {
   "cell_type": "code",
   "execution_count": 2,
   "metadata": {},
   "outputs": [],
   "source": [
    "train = pd.read_csv('pets_train.csv')\n",
    "test = pd.read_csv('pets_test.csv')"
   ]
  },
  {
   "cell_type": "markdown",
   "metadata": {},
   "source": [
    "## Fill missing values"
   ]
  },
  {
   "cell_type": "code",
   "execution_count": 3,
   "metadata": {},
   "outputs": [
    {
     "data": {
      "text/plain": [
       "AdoptionSpeed       0\n",
       "Age                 0\n",
       "Breed1              0\n",
       "Breed2              0\n",
       "Color1              0\n",
       "Color2              0\n",
       "Color3              0\n",
       "Description        12\n",
       "Dewormed            0\n",
       "Fee                 0\n",
       "FurLength           0\n",
       "Gender              0\n",
       "Group               0\n",
       "Health              0\n",
       "MaturitySize        0\n",
       "Name             1257\n",
       "PetID               0\n",
       "PhotoAmt            0\n",
       "Quantity            0\n",
       "RescuerID           0\n",
       "State               0\n",
       "Sterilized          0\n",
       "Type                0\n",
       "Vaccinated          0\n",
       "VideoAmt            0\n",
       "Population          0\n",
       "UrbanPercent        0\n",
       "PopDensity          0\n",
       "cat_Cute            0\n",
       "cat_Hypo            0\n",
       "dtype: int64"
      ]
     },
     "execution_count": 3,
     "metadata": {},
     "output_type": "execute_result"
    }
   ],
   "source": [
    "train.isna().sum()"
   ]
  },
  {
   "cell_type": "code",
   "execution_count": 4,
   "metadata": {},
   "outputs": [
    {
     "data": {
      "text/plain": [
       "Age               0\n",
       "Breed1            0\n",
       "Breed2            0\n",
       "Color1            0\n",
       "Color2            0\n",
       "Color3            0\n",
       "Description       2\n",
       "Dewormed          0\n",
       "Fee               0\n",
       "FurLength         0\n",
       "Gender            0\n",
       "Group             0\n",
       "Health            0\n",
       "MaturitySize      0\n",
       "Name            303\n",
       "PetID             0\n",
       "PhotoAmt          0\n",
       "Quantity          0\n",
       "RescuerID         0\n",
       "State             0\n",
       "Sterilized        0\n",
       "Type              0\n",
       "Vaccinated        0\n",
       "VideoAmt          0\n",
       "Population        0\n",
       "UrbanPercent      0\n",
       "PopDensity        0\n",
       "cat_Cute          0\n",
       "cat_Hypo          0\n",
       "dtype: int64"
      ]
     },
     "execution_count": 4,
     "metadata": {},
     "output_type": "execute_result"
    }
   ],
   "source": [
    "test.isna().sum()"
   ]
  },
  {
   "cell_type": "code",
   "execution_count": 5,
   "metadata": {},
   "outputs": [],
   "source": [
    "train.Name.fillna(' ', inplace=True)\n",
    "train.Description.fillna(' ', inplace=True)\n",
    "\n",
    "test.Name.fillna(' ', inplace=True)\n",
    "test.Description.fillna(' ', inplace=True)"
   ]
  },
  {
   "cell_type": "code",
   "execution_count": 6,
   "metadata": {},
   "outputs": [
    {
     "name": "stdout",
     "output_type": "stream",
     "text": [
      "<class 'pandas.core.frame.DataFrame'>\n",
      "RangeIndex: 14993 entries, 0 to 14992\n",
      "Data columns (total 30 columns):\n",
      "AdoptionSpeed    14993 non-null int64\n",
      "Age              14993 non-null int64\n",
      "Breed1           14993 non-null int64\n",
      "Breed2           14993 non-null int64\n",
      "Color1           14993 non-null int64\n",
      "Color2           14993 non-null int64\n",
      "Color3           14993 non-null int64\n",
      "Description      14993 non-null object\n",
      "Dewormed         14993 non-null int64\n",
      "Fee              14993 non-null int64\n",
      "FurLength        14993 non-null int64\n",
      "Gender           14993 non-null int64\n",
      "Group            14993 non-null object\n",
      "Health           14993 non-null int64\n",
      "MaturitySize     14993 non-null int64\n",
      "Name             14993 non-null object\n",
      "PetID            14993 non-null object\n",
      "PhotoAmt         14993 non-null int64\n",
      "Quantity         14993 non-null int64\n",
      "RescuerID        14993 non-null object\n",
      "State            14993 non-null int64\n",
      "Sterilized       14993 non-null int64\n",
      "Type             14993 non-null int64\n",
      "Vaccinated       14993 non-null int64\n",
      "VideoAmt         14993 non-null int64\n",
      "Population       14993 non-null int64\n",
      "UrbanPercent     14993 non-null float64\n",
      "PopDensity       14993 non-null int64\n",
      "cat_Cute         14993 non-null int64\n",
      "cat_Hypo         14993 non-null int64\n",
      "dtypes: float64(1), int64(24), object(5)\n",
      "memory usage: 3.4+ MB\n"
     ]
    }
   ],
   "source": [
    "train.info()"
   ]
  },
  {
   "cell_type": "markdown",
   "metadata": {},
   "source": [
    "## Add image metadata"
   ]
  },
  {
   "cell_type": "code",
   "execution_count": 7,
   "metadata": {},
   "outputs": [
    {
     "name": "stderr",
     "output_type": "stream",
     "text": [
      "C:\\Users\\sparr\\Anaconda3\\lib\\site-packages\\ipykernel_launcher.py:14: FutureWarning: set_value is deprecated and will be removed in a future release. Please use .at[] or .iat[] accessors instead\n",
      "  \n",
      "C:\\Users\\sparr\\Anaconda3\\lib\\site-packages\\ipykernel_launcher.py:15: FutureWarning: set_value is deprecated and will be removed in a future release. Please use .at[] or .iat[] accessors instead\n",
      "  from ipykernel import kernelapp as app\n",
      "C:\\Users\\sparr\\Anaconda3\\lib\\site-packages\\ipykernel_launcher.py:16: FutureWarning: set_value is deprecated and will be removed in a future release. Please use .at[] or .iat[] accessors instead\n",
      "  app.launch_new_instance()\n",
      "C:\\Users\\sparr\\Anaconda3\\lib\\site-packages\\ipykernel_launcher.py:17: FutureWarning: set_value is deprecated and will be removed in a future release. Please use .at[] or .iat[] accessors instead\n",
      "C:\\Users\\sparr\\Anaconda3\\lib\\site-packages\\ipykernel_launcher.py:18: FutureWarning: set_value is deprecated and will be removed in a future release. Please use .at[] or .iat[] accessors instead\n",
      "C:\\Users\\sparr\\Anaconda3\\lib\\site-packages\\ipykernel_launcher.py:19: FutureWarning: set_value is deprecated and will be removed in a future release. Please use .at[] or .iat[] accessors instead\n",
      "C:\\Users\\sparr\\Anaconda3\\lib\\site-packages\\ipykernel_launcher.py:20: FutureWarning: set_value is deprecated and will be removed in a future release. Please use .at[] or .iat[] accessors instead\n",
      "C:\\Users\\sparr\\Anaconda3\\lib\\site-packages\\ipykernel_launcher.py:21: FutureWarning: set_value is deprecated and will be removed in a future release. Please use .at[] or .iat[] accessors instead\n",
      "C:\\Users\\sparr\\Anaconda3\\lib\\site-packages\\ipykernel_launcher.py:22: FutureWarning: set_value is deprecated and will be removed in a future release. Please use .at[] or .iat[] accessors instead\n",
      "C:\\Users\\sparr\\Anaconda3\\lib\\site-packages\\ipykernel_launcher.py:24: FutureWarning: set_value is deprecated and will be removed in a future release. Please use .at[] or .iat[] accessors instead\n",
      "C:\\Users\\sparr\\Anaconda3\\lib\\site-packages\\ipykernel_launcher.py:25: FutureWarning: set_value is deprecated and will be removed in a future release. Please use .at[] or .iat[] accessors instead\n",
      "C:\\Users\\sparr\\Anaconda3\\lib\\site-packages\\ipykernel_launcher.py:26: FutureWarning: set_value is deprecated and will be removed in a future release. Please use .at[] or .iat[] accessors instead\n",
      "C:\\Users\\sparr\\Anaconda3\\lib\\site-packages\\ipykernel_launcher.py:27: FutureWarning: set_value is deprecated and will be removed in a future release. Please use .at[] or .iat[] accessors instead\n",
      "C:\\Users\\sparr\\Anaconda3\\lib\\site-packages\\ipykernel_launcher.py:28: FutureWarning: set_value is deprecated and will be removed in a future release. Please use .at[] or .iat[] accessors instead\n",
      "C:\\Users\\sparr\\Anaconda3\\lib\\site-packages\\ipykernel_launcher.py:29: FutureWarning: set_value is deprecated and will be removed in a future release. Please use .at[] or .iat[] accessors instead\n",
      "C:\\Users\\sparr\\Anaconda3\\lib\\site-packages\\ipykernel_launcher.py:30: FutureWarning: set_value is deprecated and will be removed in a future release. Please use .at[] or .iat[] accessors instead\n",
      "C:\\Users\\sparr\\Anaconda3\\lib\\site-packages\\ipykernel_launcher.py:31: FutureWarning: set_value is deprecated and will be removed in a future release. Please use .at[] or .iat[] accessors instead\n",
      "C:\\Users\\sparr\\Anaconda3\\lib\\site-packages\\ipykernel_launcher.py:32: FutureWarning: set_value is deprecated and will be removed in a future release. Please use .at[] or .iat[] accessors instead\n"
     ]
    }
   ],
   "source": [
    "for index, row in train.iterrows():\n",
    "    file = 'train_metadata/' + row['PetID'] + '-1.json'\n",
    "    if os.path.exists(file):\n",
    "        data = json.load(open(file, encoding=\"utf8\"))\n",
    "        vertex_x = data['cropHintsAnnotation']['cropHints'][0]['boundingPoly']['vertices'][2]['x']\n",
    "        vertex_y = data['cropHintsAnnotation']['cropHints'][0]['boundingPoly']['vertices'][2]['y']\n",
    "        bounding_confidence = data['cropHintsAnnotation']['cropHints'][0]['confidence']\n",
    "        bounding_importance_frac = data['cropHintsAnnotation']['cropHints'][0].get('importanceFraction', -1)\n",
    "        dominant_blue = data['imagePropertiesAnnotation']['dominantColors']['colors'][0]['color']['blue']\n",
    "        dominant_green = data['imagePropertiesAnnotation']['dominantColors']['colors'][0]['color']['green']\n",
    "        dominant_red = data['imagePropertiesAnnotation']['dominantColors']['colors'][0]['color']['red']\n",
    "        dominant_pixel_frac = data['imagePropertiesAnnotation']['dominantColors']['colors'][0]['pixelFraction']\n",
    "        dominant_score = data['imagePropertiesAnnotation']['dominantColors']['colors'][0]['score']\n",
    "        train.set_value(index, 'vertex_x', vertex_x)\n",
    "        train.set_value(index, 'vertex_y', vertex_y)\n",
    "        train.set_value(index, 'bounding_conf', bounding_confidence)                \n",
    "        train.set_value(index, 'bounding_imp', bounding_importance_frac)                \n",
    "        train.set_value(index, 'dom_blue', dominant_blue)                \n",
    "        train.set_value(index, 'dom_green', dominant_green)                \n",
    "        train.set_value(index, 'dom_red', dominant_red)   \n",
    "        train.set_value(index, 'pixel_frac', dominant_pixel_frac)                \n",
    "        train.set_value(index, 'score', dominant_score)\n",
    "    else:\n",
    "        train.set_value(index, 'vertex_x', -1)\n",
    "        train.set_value(index, 'vertex_y', -1)\n",
    "        train.set_value(index, 'bounding_conf', -1)                \n",
    "        train.set_value(index, 'bounding_imp', -1)                \n",
    "        train.set_value(index, 'dom_blue', -1)                \n",
    "        train.set_value(index, 'dom_green', -1)                \n",
    "        train.set_value(index, 'dom_red', -1)   \n",
    "        train.set_value(index, 'pixel_frac', -1)                \n",
    "        train.set_value(index, 'score', -1)"
   ]
  },
  {
   "cell_type": "code",
   "execution_count": 13,
   "metadata": {
    "scrolled": true
   },
   "outputs": [
    {
     "name": "stderr",
     "output_type": "stream",
     "text": [
      "C:\\Users\\sparr\\Anaconda3\\lib\\site-packages\\ipykernel_launcher.py:14: FutureWarning: set_value is deprecated and will be removed in a future release. Please use .at[] or .iat[] accessors instead\n",
      "  \n",
      "C:\\Users\\sparr\\Anaconda3\\lib\\site-packages\\ipykernel_launcher.py:15: FutureWarning: set_value is deprecated and will be removed in a future release. Please use .at[] or .iat[] accessors instead\n",
      "  from ipykernel import kernelapp as app\n",
      "C:\\Users\\sparr\\Anaconda3\\lib\\site-packages\\ipykernel_launcher.py:16: FutureWarning: set_value is deprecated and will be removed in a future release. Please use .at[] or .iat[] accessors instead\n",
      "  app.launch_new_instance()\n",
      "C:\\Users\\sparr\\Anaconda3\\lib\\site-packages\\ipykernel_launcher.py:17: FutureWarning: set_value is deprecated and will be removed in a future release. Please use .at[] or .iat[] accessors instead\n",
      "C:\\Users\\sparr\\Anaconda3\\lib\\site-packages\\ipykernel_launcher.py:18: FutureWarning: set_value is deprecated and will be removed in a future release. Please use .at[] or .iat[] accessors instead\n",
      "C:\\Users\\sparr\\Anaconda3\\lib\\site-packages\\ipykernel_launcher.py:19: FutureWarning: set_value is deprecated and will be removed in a future release. Please use .at[] or .iat[] accessors instead\n",
      "C:\\Users\\sparr\\Anaconda3\\lib\\site-packages\\ipykernel_launcher.py:20: FutureWarning: set_value is deprecated and will be removed in a future release. Please use .at[] or .iat[] accessors instead\n",
      "C:\\Users\\sparr\\Anaconda3\\lib\\site-packages\\ipykernel_launcher.py:21: FutureWarning: set_value is deprecated and will be removed in a future release. Please use .at[] or .iat[] accessors instead\n",
      "C:\\Users\\sparr\\Anaconda3\\lib\\site-packages\\ipykernel_launcher.py:22: FutureWarning: set_value is deprecated and will be removed in a future release. Please use .at[] or .iat[] accessors instead\n",
      "C:\\Users\\sparr\\Anaconda3\\lib\\site-packages\\ipykernel_launcher.py:24: FutureWarning: set_value is deprecated and will be removed in a future release. Please use .at[] or .iat[] accessors instead\n",
      "C:\\Users\\sparr\\Anaconda3\\lib\\site-packages\\ipykernel_launcher.py:25: FutureWarning: set_value is deprecated and will be removed in a future release. Please use .at[] or .iat[] accessors instead\n",
      "C:\\Users\\sparr\\Anaconda3\\lib\\site-packages\\ipykernel_launcher.py:26: FutureWarning: set_value is deprecated and will be removed in a future release. Please use .at[] or .iat[] accessors instead\n",
      "C:\\Users\\sparr\\Anaconda3\\lib\\site-packages\\ipykernel_launcher.py:27: FutureWarning: set_value is deprecated and will be removed in a future release. Please use .at[] or .iat[] accessors instead\n",
      "C:\\Users\\sparr\\Anaconda3\\lib\\site-packages\\ipykernel_launcher.py:28: FutureWarning: set_value is deprecated and will be removed in a future release. Please use .at[] or .iat[] accessors instead\n",
      "C:\\Users\\sparr\\Anaconda3\\lib\\site-packages\\ipykernel_launcher.py:29: FutureWarning: set_value is deprecated and will be removed in a future release. Please use .at[] or .iat[] accessors instead\n",
      "C:\\Users\\sparr\\Anaconda3\\lib\\site-packages\\ipykernel_launcher.py:30: FutureWarning: set_value is deprecated and will be removed in a future release. Please use .at[] or .iat[] accessors instead\n",
      "C:\\Users\\sparr\\Anaconda3\\lib\\site-packages\\ipykernel_launcher.py:31: FutureWarning: set_value is deprecated and will be removed in a future release. Please use .at[] or .iat[] accessors instead\n",
      "C:\\Users\\sparr\\Anaconda3\\lib\\site-packages\\ipykernel_launcher.py:32: FutureWarning: set_value is deprecated and will be removed in a future release. Please use .at[] or .iat[] accessors instead\n"
     ]
    }
   ],
   "source": [
    "for index, row in test.iterrows():\n",
    "    file = 'test_metadata/' + row['PetID'] + '-1.json'\n",
    "    if os.path.exists(file):\n",
    "        data = json.load(open(file, encoding=\"utf8\"))\n",
    "        vertex_x = data['cropHintsAnnotation']['cropHints'][0]['boundingPoly']['vertices'][2]['x']\n",
    "        vertex_y = data['cropHintsAnnotation']['cropHints'][0]['boundingPoly']['vertices'][2]['y']\n",
    "        bounding_confidence = data['cropHintsAnnotation']['cropHints'][0]['confidence']\n",
    "        bounding_importance_frac = data['cropHintsAnnotation']['cropHints'][0].get('importanceFraction', -1)\n",
    "        dominant_blue = data['imagePropertiesAnnotation']['dominantColors']['colors'][0]['color']['blue']\n",
    "        dominant_green = data['imagePropertiesAnnotation']['dominantColors']['colors'][0]['color']['green']\n",
    "        dominant_red = data['imagePropertiesAnnotation']['dominantColors']['colors'][0]['color']['red']\n",
    "        dominant_pixel_frac = data['imagePropertiesAnnotation']['dominantColors']['colors'][0]['pixelFraction']\n",
    "        dominant_score = data['imagePropertiesAnnotation']['dominantColors']['colors'][0]['score']\n",
    "        test.set_value(index, 'vertex_x', vertex_x)\n",
    "        test.set_value(index, 'vertex_y', vertex_y)\n",
    "        test.set_value(index, 'bounding_conf', bounding_confidence)                \n",
    "        test.set_value(index, 'bounding_imp', bounding_importance_frac)                \n",
    "        test.set_value(index, 'dom_blue', dominant_blue)                \n",
    "        test.set_value(index, 'dom_green', dominant_green)                \n",
    "        test.set_value(index, 'dom_red', dominant_red)   \n",
    "        test.set_value(index, 'pixel_frac', dominant_pixel_frac)                \n",
    "        test.set_value(index, 'score', dominant_score)\n",
    "    else:\n",
    "        test.set_value(index, 'vertex_x', -1)\n",
    "        test.set_value(index, 'vertex_y', -1)\n",
    "        test.set_value(index, 'bounding_conf', -1)                \n",
    "        test.set_value(index, 'bounding_imp', -1)                \n",
    "        test.set_value(index, 'dom_blue', -1)                \n",
    "        test.set_value(index, 'dom_green', -1)                \n",
    "        test.set_value(index, 'dom_red', -1)   \n",
    "        test.set_value(index, 'pixel_frac', -1)                \n",
    "        test.set_value(index, 'score', -1)"
   ]
  },
  {
   "cell_type": "markdown",
   "metadata": {},
   "source": [
    "## Add name and description length"
   ]
  },
  {
   "cell_type": "code",
   "execution_count": 14,
   "metadata": {},
   "outputs": [],
   "source": [
    "train['NameLength'] = train['Name'].map(lambda x: 0 if x == 'None' else len(x)).astype('int')\n",
    "train['DescLength'] = train['Description'].map(lambda x: len(x)).astype('int')\n",
    "test['NameLength'] = test['Name'].map(lambda x: 0 if x == 'None' else len(x)).astype('int')\n",
    "test['DescLength'] = test['Description'].map(lambda x: len(x)).astype('int')"
   ]
  },
  {
   "cell_type": "markdown",
   "metadata": {},
   "source": [
    "## Encode categorical variables"
   ]
  },
  {
   "cell_type": "code",
   "execution_count": 15,
   "metadata": {},
   "outputs": [],
   "source": [
    "labels = pd.get_dummies(train, columns = ['Breed1', 'Breed2', 'Gender', 'Color1', 'Color2', 'Color3',\n",
    "                                 'MaturitySize', 'FurLength', 'Vaccinated', 'Dewormed', 'Sterilized', 'Health',\n",
    "                                 'State', 'Type', 'Group'\n",
    "                                ])\n",
    "test_labels = pd.get_dummies(test, columns = ['Breed1', 'Breed2', 'Gender', 'Color1', 'Color2', 'Color3',\n",
    "                                 'MaturitySize', 'FurLength', 'Vaccinated', 'Dewormed', 'Sterilized', 'Health',\n",
    "                                 'State', 'Type', 'Group'\n",
    "                                ])"
   ]
  },
  {
   "cell_type": "markdown",
   "metadata": {},
   "source": [
    "## Drop irrelevent columns"
   ]
  },
  {
   "cell_type": "code",
   "execution_count": 16,
   "metadata": {},
   "outputs": [],
   "source": [
    "labels = labels.drop(['Name', 'RescuerID', 'Description', 'PetID', 'AdoptionSpeed'], axis=1)\n",
    "test_labels = test_labels.drop(['Name', 'RescuerID', 'Description', 'PetID'], axis=1)"
   ]
  },
  {
   "cell_type": "markdown",
   "metadata": {},
   "source": [
    "## Make sure train and test have same columns"
   ]
  },
  {
   "cell_type": "code",
   "execution_count": 23,
   "metadata": {},
   "outputs": [
    {
     "ename": "AttributeError",
     "evalue": "'numpy.ndarray' object has no attribute 'columns'",
     "output_type": "error",
     "traceback": [
      "\u001b[1;31m---------------------------------------------------------------------------\u001b[0m",
      "\u001b[1;31mAttributeError\u001b[0m                            Traceback (most recent call last)",
      "\u001b[1;32m<ipython-input-23-f04bd3b0feca>\u001b[0m in \u001b[0;36m<module>\u001b[1;34m\u001b[0m\n\u001b[1;32m----> 1\u001b[1;33m \u001b[0mdiff_columns\u001b[0m \u001b[1;33m=\u001b[0m \u001b[0mset\u001b[0m\u001b[1;33m(\u001b[0m\u001b[0mlabels\u001b[0m\u001b[1;33m.\u001b[0m\u001b[0mcolumns\u001b[0m\u001b[1;33m)\u001b[0m\u001b[1;33m.\u001b[0m\u001b[0mdifference\u001b[0m\u001b[1;33m(\u001b[0m\u001b[0mset\u001b[0m\u001b[1;33m(\u001b[0m\u001b[0mtest_labels\u001b[0m\u001b[1;33m.\u001b[0m\u001b[0mcolumns\u001b[0m\u001b[1;33m)\u001b[0m\u001b[1;33m)\u001b[0m\u001b[1;33m\u001b[0m\u001b[1;33m\u001b[0m\u001b[0m\n\u001b[0m\u001b[0;32m      2\u001b[0m \u001b[1;32mfor\u001b[0m \u001b[0mi\u001b[0m \u001b[1;32min\u001b[0m \u001b[0mdiff_columns\u001b[0m\u001b[1;33m:\u001b[0m\u001b[1;33m\u001b[0m\u001b[1;33m\u001b[0m\u001b[0m\n\u001b[0;32m      3\u001b[0m     \u001b[0mtest_labels\u001b[0m\u001b[1;33m[\u001b[0m\u001b[0mi\u001b[0m\u001b[1;33m]\u001b[0m \u001b[1;33m=\u001b[0m \u001b[0mtest_labels\u001b[0m\u001b[1;33m.\u001b[0m\u001b[0mapply\u001b[0m\u001b[1;33m(\u001b[0m\u001b[1;32mlambda\u001b[0m \u001b[0m_\u001b[0m\u001b[1;33m:\u001b[0m \u001b[1;36m0\u001b[0m\u001b[1;33m,\u001b[0m \u001b[0maxis\u001b[0m\u001b[1;33m=\u001b[0m\u001b[1;36m1\u001b[0m\u001b[1;33m)\u001b[0m\u001b[1;33m\u001b[0m\u001b[1;33m\u001b[0m\u001b[0m\n\u001b[0;32m      4\u001b[0m \u001b[0mdiff_columns2\u001b[0m \u001b[1;33m=\u001b[0m \u001b[0mset\u001b[0m\u001b[1;33m(\u001b[0m\u001b[0mtest_labels\u001b[0m\u001b[1;33m.\u001b[0m\u001b[0mcolumns\u001b[0m\u001b[1;33m)\u001b[0m\u001b[1;33m.\u001b[0m\u001b[0mdifference\u001b[0m\u001b[1;33m(\u001b[0m\u001b[0mset\u001b[0m\u001b[1;33m(\u001b[0m\u001b[0mlabels\u001b[0m\u001b[1;33m.\u001b[0m\u001b[0mcolumns\u001b[0m\u001b[1;33m)\u001b[0m\u001b[1;33m)\u001b[0m\u001b[1;33m\u001b[0m\u001b[1;33m\u001b[0m\u001b[0m\n\u001b[0;32m      5\u001b[0m \u001b[1;32mfor\u001b[0m \u001b[0mi\u001b[0m \u001b[1;32min\u001b[0m \u001b[0mdiff_columns2\u001b[0m\u001b[1;33m:\u001b[0m\u001b[1;33m\u001b[0m\u001b[1;33m\u001b[0m\u001b[0m\n",
      "\u001b[1;31mAttributeError\u001b[0m: 'numpy.ndarray' object has no attribute 'columns'"
     ]
    }
   ],
   "source": [
    "diff_columns = set(labels.columns).difference(set(test_labels.columns))\n",
    "for i in diff_columns:\n",
    "    test_labels[i] = test_labels.apply(lambda _: 0, axis=1)\n",
    "diff_columns2 = set(test_labels.columns).difference(set(labels.columns))\n",
    "for i in diff_columns2:\n",
    "    labels[i] = labels.apply(lambda _: 0, axis=1)"
   ]
  },
  {
   "cell_type": "markdown",
   "metadata": {},
   "source": [
    "## Set target variable"
   ]
  },
  {
   "cell_type": "code",
   "execution_count": 17,
   "metadata": {},
   "outputs": [],
   "source": [
    "target = train['AdoptionSpeed']\n",
    "target = target.astype('int')"
   ]
  },
  {
   "cell_type": "markdown",
   "metadata": {},
   "source": [
    "## Standardization"
   ]
  },
  {
   "cell_type": "code",
   "execution_count": 19,
   "metadata": {},
   "outputs": [],
   "source": [
    "X = labels.copy()\n",
    "y = target.copy()\n",
    "X_pred = test_labels.copy()"
   ]
  },
  {
   "cell_type": "code",
   "execution_count": 20,
   "metadata": {},
   "outputs": [
    {
     "name": "stderr",
     "output_type": "stream",
     "text": [
      "C:\\Users\\sparr\\Anaconda3\\lib\\site-packages\\sklearn\\preprocessing\\data.py:625: DataConversionWarning: Data with input dtype uint8, int32, int64, float64 were all converted to float64 by StandardScaler.\n",
      "  return self.partial_fit(X, y)\n",
      "C:\\Users\\sparr\\Anaconda3\\lib\\site-packages\\sklearn\\base.py:462: DataConversionWarning: Data with input dtype uint8, int32, int64, float64 were all converted to float64 by StandardScaler.\n",
      "  return self.fit(X, **fit_params).transform(X)\n",
      "C:\\Users\\sparr\\Anaconda3\\lib\\site-packages\\sklearn\\preprocessing\\data.py:625: DataConversionWarning: Data with input dtype uint8, int32, int64, float64 were all converted to float64 by StandardScaler.\n",
      "  return self.partial_fit(X, y)\n",
      "C:\\Users\\sparr\\Anaconda3\\lib\\site-packages\\sklearn\\base.py:462: DataConversionWarning: Data with input dtype uint8, int32, int64, float64 were all converted to float64 by StandardScaler.\n",
      "  return self.fit(X, **fit_params).transform(X)\n"
     ]
    }
   ],
   "source": [
    "labels = StandardScaler().fit_transform(labels)\n",
    "test_labels = StandardScaler().fit_transform(test_labels)"
   ]
  },
  {
   "cell_type": "markdown",
   "metadata": {},
   "source": [
    "## Dimensionality reduction"
   ]
  },
  {
   "cell_type": "code",
   "execution_count": 46,
   "metadata": {},
   "outputs": [
    {
     "data": {
      "text/plain": [
       "427"
      ]
     },
     "execution_count": 46,
     "metadata": {},
     "output_type": "execute_result"
    }
   ],
   "source": [
    "labels.shape[1]"
   ]
  },
  {
   "cell_type": "code",
   "execution_count": 31,
   "metadata": {},
   "outputs": [],
   "source": [
    "pca = PCA(n_components = 0.95).fit(labels)"
   ]
  },
  {
   "cell_type": "code",
   "execution_count": 38,
   "metadata": {},
   "outputs": [
    {
     "data": {
      "text/plain": [
       "328"
      ]
     },
     "execution_count": 38,
     "metadata": {},
     "output_type": "execute_result"
    }
   ],
   "source": [
    "pca.n_components_"
   ]
  },
  {
   "cell_type": "markdown",
   "metadata": {},
   "source": [
    "## Class imbalance"
   ]
  },
  {
   "cell_type": "code",
   "execution_count": 49,
   "metadata": {},
   "outputs": [
    {
     "data": {
      "text/plain": [
       "<matplotlib.axes._subplots.AxesSubplot at 0x2834c4ad978>"
      ]
     },
     "execution_count": 49,
     "metadata": {},
     "output_type": "execute_result"
    },
    {
     "data": {
      "image/png": "[encoded data removed]",
      "text/plain": [
       "<Figure size 432x288 with 1 Axes>"
      ]
     },
     "metadata": {
      "needs_background": "light"
     },
     "output_type": "display_data"
    }
   ],
   "source": [
    "target.hist()"
   ]
  },
  {
   "cell_type": "code",
   "execution_count": 50,
   "metadata": {},
   "outputs": [],
   "source": [
    "sm = SMOTE(random_state=42)\n",
    "labels, target = sm.fit_resample(labels, target)"
   ]
  },
  {
   "cell_type": "code",
   "execution_count": 58,
   "metadata": {},
   "outputs": [
    {
     "ename": "AttributeError",
     "evalue": "'numpy.ndarray' object has no attribute 'hist'",
     "output_type": "error",
     "traceback": [
      "\u001b[1;31m---------------------------------------------------------------------------\u001b[0m",
      "\u001b[1;31mAttributeError\u001b[0m                            Traceback (most recent call last)",
      "\u001b[1;32m<ipython-input-58-724ed199a64e>\u001b[0m in \u001b[0;36m<module>\u001b[1;34m\u001b[0m\n\u001b[1;32m----> 1\u001b[1;33m \u001b[0mtarget\u001b[0m\u001b[1;33m.\u001b[0m\u001b[0mhist\u001b[0m\u001b[1;33m(\u001b[0m\u001b[1;33m)\u001b[0m\u001b[1;33m\u001b[0m\u001b[1;33m\u001b[0m\u001b[0m\n\u001b[0m",
      "\u001b[1;31mAttributeError\u001b[0m: 'numpy.ndarray' object has no attribute 'hist'"
     ]
    }
   ],
   "source": [
    "target.hist()"
   ]
  },
  {
   "cell_type": "code",
   "execution_count": 21,
   "metadata": {},
   "outputs": [
    {
     "data": {
      "text/plain": [
       "XGBClassifier(base_score=0.5, booster='gbtree', colsample_bylevel=1,\n",
       "       colsample_bytree=1, gamma=0, learning_rate=0.1, max_delta_step=0,\n",
       "       max_depth=3, min_child_weight=1, missing=None, n_estimators=100,\n",
       "       n_jobs=1, nthread=None, objective='multi:softprob', random_state=0,\n",
       "       reg_alpha=0, reg_lambda=1, scale_pos_weight=1, seed=None,\n",
       "       silent=True, subsample=1)"
      ]
     },
     "execution_count": 21,
     "metadata": {},
     "output_type": "execute_result"
    }
   ],
   "source": [
    "clf = xgb.XGBClassifier()\n",
    "clf.fit(X, y)"
   ]
  },
  {
   "cell_type": "code",
   "execution_count": 22,
   "metadata": {},
   "outputs": [
    {
     "ename": "ValueError",
     "evalue": "feature_names mismatch: ['Age', 'Fee', 'PhotoAmt', 'Quantity', 'VideoAmt', 'Population', 'UrbanPercent', 'PopDensity', 'cat_Cute', 'cat_Hypo', 'vertex_x', 'vertex_y', 'bounding_conf', 'bounding_imp', 'dom_blue', 'dom_green', 'dom_red', 'pixel_frac', 'score', 'NameLength', 'DescLength', 'Breed1_0', 'Breed1_1', 'Breed1_3', 'Breed1_5', 'Breed1_7', 'Breed1_10', 'Breed1_11', 'Breed1_15', 'Breed1_16', 'Breed1_17', 'Breed1_18', 'Breed1_19', 'Breed1_20', 'Breed1_21', 'Breed1_23', 'Breed1_24', 'Breed1_25', 'Breed1_26', 'Breed1_31', 'Breed1_32', 'Breed1_39', 'Breed1_42', 'Breed1_44', 'Breed1_49', 'Breed1_50', 'Breed1_56', 'Breed1_58', 'Breed1_60', 'Breed1_61', 'Breed1_64', 'Breed1_65', 'Breed1_69', 'Breed1_70', 'Breed1_71', 'Breed1_72', 'Breed1_75', 'Breed1_76', 'Breed1_78', 'Breed1_81', 'Breed1_82', 'Breed1_83', 'Breed1_85', 'Breed1_88', 'Breed1_93', 'Breed1_97', 'Breed1_98', 'Breed1_99', 'Breed1_100', 'Breed1_102', 'Breed1_103', 'Breed1_105', 'Breed1_108', 'Breed1_109', 'Breed1_111', 'Breed1_114', 'Breed1_117', 'Breed1_119', 'Breed1_122', 'Breed1_123', 'Breed1_125', 'Breed1_128', 'Breed1_129', 'Breed1_130', 'Breed1_132', 'Breed1_139', 'Breed1_141', 'Breed1_143', 'Breed1_145', 'Breed1_146', 'Breed1_147', 'Breed1_148', 'Breed1_150', 'Breed1_152', 'Breed1_154', 'Breed1_155', 'Breed1_165', 'Breed1_167', 'Breed1_169', 'Breed1_173', 'Breed1_176', 'Breed1_178', 'Breed1_179', 'Breed1_182', 'Breed1_185', 'Breed1_187', 'Breed1_188', 'Breed1_189', 'Breed1_190', 'Breed1_192', 'Breed1_195', 'Breed1_197', 'Breed1_199', 'Breed1_200', 'Breed1_201', 'Breed1_202', 'Breed1_203', 'Breed1_204', 'Breed1_205', 'Breed1_206', 'Breed1_207', 'Breed1_212', 'Breed1_213', 'Breed1_214', 'Breed1_215', 'Breed1_217', 'Breed1_218', 'Breed1_224', 'Breed1_227', 'Breed1_228', 'Breed1_231', 'Breed1_232', 'Breed1_233', 'Breed1_234', 'Breed1_237', 'Breed1_239', 'Breed1_240', 'Breed1_241', 'Breed1_242', 'Breed1_243', 'Breed1_244', 'Breed1_245', 'Breed1_246', 'Breed1_247', 'Breed1_248', 'Breed1_249', 'Breed1_250', 'Breed1_251', 'Breed1_252', 'Breed1_253', 'Breed1_254', 'Breed1_256', 'Breed1_257', 'Breed1_260', 'Breed1_262', 'Breed1_263', 'Breed1_264', 'Breed1_265', 'Breed1_266', 'Breed1_267', 'Breed1_268', 'Breed1_269', 'Breed1_270', 'Breed1_271', 'Breed1_272', 'Breed1_273', 'Breed1_274', 'Breed1_276', 'Breed1_277', 'Breed1_279', 'Breed1_280', 'Breed1_281', 'Breed1_282', 'Breed1_283', 'Breed1_284', 'Breed1_285', 'Breed1_286', 'Breed1_287', 'Breed1_288', 'Breed1_289', 'Breed1_290', 'Breed1_292', 'Breed1_293', 'Breed1_294', 'Breed1_295', 'Breed1_296', 'Breed1_297', 'Breed1_298', 'Breed1_299', 'Breed1_300', 'Breed1_301', 'Breed1_302', 'Breed1_303', 'Breed1_304', 'Breed1_305', 'Breed1_306', 'Breed1_307', 'Breed2_0', 'Breed2_1', 'Breed2_2', 'Breed2_4', 'Breed2_5', 'Breed2_10', 'Breed2_14', 'Breed2_16', 'Breed2_17', 'Breed2_18', 'Breed2_19', 'Breed2_20', 'Breed2_21', 'Breed2_24', 'Breed2_25', 'Breed2_26', 'Breed2_36', 'Breed2_39', 'Breed2_40', 'Breed2_44', 'Breed2_49', 'Breed2_50', 'Breed2_58', 'Breed2_60', 'Breed2_65', 'Breed2_69', 'Breed2_70', 'Breed2_72', 'Breed2_75', 'Breed2_76', 'Breed2_78', 'Breed2_83', 'Breed2_96', 'Breed2_98', 'Breed2_102', 'Breed2_103', 'Breed2_104', 'Breed2_109', 'Breed2_111', 'Breed2_115', 'Breed2_117', 'Breed2_119', 'Breed2_122', 'Breed2_128', 'Breed2_129', 'Breed2_130', 'Breed2_141', 'Breed2_146', 'Breed2_147', 'Breed2_150', 'Breed2_152', 'Breed2_155', 'Breed2_159', 'Breed2_167', 'Breed2_169', 'Breed2_173', 'Breed2_176', 'Breed2_178', 'Breed2_179', 'Breed2_182', 'Breed2_187', 'Breed2_188', 'Breed2_189', 'Breed2_190', 'Breed2_192', 'Breed2_195', 'Breed2_200', 'Breed2_201', 'Breed2_202', 'Breed2_203', 'Breed2_204', 'Breed2_205', 'Breed2_206', 'Breed2_207', 'Breed2_210', 'Breed2_212', 'Breed2_213', 'Breed2_218', 'Breed2_227', 'Breed2_228', 'Breed2_237', 'Breed2_239', 'Breed2_240', 'Breed2_241', 'Breed2_242', 'Breed2_243', 'Breed2_245', 'Breed2_246', 'Breed2_247', 'Breed2_248', 'Breed2_249', 'Breed2_250', 'Breed2_251', 'Breed2_252', 'Breed2_254', 'Breed2_256', 'Breed2_257', 'Breed2_260', 'Breed2_262', 'Breed2_263', 'Breed2_264', 'Breed2_265', 'Breed2_266', 'Breed2_267', 'Breed2_268', 'Breed2_270', 'Breed2_271', 'Breed2_272', 'Breed2_274', 'Breed2_276', 'Breed2_277', 'Breed2_278', 'Breed2_279', 'Breed2_282', 'Breed2_283', 'Breed2_284', 'Breed2_285', 'Breed2_288', 'Breed2_289', 'Breed2_290', 'Breed2_291', 'Breed2_292', 'Breed2_293', 'Breed2_294', 'Breed2_295', 'Breed2_296', 'Breed2_299', 'Breed2_300', 'Breed2_301', 'Breed2_302', 'Breed2_303', 'Breed2_304', 'Breed2_305', 'Breed2_306', 'Breed2_307', 'Gender_1', 'Gender_2', 'Gender_3', 'Color1_1', 'Color1_2', 'Color1_3', 'Color1_4', 'Color1_5', 'Color1_6', 'Color1_7', 'Color2_0', 'Color2_2', 'Color2_3', 'Color2_4', 'Color2_5', 'Color2_6', 'Color2_7', 'Color3_0', 'Color3_3', 'Color3_4', 'Color3_5', 'Color3_6', 'Color3_7', 'MaturitySize_1', 'MaturitySize_2', 'MaturitySize_3', 'MaturitySize_4', 'FurLength_1', 'FurLength_2', 'FurLength_3', 'Vaccinated_1', 'Vaccinated_2', 'Vaccinated_3', 'Dewormed_1', 'Dewormed_2', 'Dewormed_3', 'Sterilized_1', 'Sterilized_2', 'Sterilized_3', 'Health_1', 'Health_2', 'Health_3', 'State_41324', 'State_41325', 'State_41326', 'State_41327', 'State_41330', 'State_41332', 'State_41335', 'State_41336', 'State_41342', 'State_41345', 'State_41361', 'State_41367', 'State_41401', 'State_41415', 'Type_1', 'Type_2', 'Group_Cat', 'Group_FSS', 'Group_Herding', 'Group_Hound', 'Group_Hunting', 'Group_Misc', 'Group_Non-Sporting', 'Group_Sporting', 'Group_Terrier', 'Group_Toy', 'Group_Working'] ['Age', 'Fee', 'PhotoAmt', 'Quantity', 'VideoAmt', 'Population', 'UrbanPercent', 'PopDensity', 'cat_Cute', 'cat_Hypo', 'vertex_x', 'vertex_y', 'bounding_conf', 'bounding_imp', 'dom_blue', 'dom_green', 'dom_red', 'pixel_frac', 'score', 'NameLength', 'DescLength', 'Breed1_2', 'Breed1_5', 'Breed1_6', 'Breed1_7', 'Breed1_10', 'Breed1_14', 'Breed1_17', 'Breed1_18', 'Breed1_19', 'Breed1_20', 'Breed1_24', 'Breed1_25', 'Breed1_26', 'Breed1_31', 'Breed1_39', 'Breed1_44', 'Breed1_49', 'Breed1_50', 'Breed1_51', 'Breed1_56', 'Breed1_58', 'Breed1_60', 'Breed1_65', 'Breed1_69', 'Breed1_70', 'Breed1_72', 'Breed1_75', 'Breed1_76', 'Breed1_78', 'Breed1_82', 'Breed1_83', 'Breed1_94', 'Breed1_102', 'Breed1_103', 'Breed1_104', 'Breed1_105', 'Breed1_109', 'Breed1_112', 'Breed1_116', 'Breed1_117', 'Breed1_119', 'Breed1_122', 'Breed1_126', 'Breed1_128', 'Breed1_141', 'Breed1_142', 'Breed1_147', 'Breed1_152', 'Breed1_154', 'Breed1_169', 'Breed1_173', 'Breed1_176', 'Breed1_178', 'Breed1_179', 'Breed1_182', 'Breed1_187', 'Breed1_188', 'Breed1_189', 'Breed1_190', 'Breed1_195', 'Breed1_200', 'Breed1_201', 'Breed1_203', 'Breed1_204', 'Breed1_205', 'Breed1_206', 'Breed1_207', 'Breed1_213', 'Breed1_214', 'Breed1_215', 'Breed1_218', 'Breed1_222', 'Breed1_231', 'Breed1_233', 'Breed1_241', 'Breed1_242', 'Breed1_243', 'Breed1_245', 'Breed1_246', 'Breed1_247', 'Breed1_248', 'Breed1_249', 'Breed1_250', 'Breed1_251', 'Breed1_252', 'Breed1_253', 'Breed1_254', 'Breed1_258', 'Breed1_260', 'Breed1_262', 'Breed1_263', 'Breed1_264', 'Breed1_265', 'Breed1_266', 'Breed1_267', 'Breed1_268', 'Breed1_271', 'Breed1_272', 'Breed1_276', 'Breed1_278', 'Breed1_280', 'Breed1_281', 'Breed1_282', 'Breed1_283', 'Breed1_284', 'Breed1_285', 'Breed1_286', 'Breed1_287', 'Breed1_288', 'Breed1_289', 'Breed1_292', 'Breed1_293', 'Breed1_295', 'Breed1_296', 'Breed1_297', 'Breed1_299', 'Breed1_300', 'Breed1_301', 'Breed1_303', 'Breed1_304', 'Breed1_306', 'Breed1_307', 'Breed2_0', 'Breed2_14', 'Breed2_17', 'Breed2_18', 'Breed2_20', 'Breed2_26', 'Breed2_39', 'Breed2_44', 'Breed2_49', 'Breed2_50', 'Breed2_51', 'Breed2_58', 'Breed2_62', 'Breed2_65', 'Breed2_69', 'Breed2_70', 'Breed2_75', 'Breed2_76', 'Breed2_78', 'Breed2_91', 'Breed2_100', 'Breed2_102', 'Breed2_103', 'Breed2_109', 'Breed2_111', 'Breed2_119', 'Breed2_128', 'Breed2_129', 'Breed2_141', 'Breed2_147', 'Breed2_152', 'Breed2_165', 'Breed2_168', 'Breed2_173', 'Breed2_178', 'Breed2_179', 'Breed2_182', 'Breed2_187', 'Breed2_189', 'Breed2_195', 'Breed2_200', 'Breed2_202', 'Breed2_205', 'Breed2_207', 'Breed2_212', 'Breed2_213', 'Breed2_218', 'Breed2_233', 'Breed2_241', 'Breed2_242', 'Breed2_243', 'Breed2_246', 'Breed2_247', 'Breed2_250', 'Breed2_251', 'Breed2_252', 'Breed2_253', 'Breed2_254', 'Breed2_257', 'Breed2_258', 'Breed2_261', 'Breed2_263', 'Breed2_264', 'Breed2_265', 'Breed2_266', 'Breed2_271', 'Breed2_276', 'Breed2_278', 'Breed2_280', 'Breed2_281', 'Breed2_283', 'Breed2_284', 'Breed2_285', 'Breed2_288', 'Breed2_292', 'Breed2_294', 'Breed2_295', 'Breed2_296', 'Breed2_297', 'Breed2_299', 'Breed2_300', 'Breed2_303', 'Breed2_304', 'Breed2_305', 'Breed2_306', 'Breed2_307', 'Gender_1', 'Gender_2', 'Gender_3', 'Color1_1', 'Color1_2', 'Color1_3', 'Color1_4', 'Color1_5', 'Color1_6', 'Color1_7', 'Color2_0', 'Color2_2', 'Color2_3', 'Color2_4', 'Color2_5', 'Color2_6', 'Color2_7', 'Color3_0', 'Color3_3', 'Color3_4', 'Color3_5', 'Color3_6', 'Color3_7', 'MaturitySize_1', 'MaturitySize_2', 'MaturitySize_3', 'MaturitySize_4', 'FurLength_1', 'FurLength_2', 'FurLength_3', 'Vaccinated_1', 'Vaccinated_2', 'Vaccinated_3', 'Dewormed_1', 'Dewormed_2', 'Dewormed_3', 'Sterilized_1', 'Sterilized_2', 'Sterilized_3', 'Health_1', 'Health_2', 'Health_3', 'State_41324', 'State_41325', 'State_41326', 'State_41327', 'State_41330', 'State_41332', 'State_41335', 'State_41336', 'State_41342', 'State_41345', 'State_41361', 'State_41367', 'State_41401', 'Type_1', 'Type_2', 'Group_Cat', 'Group_FSS', 'Group_Herding', 'Group_Hound', 'Group_Misc', 'Group_Non-Sporting', 'Group_Sporting', 'Group_Terrier', 'Group_Toy', 'Group_Working']\nexpected Breed1_88, Breed1_224, Breed2_146, Breed1_16, Breed2_237, Breed2_1, Breed1_108, Breed1_98, Breed1_256, Breed1_228, Breed1_100, Breed2_245, Breed2_60, Breed2_72, Breed1_11, Breed2_279, Breed1_232, Breed1_197, Breed1_21, Breed2_248, Breed2_240, Breed2_19, Breed2_272, Breed1_97, Breed2_40, State_41415, Breed1_273, Breed1_139, Breed1_237, Breed2_268, Breed2_122, Breed2_150, Breed2_16, Breed1_302, Breed1_150, Breed1_270, Breed1_199, Breed2_130, Breed2_239, Breed2_190, Breed2_256, Breed1_0, Breed1_212, Breed2_228, Breed1_3, Breed2_227, Breed1_114, Breed1_240, Breed2_282, Breed1_269, Breed2_249, Breed1_146, Breed2_4, Breed2_2, Breed2_290, Breed2_274, Breed2_5, Breed1_234, Breed2_169, Breed1_93, Breed1_125, Breed1_85, Breed2_270, Breed2_293, Breed2_104, Breed2_10, Breed2_98, Breed1_279, Breed1_64, Breed1_165, Breed2_262, Breed2_206, Breed1_148, Breed1_61, Breed1_1, Breed1_185, Breed1_132, Breed2_201, Breed2_302, Breed1_298, Breed1_257, Breed1_129, Breed1_239, Breed1_23, Breed1_167, Breed2_117, Breed1_71, Breed1_274, Breed1_290, Breed1_277, Breed2_188, Breed2_36, Breed2_260, Breed1_99, Breed2_115, Breed1_111, Breed1_42, Breed2_176, Breed2_301, Breed2_155, Breed2_204, Breed2_159, Breed1_15, Breed1_305, Breed1_145, Breed2_289, Breed2_291, Breed2_277, Breed1_81, Breed2_210, Breed1_32, Breed2_83, Breed2_167, Breed2_24, Group_Hunting, Breed2_203, Breed2_267, Breed1_143, Breed1_202, Breed2_25, Breed1_217, Breed1_192, Breed2_192, Breed1_244, Breed1_123, Breed1_155, Breed1_130, Breed1_227, Breed1_294, Breed2_21, Breed2_96 in input data\ntraining data did not have the following fields: Breed2_297, Breed1_14, Breed1_2, Breed1_51, Breed2_51, Breed1_222, Breed1_104, Breed2_91, Breed2_100, Breed2_280, Breed1_112, Breed2_261, Breed1_116, Breed1_258, Breed2_165, Breed1_142, Breed2_233, Breed2_253, Breed1_6, Breed2_258, Breed1_278, Breed2_62, Breed1_94, Breed2_168, Breed1_126, Breed2_281",
     "output_type": "error",
     "traceback": [
      "\u001b[1;31m---------------------------------------------------------------------------\u001b[0m",
      "\u001b[1;31mValueError\u001b[0m                                Traceback (most recent call last)",
      "\u001b[1;32m<ipython-input-22-692f60172c75>\u001b[0m in \u001b[0;36m<module>\u001b[1;34m\u001b[0m\n\u001b[1;32m----> 1\u001b[1;33m \u001b[0mclf\u001b[0m\u001b[1;33m.\u001b[0m\u001b[0mpredict\u001b[0m\u001b[1;33m(\u001b[0m\u001b[0mX_pred\u001b[0m\u001b[1;33m)\u001b[0m\u001b[1;33m\u001b[0m\u001b[1;33m\u001b[0m\u001b[0m\n\u001b[0m",
      "\u001b[1;32m~\\Anaconda3\\lib\\site-packages\\xgboost\\sklearn.py\u001b[0m in \u001b[0;36mpredict\u001b[1;34m(self, data, output_margin, ntree_limit)\u001b[0m\n\u001b[0;32m    644\u001b[0m         class_probs = self.get_booster().predict(test_dmatrix,\n\u001b[0;32m    645\u001b[0m                                                  \u001b[0moutput_margin\u001b[0m\u001b[1;33m=\u001b[0m\u001b[0moutput_margin\u001b[0m\u001b[1;33m,\u001b[0m\u001b[1;33m\u001b[0m\u001b[1;33m\u001b[0m\u001b[0m\n\u001b[1;32m--> 646\u001b[1;33m                                                  ntree_limit=ntree_limit)\n\u001b[0m\u001b[0;32m    647\u001b[0m         \u001b[1;32mif\u001b[0m \u001b[0mlen\u001b[0m\u001b[1;33m(\u001b[0m\u001b[0mclass_probs\u001b[0m\u001b[1;33m.\u001b[0m\u001b[0mshape\u001b[0m\u001b[1;33m)\u001b[0m \u001b[1;33m>\u001b[0m \u001b[1;36m1\u001b[0m\u001b[1;33m:\u001b[0m\u001b[1;33m\u001b[0m\u001b[1;33m\u001b[0m\u001b[0m\n\u001b[0;32m    648\u001b[0m             \u001b[0mcolumn_indexes\u001b[0m \u001b[1;33m=\u001b[0m \u001b[0mnp\u001b[0m\u001b[1;33m.\u001b[0m\u001b[0margmax\u001b[0m\u001b[1;33m(\u001b[0m\u001b[0mclass_probs\u001b[0m\u001b[1;33m,\u001b[0m \u001b[0maxis\u001b[0m\u001b[1;33m=\u001b[0m\u001b[1;36m1\u001b[0m\u001b[1;33m)\u001b[0m\u001b[1;33m\u001b[0m\u001b[1;33m\u001b[0m\u001b[0m\n",
      "\u001b[1;32m~\\Anaconda3\\lib\\site-packages\\xgboost\\core.py\u001b[0m in \u001b[0;36mpredict\u001b[1;34m(self, data, output_margin, ntree_limit, pred_leaf, pred_contribs, approx_contribs, pred_interactions, validate_features)\u001b[0m\n\u001b[0;32m   1192\u001b[0m \u001b[1;33m\u001b[0m\u001b[0m\n\u001b[0;32m   1193\u001b[0m         \u001b[1;32mif\u001b[0m \u001b[0mvalidate_features\u001b[0m\u001b[1;33m:\u001b[0m\u001b[1;33m\u001b[0m\u001b[1;33m\u001b[0m\u001b[0m\n\u001b[1;32m-> 1194\u001b[1;33m             \u001b[0mself\u001b[0m\u001b[1;33m.\u001b[0m\u001b[0m_validate_features\u001b[0m\u001b[1;33m(\u001b[0m\u001b[0mdata\u001b[0m\u001b[1;33m)\u001b[0m\u001b[1;33m\u001b[0m\u001b[1;33m\u001b[0m\u001b[0m\n\u001b[0m\u001b[0;32m   1195\u001b[0m \u001b[1;33m\u001b[0m\u001b[0m\n\u001b[0;32m   1196\u001b[0m         \u001b[0mlength\u001b[0m \u001b[1;33m=\u001b[0m \u001b[0mc_bst_ulong\u001b[0m\u001b[1;33m(\u001b[0m\u001b[1;33m)\u001b[0m\u001b[1;33m\u001b[0m\u001b[1;33m\u001b[0m\u001b[0m\n",
      "\u001b[1;32m~\\Anaconda3\\lib\\site-packages\\xgboost\\core.py\u001b[0m in \u001b[0;36m_validate_features\u001b[1;34m(self, data)\u001b[0m\n\u001b[0;32m   1476\u001b[0m \u001b[1;33m\u001b[0m\u001b[0m\n\u001b[0;32m   1477\u001b[0m                 raise ValueError(msg.format(self.feature_names,\n\u001b[1;32m-> 1478\u001b[1;33m                                             data.feature_names))\n\u001b[0m\u001b[0;32m   1479\u001b[0m \u001b[1;33m\u001b[0m\u001b[0m\n\u001b[0;32m   1480\u001b[0m     \u001b[1;32mdef\u001b[0m \u001b[0mget_split_value_histogram\u001b[0m\u001b[1;33m(\u001b[0m\u001b[0mself\u001b[0m\u001b[1;33m,\u001b[0m \u001b[0mfeature\u001b[0m\u001b[1;33m,\u001b[0m \u001b[0mfmap\u001b[0m\u001b[1;33m=\u001b[0m\u001b[1;34m''\u001b[0m\u001b[1;33m,\u001b[0m \u001b[0mbins\u001b[0m\u001b[1;33m=\u001b[0m\u001b[1;32mNone\u001b[0m\u001b[1;33m,\u001b[0m \u001b[0mas_pandas\u001b[0m\u001b[1;33m=\u001b[0m\u001b[1;32mTrue\u001b[0m\u001b[1;33m)\u001b[0m\u001b[1;33m:\u001b[0m\u001b[1;33m\u001b[0m\u001b[1;33m\u001b[0m\u001b[0m\n",
      "\u001b[1;31mValueError\u001b[0m: feature_names mismatch: ['Age', 'Fee', 'PhotoAmt', 'Quantity', 'VideoAmt', 'Population', 'UrbanPercent', 'PopDensity', 'cat_Cute', 'cat_Hypo', 'vertex_x', 'vertex_y', 'bounding_conf', 'bounding_imp', 'dom_blue', 'dom_green', 'dom_red', 'pixel_frac', 'score', 'NameLength', 'DescLength', 'Breed1_0', 'Breed1_1', 'Breed1_3', 'Breed1_5', 'Breed1_7', 'Breed1_10', 'Breed1_11', 'Breed1_15', 'Breed1_16', 'Breed1_17', 'Breed1_18', 'Breed1_19', 'Breed1_20', 'Breed1_21', 'Breed1_23', 'Breed1_24', 'Breed1_25', 'Breed1_26', 'Breed1_31', 'Breed1_32', 'Breed1_39', 'Breed1_42', 'Breed1_44', 'Breed1_49', 'Breed1_50', 'Breed1_56', 'Breed1_58', 'Breed1_60', 'Breed1_61', 'Breed1_64', 'Breed1_65', 'Breed1_69', 'Breed1_70', 'Breed1_71', 'Breed1_72', 'Breed1_75', 'Breed1_76', 'Breed1_78', 'Breed1_81', 'Breed1_82', 'Breed1_83', 'Breed1_85', 'Breed1_88', 'Breed1_93', 'Breed1_97', 'Breed1_98', 'Breed1_99', 'Breed1_100', 'Breed1_102', 'Breed1_103', 'Breed1_105', 'Breed1_108', 'Breed1_109', 'Breed1_111', 'Breed1_114', 'Breed1_117', 'Breed1_119', 'Breed1_122', 'Breed1_123', 'Breed1_125', 'Breed1_128', 'Breed1_129', 'Breed1_130', 'Breed1_132', 'Breed1_139', 'Breed1_141', 'Breed1_143', 'Breed1_145', 'Breed1_146', 'Breed1_147', 'Breed1_148', 'Breed1_150', 'Breed1_152', 'Breed1_154', 'Breed1_155', 'Breed1_165', 'Breed1_167', 'Breed1_169', 'Breed1_173', 'Breed1_176', 'Breed1_178', 'Breed1_179', 'Breed1_182', 'Breed1_185', 'Breed1_187', 'Breed1_188', 'Breed1_189', 'Breed1_190', 'Breed1_192', 'Breed1_195', 'Breed1_197', 'Breed1_199', 'Breed1_200', 'Breed1_201', 'Breed1_202', 'Breed1_203', 'Breed1_204', 'Breed1_205', 'Breed1_206', 'Breed1_207', 'Breed1_212', 'Breed1_213', 'Breed1_214', 'Breed1_215', 'Breed1_217', 'Breed1_218', 'Breed1_224', 'Breed1_227', 'Breed1_228', 'Breed1_231', 'Breed1_232', 'Breed1_233', 'Breed1_234', 'Breed1_237', 'Breed1_239', 'Breed1_240', 'Breed1_241', 'Breed1_242', 'Breed1_243', 'Breed1_244', 'Breed1_245', 'Breed1_246', 'Breed1_247', 'Breed1_248', 'Breed1_249', 'Breed1_250', 'Breed1_251', 'Breed1_252', 'Breed1_253', 'Breed1_254', 'Breed1_256', 'Breed1_257', 'Breed1_260', 'Breed1_262', 'Breed1_263', 'Breed1_264', 'Breed1_265', 'Breed1_266', 'Breed1_267', 'Breed1_268', 'Breed1_269', 'Breed1_270', 'Breed1_271', 'Breed1_272', 'Breed1_273', 'Breed1_274', 'Breed1_276', 'Breed1_277', 'Breed1_279', 'Breed1_280', 'Breed1_281', 'Breed1_282', 'Breed1_283', 'Breed1_284', 'Breed1_285', 'Breed1_286', 'Breed1_287', 'Breed1_288', 'Breed1_289', 'Breed1_290', 'Breed1_292', 'Breed1_293', 'Breed1_294', 'Breed1_295', 'Breed1_296', 'Breed1_297', 'Breed1_298', 'Breed1_299', 'Breed1_300', 'Breed1_301', 'Breed1_302', 'Breed1_303', 'Breed1_304', 'Breed1_305', 'Breed1_306', 'Breed1_307', 'Breed2_0', 'Breed2_1', 'Breed2_2', 'Breed2_4', 'Breed2_5', 'Breed2_10', 'Breed2_14', 'Breed2_16', 'Breed2_17', 'Breed2_18', 'Breed2_19', 'Breed2_20', 'Breed2_21', 'Breed2_24', 'Breed2_25', 'Breed2_26', 'Breed2_36', 'Breed2_39', 'Breed2_40', 'Breed2_44', 'Breed2_49', 'Breed2_50', 'Breed2_58', 'Breed2_60', 'Breed2_65', 'Breed2_69', 'Breed2_70', 'Breed2_72', 'Breed2_75', 'Breed2_76', 'Breed2_78', 'Breed2_83', 'Breed2_96', 'Breed2_98', 'Breed2_102', 'Breed2_103', 'Breed2_104', 'Breed2_109', 'Breed2_111', 'Breed2_115', 'Breed2_117', 'Breed2_119', 'Breed2_122', 'Breed2_128', 'Breed2_129', 'Breed2_130', 'Breed2_141', 'Breed2_146', 'Breed2_147', 'Breed2_150', 'Breed2_152', 'Breed2_155', 'Breed2_159', 'Breed2_167', 'Breed2_169', 'Breed2_173', 'Breed2_176', 'Breed2_178', 'Breed2_179', 'Breed2_182', 'Breed2_187', 'Breed2_188', 'Breed2_189', 'Breed2_190', 'Breed2_192', 'Breed2_195', 'Breed2_200', 'Breed2_201', 'Breed2_202', 'Breed2_203', 'Breed2_204', 'Breed2_205', 'Breed2_206', 'Breed2_207', 'Breed2_210', 'Breed2_212', 'Breed2_213', 'Breed2_218', 'Breed2_227', 'Breed2_228', 'Breed2_237', 'Breed2_239', 'Breed2_240', 'Breed2_241', 'Breed2_242', 'Breed2_243', 'Breed2_245', 'Breed2_246', 'Breed2_247', 'Breed2_248', 'Breed2_249', 'Breed2_250', 'Breed2_251', 'Breed2_252', 'Breed2_254', 'Breed2_256', 'Breed2_257', 'Breed2_260', 'Breed2_262', 'Breed2_263', 'Breed2_264', 'Breed2_265', 'Breed2_266', 'Breed2_267', 'Breed2_268', 'Breed2_270', 'Breed2_271', 'Breed2_272', 'Breed2_274', 'Breed2_276', 'Breed2_277', 'Breed2_278', 'Breed2_279', 'Breed2_282', 'Breed2_283', 'Breed2_284', 'Breed2_285', 'Breed2_288', 'Breed2_289', 'Breed2_290', 'Breed2_291', 'Breed2_292', 'Breed2_293', 'Breed2_294', 'Breed2_295', 'Breed2_296', 'Breed2_299', 'Breed2_300', 'Breed2_301', 'Breed2_302', 'Breed2_303', 'Breed2_304', 'Breed2_305', 'Breed2_306', 'Breed2_307', 'Gender_1', 'Gender_2', 'Gender_3', 'Color1_1', 'Color1_2', 'Color1_3', 'Color1_4', 'Color1_5', 'Color1_6', 'Color1_7', 'Color2_0', 'Color2_2', 'Color2_3', 'Color2_4', 'Color2_5', 'Color2_6', 'Color2_7', 'Color3_0', 'Color3_3', 'Color3_4', 'Color3_5', 'Color3_6', 'Color3_7', 'MaturitySize_1', 'MaturitySize_2', 'MaturitySize_3', 'MaturitySize_4', 'FurLength_1', 'FurLength_2', 'FurLength_3', 'Vaccinated_1', 'Vaccinated_2', 'Vaccinated_3', 'Dewormed_1', 'Dewormed_2', 'Dewormed_3', 'Sterilized_1', 'Sterilized_2', 'Sterilized_3', 'Health_1', 'Health_2', 'Health_3', 'State_41324', 'State_41325', 'State_41326', 'State_41327', 'State_41330', 'State_41332', 'State_41335', 'State_41336', 'State_41342', 'State_41345', 'State_41361', 'State_41367', 'State_41401', 'State_41415', 'Type_1', 'Type_2', 'Group_Cat', 'Group_FSS', 'Group_Herding', 'Group_Hound', 'Group_Hunting', 'Group_Misc', 'Group_Non-Sporting', 'Group_Sporting', 'Group_Terrier', 'Group_Toy', 'Group_Working'] ['Age', 'Fee', 'PhotoAmt', 'Quantity', 'VideoAmt', 'Population', 'UrbanPercent', 'PopDensity', 'cat_Cute', 'cat_Hypo', 'vertex_x', 'vertex_y', 'bounding_conf', 'bounding_imp', 'dom_blue', 'dom_green', 'dom_red', 'pixel_frac', 'score', 'NameLength', 'DescLength', 'Breed1_2', 'Breed1_5', 'Breed1_6', 'Breed1_7', 'Breed1_10', 'Breed1_14', 'Breed1_17', 'Breed1_18', 'Breed1_19', 'Breed1_20', 'Breed1_24', 'Breed1_25', 'Breed1_26', 'Breed1_31', 'Breed1_39', 'Breed1_44', 'Breed1_49', 'Breed1_50', 'Breed1_51', 'Breed1_56', 'Breed1_58', 'Breed1_60', 'Breed1_65', 'Breed1_69', 'Breed1_70', 'Breed1_72', 'Breed1_75', 'Breed1_76', 'Breed1_78', 'Breed1_82', 'Breed1_83', 'Breed1_94', 'Breed1_102', 'Breed1_103', 'Breed1_104', 'Breed1_105', 'Breed1_109', 'Breed1_112', 'Breed1_116', 'Breed1_117', 'Breed1_119', 'Breed1_122', 'Breed1_126', 'Breed1_128', 'Breed1_141', 'Breed1_142', 'Breed1_147', 'Breed1_152', 'Breed1_154', 'Breed1_169', 'Breed1_173', 'Breed1_176', 'Breed1_178', 'Breed1_179', 'Breed1_182', 'Breed1_187', 'Breed1_188', 'Breed1_189', 'Breed1_190', 'Breed1_195', 'Breed1_200', 'Breed1_201', 'Breed1_203', 'Breed1_204', 'Breed1_205', 'Breed1_206', 'Breed1_207', 'Breed1_213', 'Breed1_214', 'Breed1_215', 'Breed1_218', 'Breed1_222', 'Breed1_231', 'Breed1_233', 'Breed1_241', 'Breed1_242', 'Breed1_243', 'Breed1_245', 'Breed1_246', 'Breed1_247', 'Breed1_248', 'Breed1_249', 'Breed1_250', 'Breed1_251', 'Breed1_252', 'Breed1_253', 'Breed1_254', 'Breed1_258', 'Breed1_260', 'Breed1_262', 'Breed1_263', 'Breed1_264', 'Breed1_265', 'Breed1_266', 'Breed1_267', 'Breed1_268', 'Breed1_271', 'Breed1_272', 'Breed1_276', 'Breed1_278', 'Breed1_280', 'Breed1_281', 'Breed1_282', 'Breed1_283', 'Breed1_284', 'Breed1_285', 'Breed1_286', 'Breed1_287', 'Breed1_288', 'Breed1_289', 'Breed1_292', 'Breed1_293', 'Breed1_295', 'Breed1_296', 'Breed1_297', 'Breed1_299', 'Breed1_300', 'Breed1_301', 'Breed1_303', 'Breed1_304', 'Breed1_306', 'Breed1_307', 'Breed2_0', 'Breed2_14', 'Breed2_17', 'Breed2_18', 'Breed2_20', 'Breed2_26', 'Breed2_39', 'Breed2_44', 'Breed2_49', 'Breed2_50', 'Breed2_51', 'Breed2_58', 'Breed2_62', 'Breed2_65', 'Breed2_69', 'Breed2_70', 'Breed2_75', 'Breed2_76', 'Breed2_78', 'Breed2_91', 'Breed2_100', 'Breed2_102', 'Breed2_103', 'Breed2_109', 'Breed2_111', 'Breed2_119', 'Breed2_128', 'Breed2_129', 'Breed2_141', 'Breed2_147', 'Breed2_152', 'Breed2_165', 'Breed2_168', 'Breed2_173', 'Breed2_178', 'Breed2_179', 'Breed2_182', 'Breed2_187', 'Breed2_189', 'Breed2_195', 'Breed2_200', 'Breed2_202', 'Breed2_205', 'Breed2_207', 'Breed2_212', 'Breed2_213', 'Breed2_218', 'Breed2_233', 'Breed2_241', 'Breed2_242', 'Breed2_243', 'Breed2_246', 'Breed2_247', 'Breed2_250', 'Breed2_251', 'Breed2_252', 'Breed2_253', 'Breed2_254', 'Breed2_257', 'Breed2_258', 'Breed2_261', 'Breed2_263', 'Breed2_264', 'Breed2_265', 'Breed2_266', 'Breed2_271', 'Breed2_276', 'Breed2_278', 'Breed2_280', 'Breed2_281', 'Breed2_283', 'Breed2_284', 'Breed2_285', 'Breed2_288', 'Breed2_292', 'Breed2_294', 'Breed2_295', 'Breed2_296', 'Breed2_297', 'Breed2_299', 'Breed2_300', 'Breed2_303', 'Breed2_304', 'Breed2_305', 'Breed2_306', 'Breed2_307', 'Gender_1', 'Gender_2', 'Gender_3', 'Color1_1', 'Color1_2', 'Color1_3', 'Color1_4', 'Color1_5', 'Color1_6', 'Color1_7', 'Color2_0', 'Color2_2', 'Color2_3', 'Color2_4', 'Color2_5', 'Color2_6', 'Color2_7', 'Color3_0', 'Color3_3', 'Color3_4', 'Color3_5', 'Color3_6', 'Color3_7', 'MaturitySize_1', 'MaturitySize_2', 'MaturitySize_3', 'MaturitySize_4', 'FurLength_1', 'FurLength_2', 'FurLength_3', 'Vaccinated_1', 'Vaccinated_2', 'Vaccinated_3', 'Dewormed_1', 'Dewormed_2', 'Dewormed_3', 'Sterilized_1', 'Sterilized_2', 'Sterilized_3', 'Health_1', 'Health_2', 'Health_3', 'State_41324', 'State_41325', 'State_41326', 'State_41327', 'State_41330', 'State_41332', 'State_41335', 'State_41336', 'State_41342', 'State_41345', 'State_41361', 'State_41367', 'State_41401', 'Type_1', 'Type_2', 'Group_Cat', 'Group_FSS', 'Group_Herding', 'Group_Hound', 'Group_Misc', 'Group_Non-Sporting', 'Group_Sporting', 'Group_Terrier', 'Group_Toy', 'Group_Working']\nexpected Breed1_88, Breed1_224, Breed2_146, Breed1_16, Breed2_237, Breed2_1, Breed1_108, Breed1_98, Breed1_256, Breed1_228, Breed1_100, Breed2_245, Breed2_60, Breed2_72, Breed1_11, Breed2_279, Breed1_232, Breed1_197, Breed1_21, Breed2_248, Breed2_240, Breed2_19, Breed2_272, Breed1_97, Breed2_40, State_41415, Breed1_273, Breed1_139, Breed1_237, Breed2_268, Breed2_122, Breed2_150, Breed2_16, Breed1_302, Breed1_150, Breed1_270, Breed1_199, Breed2_130, Breed2_239, Breed2_190, Breed2_256, Breed1_0, Breed1_212, Breed2_228, Breed1_3, Breed2_227, Breed1_114, Breed1_240, Breed2_282, Breed1_269, Breed2_249, Breed1_146, Breed2_4, Breed2_2, Breed2_290, Breed2_274, Breed2_5, Breed1_234, Breed2_169, Breed1_93, Breed1_125, Breed1_85, Breed2_270, Breed2_293, Breed2_104, Breed2_10, Breed2_98, Breed1_279, Breed1_64, Breed1_165, Breed2_262, Breed2_206, Breed1_148, Breed1_61, Breed1_1, Breed1_185, Breed1_132, Breed2_201, Breed2_302, Breed1_298, Breed1_257, Breed1_129, Breed1_239, Breed1_23, Breed1_167, Breed2_117, Breed1_71, Breed1_274, Breed1_290, Breed1_277, Breed2_188, Breed2_36, Breed2_260, Breed1_99, Breed2_115, Breed1_111, Breed1_42, Breed2_176, Breed2_301, Breed2_155, Breed2_204, Breed2_159, Breed1_15, Breed1_305, Breed1_145, Breed2_289, Breed2_291, Breed2_277, Breed1_81, Breed2_210, Breed1_32, Breed2_83, Breed2_167, Breed2_24, Group_Hunting, Breed2_203, Breed2_267, Breed1_143, Breed1_202, Breed2_25, Breed1_217, Breed1_192, Breed2_192, Breed1_244, Breed1_123, Breed1_155, Breed1_130, Breed1_227, Breed1_294, Breed2_21, Breed2_96 in input data\ntraining data did not have the following fields: Breed2_297, Breed1_14, Breed1_2, Breed1_51, Breed2_51, Breed1_222, Breed1_104, Breed2_91, Breed2_100, Breed2_280, Breed1_112, Breed2_261, Breed1_116, Breed1_258, Breed2_165, Breed1_142, Breed2_233, Breed2_253, Breed1_6, Breed2_258, Breed1_278, Breed2_62, Breed1_94, Breed2_168, Breed1_126, Breed2_281"
     ]
    }
   ],
   "source": [
    "clf.predict(X_pred)"
   ]
  },
  {
   "cell_type": "code",
   "execution_count": 53,
   "metadata": {},
   "outputs": [
    {
     "name": "stdout",
     "output_type": "stream",
     "text": [
      "DONE\n"
     ]
    }
   ],
   "source": [
    "#test_labels = test_labels[labels.columns]\n",
    "pred = pd.DataFrame()\n",
    "pred['PetID'] = test['PetID']\n",
    "pred['AdoptionSpeed'] = clf.predict(test_labels)\n",
    "pred.set_index('PetID').to_csv(\"submission.csv\", index=True)\n",
    "print('DONE')"
   ]
  },
  {
   "cell_type": "code",
   "execution_count": 54,
   "metadata": {},
   "outputs": [
    {
     "data": {
      "text/plain": [
       "array([[<matplotlib.axes._subplots.AxesSubplot object at 0x000002834C4F29B0>]],\n",
       "      dtype=object)"
      ]
     },
     "execution_count": 54,
     "metadata": {},
     "output_type": "execute_result"
    },
    {
     "data": {
      "image/png": "[encoded data removed]",
      "text/plain": [
       "<Figure size 432x288 with 1 Axes>"
      ]
     },
     "metadata": {
      "needs_background": "light"
     },
     "output_type": "display_data"
    }
   ],
   "source": [
    "pred.hist()"
   ]
  },
  {
   "cell_type": "code",
   "execution_count": 48,
   "metadata": {},
   "outputs": [
    {
     "ename": "NameError",
     "evalue": "name 'SMOTEENN' is not defined",
     "output_type": "error",
     "traceback": [
      "\u001b[1;31m---------------------------------------------------------------------------\u001b[0m",
      "\u001b[1;31mNameError\u001b[0m                                 Traceback (most recent call last)",
      "\u001b[1;32m<ipython-input-48-59ed111b746c>\u001b[0m in \u001b[0;36m<module>\u001b[1;34m\u001b[0m\n\u001b[0;32m      1\u001b[0m \u001b[1;32mfrom\u001b[0m \u001b[0mimblearn\u001b[0m\u001b[1;33m.\u001b[0m\u001b[0mpipeline\u001b[0m \u001b[1;32mimport\u001b[0m \u001b[0mmake_pipeline\u001b[0m\u001b[1;33m,\u001b[0m \u001b[0mPipeline\u001b[0m\u001b[1;33m\u001b[0m\u001b[1;33m\u001b[0m\u001b[0m\n\u001b[0;32m      2\u001b[0m \u001b[1;33m\u001b[0m\u001b[0m\n\u001b[1;32m----> 3\u001b[1;33m \u001b[0msmote_enn\u001b[0m \u001b[1;33m=\u001b[0m \u001b[0mSMOTEENN\u001b[0m\u001b[1;33m(\u001b[0m\u001b[0msmote\u001b[0m \u001b[1;33m=\u001b[0m \u001b[0msm\u001b[0m\u001b[1;33m)\u001b[0m\u001b[1;33m\u001b[0m\u001b[1;33m\u001b[0m\u001b[0m\n\u001b[0m\u001b[0;32m      4\u001b[0m \u001b[0mclf_rf\u001b[0m \u001b[1;33m=\u001b[0m \u001b[0mRandomForestClassifier\u001b[0m\u001b[1;33m(\u001b[0m\u001b[0mn_estimators\u001b[0m\u001b[1;33m=\u001b[0m\u001b[1;36m25\u001b[0m\u001b[1;33m,\u001b[0m \u001b[0mrandom_state\u001b[0m\u001b[1;33m=\u001b[0m\u001b[1;36m1\u001b[0m\u001b[1;33m)\u001b[0m\u001b[1;33m\u001b[0m\u001b[1;33m\u001b[0m\u001b[0m\n\u001b[0;32m      5\u001b[0m \u001b[1;33m\u001b[0m\u001b[0m\n",
      "\u001b[1;31mNameError\u001b[0m: name 'SMOTEENN' is not defined"
     ]
    }
   ],
   "source": [
    "from imblearn.pipeline import make_pipeline, Pipeline\n",
    "\n",
    "smote_enn = SMOTEENN(smote = sm)\n",
    "clf_rf = RandomForestClassifier(n_estimators=25, random_state=1)\n",
    "\n",
    "pipeline = Pipeline([('smote_enn', smote_enn),\n",
    "                     ('clf_rf', clf_rf)])"
   ]
  },
  {
   "cell_type": "code",
   "execution_count": null,
   "metadata": {},
   "outputs": [],
   "source": [
    "print(labels.shape)\n",
    "print(test_labels.shape)"
   ]
  },
  {
   "cell_type": "code",
   "execution_count": 51,
   "metadata": {},
   "outputs": [
    {
     "data": {
      "text/plain": [
       "XGBClassifier(base_score=0.5, booster='gbtree', colsample_bylevel=1,\n",
       "       colsample_bytree=1, gamma=0, learning_rate=0.1, max_delta_step=0,\n",
       "       max_depth=3, min_child_weight=1, missing=None, n_estimators=100,\n",
       "       n_jobs=1, nthread=None, objective='multi:softprob', random_state=0,\n",
       "       reg_alpha=0, reg_lambda=1, scale_pos_weight=1, seed=None,\n",
       "       silent=True, subsample=1)"
      ]
     },
     "execution_count": 51,
     "metadata": {},
     "output_type": "execute_result"
    }
   ],
   "source": [
    "clf = xgb.XGBClassifier()\n",
    "clf.fit(labels, target)"
   ]
  },
  {
   "cell_type": "code",
   "execution_count": 52,
   "metadata": {},
   "outputs": [],
   "source": [
    "pred = clf.predict(labels)"
   ]
  },
  {
   "cell_type": "code",
   "execution_count": 54,
   "metadata": {},
   "outputs": [
    {
     "data": {
      "text/plain": [
       "0.26491534487147095"
      ]
     },
     "execution_count": 54,
     "metadata": {},
     "output_type": "execute_result"
    }
   ],
   "source": [
    "cohen_kappa_score(pred, target)"
   ]
  },
  {
   "cell_type": "code",
   "execution_count": 55,
   "metadata": {},
   "outputs": [
    {
     "name": "stderr",
     "output_type": "stream",
     "text": [
      "C:\\Users\\sparr\\Anaconda3\\lib\\site-packages\\sklearn\\ensemble\\forest.py:246: FutureWarning: The default value of n_estimators will change from 10 in version 0.20 to 100 in 0.22.\n",
      "  \"10 in version 0.20 to 100 in 0.22.\", FutureWarning)\n"
     ]
    },
    {
     "data": {
      "text/plain": [
       "RandomForestClassifier(bootstrap=True, class_weight=None, criterion='gini',\n",
       "            max_depth=None, max_features='auto', max_leaf_nodes=None,\n",
       "            min_impurity_decrease=0.0, min_impurity_split=None,\n",
       "            min_samples_leaf=1, min_samples_split=2,\n",
       "            min_weight_fraction_leaf=0.0, n_estimators=10, n_jobs=None,\n",
       "            oob_score=False, random_state=None, verbose=0,\n",
       "            warm_start=False)"
      ]
     },
     "execution_count": 55,
     "metadata": {},
     "output_type": "execute_result"
    }
   ],
   "source": [
    "clf = RandomForestClassifier()\n",
    "clf.fit(labels, target)"
   ]
  },
  {
   "cell_type": "code",
   "execution_count": 56,
   "metadata": {},
   "outputs": [],
   "source": [
    "pred = clf.predict(labels)"
   ]
  },
  {
   "cell_type": "code",
   "execution_count": 57,
   "metadata": {},
   "outputs": [
    {
     "data": {
      "text/plain": [
       "0.9865461251315598"
      ]
     },
     "execution_count": 57,
     "metadata": {},
     "output_type": "execute_result"
    }
   ],
   "source": [
    "cohen_kappa_score(pred, target)"
   ]
  },
  {
   "cell_type": "code",
   "execution_count": 67,
   "metadata": {},
   "outputs": [],
   "source": [
    "X_train, X_test, y_train, y_test = train_test_split(labels, target, test_size=.5)"
   ]
  },
  {
   "cell_type": "code",
   "execution_count": 68,
   "metadata": {},
   "outputs": [
    {
     "name": "stderr",
     "output_type": "stream",
     "text": [
      "C:\\Users\\sparr\\Anaconda3\\lib\\site-packages\\sklearn\\ensemble\\forest.py:246: FutureWarning: The default value of n_estimators will change from 10 in version 0.20 to 100 in 0.22.\n",
      "  \"10 in version 0.20 to 100 in 0.22.\", FutureWarning)\n"
     ]
    },
    {
     "data": {
      "text/plain": [
       "RandomForestClassifier(bootstrap=True, class_weight=None, criterion='gini',\n",
       "            max_depth=None, max_features='auto', max_leaf_nodes=None,\n",
       "            min_impurity_decrease=0.0, min_impurity_split=None,\n",
       "            min_samples_leaf=1, min_samples_split=2,\n",
       "            min_weight_fraction_leaf=0.0, n_estimators=10, n_jobs=None,\n",
       "            oob_score=False, random_state=None, verbose=0,\n",
       "            warm_start=False)"
      ]
     },
     "execution_count": 68,
     "metadata": {},
     "output_type": "execute_result"
    }
   ],
   "source": [
    "clf = RandomForestClassifier()\n",
    "clf.fit(X_train, y_train)"
   ]
  },
  {
   "cell_type": "code",
   "execution_count": 69,
   "metadata": {},
   "outputs": [],
   "source": [
    "y_pred = clf.predict(X_test)"
   ]
  },
  {
   "cell_type": "code",
   "execution_count": 70,
   "metadata": {},
   "outputs": [
    {
     "data": {
      "text/plain": [
       "0.14861577787722746"
      ]
     },
     "execution_count": 70,
     "metadata": {},
     "output_type": "execute_result"
    }
   ],
   "source": [
    "cohen_kappa_score(y_pred, y_test)"
   ]
  },
  {
   "cell_type": "code",
   "execution_count": 10,
   "metadata": {},
   "outputs": [],
   "source": [
    "#train.to_csv('pets_train.csv')\n",
    "#test.to_csv('pets_test.csv')"
   ]
  },
  {
   "cell_type": "code",
   "execution_count": null,
   "metadata": {},
   "outputs": [],
   "source": []
  },
  {
   "cell_type": "code",
   "execution_count": null,
   "metadata": {},
   "outputs": [],
   "source": []
  }
 ],
 "metadata": {
  "kernelspec": {
   "display_name": "Python 3",
   "language": "python",
   "name": "python3"
  },
  "language_info": {
   "codemirror_mode": {
    "name": "ipython",
    "version": 3
   },
   "file_extension": ".py",
   "mimetype": "text/x-python",
   "name": "python",
   "nbconvert_exporter": "python",
   "pygments_lexer": "ipython3",
   "version": "3.7.1"
  }
 },
 "nbformat": 4,
 "nbformat_minor": 2
}
