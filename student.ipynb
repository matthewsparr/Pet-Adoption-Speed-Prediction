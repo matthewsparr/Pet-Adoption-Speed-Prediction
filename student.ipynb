{
 "cells": [
  {
   "cell_type": "markdown",
   "metadata": {},
   "source": [
    "## Predicting Pet Adoption Speeds\n",
    "\n",
   ]
  },
  {
   "cell_type": "markdown",
   "metadata": {},
   "source": [
    "## Introduction"
   ]
  },
  {
   "cell_type": "markdown",
   "metadata": {},
   "source": [
    "For this project I chose a Kaggle dataset for an ongoing competition that can be found at https://www.kaggle.com/c/petfinder-adoption-prediction. This competition involves predicting the speed of adoption for a pet adoption site in Malaysia. Provided are various data fields such as the color of the pet, the age, and the breed. \n",
    "\n",
    "Also provided are image data on uploaded photos of the pets that was ran through Google's Vision API and sentiment data that was ran through Google's Natural Language API, on the description given for the pets. \n",
    "\n",
    "The goal of this project is to acheieve a decent score on the Kaggle competition test data and hopefully place high on the leaderboard."
   ]
  },
  {
   "cell_type": "markdown",
   "metadata": {},
   "source": [
    "![title](petfinder.png)"
   ]
  },
  {
   "cell_type": "markdown",
   "metadata": {},
   "source": [
    "## Import libraries"
   ]
  },
  {
   "cell_type": "code",
   "execution_count": 140,
   "metadata": {},
   "outputs": [],
   "source": [
    "import pandas as pd\n",
    "import numpy as np\n",
    "import matplotlib.pyplot as plt\n",
    "%matplotlib inline\n",
    "import seaborn as sns\n",
    "from sklearn.preprocessing import StandardScaler\n",
    "from sklearn.model_selection import train_test_split\n",
    "from sklearn.linear_model import LogisticRegression\n",
    "from sklearn.pipeline import Pipeline\n",
    "from sklearn.decomposition import PCA\n",
    "from sklearn.ensemble import BaggingClassifier,RandomForestClassifier,AdaBoostClassifier,VotingClassifier\n",
    "from imblearn.over_sampling import SMOTE, ADASYN\n",
    "from sklearn.model_selection import GridSearchCV\n",
    "import xgboost as xgb\n",
    "import os\n",
    "import json\n",
    "from sklearn.metrics import cohen_kappa_score\n",
    "from sklearn.metrics import accuracy_score\n",
    "from sklearn.model_selection import cross_val_score\n",
    "from sklearn.metrics import confusion_matrix\n",
    "from sklearn.metrics import make_scorer\n",
    "from sklearn import svm\n",
    "from sklearn.multiclass import OneVsRestClassifier\n",
    "from sklearn.tree import DecisionTreeClassifier"
   ]
  },
  {
   "cell_type": "markdown",
   "metadata": {},
   "source": [
    "## Grab train and test set"
   ]
  },
  {
   "cell_type": "markdown",
   "metadata": {},
   "source": [
    "The test set provided does not include the 'AdoptionSpeed' target variable and is only used to make predictions to submit to Kaggle for scoring."
   ]
  },
  {
   "cell_type": "code",
   "execution_count": 12,
   "metadata": {},
   "outputs": [],
   "source": [
    "train = pd.read_csv('train/train.csv')\n",
    "test = pd.read_csv('test/test.csv')"
   ]
  },
  {
   "cell_type": "markdown",
   "metadata": {},
   "source": [
    "## Fill missing values"
   ]
  },
  {
   "cell_type": "markdown",
   "metadata": {},
   "source": [
    "The 'Name' and 'Description' columns are the only two columns will missing data for both the train and test set. Since both fields are text, they will be filled with a blank space, ' '."
   ]
  },
  {
   "cell_type": "code",
   "execution_count": 4,
   "metadata": {},
   "outputs": [
    {
     "data": {
      "text/plain": [
       "Type                0\n",
       "Name             1257\n",
       "Age                 0\n",
       "Breed1              0\n",
       "Breed2              0\n",
       "Gender              0\n",
       "Color1              0\n",
       "Color2              0\n",
       "Color3              0\n",
       "MaturitySize        0\n",
       "FurLength           0\n",
       "Vaccinated          0\n",
       "Dewormed            0\n",
       "Sterilized          0\n",
       "Health              0\n",
       "Quantity            0\n",
       "Fee                 0\n",
       "State               0\n",
       "RescuerID           0\n",
       "VideoAmt            0\n",
       "Description        12\n",
       "PetID               0\n",
       "PhotoAmt            0\n",
       "AdoptionSpeed       0\n",
       "dtype: int64"
      ]
     },
     "execution_count": 4,
     "metadata": {},
     "output_type": "execute_result"
    }
   ],
   "source": [
    "train.isna().sum()"
   ]
  },
  {
   "cell_type": "code",
   "execution_count": 5,
   "metadata": {},
   "outputs": [
    {
     "data": {
      "text/plain": [
       "Type              0\n",
       "Name            303\n",
       "Age               0\n",
       "Breed1            0\n",
       "Breed2            0\n",
       "Gender            0\n",
       "Color1            0\n",
       "Color2            0\n",
       "Color3            0\n",
       "MaturitySize      0\n",
       "FurLength         0\n",
       "Vaccinated        0\n",
       "Dewormed          0\n",
       "Sterilized        0\n",
       "Health            0\n",
       "Quantity          0\n",
       "Fee               0\n",
       "State             0\n",
       "RescuerID         0\n",
       "VideoAmt          0\n",
       "Description       2\n",
       "PetID             0\n",
       "PhotoAmt          0\n",
       "dtype: int64"
      ]
     },
     "execution_count": 5,
     "metadata": {},
     "output_type": "execute_result"
    }
   ],
   "source": [
    "test.isna().sum()"
   ]
  },
  {
   "cell_type": "code",
   "execution_count": 6,
   "metadata": {},
   "outputs": [],
   "source": [
    "train.Name.fillna(' ', inplace=True)\n",
    "train.Description.fillna(' ', inplace=True)\n",
    "\n",
    "test.Name.fillna(' ', inplace=True)\n",
    "test.Description.fillna(' ', inplace=True)"
   ]
  },
  {
   "cell_type": "markdown",
   "metadata": {},
   "source": [
    "## Explore variables"
   ]
  },
  {
   "cell_type": "markdown",
   "metadata": {},
   "source": [
    "Below is a basic histogram of all of the variables."
   ]
  },
  {
   "cell_type": "code",
   "execution_count": 219,
   "metadata": {
    "scrolled": true
   },
   "outputs": [
    {
     "data": {
      "text/plain": [
       "array([[<matplotlib.axes._subplots.AxesSubplot object at 0x0000022794D508D0>,\n",
       "        <matplotlib.axes._subplots.AxesSubplot object at 0x0000022792C089B0>,\n",
       "        <matplotlib.axes._subplots.AxesSubplot object at 0x0000022795235128>,\n",
       "        <matplotlib.axes._subplots.AxesSubplot object at 0x000002279363C278>],\n",
       "       [<matplotlib.axes._subplots.AxesSubplot object at 0x0000022799173390>,\n",
       "        <matplotlib.axes._subplots.AxesSubplot object at 0x0000022799173748>,\n",
       "        <matplotlib.axes._subplots.AxesSubplot object at 0x00000227991DAB38>,\n",
       "        <matplotlib.axes._subplots.AxesSubplot object at 0x00000227938B14E0>],\n",
       "       [<matplotlib.axes._subplots.AxesSubplot object at 0x00000227D6777DD8>,\n",
       "        <matplotlib.axes._subplots.AxesSubplot object at 0x00000227D64E5128>,\n",
       "        <matplotlib.axes._subplots.AxesSubplot object at 0x00000227D6505438>,\n",
       "        <matplotlib.axes._subplots.AxesSubplot object at 0x00000227D63A5780>],\n",
       "       [<matplotlib.axes._subplots.AxesSubplot object at 0x00000227D63C7A58>,\n",
       "        <matplotlib.axes._subplots.AxesSubplot object at 0x00000227D63C1D68>,\n",
       "        <matplotlib.axes._subplots.AxesSubplot object at 0x00000227D63B30B8>,\n",
       "        <matplotlib.axes._subplots.AxesSubplot object at 0x00000227D656D3C8>],\n",
       "       [<matplotlib.axes._subplots.AxesSubplot object at 0x00000227D659C6D8>,\n",
       "        <matplotlib.axes._subplots.AxesSubplot object at 0x00000227D65909E8>,\n",
       "        <matplotlib.axes._subplots.AxesSubplot object at 0x00000227D6469CF8>,\n",
       "        <matplotlib.axes._subplots.AxesSubplot object at 0x00000227D6470048>]],\n",
       "      dtype=object)"
      ]
     },
     "execution_count": 219,
     "metadata": {},
     "output_type": "execute_result"
    },
    {
     "data": {
      "image/png": "iVBORw0KGgoAAAANSUhEUgAABJQAAARuCAYAAACFo206AAAABHNCSVQICAgIfAhkiAAAAAlwSFlzAAALEgAACxIB0t1+/AAAADl0RVh0U29mdHdhcmUAbWF0cGxvdGxpYiB2ZXJzaW9uIDIuMi4zLCBodHRwOi8vbWF0cGxvdGxpYi5vcmcvIxREBQAAIABJREFUeJzs3X2YZWV55/vvTxDEV16MHWyYNBk7RpTEYI+QmJPpSAREx+bMoMEw2hhmmJOgMSMZhSQnZERy8CS+R02IdGgcBJHo0KMo6UFrnMwRRJSAiIQOMtKCkNiAtkRNm/v8sZ6C3UVVd1XXrtqrdn0/17WvvdeznrX2vXZ1Pb3q3s9LqgpJkiRJkiRpth4z6gAkSZIkSZK0tJhQkiRJkiRJ0pyYUJIkSZIkSdKcmFCSJEmSJEnSnJhQkiRJkiRJ0pyYUJIkSZIkSdKcmFBappKcmuSvFujcpyT5y4U496gkqSTPGHUckiRJs5XkoiRvGXUckjSV7dN4MKE0hpJMJLk/yb6L8F6rWrJl78myqrqkqo4d0vlPS/LVJN9Jcm+STyR50jDOLWn5Wsx2UtLyluTOJP+QZHtrdz6R5NARxLFPkitaPJVk7WLHIKlfetQ+HZ1kc5JtSf4uyUeSHLzYcWjuTCiNmSSrgP8DKOBlIw1mnpL8S+APgFdW1ZOAZwGXjzYqSUvdOLWTkpaMf1VVTwQOBu4F3jNdpSR7LXAcfwX8W+CbC/w+kpaOPrRPBwAXAKuAHwO+A/z5Ar6fhsSE0vh5NXAtcBGwfrIwyUFJNiX5dpLPA/988KAkP5fk+iQPtuefG9g3keT/SfL5tv/KJAe23Z9tzw+0zPbPTh1ON4tzn5vkf7VeSH+Z5Klt978APldVXwKoqm1VtbGqvtOOvSjJn7Rs9neS/I8kPzZw7p8cyHTfluQVA/v2TfJHSb7eej79SZL9Bvb/pyT3JLk7ya/u0U9CUl/tqp38b62dvD7JW6a0ZTO2KZI0G1X1PeAK4HB4+F7m/UmuSvJd4BdncY/y0iQ3Jnkgyf+X5KcG9v1Mki+2+6IPA48beO8fVNU7q+qvgB8u2kVLWhJG3D59sqo+UlXfrqqHgD8GXrBY1649Z0Jp/LwauKQ9jkuyopW/F/geXeb5V9sDgJYc+gTwbuAg4O3AJ5IcNOW8vwo8HdjR6gL8Qnvev6qeWFWfGwxmluf+FeA1wNOAfYDfauXXtWv4z0lekOmHppwCnAs8FbixXTdJngBsBj7UzvtK4H1Jnt2OeyvwE8BzgWcAK4Hfa8ce32J4EbAa+KVp3lfS0rWrdvK7wI/SJZoGk027a1MkabeSPB74Zbqk9qRfAc4DnkTXg2hX9yhHAhuA/0B3X/WnwKb2R94+wH8FPggcCHwE+DcLf1WSxkHP2qdfAG4Z1rVp4ZhQGiNJfp6ui+DlVXUD8LfAr7Tuif8G+L2q+m5VfRnYOHDoS4Dbq+qDVbWjqi4Fvgr8q4E6H6yqL1fVd4H/G3hFZtftcTbn/vOq+puq+ge6IW3PBaiq/wn8a+BIuqTUt5K8fcr7fqKqPltV3wd+B/jZdON+XwrcWVV/3t73i8BfACclCfDvgf/Yej19h25o3cntnK9oMU1e7+/P4jolLQGzaCfPqaqHquor7NxOztimLPIlSFqa/muSB4Bv031h9YcD+66sqv9VVf8EfJ9d36P8e+BPq+q6qvphVW1sxxzdHo8F3llV/1hVVwDXL8rVSVrKetU+tV5Nvwf8p6FfqYZu791X0RKyHvjLqvr7tv2hVnYp3c/6roG6/3vg9dOnbE/uXzmwPfXYx9L1Ctqd2Zx7cBz/Q8ATJzeq6pPAJ5M8BvhFumz2bXQZ753iqqrtSba19/wx4KjWOE7amy4r/iPA44EbutwSAAEmE1VPB26YEq+k8TCXdnLw9a7aFEnanROr6r+35PU64H8kObztG2xrdneP8mPA+iSvGzhmH7p7lwK+UVU1sM97GEm705v2Kd2q2p8EXt86F6jnTCiNiTZ29RXAXkkmEzT7AvsDK+iGqR1K1zsI4J8NHH43XQMw6J8BnxrYPnTKvn8E/h44ZDehzebcu9Wy4tck+TTwnOniSvJEui6Ud9M1fv+jql409VwtOfUPwLOr6hvTvN09PPp6JS1xs2wnDwH+pu0bbAdmbFMkabaq6ofAR5P8KfDzk8UDVf6eXd+j3AWcV1XnTd2RbjGTlUky8EfbP6PriSlJuzTq9indXLj/HTi3qvzCbolwyNv4OJFugsXD6YaMPZduVbT/STdfyEeB30/y+JZxXj9w7FXATyT5lSR7J/nldp6PD9T5t0kOb2Nr3wxc0RqdvwP+CfjxGeKazbmnlWRdkpOTHJDO84F/yc7jek9I8vNtXO65wHVVdVc7/08keVWSx7bHv0jyrJac+jPgHUme1t5rZZLj2jkvB04duN5zdherpCVhLu3kT7aySTO2KYt7CZKWsnY/s45uRaNbp+6fxT3KnwH/V5Kj2rmekOQlSZ4EfI4uMf4b7Z7rXwPPn/L++yaZnAh3nySPy0BXA0nL1yjbpyQrgU8D762qP1nI69RwmVAaH+vp5v35elV9c/JBN0P+KcBr6YaSfZNuZaOHl2Gsqm/RzQ9yJvAt4I3ASweGhEA3rOOidvzjgN9oxz5EN1Hb/0o3m//Rg0HN8twzuZ9uLO7tdGN6/wvwh1V1yUCdD9ElfLYBz2vXShvTeyzdmN67W9xvpeuNAPAmYAtwbZJv02XDn9mO/STwTrpGbUt7lrT0zaadfApde/FBumFw34dZtSmStCv/Lcl2uvuZ84D1VTXThLO7ukf5At290R/T3SdtAU5t+35AN/fkqW3fL9MlygfdRtfDYCVwdXs9tSe5pOWlD+3Tv6ProHBOupXDt7eY1HPZeRij9GhJJoD/UlUfGHUsg5JcBGytqt8ddSySxk+StwI/WlXrd1tZkiRJWmbsoSRJEpDkJ5P81MAQ29OAj406LkmSJKmPnJRbkqTOk+iGuT0duA94G3DlSCOSJEmSesohb5IkSZIkSZoTh7xJWtKSbEhyX5IvT7Pvt5JUkqe27SR5d5ItSW5KcuRA3fVJbm+P9QPlz0tyczvm3a6GI0mSJEkmlCQtfRcBx08tTHIo8CLg6wPFLwZWt8fpwPtb3QPpVgs8im4J03OSHNCOeX+rO3nco95LkiRJkpabJTuH0lOf+tRatWrVbut997vf5QlPeMLCB7RIvJ7+Gqdrgdlfzw033PD3VfUjixDStKrqs0lWTbPrHcAb2XkOnHXAxdWN9b02yf5JDgbWApurahtAks3A8W2FwydX1eda+cXAicAndxXTOLVPfY+x7/GBMQ7DfOIbdRvVN0utfTKOfsVgHMONw/ZpZ7ZPSzeOPsRgHMONY7bt05JNKK1atYovfOELu603MTHB2rVrFz6gReL19Nc4XQvM/nqS/O+Fj2ZukrwM+EZV/fWUEWorgbsGtre2sl2Vb52mfLr3PJ2uJxMrVqzgj/7oj3Yb5/bt23niE5+423qj1PcY+x4fGOMwzCe+X/zFX+xdGzVKS+3+yTj6FYNxDDeOPt5DjZLt09KNow8xGMdw45ht+7RkE0qSNJ0kjwd+Bzh2ut3TlNUelD+6sOoC4AKANWvW1Gwa7778Z7MrfY+x7/GBMQ5D3+OTJElajpxDSdK4+efAYcBfJ7kTOAT4YpIfpethdOhA3UOAu3dTfsg05ZIkSZK0rJlQkjRWqurmqnpaVa2qqlV0SaEjq+qbwCbg1W21t6OBB6vqHuBq4NgkB7TJuI8Frm77vpPk6La626vZeU4mSZIkSVqWTChJWtKSXAp8Dnhmkq1JTttF9auAO4AtwJ8Bvw7QJuM+F7i+Pd48OUE38GvAB9oxf8tuJuSWJEmSpOXAOZQkLWlV9crd7F818LqAM2aotwHYME35F4DnzC9KSZIkSRov9lCSJElaREmemeTGgce3k/xmkgOTbE5ye3s+oNVPkncn2ZLkpiRHDpxrfat/e5L1o7sqSZK03NhDSRoDq876xNDPedHxTxj6ObWzm7/xIKcO+Wd35/kvGer5JA1fVd0GPBcgyV7AN4CPAWcB11TV+UnOattvAl4MrG6Po4D3A0clORA4B1hDtwLlDUk2VdX9i3xJ0pI133uoM4/YsdP/5f4/vPC8f5L6wx5KkiRJo3MM8LdV9b+BdcDGVr4ROLG9XgdcXJ1rgf2THAwcB2yuqm0tibQZOH5xw5ckScuVPZQkSZJG52Tg0vZ6RVtdkqq6J8nTWvlK4K6BY7a2spnKd5LkdOB0gBUrVjAxMbHboLZv3z6regvNOPoVwzjGceYRO+Z1/Ir9dj5HHz4bSVosJpQkSZJGIMk+wMuAs3dXdZqy2kX5zgVVFwAXAKxZs6bWrl2729gmJiaYTb2FZhz9imEc45jv0Kkzj9jB225+5E+qO09ZO8+IJGnpmPeQtyR7JflSko+37cOSXNcmh/xwu1kiyb5te0vbv2rgHGe38tuSHDffmCRJkpaAFwNfrKp72/a9bSgb7fm+Vr4VOHTguEOAu3dRLkmStOCGMYfS64FbB7bfCryjqlYD9wOntfLTgPur6hnAO1o9khxO19372XTj/t/XJqiUJEkaZ6/kkeFuAJuAyZXa1gNXDpS/uq32djTwYBsadzVwbJID2opwx7YySZKkBTevIW9JDgFeApwHvCFJgBcCv9KqbAR+n241knXtNcAVwB+3+uuAy6rq+8DXkmwBng98bj6xaWkY9ioNrtAgSVoKkjweeBHwHwaKzwcuT3Ia8HXg5a38KuAEYAvwEPAagKraluRc4PpW781VtW0RwpckSZr3HErvBN4IPKltHwQ8UFWTM9MNTg758MSRVbUjyYOt/krg2oFzTjuhpCRJ0rioqofo7oMGy75Ft+rb1LoFnDHDeTYAGxYiRkmSpF3Z44RSkpcC91XVDUnWThZPU7V2s29WE0q291yyq5QMy7hdz9SVMeZrlJ/NKH82w/wMJ43bvzVJkiRJ0vDMp4fSC4CXJTkBeBzwZLoeS/sn2bv1UhqcHHJy4sitSfYGngJsYw4TSi7lVUqGZdyu5z2XXLnTyhjzNcqVNUb5sxnmsMFJFx3/hLH6tyZJkqROkg3AZAeB57SyA4EPA6uAO4FXVNX9bZqSd9ENvX0IOLWqvtiOWQ/8bjvtW6pqYyt/HnARsB/dsN3Xt96WksbIHk/KXVVnV9UhVbWKblLtT1fVKcBngJNatakTSk5ONHlSq1+t/OS2CtxhwGrg83salyRJkiRply6iWxBp0FnANW1xpWvaNnQrUq5uj9Pp5sedTECdAxxFNwfuOW2BAFqd0weOm/peksbAMFZ5m+pNdBN0b6GbG+DCVn4hcFArfwOtgaqqW4DLga8AnwLOqKofLkBckiRJkrTsVdVn6UaLDFpHt6gS7fnEgfKLq3Mt3YiUg4HjgM1Vta2q7gc2A8e3fU+uqs+1DgQXD5xL0hgZylijqpoAJtrrO+gy1FPrfI9HViuZuu88upXiJEmSJEmLb0VV3QNQVfckeVorf3hxpWZyEaVdlW+dplzSmBne5DWSJEmSpHEz18WVFnTRpWEv6gN7trBPXxaw6UMcfYjBOEYThwklSZIkSdK9SQ5uvZMOBu5r5TMtorQVWDulfKKVHzJN/UfZk0WXhr2oD+zZwj59WSypD3H0IQbjGE0cCzGHkiQtiiQbktyX5MsDZX+Y5KtJbkrysST7D+w7O8mWJLclOW6g/PhWtiXJWQPlhyW5LsntST6cZJ/FuzpJkqRFNbiI0tTFlV6dztHAg21o3NXAsUkOaJNxHwtc3fZ9J8nRbYW4Vw+cS9IYMaEkaSm7iEevGrIZeE5V/RTwN8DZAEkOp1uR8tntmPcl2SvJXsB76VYwORx4ZasL8FbgHW21k/uB0xb2ciRJkhZekkuBzwHPTLI1yWnA+cCLktwOvKhtA1wF3AFsAf4M+HWAqtoGnAtc3x5vbmUAvwZ8oB3zt8AnF+O6JC0uh7xJWrKq6rNJVk0p+8uBzWuBk9rrdcBlVfV94GttxcnJBQS2tAUFSHIZsC7JrcALgV9pdTYCv09bKleSJGmpqqpXzrDrmGnqFnDGDOfZAGyYpvwLwHPmE6Ok/jOhJGmc/Srw4fZ6JV2CadLgiiNTVyg5CjgIeKCqdkxT/1GW8qSSu9KXSQVn0vf4wBiHoe/xSZIkLUcmlCSNpSS/A+wALpksmqZaMf3Q3zmtUAJLe1LJXenLpIIz6Xt8YIzD0Pf4JEmSliMTSpLGTpL1wEuBY1o3bZh5hRJmKP97YP8ke7deSjOuUCJJkiRJy42TcksaK0mOB94EvKyqHhrYtQk4Ocm+SQ4DVgOfp5tEcnVb0W0fuom7N7VE1Gd4ZA6mwdVOJEmSJGlZM6EkacmaYYWSPwaeBGxOcmOSPwGoqluAy4GvAJ8CzqiqH7beR6+lW/r2VuDyVhe6xNQb2gTeBwEXLuLlSRpTSfZPckWSrya5NcnPJjkwyeYkt7fnA1rdJHl3ki1Jbkpy5MB51rf6t7eemZIkSYvGIW+SlqwZViiZMelTVecB501TfhXdkrhTy+/gkZXgJGlY3gV8qqpOaj0jHw/8NnBNVZ2f5CzgLLqk9ovpelSuplsw4P3AUUkOBM4B1tDN73ZDkk1Vdf/iX44kSVqO7KEkSZK0SJI8GfgFWvK7qn5QVQ8A64CNrdpG4MT2eh1wcXWupZvb7WDgOGBzVW1rSaTNwPGLeCmSJGmZM6EkSZK0eH4c+Dvgz5N8KckHkjwBWFFV9wC056e1+iuBuwaO39rKZiqXJElaFA55kyRJWjx7A0cCr6uq65K8i25420wyTVntovzRJ0hOB04HWLFiBRMTE7sNcvv27bOqt9CMo18xjGMcZx6xY17Hr9hv53P04bORpMViQkmSJGnxbAW2VtV1bfsKuoTSvUkOrqp72pC2+wbqHzpw/CHA3a187ZTyienesKouAC4AWLNmTa1du3a6ajuZmJhgNvUWmnH0K4ZxjOPUsz4xr+PPPGIHb7v5kT+p7jxl7TwjkqSlwyFvkiRJi6SqvgncleSZregYutUnNwGTK7WtB65srzcBr26rvR0NPNiGxF0NHJvkgLYi3LGtTJIkaVHYQ0mSJGlxvQ64pK3wdgfwGrov+S5PchrwdeDlre5VwAnAFuChVpeq2pbkXOD6Vu/NVbVt8S5BkiQtdyaUJEmSFlFV3QismWbXMdPULeCMGc6zAdgw3OgkSZJmxyFvkiRJkiRJmhMTSpIkSZIkSZoTE0qSJEmSJEmaExNKkiRJkiRJmhMTSpIkSZIkSZoTV3mTJEmS1HurzvrEw6/PPGIHpw5sS5IWnwklaTdWzfJmZS43Nnee/5L5hCRJkiRJ0kg55E2SJEmSJElzYkJJ0pKWZEOS+5J8eaDswCSbk9zeng9o5Uny7iRbktyU5MiBY9a3+rcnWT9Q/rwkN7dj3p0ki3uFkiRJktQ/JpQkLXUXAcdPKTsLuKaqVgPXtG2AFwOr2+N04P3QJaCAc4CjgOcD50wmoVqd0weOm/pekiRJYyPJf0xyS5IvJ7k0yeOSHJbkuvbF24eT7NPq7tu2t7T9qwbOc3Yrvy3JcaO6HkkLx4SSpCWtqj4LbJtSvA7Y2F5vBE4cKL+4OtcC+yc5GDgO2FxV26rqfmAzcHzb9+Sq+lxVFXDxwLkkSZLGSpKVwG8Aa6rqOcBewMnAW4F3tC/r7gdOa4ecBtxfVc8A3tHqkeTwdtyz6b6Me1+SvRbzWiQtPBNKksbRiqq6B6A9P62VrwTuGqi3tZXtqnzrNOWSJEnjam9gvyR7A48H7gFeCFzR9k/9sm7yS7wrgGPa9ADrgMuq6vtV9TVgC10vcEljxFXeJC0n081/VHtQ/ugTJ6fTDY1jxYoVTExM7DaYFft1qwMO02zedy62b98+9HMOU9/jA2Mchr7HJ0njoqq+keSPgK8D/wD8JXAD8EBVTd60DH7B9vCXclW1I8mDwEGt/NqBU0/7pdxSvn/qy/9NfYijDzEYx2ji2OOEUpLHAZ8F9m3nuaKqzklyGHAZcCDwReBVVfWDJPvSDRd5HvAt4Jer6s52rrPpukv+EPiNqrp6zy9p6ZntsvQw+6XpXZZey9y9SQ6uqnvasLX7WvlW4NCBeocAd7fytVPKJ1r5IdPUf5SqugC4AGDNmjW1du3a6art5D2XXMnbbh5uXv/OU3b/vnMxMTHBbK5lVPoeHxjjMPQ9PkkaF20OyXXAYcADwEfo5qCcavILtnl9KbeU75/68n9TH+LoQwzGMZo45jPk7fvAC6vqp4Hn0s03cjSOr5U0epuAyZXa1gNXDpS/uq32djTwYBsSdzVwbJID2o3UscDVbd93khzdum+/euBckiRJ4+aXgK9V1d9V1T8CHwV+jm7eyckszuAXbA9/Wdf2P4VubsuZvsSTNEb2OKHUJrXd3jYf2x6F42slLaIklwKfA56ZZGuS04DzgRcluR14UdsGuAq4g66d+TPg1wGqahtwLnB9e7y5lQH8GvCBdszfAp9cjOuSNN6S3Jnk5iQ3JvlCKzswyea2itLmydUmWxL83W21pJuSHDlwnvWt/u1J1s/0fpI0S18Hjk7y+Pa32jHAV4DPACe1OlO/rJtse04CPt0WMtkEnNxWgTuMbqXczy/SNUhaJPPqK9h6Et0APAN4L90fWwsyvlaSplNVr5xh1zHT1C3gjBnOswHYME35F4DnzCdGSZrBL1bV3w9snwVcU1XnJzmrbb+JbrjJ6vY4Cng/cFSSA4FzgDV0X+rdkGRTW61Skuasqq5LcgXd1CU7gC/RDUn7BHBZkre0sgvbIRcCH0yyha5n0sntPLckuZwuGbUDOKOqfrioFyNpwc0rodQahecm2R/4GPCs6aq155FMetuXCbF2ZS6Tys12Erq+X/OkYU+qtxDXPdv45nItw45z2BMTwtL43ZGkMbOOR+Zz20g3l9ubWvnFLSl+bZL92/xwa4HNkz0qk2ymmz7g0sUNW9I4qapz6JLVg+5gmlEkVfU94OUznOc84LyhByipN4Yym1lVPZBkAjiaNr629VKabnzt1j0dX7snk7b1ZUKsXZnNJNuTzjxix6wmoRv2xLwLZdiT6i3Edc/25zPbnw0MP865/BuarYuOf0Lvf3ckaQkr4C+TFPCn7R5nRZu7jbaowNNa3Yd7eTeTvblnKt/JUv5Czjj6FcOo4xj8Am0hVvraE1Pj6MPPSJIWy3xWefsR4B9bMmk/ugnc3soj42svY/rxtZ9jYHxtkk3Ah5K8HXg6jq+VJEnj7wVVdXdLGm1O8tVd1F30VZT68oWccfQrhlHHMfgF2ly+yFtIU+NYKl/qStIwzKcVPhjY2OZRegxweVV9PMlXcHytJEnSjKrq7vZ8X5KP0Q0luTfJwa130sHAfa36TL25t/LIELnJ8okFDl2SJAmYR0Kpqm4CfmaacsfXSpIkzSDJE4DHVNV32utjgTfzSG/u83l0L+/XJrmMblLuB1vS6WrgDyZXg2vnOXsRL0WSJC1jo+8nKkmStLysAD7WrcjN3sCHqupTSa4HLk9yGt3S3ZNfxF0FnABsAR4CXgNQVduSnAtc3+q9eXKCbkmSpIVmQkmSJGkRtd7cPz1N+beAY6YpL+CMGc61Adgw7BglSZJ25zGjDkCSJEmSJElLiwklSZIkSZIkzYkJJUmSJEmSJM2JCSVJkiRJkiTNiQklSZIkSZIkzYkJJUmSJEmSJM2JCSVJkiRJkiTNiQklSZIkSZIkzYkJJUmSJEmSJM2JCSVJYynJf0xyS5IvJ7k0yeOSHJbkuiS3J/lwkn1a3X3b9pa2f9XAec5u5bclOW5U1yNJkiRJfWJCSdLYSbIS+A1gTVU9B9gLOBl4K/COqloN3A+c1g45Dbi/qp4BvKPVI8nh7bhnA8cD70uy12JeiyRJkiT1kQklSeNqb2C/JHsDjwfuAV4IXNH2bwRObK/XtW3a/mOSpJVfVlXfr6qvAVuA5y9S/JIkSZLUWyaUJI2dqvoG8EfA1+kSSQ8CNwAPVNWOVm0rsLK9Xgnc1Y7d0eofNFg+zTGSJEmStGztPeoAJGnYkhxA17voMOAB4CPAi6epWpOHzLBvpvLp3vN04HSAFStWMDExsds4V+wHZx6xY7f15mI27zsX27dvH/o5h6nv8YExDkPf45MkSVqOTChJGke/BHytqv4OIMlHgZ8D9k+yd+uFdAhwd6u/FTgU2NqGyD0F2DZQPmnwmJ1U1QXABQBr1qyptWvX7jbI91xyJW+7ebjN8J2n7P5952JiYoLZXMuo9D0+MMZh6Ht8e6LNx/YF4BtV9dIkhwGXAQcCXwReVVU/SLIvcDHwPOBbwC9X1Z3tHGfTzQH3Q+A3qurqxb8SSZK0XDnkTdI4+jpwdJLHt7mQjgG+AnwGOKnVWQ9c2V5vatu0/Z+uqmrlJ7dV4A4DVgOfX6RrkDTeXg/cOrDtogGSJGlJMaEkaexU1XV0k2t/EbiZrq27AHgT8IYkW+jmSLqwHXIhcFArfwNwVjvPLcDldMmoTwFnVNUPF/FSJI2hJIcALwE+0LaDiwZI6okk+ye5IslXk9ya5GeTHJhkc5Lb2/MBrW6SvDvJliQ3JTly4DzrW/3bk6yf+R0lLVUOeZM0lqrqHOCcKcV3MM0fXFX1PeDlM5znPOC8oQcoaTl7J/BG4Elt+yBmuWhAksFFA64dOKeLBkgalncBn6qqk5LsQ7da7m8D11TV+UnOovvy7U10c1Subo+jgPcDRyU5kO4+bA3d/JM3JNlUVfcv/uVIWigmlCRJkhZJkpcC91XVDUnWThZPU3Wkiwb0ZSJ04+hXDKOOY3Ahi4VY2GJPTI2jDz+j+UjyZOAXgFMBquoHwA+SrAPWtmobgQm6hNI64OI2VcC1rXfTwa3u5qra1s67mW547qWLdS2SFp4JJUmSpMXzAuBlSU4AHgc8ma7HUq8WDejLROjG0a8YRh3HqWd94uHXZx6xY+gLW+yJqXEMe3GMEfhx4O+AP0/y08ANdHO+raiqewCq6p4kT2v1H+5F2Uz2lpypfCdLeZVck7z9isE4RhPH6FthSZKkZaKqzgbOBmjMnDAOAAAgAElEQVQ9lH6rqk5J8hG6RQEuY/pFAz7HwKIBSTYBH0ryduDpuGiApOHYGzgSeF1VXZfkXbS5JWcwr16US3mVXJO8/YrBOEYTh5NyS5IkjZ6LBkjqg63A1rbACXSLARwJ3NuGstGe7xuoP11vyVn3opS0dNlDSZIkaQSqaoJuHhKqykUDJI1cVX0zyV1JnllVtwHH0CWuv0LXW/J8Ht2L8rVJLqOblPvBNiTuauAPJleDA46l9c6UND5MKEmSJEmSJr0OuKSt8HYH8Bq6kS2XJzkN+DqPJLqvAk4AtgAPtbpU1bYk5wLXt3pvnpygW9L4MKEkSZIkSQKgqm4E1kyz65hp6hZwxgzn2QBsGG50kvrEOZQkSZIkSZI0JyaUJEmSJEmSNCcmlCRJkiRJkjQnJpQkSZIkSZI0J3ucUEpyaJLPJLk1yS1JXt/KD0yyOcnt7fmAVp4k706yJclNSY4cONf6Vv/2JOvnf1mSJEmSJElaKPPpobQDOLOqngUcDZyR5HDgLOCaqloNXNO2AV4MrG6P04H3Q5eAAs4BjgKeD5wzmYSSJEmSJElS/+xxQqmq7qmqL7bX3wFuBVYC64CNrdpG4MT2eh1wcXWuBfZPcjBwHLC5qrZV1f3AZuD4PY1LkiRJkiRJC2vvYZwkySrgZ4DrgBVVdQ90SackT2vVVgJ3DRy2tZXNVD7d+5xO17uJFStWMDExsdvYtm/fPqt6o3TmETtmXXfFfrOr3/drnjTb65mthbju2cY3l2sZdpzD/AwnLYXfHUmSJEnSaMw7oZTkicBfAL9ZVd9OMmPVacpqF+WPLqy6ALgAYM2aNbV27drdxjcxMcFs6o3SqWd9YtZ1zzxiB2+7efc/tjtPWTuPiBbPey65clbXM1sLcd2z/fnM9mcDw49zLv+GZuui45/Q+98dSZIkSdJozGuVtySPpUsmXVJVH23F97ahbLTn+1r5VuDQgcMPAe7eRbkk7bEk+ye5IslX2+IBP+uiAZIkSZI0HPNZ5S3AhcCtVfX2gV2bgMk/utYDVw6Uv7r94XY08GAbGnc1cGySA9ofd8e2Mkmaj3cBn6qqnwR+mm6eNxcNkCRJkqQhmM9YoxcArwJuTnJjK/tt4Hzg8iSnAV8HXt72XQWcAGwBHgJeA1BV25KcC1zf6r25qrbNIy5Jy1ySJwO/AJwKUFU/AH6QZB2wtlXbCEwAb2Jg0QDg2ta76eBWd/Nkm5RkctGASxfrWiRJkiSpj/Y4oVRVf8X08x8BHDNN/QLOmOFcG4ANexqLJE3x48DfAX+e5KeBG4DXs4CLBkiSJEnScjK82ZAlqT/2Bo4EXldV1yV5F48Mb5vOvBcN2JNVKIe9yiEMfwXBvq/21/f4wBiHoe/xzVWSxwGfBfala6+uqKpzkhwGXAYcCHwReFVV/SDJvsDFwPOAbwG/XFV3tnOdDZwG/BD4japy2gBJkrQoTChJGkdbga1VdV3bvoIuoXRvkoNb76TZLhqwdkr5xHRvuCerUA57lUMY/gqCfV8ps+/xgTEOQ9/j2wPfB15YVdvbAid/leSTwBuAd1TVZUn+hC5R9P72fH9VPSPJycBbgV9OcjhwMvBs4OnAf0/yE1X1w1FclCRJWl7mtcqbJPVRVX0TuCvJM1vRMcBXcNEAST1Qne1t87HtUcAL6RLg0M3zdmJ7va5t0/Yf0xZHWQdcVlXfr6qv0c1T+fxFuARJkiR7KEkaW68DLkmyD3AH3UIAj8FFAyT1QJK96OZ3ewbwXuBvgQeqanIc7OCcbQ/P51ZVO5I8CBzUyq8dOO2087ztyZDcvgwzNI5+xTDqOAaHiS/EsPE9MTWOPvyMJGmxmFCSNJaq6kZgzTS7XDRA0si1YWnPTbI/8DHgWdNVa8/zmudtT4bk9mWYoXH0K4ZRx3HqWZ94+PWZR+wY+rDxPTE1jmEPPZekPnPImyRJ0ohU1QN0c7MdDeyfZPIv08m53GBgnre2/ynANmae/02SJGnBmVCSJElaREl+pPVMIsl+wC8BtwKfAU5q1abO8zY5/9tJwKdbz8pNwMlJ9m0rxK0GPr84VyFJkpa70fcTlSRJWl4OBja2eZQeA1xeVR9P8hXgsiRvAb4EXNjqXwh8MMkWup5JJwNU1S1JLqdbdGAHcIYrvEmSpMViQkmSJGkRVdVNwM9MU34H06zSVlXf45FFBKbuOw84b9gxSpIk7Y5D3iRJkiRJQLcKZZIvJfl42z4syXVJbk/y4baCLm247YeTbGn7Vw2c4+xWfluS40ZzJZIWmgklSZIkSdKk19PN6zbprcA7qmo1cD9wWis/Dbi/qp4BvKPVI8nhdENznw0cD7yvDfGVNGZMKEmSJEmSSHII8BLgA207wAuBK1qVjcCJ7fW6tk3bf0yrvw64rKq+X1VfA7YwzXBeSUufcyhJkiRJkgDeCbwReFLbPgh4oKp2tO2twMr2eiVwF0BV7UjyYKu/Erh24JyDx+wkyenA6QArVqxgYmJitwGu2A/OPGLHbuvNxWzed6rt27fv0XHD1oc4+hCDcYwmDhNKkiRJkrTMJXkpcF9V3ZBk7WTxNFVrN/t2dczOhVUXABcArFmzptauXTtdtZ2855IredvNw/0z9s5Tdv++U01MTDCbeBdaH+LoQwzGMZo4TChJkiRJkl4AvCzJCcDjgCfT9VjaP8nerZfSIcDdrf5W4FBga5K9gacA2wbKJw0eI2mMOIeSJEmSJC1zVXV2VR1SVavoJtX+dFWdAnwGOKlVWw9c2V5vatu0/Z+uqmrlJ7dV4A4DVgOfX6TLkLSI7KEkSZIkSZrJm4DLkrwF+BJwYSu/EPhgki10PZNOBqiqW5JcDnwF2AGcUVU/XPywJS00E0qSJEmSpIdV1QQw0V7fwTSrtFXV94CXz3D8ecB5CxehpD5wyJskSZIkSZLmxISSJEmSJEmS5sSEkiRJkiRJkubEhJKksZVkryRfSvLxtn1YkuuS3J7kw0n2aeX7tu0tbf+qgXOc3cpvS3LcaK5EkiRJkvrFhJKkcfZ64NaB7bcC76iq1cD9wGmt/DTg/qp6BvCOVo8kh9OtWPJs4HjgfUn2WqTYJUmSJKm3TChJGktJDgFeAnygbQd4IXBFq7IROLG9Xte2afuPafXXAZdV1fer6mvAFqZZ5USSZivJoUk+k+TWJLckeX0rPzDJ5taDcnOSA1p5kry79ZS8KcmRA+da3+rfnmT9qK5JkiQtT3uPOgBJWiDvBN4IPKltHwQ8UFU72vZWYGV7vRK4C6CqdiR5sNVfCVw7cM7BY3aS5HTgdIAVK1YwMTGx2wBX7AdnHrFjt/XmYjbvOxfbt28f+jmHqe/xgTEOQ9/jm6MdwJlV9cUkTwJuSLIZOBW4pqrOT3IWcBbwJuDFwOr2OAp4P3BUkgOBc4A1QLXzbKqq+xf9iiRJ0rJkQknS2EnyUuC+qrohydrJ4mmq1m727eqYnQurLgAuAFizZk2tXbt2umo7ec8lV/K2m4fbDN95yu7fdy4mJiaYzbWMSt/jA2Mchr7HNxdVdQ9wT3v9nSS30iWq1wFrW7WNwARdQmkdcHFVFXBtkv2THNzqbq6qbQAtKXU8cOmiXYwkSVrWTChJGkcvAF6W5ATgccCT6Xos7Z9k79ZL6RDg7lZ/K3AosDXJ3sBTgG0D5ZMGj5GkeWkLAPwMcB2woiWbqKp7kjytVXu4B2Uz2VNypnJJkqRFYUJJ0tipqrOBswFaD6XfqqpTknwEOAm4DFgPXNkO2dS2P9f2f7qqKskm4ENJ3g48nW7IyecX81okjackTwT+AvjNqvp2N23b9FWnKZtTD8o9GZLbl2GGxtGvGEYdx+Aw8YUYNr4npsbRh5+RJC0WE0qSlpM3AZcleQvwJeDCVn4h8MEkW+h6Jp0MUFW3JLkc+ArdvCdnVNUPFz9sSeMkyWPpkkmXVNVHW/G9SQ5uvZMOBu5r5TP1lNzKI0PkJssnpnu/PRmS25dhhsbRrxhGHcepZ33i4ddnHrFj6MPG98TUOIY99FyS+mz0rbAkLaCqmqD9kVVVdzDNKm1V9T3g5TMcfx5w3sJFKGk5aStIXgjcWlVvH9g12VPyfB7dg/K1SS6jm5T7wZZ0uhr4g8nV4IBjaT0zJUmSFoMJJUmSpMXzAuBVwM1Jbmxlv02XSLo8yWnA13kkyX0VcAKwBXgIeA1AVW1Lci5wfav35skJuiVJkhbDvBJKSTYAk6spPaeVHQh8GFgF3Am8oqrub9/IvYvupugh4NSq+mI7Zj3wu+20b6mqjfOJS5IkqY+q6q+Yfv4jgGOmqV/AGTOcawOwYXjRSZIkzd5j5nn8RXRL1A46C7imqlYD17RtgBfTTWi7mm5iyPfDwwmoc+i6cT8fOGeg+7YkSZIkSZJ6Zl4Jpar6LN0EtoPWAZM9jDYCJw6UX1yda+mW7z4YOA7YXFXbqup+YDOPTlJJkiRJkiSpJxZiDqUVVXUPQJs08mmtfCVw10C9ra1spvJHWcrL3u7KXJY8ne0SqX2/5knDXvJ1Ia57tvHN5VqGHedCLJu7FH53JEmSJEmjsZiTck83X0DtovzRhUt42dtdGVwCdXdmu0TqUlmy9D2XXDnUJV8X4rpn+/OZy/K1w45zLv+GZuui45/Q+98dSZIkSdJozHcOpenc24ay0Z7va+VbgUMH6h0C3L2LckmSJEmSJPXQQiSUNgHr2+v1wJUD5a9O52jgwTY07mrg2CQHtMm4j21lkiRJkiRJ6qF5jTVKcimwFnhqkq10q7WdD1ye5DTg68DLW/WrgBOALcBDwGsAqmpbknOB61u9N1fV1Im+JUmSJEmS1BPzSihV1Stn2HXMNHULOGOG82wANswnFkmSJEmSJC2OxZyUW5IkSZLUU0kOBS4GfhT4J+CCqnpXkgOBDwOrgDuBV1TV/UkCvItuJMpDwKlV9cV2rvXA77ZTv6WqNi7mtUhL3ap5Lrx05hE7dlq86c7zXzLfkB5lIeZQkiRJkiQtPTuAM6vqWcDRwBlJDgfOAq6pqtXANW0b4MXA6vY4HXg/QEtAnQMcBTwfOKfNlytpjJhQkiRJkiRRVfdM9jCqqu8AtwIrgXXAZA+jjcCJ7fU64OLqXAvs31b6Pg7YXFXbqup+YDNw/CJeiqRF4JA3SZIkSdJOkqwCfga4DljRVuimqu5J8rRWbSVw18BhW1vZTOVT3+N0up5NrFixgomJid3GtWK/bijPMM3mfafavn37Hh03bH2Iow8xjGMc8/13PvV3ZSE+GxNKkiRJkqSHJXki8BfAb1bVt7upkqavOk1Z7aJ854KqC4ALANasWVNr167dbWzvueRK3nbzcP+MvfOU3b/vVBMTE8wm3oXWhzj6EMM4xnHqEOZQGvxd2ZN/57vjkDdJkiRJEgBJHkuXTLqkqj7aiu9tQ9loz/e18q3AoQOHHwLcvYtySWPEhJKksZPk0CSfSXJrkluSvL6VH5hkc5Lb2/MBrTxJ3p1kS5Kbkhw5cK71rf7tbbUSSZKksdRWbbsQuLWq3j6waxMweR+0HrhyoPzV7V7qaODBNjTuauDYJAe0+61jW5mkMWJCSdI4coUSSb2VZEOS+5J8eaDMhLekPngB8CrghUlubI8TgPOBFyW5HXhR2wa4CrgD2AL8GfDrAFW1DTgXuL493tzKJI0R51CSNHbaN2OTE0d+J8ngCiVrW7WNwATwJgZWKAGuTTK5Qsla2golAEkmVyi5dNEuRtI4ugj4Y+DigbLJhPf5Sc5q229i54T3UXQJ76MGEt5r6OYluSHJpraakiTtkar6K6af/wjgmGnqF3DGDOfaAGwYXnSS+saEkqSxthgrlLT3WbKrlOxKX1bLmEnf4wNjHIa+xzdXVfXZ1jYNMuEtSZKWFBNKksbWYq1QAkt7lZJd6ctqGTPpe3xgjMPQ9/iGpFcJ774k8YyjXzGMOo7BL2EW4kuZPbEYy3JLUl+ZUJI0lna1Qkn7Y222K5SsnVI+sZBxS9IUI0l49yWJZxz9imHUcQwuoT11OexRWYxluSWpr5yUW9LYcYUSSUuQS3JLkqQlxYSSpHHkCiWSlhoT3pIkaUkZfT9RSRoyVyiR1GdJLqUbTvvUJFvpVms7H7g8yWnA14GXt+pXASfQJbwfAl4DXcI7yWTCG0x4S5KkRWZCSZIkaRFV1Stn2GXCW5KkJWjVlDneBud8G2cOeZMkSZIkSdKcmFCSJEmSJEnSnIz9kLebv/Hg0Lub3Xn+S4Z6PkmSJEmSpKXEHkqSJEmSJEmaExNKkiRJkiRJmpOxH/ImSZIkaWar5jA9xGxXL3KKCEkaf/ZQkiRJkiRJ0pzYQ0mSxshcvmWejTOP2MHaoZ5RkiRJ0jiwh5IkSZIkSZLmxB5KkiRJ0gIZVs/RwbmLnJ9IktQHJpQkSZIkZk7+zHYiaj1i2EOwJUn945A3SZIkSZIkzYk9lCRJkqQlxN4/kqQ+MKEkSdqlYf/h4twfkobFxIokSaNjQkmSJEk7ufkbDw59ziCTyZIkjZfeJJSSHA+8C9gL+EBVnT/ikCQJsH2S1F9LqX3ak95EToYtLV1LqX1Sv832/4/Z/p/hFxzD04uEUpK9gPcCLwK2Atcn2VRVXxltZJKWO9un4RvmEJXJGwdvDLQc2T5J6ivbp+Hr8yqUgzEshXsyh0sPTy8SSsDzgS1VdQdAksuAdYANjqRRs31aAhbixmAp3BBp2bN9ktRXy759Wq5Ji+V63ctVqmrUMZDkJOD4qvp3bftVwFFV9dop9U4HTm+bzwRum8Xpnwr8/RDDHTWvp7/G6Vpg9tfzY1X1IwsdzKjYPvU+xr7HB8Y4DPOJb2zbqGXSPhlHv2IA45jK9mkatk+Lqg9x9CEGMI6pFrx96ksPpUxT9qhMV1VdAFwwpxMnX6iqNXsaWN94Pf01TtcC43c987Cs26e+x9j3+MAYh6Hv8Y3Q2LdPxtGvGIyjv3H0kO3TMoqjDzEYx2jieMxCnnwOtgKHDmwfAtw9olgkaZDtk6S+sn2S1Fe2T9Iy0JeE0vXA6iSHJdkHOBnYNOKYJAlsnyT1l+2TpL6yfZKWgV4MeauqHUleC1xNt6zkhqq6ZUinn1MXyiXA6+mvcboWGL/r2SO2T72Pse/xgTEOQ9/jG4ll0j4ZxyP6EAMYx1R9iaNXbJ8WVR/i6EMMYBxTLXgcvZiUW5IkSZIkSUtHX4a8SZIkSZIkaYkwoSRJkiRJkqQ5GeuEUpLjk9yWZEuSs0Ydz3wk2ZDkviRfHnUs85Xk0CSfSXJrkluSvH7UMc1Hkscl+XySv27X859HHdN8JdkryZeSfHzUsYyrPrZPSe5McnOSG5N8oZUdmGRzktvb8wGLHNOj2r6ZYkrn3e0zvSnJkSOM8feTfKN9ljcmOWFg39ktxtuSHLcI8U3b5vblc9xFfL35DJebUbVPo2qD+tLO9KEt6Ut70Zd2ITPc46WbaPq69nl8ON2k0yTZt21vaftXDSMOPWJU7VN770Vvo2yfdorB9mnnOPrRPlXVWD7oJn/7W+DHgX2AvwYOH3Vc87ieXwCOBL486liGcC0HA0e2108C/maJ/2wCPLG9fixwHXD0qOOa5zW9AfgQ8PFRxzKOj762T8CdwFOnlP2/wFnt9VnAWxc5pke1fTPFBJwAfLL9Th4NXDfCGH8f+K1p6h7eft77Aoe1fwd7LXB807a5ffkcdxFfbz7D5fQYZfs0qjaoL+1MH9qSvrQXfWkXmOEeD7gcOLmV/wnwa+31rwN/0l6fDHx42P9el/NjlO1Te/9Fb6Nsn3Y6r+3TzuftRfs0zj2Ung9sqao7quoHwGXAuhHHtMeq6rPAtlHHMQxVdU9VfbG9/g5wK7BytFHtuepsb5uPbY8lO9t9kkOAlwAfGHUsY2wptU/rgI3t9UbgxMV88xnavpliWgdc3H4nrwX2T3LwiGKcyTrgsqr6flV9DdhC9+9hweyize3F57gH/ycs+me4zPStfVrwNqgv7Uwf2pK+tBd9aRd2cY/3QuCKVj7185j8nK4AjkmS+cahh/WtfYIFbqNsn3aKwfZp5zh60T6Nc0JpJXDXwPZWlnDSYly1rnY/Q5dRXbLSDRG7EbgP2FxVS/l63gm8EfinUQcyxvraPhXwl0luSHJ6K1tRVfdA9x8o8LSRRfeImWLq2+f62tbFesNAF/iRxjilze3d5zjN/wm9+wyXgVF+vn1qg/r0+zGS34O+tBejbhem3uPR9S54oKp2TPNeD8fR9j8IHDSMOASMvv3vSxtl+2T7NPn+I2+fxjmhNF22bcn2GhlHSZ4I/AXwm1X17VHHMx9V9cOqei5wCPD8JM8ZdUx7IslLgfuq6oZRxzLm+to+vaCqjgReDJyR5BdGHdAc9elzfT/wz4HnAvcAb2vlI4txDm3uSGKcJr7efYbLxCg/36XQBi325zOS34O+tBd9aBem3uMBz9rFe9k+LaxRf759b6Nsn6ZUXeQ4lmX7NM4Jpa3AoQPbhwB3jygWTZHksXS/gJdU1UdHHc+wVNUDwARw/IhD2VMvAF6W5E66bsQvTPJfRhvSWOpl+1RVd7fn+4CP0f3HdO9k9+D2fN/oInzYTDH15nOtqnvbf/L/BPwZj3RtHkmMM7S5vfkcp4uvb5/hMjKyz7dnbVAvfj9G8XvQl/aib+3CwD3e0XRDZ/ae5r0ejqPtfwpjMmVFT4y0/e9RG2X7ZPu0k1G2T+OcULoeWN1mOd+HbuKpTSOOSXQz7gMXArdW1dtHHc98JfmRJPu31/sBvwR8dbRR7ZmqOruqDqmqVXS/M5+uqn874rDGUe/apyRPSPKkydfAscCXW1zrW7X1wJWjiXAnM8W0CXh1OkcDD052gV5sU8bo/590nyV0MZ7cVto4DFgNfH6BY5mpze3F5zhTfH36DJeZkbRPPWyD+vL7sai/B31pL/rSLsxwj3cr8BngpFZt6ucx+TmdRHcfZQ+l4RnZ/VPP2ijbJ9un/rRPNcRZ6Pv2oJvZ/W/oxhL+zqjjmee1XErXde4f6bKLp406pnlcy8/Tda+7CbixPU4YdVzzuJ6fAr7UrufLwO+NOqYhXddaXOVtIT/fXrVPdCum/HV73DIZE93Y6muA29vzgYsc16PavpliouvK+972md4MrBlhjB9sMdxE9x/4wQP1f6fFeBvw4kWIb9o2ty+f4y7i681nuNweo2ifRtkG9aWd6UNb0pf2oi/tAjPc47V/r5+nm1z3I8C+rfxxbXtL2//ji/H7s5weo2ifBn7mi95G2T7tFIPt085x9KJ9Sju5JEmSJEmSNCvjPORNkiRJkiRJC8CEkiRJkiRJkubEhJIkSZIkSZLmxISSJEmSJEmS5sSEkiRJ0v/P3r3HS1bVd97/fEMr4o2b2sGGBBKI8cKIpAdwnCfpiCAXY/vMwKQdRsEhQ2bEW+QZhTx5hUTFwXmieImXQUHBEJGgBqKo6SAnGScCChoQ0RctdqSFgMpF2xtp83v+2Otg0ZzuPnVOnVP71Pm8X696Ve21V+39W12Hxa5frb2WJEmShmJCSZIkSZIkSUMxoSRJkiRJkqShmFCSJEmSJEnSUEwoSZIkSZIkaSgmlCRJkiRJkjQUE0qSJEmSJEkaigklSZIkSZIkDcWEkiRJkiRJkoZiQkmSJEmSJElDMaEkSZIkSZKkoZhQkiRJkiRJ0lBMKEmSJEmSJGkoJpQkSZIkSZI0FBNKkiRJkiRJGooJJUmSJEmSJA3FhJIWVZI1STaNOw5J2pr9k6S+sn+SpG1LMpXkd8Ydx3JkQklzluQ/JvlCks1J7kjyyST/doHP+ZtJrkpyX5KNC3kuSUvXmPqn/57ky0m+n+QbSf77Qp5P0tI0pv7pVUluTfK9JLcnOSfJioU8p6TxSLIxyY/a9ci9Sf4+yX9N4nd/jZx/VJqTJK8G3gq8EVgJ/ALwLmDtAp5zJ+AHwPmAX9QkzWiM/VOAFwO7A0cBL0uybqHOKWnpGWP/9FfAwVX1WOBpwNOBVyzUOSWN3W9V1WOAXwTOBl4LnDeOQExeTzYTShpakl2B1wGnVtVHq+oHVfXPVfVXVfXfk+yc5K3tF7Db2+udt3GsJ7chivcmuSnJ8wf2fSDJu5NckeQHwG9W1bVV9UHg1sVpraSlZMz90/+squuraktVfQ24DHjWojRcUu+NuX/6elXdO10F+Bdg/4Vus6Txqqr7qupy4LeBE5M8rfU1f5Lkm0nuTPKeJLsAJPnbJP++vf63SSrJMW37OUm+1F7/XJI/SPKPSe5KcmHr40iyb3vfyUm+CXxmoOwlSW5Lck8bNfWvk9zQ+rI/HYw9yX9OcnOr++kkvziw74gkX01318qf0vVrGgMTSpqLZwKPAD62jf3/L3AYcBDdL2CHAH+wdaUkD6P7xeyvgScALwcuSvKkgWr/ETgLeAzw2RHFL2ly9aJ/ShLg/wJumkdbJE2WsfZP6W61+x7wnXb8/zX/JklaCqrqWmAT3bXJm4Bfoetr9gdWAX/Yqv4tsKa9/nW6H/F/Y2D7b9vrk9rjN4FfAh4NPCgh1N73ZOC5A2WHAgfQJbjeStfvPQd4KvAfkvwGQJIXAL8P/Dvg8cD/Bj7U9j0O+Ahd//g44Ov4A97YmFDSXOwJfKeqtmxj/wnA66rqrqr6NvDHwItmqHcYXedzdlXdX1WfAT4OvHCgzmVV9X+q6l+q6scjbIOkydSX/umP6P4f+/55tEXSZBlr/1RVf95uefsV4D3AnaNplqQl4nZgD+C/AL9XVXdX1ffpbsGdvkX/b3lwAul/DGz/Bj9LKJ0AvKWqbq2qzcAZwLqtbm/7ozYS80cDZa+vqh9X1V/TTWXyodbnfYsuafSMVu93gf9RVTe3PvONwEFtlNIxwFeq6tKq+me6xNQ/zfcfR3NjQklz8V3gcdu5H/aJwD8ObP9jK5up3m1V9S9b1V01sH3bfAKVtOyMvZqgTGUAACAASURBVH9K8jK6uZSOraqfzDZwSRNv7P0TQFXdQjd68l2zCVrSxFgFrAAeCVzXbjO7F/gU3SgggM8Bv5JkJd0IpguBfdqooEOAv2v1ZuqvVtDNDTdtpn5oMJH9oxm2H91e/yLwtoEY76a7rW1VO/cDx66q2sa5tAhMKGkuPgf8GHjBNvbfTtcJTPuFVjZTvX22WnHgF4BvDWzXPOKUtPyMtX9K8p+B04HDq8olviUN6tP10wrgl3dQR9KESPKv6ZIxf0mXuHlqVe3WHrtW1aMBquqHwHXAK4EvV9X9wN8Drwa+XlXfaYecqb/awoMTRPP5Hncb8LsDMe5WVbtU1d8DdwD7DLQtg9taXCaUNLSquo/uPtt3JnlBkkcmeViSo5P8T7r7W/8gyeNbNvsPgT+b4VDX0A11fE17/xrgt4CLt3XuNgHcI4CHdZt5RJKHj7aFkpaqMfdPJ9ANyT6iqlw4QNKDjLl/+p0kT2ivn0J3e8qVo2yfpP5J8tgkz6PrH/6sqv4BeC9wzkCfsCrJ4DxHfwu8jJ/d3ja11TZ0/dXvJdkvyaPprn8+vJ1beof1HuCMJE9tMe6a5Pi27xPAU5P8uzbi8xXAz4/ovBqSCSXNSVW9hS5T/QfAt+myyC+jy3q/AfgCcANwI3B9K9v6GPcDzweOppsg8l3Ai6vqq9s59a/TZdWvoMuE/4huUkpJAsbaP72Bbo6UzyfZ3B7vGVW7JC19Y+yfngXcmG7Vtyva4/dH0ypJPfRXSb5P18f8v8BbgJe0fa8FNgBXt4n6/wYYnNT/b+km9P+7bWwDnA98sJV9g2705ctHFXxVfYxu8vCLW4xfpuvzaKOkjgfOpruV+ADg/4zq3BpOulsOJUmSJEmSpNlxhJIkSZIkSZKGYkJJkiRJkiRJQzGhJEmSJEmSpKGYUJIkSZIkSdJQTChJkiRJkiRpKCvGHcBcPe5xj6t99913h/V+8IMf8KhHPWrhA5qFvsTSlzigP7H0JQ7oTyyzjeO66677TlU9fhFCWjKWYv+00Gzr5Op7e+2jHsz+6aGWU1thebW37221f3qw5do/2Z5+m6T2DNOW2fZPSzahtO+++/KFL3xhh/WmpqZYs2bNwgc0C32JpS9xQH9i6Usc0J9YZhtHkn9c+GiWlqXYPy002zq5+t5e+6gHs396qOXUVlhe7e17W+2fHmy59k+2p98mqT3DtGW2/ZO3vEmSJEmSJGkoJpQkSZIkSZI0FBNKkiRJkiRJGooJJUmSJEmSJA3FhJIkSZIkSZKGYkJJkiRJkiRJQ1kx7gAW2o3fuo+TTv/ESI+58exjR3o8ScuT/ZOkvrJ/ktRX9k9SfzhCSZIkSZIkSUMxoSRJkiRJkqShmFCSJEmSJEnSUEwoSZIkSZIASPJ7SW5K8uUkH0ryiCT7JbkmyS1JPpzk4a3uzm17Q9u/78BxzmjlX0vy3HG1R9LCMaEkSZIkSSLJKuAVwOqqehqwE7AOeBNwTlUdANwDnNzecjJwT1XtD5zT6pHkKe19TwWOAt6VZKfFbIukhTfnhFKSJyX50sDje0lelWSPJOtb9np9kt1b/SR5e8tS35Dk4IFjndjq35LkxFE0TJIkaZySnJ/kriRfHigb2XVSkl9LcmN7z9uTZHFbKGlCrQB2SbICeCRwB/Bs4NK2/wLgBe312rZN239464vWAhdX1U+q6hvABuCQRYpf0iKZc0Kpqr5WVQdV1UHArwE/BD4GnA5c2bLXV7ZtgKOBA9rjFODd0F1YAWcCh9J1MmdOX1xJkiQtYR+g+2V+0Civk97d6k6/b+tzSdJQqupbwJ8A36RLJN0HXAfcW1VbWrVNwKr2ehVwW3vvllZ/z8HyGd4jaUKsGNFxDge+XlX/mGQtsKaVXwBMAa+ly1JfWFUFXJ1ktyR7tbrrq+pugCTr6S6IPjSi2CRJkhZdVf3d4HwizUiuk5JMAY+tqs+18gvpRgx8cuFaJGnStYT1WmA/4F7gL+gS3lur6bdsY9+2yrc+3yl0iXFWrlzJ1NTUDmNcuQucduCWHdYbxmzOu1A2b9481vOPmu3pr4Voy6gSSuv4WQJoZVXdAVBVdyR5QivfVpba7LUkSVouRnWdtKq93rr8IfzCtn2T9GVhNpZTe5dTW0foOcA3qurbAEk+CvwbYLckK9oopL2B21v9TcA+wKZ2i9yuwN0D5dMG3/OAqjoXOBdg9erVtWbNmh0G+I6LLuPNN47qa2xn4wk7Pu9CmZqaYjbtXipsT38tRFvm/V9im+H/+cAZO6o6Q9mss9ftXEv6gqgv/1PrSxzQn1j6Egf0J5a+xCFJy8Sw10mzvn7yC9v2TdKXhdlYTu1dTm0doW8ChyV5JPAjujtRvgBcBRwHXAycCFzW6l/etj/X9n+mqirJ5cCfJ3kL8ES623KvXcyGSFp4o7hSOBq4vqrubNt3Jtmr/eq2F3BXK99WlnoTPxv6PV0+NdOJlvoFUV/+p9aXOKA/sfQlDuhPLH2JQ5ImzKiukza111vXl6Q5q6prklwKXA9sAb5I9/3rE8DFSd7Qys5rbzkP+GCSDXQjk9a149yU5BLgK+04p1bVTxe1MZIW3Jwn5R7wQh4839F0lhoemr1+cVvF5DDgvjbk+9PAkUl2b/fsHtnKJEmSJs1IrpPavu8nOaytqPTigWNJ0pxV1ZlV9atV9bSqelFbqe3WqjqkqvavquOr6iet7o/b9v5t/60Dxzmrqn65qp5UVc7vJk2geQ3daUMhjwB+d6D4bOCSJCfTDZk8vpVfARxDt2TkD4GXAFTV3UleD3y+1Xvd9MSTkiRJS1WSD9GNLnpckk10q7WN8jrpv9GtJLcL3WTcfmGTJEmLZl4Jpar6Id2ykINl36W713brugWcuo3jnA+cP59YJGlrSXaiu+//W1X1vCT70d37vwfdUO4XVdX9SXYGLgR+Dfgu8NtVtbEd4wzgZOCnwCuqyhGUkmalql64jV0juU6qqi8AT5tPjJIkSXM1ilveJKmvXgncPLD9JuCcqjoAuIcuUUR7vqeq9gfOafVI8hS6uQCeChwFvKslqSRJkiRpWTOhJGkiJdkbOBZ4X9sO8Gzg0lblAuAF7fXatk3bf3irvxa4uM0d8A26W1EOWZwWSJIkSVJ/mVCSNKneCrwG+Je2vSdwb1VtadubgFXt9SrgNoC2/75W/4HyGd4jSZIkScvWvOZQkqQ+SvI84K6qui7JmuniGarWDvZt7z1bn/MU4BSAlStXMjU1tcM4V+4Cpx24ZYf1hjGb847D5s2bexvbqC2ntsLya68kSZI6JpQkTaJnAc9PcgzwCOCxdCOWdkuyoo1C2hu4vdXfBOwDbEqyAtgVuHugfNrgex6kqs4FzgVYvXp1rVmzZodBvuOiy3jzjaPthjeesOPzjsPU1BSz+TeZBMuprbD82itJkqSOt7xJmjhVdUZV7V1V+9JNqv2ZqjoBuAo4rlU7Ebisvb68bdP2f6atuHQ5sC7Jzm2FuAOAaxepGZIkSZLUW45QkrScvBa4OMkbgC8C57Xy84APJtlANzJpHUBV3ZTkEuArwBbg1Kr66eKHLUmSJEn9YkJJ0kSrqilgqr2+lRlWaauqHwPHb+P9ZwFnLVyEkiRJkrT0eMubJEmSJEmShmJCSZIkSZIkSUMxoSRJkiRJkqShmFCSJEmSJEnSUEwoSZIkSZIkaSgmlCRJkiRJkjSUeSWUkuyW5NIkX01yc5JnJtkjyfokt7Tn3VvdJHl7kg1Jbkhy8MBxTmz1b0ly4nwbJUmSJEmSpIUz3xFKbwM+VVW/CjwduBk4Hbiyqg4ArmzbAEcDB7THKcC7AZLsAZwJHAocApw5nYSSJEmSJElS/8w5oZTkscCvA+cBVNX9VXUvsBa4oFW7AHhBe70WuLA6VwO7JdkLeC6wvqrurqp7gPXAUXONS5IkSZIkSQtrxTze+0vAt4H3J3k6cB3wSmBlVd0BUFV3JHlCq78KuG3g/Zta2bbKHyLJKXSjm1i5ciVTU1M7DHLlLnDagVtm36pZmM15Z7J58+Y5v3eU+hIH9CeWvsQB/YmlL3FIkiRJkvpnPgmlFcDBwMur6pokb+Nnt7fNJDOU1XbKH1pYdS5wLsDq1atrzZo1OwzyHRddxptvnE8zH2rjCTs+70ympqaYTcwLrS9xQH9i6Usc0J9Y+hKHJEmSJKl/5jOH0iZgU1Vd07YvpUsw3dluZaM93zVQf5+B9+8N3L6dckmSJEmSJPXQnBNKVfVPwG1JntSKDge+AlwOTK/UdiJwWXt9OfDittrbYcB97da4TwNHJtm9TcZ9ZCuTJEmSJElSD833XrCXAxcleThwK/ASuiTVJUlOBr4JHN/qXgEcA2wAftjqUlV3J3k98PlW73VVdfc845IkSZIkSdICmVdCqaq+BKyeYdfhM9Qt4NRtHOd84Pz5xCJJkiRJkqTFMdrZqiVJkgbse/onRn7MjWcfO/JjLqYkvwf8Dt0iJDfSjdreC7gY2AO4HnhRVd2fZGfgQuDXgO8Cv11VG9txzgBOBn4KvKKqnDJAkiQtmvlMyi1JkqQhJFkFvAJYXVVPA3YC1gFvAs6pqgOAe+gSRbTne6pqf+CcVo8kT2nveypwFPCuJDstZlskSdLyZkJJkiRpca0AdkmyAngkcAfwbLoVcwEuAF7QXq9t27T9hydJK7+4qn5SVd+gm6PykEWKX5IkyVveJEmSFktVfSvJn9AtXPIj4K+B64B7q2pLq7YJWNVerwJua+/dkuQ+YM9WfvXAoQff8yBJTgFOAVi5ciVTU1M7jHPlLnDagVt2WG8YsznvOGzevLm3sS2E5dTe5dRWSRoHE0qSJEmLJMnudKOL9gPuBf4COHqGqjX9lm3s21b5QwurzgXOBVi9enWtWbNmh3G+46LLePONo71M3HjCjs87DlNTU8zm32RSLKf2Lqe2StI4mFCSJG3XKCZVPu3ALZzUjrPUJ1SW5uk5wDeq6tsAST4K/BtgtyQr2iilvYHbW/1NwD7ApnaL3K7A3QPl0wbfI0mStOCcQ0mSJGnxfBM4LMkj21xIhwNfAa4Cjmt1TgQua68vb9u0/Z+pqmrl65LsnGQ/4ADg2kVqg6QJlmS3JJcm+WqSm5M8M8keSdYnuaU9797qJsnbk2xIckOSgweOc2Krf0uSE7d9RklLlQklSZKkRVJV19BNrn09cCPdtdi5wGuBVyfZQDdH0nntLecBe7byVwOnt+PcBFxCl4z6FHBqVf10EZsiaXK9DfhUVf0q8HTgZrq+58q2EuWVbRu6W3YPaI9TgHcDJNkDOBM4lG7BgDOnk1CSJoe3vEmSJC2iqjqT7ovWoFuZYZW2qvoxcPw2jnMWcNbIA5S0bCV5LPDrwEkAVXU/cH+StcCaVu0CYIouEb4WuLCNnLy6jW7aq9VdX1V3t+OuB44CPrRYbZG08ByhJEmSJEkC+CXg28D7k3wxyfuSPApYWVV3ALTnJ7T6D6xE2UyvOLmtckkTxBFKkiRJkiTovh8eDLy8qq5J8jZ+dnvbTOa1EmWSU+hulWPlypVMTU3tMMCVu3SLfYzSbM67UDZv3jzW84+a7emvhWiLCSVJkiRJEnQjiTa1+d6gm/PtdODOJHtV1R3tlra7BurPtOLkJn52i9x0+dTWJ6uqc+nmkWP16tW1Zs2aras8xDsuuow33zjar7EbT9jxeRfK1NQUs2n3UmF7+msh2uItb5IkSZIkquqfgNuSPKkVTa9EObji5NYrUb64rfZ2GHBfuyXu08CRSXZvk3Ef2cokTZB5JZSSbExyY5IvJflCK3NJSUljl+QRSa5N8g9Jbkryx618vyTXtP7mw0ke3sp3btsb2v59B451Riv/WpLnjqdFkiRJi+LlwEVJbgAOAt4InA0ckeQW4Ii2DXAF3aICG4D3Ai8FaJNxvx74fHu8bnqCbkmTYxRjBX+zqr4zsD29pOTZSU5v26/lwUtKHkq3pOShA0tKrqa7r/a6JJdX1T0jiE3S8vUT4NlVtTnJw4DPJvkk3bLb51TVxUneA5xM1x+dDNxTVfsnWQe8CfjtJE8B1gFPBZ4I/E2SX3F5bkmSNImq6kt03822dvgMdQs4dRvHOR84f7TRSeqThbjlbS3dUpK05xcMlF9YnauB6SUln0tbUrIlkaaXlJSkOWt9zea2+bD2KODZdPMBwEP7qOm+61Lg8CRp5RdX1U+q6ht0v8A9ZGlvSZIkSVpO5jtCqYC/TlLA/2qTqj1oSckkI1tScqmvAtCXGeL7Egf0J5a+xAH9iaUvccxHkp2A64D9gXcCXwfurarpTmGwv3mgL6qqLUnuA/Zs5VcPHNZlbyVJkiQte/NNKD2rqm5vSaP1Sb66nbrzWlISlv4qAH2ZIb4vcUB/YulLHNCfWPoSx3y029IOSrIb8DHgyTNVa88ue7sNo4hxsK1LPVG5I5OQjB3Gjto76r9xmPy/IUmSpKVgXpmWqrq9Pd+V5GN0t4EsyJKSkjRXVXVvkingMLrbbVe0UUrT/RD8rI/alGQFsCtwN9vuu7Y+x5JOeG/PSad/Yt7HOO3ALQ+0dZxL8y6GSUjGDmNH7R3F38/WJv1vSJIkaSmY8xxKSR6V5DHTr+mWgvwyLikpqQeSPL6NTCLJLsBzgJuBq4DjWrWt+6jpvus44DNtosnLgXVtFbj96BYWuHZxWiFJkiRJ/TSfn8ZXAh/r5qxlBfDnVfWpJJ8HLklyMvBN4PhW/wrgGLoJbX8IvAS6JSWTTC8pCS4pKWk09gIuaPMo/RxwSVV9PMlXgIuTvAH4InBeq38e8MEkG+hGJq0DqKqbklwCfAXYApzqCm+SJEmSlrs5J5Sq6lbg6TOUfxeXlJQ0ZlV1A/CMGcpvZYZV2qrqx/wsAb71vrOAs0YdoyRJkiQtVXO+5U2SJEmSJEnLkwklSZIkSZIkDcWEkiRJkiRJkoZiQkmSJEmSJElDMaEkSZIkSZKkoZhQkiRJkiRJ0lBMKEmSJEmSJGkoJpQkSZIkSZI0FBNKkiRJkiRJGooJJUmSpEWUZLcklyb5apKbkzwzyR5J1ie5pT3v3uomyduTbEhyQ5KDB45zYqt/S5ITx9ciSZK0HJlQkiRJWlxvAz5VVb8KPB24GTgduLKqDgCubNsARwMHtMcpwLsBkuwBnAkcChwCnDmdhJIkSVoMK8YdgCRJ0nKR5LHArwMnAVTV/cD9SdYCa1q1C4Ap4LXAWuDCqirg6ja6aa9Wd31V3d2Oux44CvjQYrVFkqSt3fit+zjp9E+M9Jgbzz52pMfT6JhQkiRJWjy/BHwbeH+SpwPXAa8EVlbVHQBVdUeSJ7T6q4DbBt6/qZVtq/whkpxCN7qJlStXMjU1tcMgV+4Cpx24ZfatmoXZnHccNm/e3NvYFsJyau9yaqskjYMJJUmSpMWzAjgYeHlVXZPkbfzs9raZZIay2k75QwurzgXOBVi9enWtWbNmh0G+46LLePONo71M3HjCjs87DlNTU8zm32RSLKf2Lqe2StI4zHsOpSQ7Jfliko+37f2SXNMmiPxwkoe38p3b9oa2f9+BY5zRyr+W5LnzjUmSJKmnNgGbquqatn0pXYLpznYrG+35roH6+wy8f2/g9u2US5IkLYpRTMr9SrrJJKe9CTinTSp5D3ByKz8ZuKeq9gfOafVI8hRgHfBUunv/35VkpxHEJUmS1CtV9U/AbUme1IoOB74CXA5Mr9R2InBZe3058OK22tthwH3t1rhPA0cm2b1Nxn1kK5MkSVoU80ooJdkbOBZ4X9sO8Gy6X9ugm1TyBe312rZN2394q78WuLiqflJV3wA20K1WIkmSNIleDlyU5AbgIOCNwNnAEUluAY5o2wBXALfSXR+9F3gpQJuM+/XA59vjddMTdEuSJC2G+d4c/1bgNcBj2vaewL1VNT2L4+AEkQ9MHllVW5Lc1+qvAq4eOObETirZl4kB+xIH9CeWvsQB/YmlL3FI0qSpqi8Bq2fYdfgMdQs4dRvHOR84f7TRSZIkzc6cE0pJngfcVVXXJVkzXTxD1drBvmUzqWRfJgbsSxzQn1j6Egf0J5a+xCFJkiRJ6p/5ZFqeBTw/yTHAI4DH0o1Y2i3JijZKaXCCyOnJIzclWQHsCtyNk0pKkiRJkiQtKXOeQ6mqzqiqvatqX7pJtT9TVScAVwHHtWpbTyo5Pdnkca1+tfJ1bRW4/YADgGvnGpckSZIkSZIW1mjvBeu8Frg4yRuALwLntfLzgA8m2UA3MmkdQFXdlOQSuhVOtgCnVtVPFyAuSZIkSZIkjcBIEkpVNQVMtde3MsMqbVX1Y+D4bbz/LOCsUcQiSZIkSZKkhbUQI5Qm3r6nf2JO7zvtwC2cNMN7N5597HxDkiRJkiRJWjRznkNJkiRJkjRZkuyU5ItJPt6290tyTZJbknw4ycNb+c5te0Pbv+/AMc5o5V9L8tzxtETSQjOhJEmSJEma9krg5oHtNwHnVNUBwD3Aya38ZOCeqtofOKfVI8lT6ObLfSpwFPCuJDstUuySFpEJJUmSJEkSSfYGjgXe17YDPBu4tFW5AHhBe722bdP2H97qrwUurqqfVNU3gA3MMMeupKXPOZQkSZIkSQBvBV4DPKZt7wncW1Vb2vYmYFV7vQq4DaCqtiS5r9VfBVw9cMzB9zxIklOAUwBWrlzJ1NTUDgNcuUs3N+0ozea8C2Xz5s1jPf+o+fn010K0xYSSJEmSJC1zSZ4H3FVV1yVZM108Q9Xawb7tvefBhVXnAucCrF69utasWTNTtQd5x0WX8eYbR/s1duMJOz7vQpmammI27V4q/Hz6ayHa4i1vkiZOkn2SXJXk5iQ3JXllK98jyfo2qeT6JLu38iR5e5s88oYkBw8c68RW/5YkJ46rTZIkSQvsWcDzk2wELqa71e2twG5JpjMEewO3t9ebgH0A2v5dgbsHy2d4j6QJYkJJ0iTaApxWVU8GDgNObRNEng5c2SaVvLJtAxwNHNAepwDvhi4BBZwJHEp37/+Z00koSZKkSVJVZ1TV3lW1L92k2p+pqhOAq4DjWrUTgcva68vbNm3/Z6qqWvm6tgrcfnTXV9cuUjMkLSITSpImTlXdUVXXt9ffp1upZBUPnjxy60klL6zO1XS/xO0FPBdYX1V3V9U9wHq61UokSZKWi9cCr06ygW6OpPNa+XnAnq381bQf6qrqJuAS4CvAp4BTq+qnix61pAXnHEqSJlqSfYFnANcAK6vqDuiSTkme0Ko9MKlkMz155LbKZzrPxE4qOYoYB9s6KRMbbsskTd44Gztq76j/xmHy/4YkadyqagqYaq9vZYZV2qrqx8Dx23j/WcBZCxehpD4woSRpYiV5NPAR4FVV9b1uJduZq85Q5qSSzUmnf2LexzjtwC0PtHWcEysuhkmavHE2dtTeUfz9bG3S/4YkSZKWAm95kzSRkjyMLpl0UVV9tBXf2W5loz3f1cq3NXmkk0pKkiRJ0gxMKEmaOOmGIp0H3FxVbxnYNTh55NaTSr64rfZ2GHBfuzXu08CRSXZvk3Ef2cokSZIkaVmbc0IpySOSXJvkH9qy3H/cyvdLck1bYvvDSR7eyndu2xva/n0HjnVGK/9akufOt1GSlr1nAS8Cnp3kS+1xDHA2cESSW4Aj2jbAFcCtwAbgvcBLAarqbuD1wOfb43WtTJIkSZKWtflM3vET4NlVtbndWvLZJJ+km+H/nKq6OMl7gJPpluA+GbinqvZPsg54E/DbbSnvdcBTgScCf5PkV1wJQNJcVdVnmXn+I4DDZ6hfwKnbONb5wPmji06SJEmSlr45j1Bqy2tvbpsPa48Cng1c2sq3XpZ7ernuS4HD220pa4GLq+onVfUNuhECD1lFQJIkSZIkSf0wr+WFkuwEXAfsD7wT+Dpwb1VNrxE8uMT2A8tvV9WWJPcBe7byqwcO2/tluedqW7Es9vLHfVrSui+x9CUO6E8sfYlDkiRJktQ/80ootdvSDkqyG/Ax4MkzVWvPE7Ms91wNLps9aLGXP+7TktZ9iaUvcUB/YulLHJIkSZKk/hnJKm9VdS8wBRwG7JZkOmsyuMT2A8tvt/27AnfjstySJGmZSbJTki8m+XjbdlETSZK0pMxnlbfHt5FJJNkFeA5wM3AVcFyrtvWy3NPLdR8HfKZNhHs5sK5dMO0HHABcO9e4JEmSloBX0l03TXsT3aImBwD30C1mAgOLmgDntHpstajJUcC72lQEkiRJi2I+I5T2Aq5KcgPdctrrq+rjwGuBVyfZQDdH0nmt/nnAnq381cDpAFV1E3AJ8BXgU8CprvAmSZImVZK9gWOB97Xt4KImkiRpiZnz5EJVdQPwjBnKb2WGC5qq+jFw/DaOdRZw1lxjkSRJWkLeCrwGeEzb3pNlsKhJXxd6WG6LUCyn9i6ntkrSOPRjtmpJkqRlIMnzgLuq6roka6aLZ6g6cYuaLPYiJLO13BahWE7tXU5tlaRxMKEkSZK0eJ4FPD/JMcAjgMfSjVjaLcmKNkpppkVNNrmoiSRJ6pORrPImSZKkHauqM6pq76ral25S7c9U1Qm4qIkkSVpiHKEkSZI0fq8FLk7yBuCLPHhRkw+2RU3upktCUVU3JZle1GQLLmoiSZIWmQklSZKkMaiqKWCqvXZRE0mStKR4y5skSZIkSZKGYkJJkiRJkiRJQzGhJEmSJEmSpKGYUJIkSZIkSdJQTChJkiRJkiRpKCaUJEmSJEmSNJQV4w5AkiRJksZh39M/MdLjbTz72JEeT5L6zBFKkiRJkiRJGooJJUmSJEmSJA1lzgmlJPskuSrJzUluSvLKVr5HkvVJbmnPu7fyJHl7kg1Jbkhy8MCxTmz1b0ly4vybJUmSJEmSpIUynxFKW4DTqurJwGHAqUmeApwOXFlVBwBXtm2Ao4ED2uMU4N3QJaCAM4FDgUOAM6eTUJIkSZIkSeqfOSeUquqOqrq+i41yDwAAIABJREFUvf4+cDOwClgLXNCqXQC8oL1eC1xYnauB3ZLsBTwXWF9Vd1fVPcB64Ki5xiVJkiRJkqSFNZJV3pLsCzwDuAZYWVV3QJd0SvKEVm0VcNvA2za1sm2Vz3SeU+hGN7Fy5UqmpqZ2GNvKXeC0A7fMvjELaFuxzKYdo7R58+ZFP+e29CWWvsQB/YmlL3FIkiRJkvpn3gmlJI8GPgK8qqq+l2SbVWcoq+2UP7Sw6lzgXIDVq1fXmjVrdhjfOy66jDffOJK82bydduCWGWPZeMKaRY1jamqK2fzbLYa+xNKXOKA/sfQlDkmSJElS/8xrlbckD6NLJl1UVR9txXe2W9loz3e18k3APgNv3xu4fTvlkiRJkqRF4sJLkoYx56E76YYinQfcXFVvGdh1OXAicHZ7vmyg/GVJLqabgPu+dkvcp4E3DkzEfSRwxlzjkiRpudj39E+M/Jgbzz525MeUJC0Z0wsvXZ/kMcB1SdYDJ9EtvHR2ktPpFl56LQ9eeOlQuoWXDh1YeGk13d0n1yW5vM2ZK2lCzGeE0rOAFwHPTvKl9jiGLpF0RJJbgCPaNsAVwK3ABuC9wEsBqupu4PXA59vjda1MkuYsyflJ7kry5YEyf12TJEnaBhdekjSMOY9QqqrPMvP8RwCHz1C/gFO3cazzgfPnGoskzeADwJ8CFw6UnY6/rknbNeyop9MO3MJJCzBSSpI0Xoux8FJfFl0a50I0k7YQjp9Pfy1EW/oxW7UkjVhV/V27EBq0FljTXl8ATNEllB74dQ24Osn0r2traL+uAbQh30cBH1rg8CVJksZmsRZe6suiS4u9SNKgSVsIx8+nvxaiLfOalFuSlpgH/boGjOTXNUmSpEnhwkuSZssRSpI0z1/XYLKHbI8ixsG2Tsqw4W1ZzKHRo/77mYuF+DvekUn/G5KkcXHhJUnDMKEkaTm5M8le7UJntr+urdmqfGqmA0/ykO1RzI9z2oFbHmjrOIctL4bFHBrdh7mLBj/bxTLpf0OSNEbTCy/dmORLrez36RJJlyQ5GfgmcHzbdwVwDN3CSz8EXgLdwktJphdeAhdekoY26tV8P3DUo0Z6PPCWN0nLy/Sva/DQX9de3FZ7O4z26xrwaeDIJLu3X9iObGWSNCdJ9klyVZKbk9yU5JWt3FUoJY1dVX22qlJV/6qqDmqPK6rqu1V1eFUd0J7vbvWrqk6tql+uqgOr6gsDxzq/qvZvj/ePr1WSFooJJUkTKcmHgM8BT0qyqf2idjZwRJJbgCPaNnS/rt1K9+vae4GXQvfrGjD969rn8dc1SfO3BTitqp4MHAacmuQp/GwVygOAK9s2PHgVylPoVqFkYBXKQ4FDgDMHbi2RJElacN7yJmkiVdULt7Hr8BnqFnDqNo5zPnD+CEPTEjHXYcanHbhlxlvRNp597HxD0gRoox+nFwf4fpKb6Sb7dxVKSZK0pJhQkiRJGoMk+wLPAK5hq1Uok4xsFcpJXjRgFBZzIv0+WE7tnU1bl8vfuSQtBBNKkiRJiyzJo+mW5X5VVX2vW1hp5qozlA21CuUkLxowCos5kX4fLKf2zqato17coK9/55K0EJxDSZIkaREleRhdMumiqvpoK76z3crGEKtQzlQuSZK0KEwoSZIkLZJ0Q5HOA26uqrcM7HIVSkmStKR4y5skSdLieRbwIuDGJF9qZb9Pt+rkJW1Fym8Cx7d9VwDH0K1C+UPgJdCtQplkehVKcBVKSZK0yEwoSZKWvLmuyCYttqr6LDPPfwSuQilJkpaQed3yluT8JHcl+fJA2R5J1ie5pT3v3sqT5O1JNiS5IcnBA+85sdW/JcmJM51LkiRJkiRJ/TDfOZQ+ABy1VdnpwJVVdQBwZdsGOBo4oD1OAd4NXQIKOBM4FDgEOHM6CSVJkiRJkqT+mVdCqar+Dtj6fv21wAXt9QXACwbKL6zO1cBubRWT5wLrq+ruqroHWM9Dk1SSJEmSJEnqiYWYQ2llW32EqrojyRNa+SrgtoF6m1rZtsofIskpdKObWLlyJVNTUzsOZhc47cAtQzZhYWwrltm0Y5Q2b9686Ofclr7E0pc4oD+x9CUOSZIkSVL/LOak3DNNQFnbKX9oYdW5wLkAq1evrjVr1uzwpO+46DLefGM/5h4/7cAtM8ay8YQ1ixrH1NQUs/m3Wwx9iaUvcUB/YulLHJIkSZKk/lmITMudSfZqo5P2Au5q5ZuAfQbq7Q3c3srXbFU+tQBxLSvbW/HotAO3cNIcVkTaePax8wlJkiRJkiRNiIVIKF0OnAic3Z4vGyh/WZKL6Sbgvq8lnT4NvHFgIu4jgTMWIC4tA3NdOnx7STYTaZIkSZIkPdi8EkpJPkQ3uuhxSTbRrdZ2NnBJkpOBbwLHt+pXAMcAG4AfAi8BqKq7k7we+Hyr97qq2nqib0mSJEmSJPXEvBJKVfXCbew6fIa6BZy6jeOcD5w/n1gkSZIkSZK0OH5u3AFIkiRJkiRpaTGhJEmSJEmSpKEsxKTcknZgIVbhG7UPHPWocYcgSZIkSeopE0oaqxu/dV8vkieSJEmSJGn2vOVNkiRJkiRJQzGhJEmSJEmSpKGYUJIkSZIkSdJQTChJkiRJkiRpKCaUJEmSJEmSNBQTSpIkSZIkSRrKinEHIEmSJGmy7Hv6J0Z+zI1nHzvyY0qS5s6EkiRJkqTeGzZJddqBWzhpARJbkqSOt7xJkiRJkiRpKCaUJEmSJEmSNJTe3PKW5CjgbcBOwPuq6uwxhyRJgP2TpP6yf+q/hZhLaD5mug3MuYm0EOyfpMnXixFKSXYC3gkcDTwFeGGSp4w3Kkmyf5LUX/ZPkvrK/klaHnqRUAIOATZU1a1VdT9wMbB2zDFJEtg/Seov+ydJfWX/JC0Dqapxx0CS44Cjqup32vaLgEOr6mVb1TsFOKVtPgn42iwO/zjgOyMMdz76Ektf4oD+xNKXOKA/scw2jl+sqscvdDDjsoz6p4VmWydX39s7sX2U/dPILKe2wvJqb9/bav9k/wS2p+8mqT3DtGVW/VNf5lDKDGUPyXRV1bnAuUMdOPlCVa2ea2Cj1JdY+hIH9CeWvsQB/YmlL3H0wLLonxaabZ1cy629PWP/NALLqa2wvNq7nNraQ/ZPs2R7+m2S2rMQbenLLW+bgH0GtvcGbh9TLJI0yP5JUl/ZP0nqK/snaRnoS0Lp88ABSfZL8nBgHXD5mGOSJLB/ktRf9k+S+sr+SVoGenHLW1VtSfIy4NN0y0qeX1U3jejwQw2hXGB9iaUvcUB/YulLHNCfWPoSx1gto/5podnWybXc2tsb9k8js5zaCsurvcuprb1i/zQU29Nvk9SekbelF5NyS5IkSZIkaenoyy1vkiRJkiRJWiJMKEmSJEmSJGkoE5tQSnJ+kruSfHnMceyT5KokNye5KckrxxjLI5Jcm+QfWix/PK5YWjw7Jfliko+POY6NSW5M8qUkXxhjHLsluTTJV9vfyzPHFMeT2r/F9ON7SV41jlgmWZKjknwtyYYkp487noXSpz5wsfSlb1tofemzNHr2T5PL/klLxY6+y6Xz9tZP3ZDk4MWOcRizaM+aJPcNXH//4WLHOIzZ9J9L5TOaZVuWzOczm+/8SXZO8uH22VyTZN+5nq8Xk3IvkA8AfwpcOOY4tgCnVdX1SR4DXJdkfVV9ZQyx/AR4dlVtTvIw4LNJPllVV48hFoBXAjcDjx3T+Qf9ZlV9Z8wxvA34VFUd11bDeOQ4gqiqrwEHQXfhCXwL+Ng4YplU7d/1ncARdMvqfj7J5WPqFxZan/rAxdKnvm0h9aLP0mjZP9k/TQj7p6XvA2z/u9zRwAHtcSjw7vbcVx9gx99N/3dVPW9xwpm32fSfS+Uzmu3/C5bK5zOb7/wnA/dU1f5J1gFvAn57Lieb2BFKVfV3wN09iOOOqrq+vf4+3f/EV40plqqqzW3zYe0xllnZk+wNHAu8bxzn75skjwV+HTgPoKrur6p7xxsVAIcDX6+qfxx3IBPmEGBDVd1aVfcDFwNrxxzTguhTH7gYlkvf1uM+S/Nn/zSh7J+0lMziu9xa4ML2/eZqYLckey1OdMPry3fTUZll/7kkPqNJ+3/BLL/zrwUuaK8vBQ5Pkrmcb2ITSn3UhpI9A7hmjDHslORLwF3A+qoaVyxvBV4D/MuYzj+ogL9Ocl2SU8YUwy8B3wbe34aivy/Jo8YUy6B1wIfGHcQEWgXcNrC9iSX8P67Z6kMfuAj61LctpL72WZo/+6fJZf+kSTKJfdUz221Kn0zy1HEHM1vb6T+X3Ge0g/8XLJnPZxbf+R/4bKpqC3AfsOdczmVCaZEkeTTwEeBVVfW9ccVRVT+tqoOAvYFDkjxtsWNI8jzgrqq6brHPvQ3PqqqD6YZlnprk18cQwwrgYODdVfUM4AfAWOetaEPEnw/8xTjjmFAz/QIwltGCi6UvfeBC6mHftpB612dpZOyfJpD9k/3TBJq0vup64Ber6unAO4C/HHM8s7KD/nNJfUY7aMuS+nxm8Z1/ZJ+NCaVF0O5d/AhwUVV9dNzxALShv1PAUWM4/bOA5yfZSDeU/tlJ/mwMcQBQVbe357vo5go6ZAxhbAI2DWSPL6W7GBqno4Hrq+rOMccxiTYB+wxs7w3cPqZYFlwf+8AF0qu+bYH1sc/SaNg/TSb7J02aieqrqup707cpVdUVwMOSPG7MYW3XLPrPJfMZ7agtS/Hzge1+53/gs0myAtiVOd6SaUJpgbV7Ec8Dbq6qt4w5lscn2a293gV4DvDVxY6jqs6oqr2ral+6W6o+U1X/abHjAEjyqDb5Gm049JHAoq8MWFX/BNyW5Emt6HBg3JOCvhBvd1sonwcOSLJfGwm2Drh8zDEtiD71gQutT33bQutpn6XRsH+aQPZP9k8T6HLgxekcBtxXVXeMO6i5SvLz03PYJDmE7nv6d8cb1bbNsv9cEp/RbNqylD6fWX7nvxw4sb0+ju7/CXMaoTSxq7wl+RCwBnhckk3AmVV13hhCeRbwIuDGdh8jwO+3zOZi2wu4oK3g8nPAJVU10cvGzsJK4GOtf1gB/HlVfWpMsbwcuKhdwN8KvGRMcZDkkXQr/PzuuGKYZFW1JcnLgE8DOwHnV9VNYw5rofSpD9Ro9abP0ujYP9k/TQj7pyVupu9ydJMLU1XvAa4AjgE2AD+k55/xLNpzHPDfkmwBfgSsm+sX/EUyY/8J/AIsuc9oNm1ZSp/PjN/5k7wO+EJVXU6XQPtgkg10I5PWzfVk6e+/gyRJkiRJkvrIW94kSZIkSZI0FBNKkiRJkiRJGooJJUmSJEmSJA3FhJIkSZIkSZKGYkJJkiRJkiRJQzGhJEmSJEmSpKGYUJIkSZIkSdJQTChJkiRJkiRpKCaUJEmSJEmSNBQTSpIkSZIkSRqKCSVJkiRJkiQNxYSSJEmSJEmShmJCSZIkSZIkSUMxoSRJkiRJkqShmFCSJEmSJEnSUEwoSZIkSZIkaSgmlCRJkiRJkjQUE0qSJEmSJEkaigklSZIkSZIkDcWEkiRJkiRJkoZiQkmSpEWU5I+S/Nm445A0eZKclOSz445DkqYlqST7b2f/xiTPWcyYNDomlLQgWsfwoySbBx5PHHdckpaeUfUn40jkJFmTZNNinlNS/yRZl+SaJD9Icld7/dIkGXdskjRTUmchEtRJPpDkDaM8psbLhJIW0m9V1aMHHrePOyBJS9a8+pMkKxYqMEnaniSnAW8D/j/g54GVwH8FngU8fIyhPUiSncYdgyRpaTGhpEWV5LAkf5/k3iT/kGTNwL5dk5yX5I4k30ryBi9uJM1kppE/g7+utdFIlyb5syTfA07awfGemOQjSb6d5BtJXjGw74+SXJLkwiTfT3JTktUD+w9O8sW27y+SfLj1X48CPgk8cYaRVQ/f1vEkTY4kuwKvA15aVZdW1fer88WqOqGqfpJk5yR/kuSbSe5M8p4ku7T3r0myKclpbWTTHUleMnD8PZNcnuR7Sa4Ffnmr8/9qkvVJ7k7ytST/YWDfB5K8O8kVSX4A/Obi/KtIWmp2cJ10SJLPte93dyT50yQPSZYnOQU4AXhNuyb6q4HdByW5Icl97TrqEYvQLI2ACSUtmiSrgE8AbwD2AP4f4CNJHt+qXABsAfYHngEcCfzOGEKVNBnWApcCuwEXbatSkp8D/gr4B2AVcDjwqiTPHaj2fODidqzLgT9t73048DHgA3T92oeA/xugqn4AHA3cPsPIqhmPJ2niPBPYGbhsO3XeBPwKcBDdNdAq4A8H9v88sGsrPxl4Z5Ld2753Aj8G9gL+c3sA0JLa64E/B54AvBB4V5KnDhz7PwJnAY8BnHtJ0kPM4jrpp8DvAY+j6/MOB1669XGq6ly667H/2a6Jfmtg938AjgL2A/4VO/ghUP1hQkkL6S9bpvreJH8J/Cfgiqq6oqr+parWA18Ajkmyku6L16uq6gdVdRdwDrBufOFL6pGt+5PZ+FxV/WXrb360nXr/Gnh8Vb2uqu6vqluB9/Lg/uezre/6KfBB4Omt/DBgBfD2qvrnqvoocO0sYtvW8SRNlscB36mqLdMFAyO1f5TkN4D/AvxeVd1dVd8H3siD+59/Bl7X+pgrgM3Ak9oo7n8P/GG7dvoy3Y9z054HbKyq91fVlqq6HvgIcNxAncuq6v+0fvLHC9B+SUvH4LXWvcC7Wvl2r5Oq6rqqurr1MxuB/wX8xpDnfntV3V5Vd9Mlrw4aSYu04JxTQgvpBVX1N9MbSd4FHJ9kMBv9MOAq4Bfb6zsG5qf8OeC2RYpV/z97dx9nWVXf+f7zDS2KjzzFDgEiGIkRdVTsAIlzTY9EnjRC5mqC4UrjMJeMQaMjGYVM7pCoeDU3SpREHRQUDIqE6MAoij1IjcmMIKJEBDS0QKQBQW1AW3xIk9/9Y6+C00VVV52qU1W7Tn/er9d51dlrr7P3Wmef86u9f2fvtaV+mxpP1s7hNXONH0+iuyzt3oGyHYC/G5j+9sDz+4FHtXGZfh64vapqyPVOu7zBg05JY+F7wO6D3++q+jWAdtnuauDRwDUD+z+hi0EPLmNKbLgfeCzws3T78oMx558Gnj8JOGhKbFtFl8Se5H6WpElT97WOp7taZJv7SUl+CXgnsIYunq0Crhly3VP3i7yZ0wphQklL6Tbgw1X1f0+dkWQP4CfA7h5QSZqDH9LttAAPDib7s1PqFHNzG3BLVe03j3bcCeyZJANJpb2Bbw7ZBknj6Qt0+zdH0Z0dNNV3gR8BT6+q24dc9nfohgrYG/h6K/uFgfm3Af+zql64jWUYoyTNZrb9pPcCXwFeXlU/SPI6tj4TcpAxZ8x4yZuW0l8Dv5nksCQ7JHlUG2xyr6q6E/gs8I4kj0/yM0l+sZ0KLklT/SPdWT0vSvII4I/pximZzc+02DP5eCTdJWrfT/LGJDu1+PSMJL8yh+V9gW7sgFcnWZXkKODAgfl3Abu1gXklbWeq6l7gT+nGLnppkse2fZxnA48B/oXu0pEzkjwRujEnp4zhNtOyHwA+DvxJkkcn2R9YN1Dlk8AvJXlFkke0x68kedqIuylpvM22n/Q44PvA5iS/DLxqG8u6C3jyIrdXS8iEkpZMVd1G9wvdH9H9qnYb8J946HN4HN3tc28A7qEbTHePpW+ppL6rqvvoBnz8AHA73RlLG7f5os7L6c4GmHx8sx2U/Sbd9fq30J0x8AG6QXBna8dPgX9LN1DuvXRjxX2S7owEqurrdAN139zGJPAUbmk7U1V/BrweeANwN90B1X8F3gj87/Z3A3BlurtS/g/gqXNc/KvpLn/7Nt3NAT44sN4f0N3g5Bjgjlbn7cwt+S5JwIPJ623tJ/0h3QD/P6BLkH9sG4s7G9h/yDEx1WPZetgHSZK0EEmuAt5XVR+ctbIkSZK0QnmGkiRJC5Dk15P8XLvkbR3d7W4/s9ztkiRJkhaTg3JLkrQwTwUupLvs5JvAS9u4cJIkSdLY8pI3SZIkSZIkDcVL3iRJkiRJkjQUE0qSJEmSJEkayoodQ2n33XevffbZZ9Z6P/zhD3nMYx6z+A2ag760pS/tgP60pS/tgP60Za7tuOaaa75bVT+7BE1aMVZifBoF+9Nf49QXGK4/xqitGZ/Gg/3pL+PT/BmfxoP96a9FiU9VtSIfz33uc2surrjiijnVWwp9aUtf2lHVn7b0pR1V/WnLXNsBfKl6EBP69FiJ8WkU7E9/jVNfqobrjzHK+FRlf/punPpjfDI+Dcv+9Ns49Wcx4pOXvEmSJEmSJGkoJpQkSZIkSZI0FBNKkiRJkiRJGooJJUmSJEmSJA3FhJIkSZIkSZKGYkJJkiRJkiRJQ1m13A1YbNfdfh/Hn/KpkS7z1re9aKTLk7R9Mj5JkuZj1P8//N+hlcT9J6k/PENJkiRJkiRJQzGhJEmSJEnbkSTnJLk7ydemmfeHSSrJ7m06Sd6dZEOSryY5YKDuuiQ3tce6gfLnJrmuvebdSbI0PZO0lEwoSZIkLaEkT01y7cDj+0lel2TXJOvbgdn6JLu0+kMfzEnSLD4EHD61MMnewAuBbw0UHwHs1x4nAu9tdXcFTgMOAg4ETpuMW63OiQOve9i6JK18syaUzF5LkiSNTlV9o6qeXVXPBp4L3A98AjgFuLyq9gMub9Mwv4M5SZpRVX0e2DTNrDOANwA1UHYUcF51rgR2TrIHcBiwvqo2VdU9wHrg8Dbv8VX1haoq4Dzg6MXsj6TlMZdBuT8E/CVdIHjQHLLXB9Ht8Bw0sMOzhi44XZPkkhZ4JrPXVwKX0mWvPz3/LkmSJK0YhwDfrKp/SnIUsLaVnwtMAG9k4GAOuDLJ5MHcWtrBHECS9XT7UR9d0h5IGgtJXgLcXlX/MOU3/j2B2wamN7aybZVvnKZ8unWeSHcsyOrVq5mYmJi1nat3gpOfuWXWesOYy3oXy+bNm5d1/aNmf/prMfoya0Kpqj6fZJ9pZk1mry8eKBtqhyfJBC173cons9cmlCRJ0vbgGB5KAK2uqjsBqurOJE9s5cMezG1lPgds47QDDePXn1EfUC/3ezNO22el9iXJo4H/DBw63expymoe5Q8vrDoLOAtgzZo1tXbt2lnbeub5F/OO60Z7s/Jbj519vYtlYmKCufR7pbA//bUYfZnXN3E5steSJEnjJMmOwEuAU2erOk3ZnA/a5nPANk470DB+/Rn1AfVyHkzDeG2fFdyXXwT2BSaP7/YCvpzkQLpjtL0H6u4F3NHK104pn2jle01TX9KYGfo/0XJlr9u6V/QpkX35xaIv7YD+tKUv7YD+tKUv7ZCkMXYE8OWquqtN35Vkj3Z20h7A3a182IM5SRpKVV0HTJ4VSZJbgTVV9d0klwCvTnIB3bAm97U4dRnw1oGx2w4FTq2qTUl+kORg4CrgOODMpeyPpKUxn582li17vdJPiezLLxZ9aQf0py19aQf0py19aYckjbGXs/V4R5cA64C3tb8XD5TP+WBuSVouaUVL8lG647Pdk2wETquqs2eofilwJLCB7iYCrwRoiaM3A1e3em+aHOIEeBXdWLw70Q1n4pAm0hgaOtNi9lqSJGlh2hnfLwR+b6D4bcCFSU6gu+nJy1r5fA7mJGlGVfXyWebvM/C8gJNmqHcOcM405V8CnrGwVkrqu1kTSmavJUmSRquq7gd2m1L2Pbq7vk2tO/TBnCRJ0mKby13ezF5LWnGS/Efg39ONy3YdXYJ7D+ACYFfgy8ArquqnSR4JnAc8F/ge8DtVdWtbzqnACcADwB9U1WVL3BVJkiRJ6p2fWe4GSNKoJdkT+AO6y3GfAexAd2vutwNnVNV+wD10iSLa33uq6inAGa0eSfZvr3s6cDjwniQ7LGVfJEmSJKmPTChJGlergJ2SrAIeDdwJvAC4qM0/Fzi6PT+qTdPmH5LurgNHARdU1U+q6ha6y3kPXKL2S5IkSVJvjfb2Z5LUA1V1e5I/pxvU9kfAZ4FrgHurakurthHYsz3fE7itvXZLkvvoxjbZE7hyYNGDr9lKkhOBEwFWr17NxMTErO1cvROc/Mwts9YbxlzWu1g2b968rOsftXHqzzj1BcavP5IkSSuRCSVJY6fdUfIoYF/gXuBvgCOmqVqTL5lh3kzlDy+sOgs4C2DNmjW1du3aWdt55vkX847rRhuGbz129vUulomJCebS75VinPozTn2B8euPJEnSSuQlb5LG0W8At1TVd6rqn4GPA78G7NwugQPYC7ijPd8I7A3Q5j8B2DRYPs1rJEmSJGm7ZUJJ0jj6FnBwkke3sZAOAW4ArgBe2uqsAy5uzy9p07T5n2t3rbwEOCbJI5PsC+wHfHGJ+iBJkiRJveUlb5LGTlVdleQi4MvAFuArdJejfQq4IMlbWtnZ7SVnAx9OsoHuzKRj2nKuT3IhXTJqC3BSVT2wpJ2RJEmSpB4yoSRpLFXVacBpU4pvZpq7tFXVj4GXzbCc04HTR95ASZIkSVrBvORNkiRJkiRJQzGhJEmSJEmSpKGYUJIkSZIkSdJQTChJkiRJkiRpKCaUJEmSJGk7kuScJHcn+dpA2f+X5OtJvprkE0l2Hph3apINSb6R5LCB8sNb2YYkpwyU75vkqiQ3JflYkh2XrneSlooJJUmSpCWUZOckF7UDtxuT/GqSXZOsbwdf65Ps0uomybvbwdpXkxwwsJx1rf5NSdYtX48krUAfAg6fUrYeeEZV/SvgH4FTAZLsDxwDPL295j1JdkiyA/BXwBHA/sDLW12AtwNnVNV+wD3ACYvbHUnLYdaEktlrSZKkkXoX8Jmq+mXgWcCNwCnA5e3g6/I2Dd2B2n7tcSLwXoAkuwKnAQcBBwKnTSahJGk2VfV5YNOUss9W1ZY2eSWwV3t+FHBBVf2kqm4BNtDFnQOBDVV1c1X9FLgAOCpJgBcAF7XXnwscvagdkrQsVs2hzoeAvwTOGyhbD5xaVVuSvJ0ue/3GKdnrnwf+R5Jfaq94GeBTAAAgAElEQVT5K+CFwEbg6iSXVNUNPJS9viDJ++iy1+9deNckSZL6JcnjgecDxwO0g7CfJjkKWNuqnQtMAG+kO5A7r6oKuLKd3bRHq7u+qja15a6nO3Pgo0vVF0lj7d8BH2vP96RLME3a2MoAbptSfhCwG3DvQHJqsP5WkpxIlyxn9erVTExMzNqw1TvByc/cMmu9YcxlvYtl8+bNy7r+UbM//bUYfZk1oVRVn0+yz5Syzw5MXgm8tD1/MHsN3JJkMnsNLXsNkGQye30jXfb6d1udc4E/wYSSJEkaT08GvgN8MMmzgGuA1wKrq+pOgKq6M8kTW/09efgB257bKH+Y+RywjdMONIxff0Z9QL3c7804bZ9x6EuS/wxsAc6fLJqmWjH91S61jfoPL6w6CzgLYM2aNbV27dpZ23fm+Rfzjuvmcl7E3N167OzrXSwTExPMpd8rhf3pr8Xoyyi+iUuSvYaVn8Huyz+YvrQD+tOWvrQD+tOWvrRDksbMKuAA4DVVdVWSd/HQ5W3TmenAbFEP2MZpBxrGrz+jPqBezoNpGK/ts9L70sZjezFwSDszErpjtL0Hqu0F3NGeT1f+XWDnJKvacd5gfUljZEH/iZYyew0rP4Pdl38wfWkH9KctfWkH9KctfWmHJI2ZjcDGqrqqTV9El1C6K8ke7eykPYC7B+pPd8C2kYcukZssn1jEdksac0kOp7vU9ter6v6BWZcAH0nyTrphTfYDvkh3LLdfkn2B2+mGPvndqqokV9BdxXIBsA64eOl6ImmpzPsubwPZ62PnkL2eqfzB7PWUckmSpLFTVd8Gbkvy1FZ0CHAD3QHb5J3aBg++LgGOa3d7Oxi4r10adxlwaJJd2mDch7YySZpVko8CXwCemmRjkhPoxs19HLA+ybVtfFuq6nrgQrpY9RngpKp6oJ199Gq62HMjcGGrC11i6vVtCJTdgLOXsHuSlsi8Tt0xey1JkjRvrwHOb3e2vRl4Jd2PfBe2g7pvAS9rdS8FjqS7q9L9rS5VtSnJm4GrW703TQ7QLUmzqaqXT1M8Y9Knqk4HTp+m/FK6ODW1/GYeGktX0piaNaHUstdrgd2TbKS7Re2pwCPpstcAV1bVf6iq65NMZq+30LLXbTmT2esdgHOmZK8vSPIW4CuYvZYkSWOsqq4F1kwz65Bp6hZw0gzLOQc4Z7StkyRJmpu53OXN7LUkSZIkSZIeNO8xlCRJkiRJkrR9MqEkSZIkSZKkoZhQkiRJkiRJ0lBMKEmSJEmSJGkosw7KLUmSpO3Ldbffx/GnfGqky7z1bS8a6fIkSdLy8gwlSZIkSZIkDcWEkiRJkiRJkoZiQkmSJEmSJElDMaEkSZIkSZKkoZhQkiRJkiRJ0lBMKEmSJEmSJGkoJpQkSZIkSZI0FBNKkiRJkrQdSXJOkruTfG2gbNck65Pc1P7u0sqT5N1JNiT5apIDBl6zrtW/Kcm6gfLnJrmuvebdSbK0PZS0FEwoSZIkLbEkt7aDrWuTfKmVjexgTpJm8SHg8CllpwCXV9V+wOVtGuAIYL/2OBF4L3QxCzgNOAg4EDhtMm61OicOvG7quiSNgVkTSmavJa1ESXZOclGSrye5McmverAmqWf+TVU9u6rWtOlRHsxJ0oyq6vPApinFRwHntufnAkcPlJ9XnSuBnZPsARwGrK+qTVV1D7AeOLzNe3xVfaGqCjhvYFmSxshczlD6EGavJa087wI+U1W/DDwLuBEP1iT120gO5pa60ZLGxuqquhOg/X1iK98TuG2g3sZWtq3yjdOUSxozq2arUFWfT7LPlOKjgLXt+bnABPBGBnZ4gCvbGQJ7tLrrq2oTQJLJ7PUELXvdyiez159eSKckbd+SPB54PnA8QFX9FPhpkpHELuCjS9UXSWOrgM8mKeC/VtVZTDmYSzLfg7mtJDmRLlnO6tWrmZiYmLVxq3eCk5+5Zdg+bdNc1rtYNm/evKzrH7VRb5/lfm/GafuMU18GTHcFSc2j/OELNj6N3WfG/vTXYvRl1oTSDEa1wzNU9nqlB5y+fBj70g7oT1v60g7oT1v60o55ejLwHeCDSZ4FXAO8lkU6WIOVH59GYYV/Zh5mnPozTn2BsenP86rqjhaH1if5+jbqLuigrSWrzgJYs2ZNrV27dtbGnXn+xbzjuvnuJk7v1mNnX+9imZiYYC79XilGvX2Wc9vAeG2fFd6Xu5Ls0faR9gDubuUbgb0H6u0F3NHK104pn2jle01T/2GMTyv+M/Mw9qe/FqMvo/0mLmL2GlZ+wOnLh7Ev7YD+tKUv7YD+tKUv7ZinVcABwGuq6qok7+Khy9ums+AYtdLj0yis8M/Mw4xTf8apLzAe/amqO9rfu5N8gu6y2lEdzEnSfFwCrAPe1v5ePFD+6iQX0A0DcF+LU5cBbx0YDuBQ4NSq2pTkB0kOBq4CjgPOXMqOSFoa873L211tR4chdnhmKp9T9lqShrAR2FhVV7Xpi+gSTKOKXZI0b0kek+Rxk8/pDsK+xkMHc/Dwg7nj2g0EDqYdzAGXAYcm2aUd0B3ayiRpm5J8FPgC8NQkG5OcQJdIemGSm4AXtmmAS4GbgQ3A+4HfB2hDArwZuLo93jQ5TADwKuAD7TXfxCFNpLE035/GzV5L6q2q+naS25I8taq+ARwC3NAeC45dS9kXSWNpNfCJdmPbVcBHquozSa4GLmwHdt8CXtbqXwocSXdgdj/wSugO5pJMHszB1gdzkjSjqnr5DLMOmaZuASfNsJxzgHOmKf8S8IyFtFFS/82aUGrZ67XA7kk20t3x6G2MbofnVXR3ktuJLnNt9lrSKLwGOD/JjnS/qr2S7qxMD9YkLauqupnu7pNTy7/HiA7mJEmSFttc7vJm9lrSilNV1wJrppnlwZokSZIkLdB8x1CSJEmSJEnSdsqEkiRJkiRJkoZiQkmSJEmSJElDMaEkSZIkSZKkoZhQkiRJkiRJ0lBMKEmSJEmSJGkoq5a7AZIk9dF1t9/H8ad8amTLu/VtLxrZsiRJkqTl5hlKkiRJkiRJGooJJUmSJEmSJA3FhJIkSZIkSZKGYkJJkiRJkiRJQzGhJEmSJEmSpKGYUJIkSZIkAZDkPya5PsnXknw0yaOS7JvkqiQ3JflYkh1b3Ue26Q1t/j4Dyzm1lX8jyWHL1R9Ji2dBCSWDjSRJ0vCS7JDkK0k+2abdf5K07JLsCfwBsKaqngHsABwDvB04o6r2A+4BTmgvOQG4p6qeApzR6pFk//a6pwOHA+9JssNS9kXS4pt3QslgI0mSNG+vBW4cmHb/SVJfrAJ2SrIKeDRwJ/AC4KI2/1zg6Pb8qDZNm39IkrTyC6rqJ1V1C7ABOHCJ2i9piSz0kjeDjSRJ0hCS7AW8CPhAmw7uP0nqgaq6Hfhz4Ft0x3b3AdcA91bVllZtI7Bne74ncFt77ZZWf7fB8mleI2lMrJrvC6vq9iSTweZHwGcZItgkGQw2Vw4s2mAjSZLG2V8AbwAe16Z3YxH3n5KcCJwIsHr1aiYmJmZt4Oqd4ORnbpm13jDmst7Fsnnz5mVd/6iNevss93szTttnpfclyS50Cet9gXuBvwGOmKZqTb5khnkzlU9dn/FphX9mprI//bUYfZl3Qmmpg01b54oOOH35MPalHdCftvSlHdCftvSlHZI0TpK8GLi7qq5JsnayeJqqI9t/qqqzgLMA1qxZU2vXrp2u2lbOPP9i3nHdvHcTp3XrsbOvd7FMTEwwl36vFKPePsu5bWC8ts8Y9OU3gFuq6jsAST4O/Bqwc5JVLfG9F3BHq78R2BvY2K5aeQKwaaB80uBrHmR8GovPzFbsT38tRl8W8k1c0mADKz/g9OXD2Jd2QH/a0pd2QH/a0pd2SNKYeR7wkiRHAo8CHk93xtKi7T9J0hC+BRyc5NF0V6EcAnwJuAJ4KXABsA64uNW/pE1/oc3/XFVVkkuAjyR5J/DzwH7AF5eyI5IW30LGUHow2LRr+Q8BbuChYAPTBxsYCDat/Jh2F5N9MdhIkqQxVVWnVtVeVbUP3aDan6uqY3H/SVIPVNVVdOO1fRm4ju548SzgjcDrk2ygu+z27PaSs4HdWvnrgVPacq4HLqQ7PvwMcFJVPbCEXZG0BBYyhtJVSSaDzRbgK3TB5lPABUne0soGg82HW7DZRLcTRVVdn2Qy2GzBYCNJkrY/b8T9J0k9UFWnAadNKb6ZaQb+r6ofAy+bYTmnA6ePvIGSemNB14IZbCRJkuanqiaAifbc/SdJkrSiLOSSN0mSJEmSJG2HTChJkiRJkiRpKCaUJEmSJEmSNBQTSpIkSZIkSRqKCSVJkiRJkiQNxYSSJEmSJEmShmJCSZIkSZIkSUMxoSRpbCXZIclXknyyTe+b5KokNyX5WJIdW/kj2/SGNn+fgWWc2sq/keSw5emJJEmSJPWLCSVJ4+y1wI0D028Hzqiq/YB7gBNa+QnAPVX1FOCMVo8k+wPHAE8HDgfek2SHJWq7JEmSJPWWCSVJYynJXsCLgA+06QAvAC5qVc4Fjm7Pj2rTtPmHtPpHARdU1U+q6hZgA3Dg0vRAkiRJkvpr1XI3QJIWyV8AbwAe16Z3A+6tqi1teiOwZ3u+J3AbQFVtSXJfq78ncOXAMgdfs5UkJwInAqxevZqJiYlZG7h6Jzj5mVtmrTeMuax3sWzevHlZ1z9qo94+bpvRGbf+SJIkrUQmlCSNnSQvBu6uqmuSrJ0snqZqzTJvW6/ZurDqLOAsgDVr1tTatWunq7aVM8+/mHdcN9owfOuxs693sUxMTDCXfq8Uo94+bpvRGbf+SJIkrUQmlCSNo+cBL0lyJPAo4PF0ZyztnGRVO0tpL+COVn8jsDewMckq4AnApoHySYOvkSRJkqTtlmMoSRo7VXVqVe1VVfvQDar9uao6FrgCeGmrtg64uD2/pE3T5n+uqqqVH9PuArcvsB/wxSXqhiRJ0pJLsnOSi5J8PcmNSX41ya5J1rc75a5PskurmyTvbnfE/WqSAwaWs67VvynJupnXKGmlWlBCyWAjaYV5I/D6JBvoxkg6u5WfDezWyl8PnAJQVdcDFwI3AJ8BTqqqB5a81ZLGSpJHJflikn9Icn2SP23l+ya5qu0PfSzJjq38kW16Q5u/z8CyTm3l30hy2PL0SNKYeRfwmar6ZeBZdHfMPQW4vN0p9/I2DXAE3Q9u+9GNJflegCS7AqcBB9Hd0OS0yeNCSeNjoWcoGWwk9VpVTVTVi9vzm6vqwKp6SlW9rKp+0sp/3Kaf0ubfPPD606vqF6vqqVX16eXqh6Sx8hPgBVX1LODZwOFJDgbeDpzR9qHuAU5o9U8A7qmqpwBntHok2Z/uLMynA4cD70myw5L2RNJYSfJ44Pm0H92q6qdVdS9b3xF36p1yz6vOlXTDC+wBHAasr6pNVXUPsJ4uTkkaI/NOKBlsJEmShtf2hTa3yUe0RwEvAC5q5VP3oSb3rS4CDkmSVn5BVf2kqm4BNtD9OCdJ8/Vk4DvAB5N8JckHkjwGWF1VdwK0v09s9R+8U24zeUfcmcoljZGFDMo9GGyeBVwDvJYpwSaJwUaSJGlAO5PoGuApwF8B3wTubTcNgK33hx7cV6qqLUnuo7tsd0/gyoHFTrsPleREurPDWb16NRMTE7O2b/VOcPIzt8xabxhzWe9i2bx587Kuf9RGvX2W+70Zp+0zBn1ZBRwAvKaqrkryLh664mQ6C7pTrvFpLD4zW7E//bUYfVlIQmlJgw2s/IDTlw9jX9oB/WlLX9oB/WlLX9ohSeOojcf27CQ7A58AnjZdtfZ3QftQVXUWcBbAmjVrau3atbO278zzL+Yd1432ZsC3Hjv7ehfLxMQEc+n3SjHq7bOc2wbGa/uMQV82Ahur6qo2fRHdMd5dSfZoJwzsAdw9UH+6O+JuBNZOKZ+YujLj01h8ZrZif/prMfqykG/ikgYbWPkBpy8fxr60A/rTlr60A/rTlr60Q5LGWVXdm2QCOJhuOIBV7Sylyf0keGgfamOSVcATgE3MvG8lSfNSVd9OcluSp1bVN4BD6G5OcgPdHXHfxsPvlPvqJBfQjYl7XzsOvAx468DYuIcCpy5lXyQtvnmPoVRV3wZuS/LUVjQZbAZvvz012BzX7vZ2MC3YAJcBhybZpQWcQ1uZJEnS2Enys+3MJJLsBPwG3Y1NrgBe2qpN3Yea3Ld6KfC5qqpWfky7C9y+dDc++eLS9ELSGHsNcH6Sr9LdOOCtdImkFya5CXhhmwa4FLiZbgy39wO/D1BVm4A3A1e3x5tamaQxstBTdyaDzY50geSVdEmqC5OcAHwLeFmreylwJF2wub/Vpao2JZkMNmCwkSRJ420P4Nw2jtLPABdW1SeT3ABckOQtwFdoNz5pfz+cZAPdmUnHAFTV9UkupPtBbwtwUruUTpLmraquBdZMM+uQaeoWcNIMyzkHOGe0rZPUJwtKKBlsJEmShlNVXwWeM035zUxzl7aq+jEP/UA3dd7pwOmjbqMkSdJs5n3JmyRJkiRJkrZPJpQkSZIkSZI0FBNKkiRJkiRJGooJJUmSJEmSJA3FhJIkSZIkSZKGYkJJkiRJkiRJQzGhJEmSJEmSpKGYUJIkSZIkSdJQTChJkiRJkiRpKCaUJEmSJEmSNBQTSpIkSZIkSRqKCSVJkiRJkiQNxYSSJEmSJEmShrJquRsgSZIkScthn1M+NdLlfejwx4x0ecshyQ7Al4Dbq+rFSfYFLgB2Bb4MvKKqfprkkcB5wHOB7wG/U1W3tmWcCpwAPAD8QVVdtvQ9kbTYFnyGUpIdknwlySfb9L5JrkpyU5KPJdmxlT+yTW9o8/cZWMaprfwbSQ5baJskSZL6KMneSa5IcmOS65O8tpXvmmR9239an2SXVp4k7277SV9NcsDAsta1+jclWbdcfZI0dl4L3Dgw/XbgjKraD7iHLlFE+3tPVT0FOKPVI8n+wDHA04HDgfe0JJWkMTOKS94MOJIkSXOzBTi5qp4GHAyc1PaFTgEub/tPl7dpgCOA/drjROC90CWggNOAg4ADgdMmk1CSNF9J9gJeBHygTQd4AXBRq3IucHR7flSbps0/pNU/Crigqn5SVbcAG+jilKQxs6CEkgFHkiRp7qrqzqr6cnv+A7of5fZk6/2kqftP51XnSmDnJHsAhwHrq2pTVd0DrKf7YU6SFuIvgDcA/9KmdwPuraotbXojXcyi/b0NoM2/r9V/sHya10gaIwsdQ2ky4DyuTc854CQZDDhXDixzxoCT5ES6X+dYvXo1ExMTszZw9U5w8jO3zFpvGHNZ73Q2b94879eOUl/aAf1pS1/aAf1pS1/aIUnjql3+/xzgKmB1Vd0JXdIpyRNbtZkOzOZ8wLbS959GYdz+p416+yz3e7Oc22fUn/OV/FlL8mLg7qq6JsnayeJpqtYs87b1mqnrND6t4M/MdOxPfy1GX+adUFqOgFNVZwFnAaxZs6bWrl07XbWtnHn+xbzjutGOPX7rsbOvdzoTExPMpc2LrS/tgP60pS/tgP60pS/tkKRxlOSxwN8Cr6uq73cnbU9fdZqy7Wr/aRTG7X/aqLfPcm4bWN7tc/wiDMq9gj9rzwNekuRI4FHA4+lOINg5yap20sBewB2t/kZgb2BjklXAE4BNA+WTBl+zFePT+MUn+9Nfi9GXhVzyNhlwbqUb9f8FDAScVme6gMN8A44kSdJKl+QRdMmk86vq4634rnYpG+3v3a18pv0k958kjVRVnVpVe1XVPnRj3H6uqo4FrgBe2qqtAy5uzy9p07T5n6uqauXHtJsy7Us3BtwXl6gbkpbQvBNKBhxJkqThtPEjzwZurKp3Dswa3E+auv90XLvb28HAfe3SuMuAQ5Ps0gbjPrSVSdKovRF4fZINdEOWnN3KzwZ2a+Wvp91MoKquBy4EbgA+A5xUVQ8seaslLbrRnivYeSNwQZK3AF9h64Dz4RZwNtEloaiq65NMBpwtGHAkSdL4eh7wCuC6JNe2sj8C3gZcmOQE4FvAy9q8S4Ej6W5acj/wSoCq2pTkzcDVrd6bqmrT0nRB0rirqglgoj2/mWlumlRVP+ahWDV13unA6YvXQkl9MJKEkgFHUp8k2Rs4D/g5uruUnFVV72q32f4YsA9wK/DbVXVPO2PgXXQHbfcDx0/ehSnJOuCP26LfUlXnIknzVFV/z/TjHwEcMk39Ak6aYVnnAOeMrnWSJElzt5AxlCSpr7YAJ1fV04CDgZOS7E93KvblVbUfcHmbBjiC7nLb/ejuNPJegJaAOg04iC5Rflq7tESSJEmStmsmlCSNnaq6c/IMo6r6AXAj3e20jwImzzA6Fzi6PT8KOK86V9LdXGAP4DBgfVVtqqp7gPXA4UvYFUmSJEnqpcUYQ0mSeiPJPsBzgKuA1W0wW6rqziRPbNX2BG4beNnGVjZT+XTrOZHu7CZWr17NxMTErG1bvROc/Mwtc+/MHMxlvYtl8+bNy7r+URv19nHbjM649UeSJGklMqEkaWwleSzdrblfV1Xf74ZKmr7qNGW1jfKHF1adBZwFsGbNmlq7du2s7Tvz/It5x3WjDcO3Hjv7ehfLxMQEc+n3SjHq7eO2GZ1x648kSdJK5CVvksZSkkfQJZPOr6qPt+K72qVstL93t/KNwN4DL98LuGMb5ZIkSZK0XTOhJGnstLu2nQ3cWFXvHJh1CbCuPV8HXDxQflw6BwP3tUvjLgMOTbJLG4z70FYmSZIkSds1L3mTNI6eB7wCuC7Jta3sj4C3ARcmOQH4FvCyNu9S4EhgA3A/8EqAqtqU5M3A1a3em6pq09J0QZIkSZL6y4SSpLFTVX/P9OMfARwyTf0CTpphWecA54yudZIkSZK08nnJmyRJkiRJkoZiQkmSJEmSJElDMaEkSZIkSZKkoZhQkiRJkiRJ0lBMKEmSJEmSJGkoJpQkSZIkSSTZO8kVSW5Mcn2S17byXZOsT3JT+7tLK0+SdyfZkOSrSQ4YWNa6Vv+mJOuWq0+SFs+8E0oGG0mSpOElOSfJ3Um+NlDm/pOkPtgCnFxVTwMOBk5Ksj9wCnB5Ve0HXN6mAY4A9muPE4H3QhfTgNOAg4ADgdMm45qk8bGQM5QMNpIkScP7EHD4lDL3nyQtu6q6s6q+3J7/ALgR2BM4Cji3VTsXOLo9Pwo4rzpXAjsn2QM4DFhfVZuq6h5gPQ+Pe5JWuHknlAw2kiRJw6uqzwObphS7/ySpV5LsAzwHuApYXVV3QnccCDyxVdsTuG3gZRtb2UzlksbIqlEsZFvBJsnIgk2SE+l+nWP16tVMTEzM2rbVO8HJz9wy987MwVzWO53NmzfP+7Wj1Jd2QH/a0pd2QH/a0pd2SNJ2wv2nRTRu/9NGvX2W+71Zzu0z6s/5uHzWkjwW+FvgdVX1/SQzVp2mrLZRPnU9xqcx+cxMsj/9tRh9WXBCaamCDUBVnQWcBbBmzZpau3btrO078/yLecd1I8mbPejWY2df73QmJiaYS5sXW1/aAf1pS1/aAf1pS1/aIUnbue1+/2kUxu1/2qi3z3JuG1je7XP8KZ8a6fI+dPhjVvxnLckj6I7vzq+qj7fiu5Ls0RLeewB3t/KNwN4DL98LuKOVr51SPjF1Xcan8YtP9qe/FqMvC7rL27aCTZs/12AzXbkkSdL2wv0nScsu3dkBZwM3VtU7B2ZdAkwO/r8OuHig/Lh2A4GDgfva2ZaXAYcm2aWN73ZoK5M0RhZylzeDjSRJ0mi4/ySpD54HvAJ4QZJr2+NI4G3AC5PcBLywTQNcCtwMbADeD/w+QFVtAt4MXN0eb2plksbIQs4VnAw21yW5tpX9EV1wuTDJCcC3gJe1eZcCR9IFm/uBV0IXbJJMBhsw2EiSpDGW5KN0l4LsnmQj3d3a3H+StOyq6u+Z/pJagEOmqV/ASTMs6xzgnNG1TlLfzDuhZLCRJEkaXlW9fIZZ7j9JkqQVY0FjKEmSJEmSJGn7M9rh8SVJkgbsM+I7KEF3FyVJkiQtL89QkiRJkiRJ0lBMKEmSJEmSJGkoJpQkSZIkSZI0FBNKkiRJkiRJGooJJUmSJEmSJA3FhJIkSZIkSZKGYkJJkiRJkiRJQzGhJEmSJEmSpKGYUJIkSZIkSdJQVi13AyRJkiRJ0sp33e33cfwpnxrpMm9924tGujyNjmcoSZIkSZIkaSi9SSglOTzJN5JsSHLKcrdHkiYZnyT1lfFJUl8Zn6Tx14tL3pLsAPwV8EJgI3B1kkuq6oblbdn09pnnKXwnP3PLtKf/eQqf1F8rLT5J2n4YnyT1lfFJ2j705QylA4ENVXVzVf0UuAA4apnbJElgfJLUX8YnSX1lfJK2A704QwnYE7htYHojcNAytUWSBhmfJPWV8UlSXxmfpAWa75VRM/nQ4Y8Z6fKgPwmlTFNWD6uUnAic2CY3J/nGHJa9O/DdBbRtZP5ghrbk7UvelN68J/SnLX1pB/SnLXNtx5MWuyHLbEXFp2WIJ4P68tkdlZH2x20zOv/m7UP1Z5xjlPFp7sbqO8B4xScYo+1jfHqQ8Wnuxubz37h9emox4lNfEkobgb0HpvcC7phaqarOAs4aZsFJvlRVaxbWvNHoS1v60g7oT1v60g7oT1v60o4e2C7i0yjYn/4ap77A+PVnAYxPc2R/+m2c+jNOfVkg49Mc2Z9+G6f+LEZf+jKG0tXAfkn2TbIjcAxwyTK3SZLA+CSpv4xPkvrK+CRtB3pxhlJVbUnyauAyYAfgnKq6fpmbJUnGJ0m9ZXyS1FfGJ2n70IuEEkBVXQpcugiLHuoUykXWl7b0pR3Qn7b0pR3Qn7b0pR3LbjuJT6Ngf/prnPoC49efeTM+zZn96bdx6s849WVBjE9zZn/6bZz6M/K+pOphY6NJkiRJkiRJM+rLGEqSJEmSJElaIcY6oZTk8CTfSLIhySlLsL5bk1yX5NokX2pluyZZn+Sm9neXVp4k725t+2qSAxa47nOS3KUlXCYAACAASURBVJ3kawNlQ687ybpW/6Yk60bUjj9Jcnt7X65NcuTAvFNbO76R5LCB8gVtuyR7J7kiyY1Jrk/y2mV8T2Zqy5K+L0keleSLSf6hteNPW/m+Sa5q/ftYGziRJI9s0xva/H1ma58ebrrvxJT5I40Fi20O/Vmb5L6Bz/V/Weo2ztVM380pdVbM9pljf1bS9pk2Zk2pM2Oc0uyMT/39/MN4xSjjk/FpWMan/n7+wfjU5+2z5PGpqsbyQTf42zeBJwM7Av8A7L/I67wV2H1K2Z8Bp7TnpwBvb8+PBD4NBDgYuGqB634+cADwtfmuG9gVuLn93aU932UE7fgT4A+nqbt/2y6PBPZt22uHUWw7YA/ggPb8ccA/tvUtx3syU1uW9H1pfXtse/4I4KrW1wuBY1r5+4BXtee/D7yvPT8G+Ni22reY362V/JjuOzFl/khjQQ/6sxb45HK3c459mfa7uVK3zxz7s5K2z7Qxa0qdaeOUjzm/x8anHj/GKUYZn4xP83iPjU89fhif+vtY6vg0zmcoHQhsqKqbq+qnwAXAUcvQjqOAc9vzc4GjB8rPq86VwM5J9pjvSqrq88CmBa77MGB9VW2qqnuA9cDhI2jHTI4CLqiqn1TVLcAGuu224G1XVXdW1Zfb8x8ANwJ7sjzvyUxtmcmivC+tb5vb5CPao4AXABe18qnvyeR7dRFwSJJso32axhy+EyONBYttyO94r83xu7lits88Yk2vbSNmDZopTmkOjE/9Nk4xyvhkfBqW8anfjE/9tdTxaZwTSnsCtw1Mb2TxPxgFfDbJNUlObGWrq+pO6D6swBOXsH3Drnsx2/TqdqrjOWmXmS1VO9opfM+hy84u63sypS2wxO9Lkh2SXAvcTZcc+yZwb1VtmWaZD66vzb8P2G0U7dBWxvH9/NV2mu2nkzx9uRszF9N8NyetyO2zjf7ACto+U2NWVc24fabEKY3Givz8z2LFfP4HjVOMMj5pRFbcZ38OVsznf5DxqX+WMj6Nc0JpugzbYt/S7nlVdQBwBHBSkudvo+5ytG+2dS9Wm94L/CLwbOBO4B1L1Y4kjwX+FnhdVX1/W1WXoS1L/r5U1QNV9WxgL7qzip62jWUu9edkezVu7+eXgSdV1bOAM4H/tsztmdUscWLFbZ9Z+rOits/UmJXkGVOqrLjts8KM2/u7oj7/k8YpRhmf+rttVqBxe39X1Od/kvGpn5YyPo1zQmkjsPfA9F7AHYu5wqq6o/29G/gE3QH7XZOn9rW/dy9h+4Zd96K0qaruah/qfwHez0OXRy1qO5I8gi4onF9VH2/Fy/KeTNeW5Xpf2rrvBSbormfeOcmqaZb54Pra/CfQnaq75N+tMTdW72dVfX/yNNuquhR4RJLdl7lZM5ohTgxaUdtntv6stO0zaSBmTb3keKY4pdFYUZ//2azEz/84xSjjk/FpxFbMZ38uVuLn3/jU7+0DSxOfxjmhdDWwX7o7WO1IN9jUJYu1siSPSfK4yefAocDX2jon7wy2Dri4Pb8EOC6dg4H7Ji/FGqFh130ZcGiSXdrlV4e2sgWZcq3sb9G9L5PtOKaNMr8vsB/wRUaw7do1oGcDN1bVOwdmLfl7MlNblvp9SfKzSXZuz3cCfoPuGuErgJe2alPfk8n36qXA56qqttE+zc9SxIIlk+Tn2meeJAfS/Z/53vK2anrbiBODVsz2mUt/Vtj2mS5mfX1KtZnilEZjxXz+52Ilff5hvGKU8cn4tAhWxGd/rlbS5x+MT/R4+yx1fFo1e5WVqaq2JHk13cH/DsA5VXX9Iq5yNfCJ9jlbBXykqj6T5GrgwiQnAN8CXtbqX0o38v0G4H7glQtZeZKP0o0+v3uSjcBpwNuGWXdVbUryZrrEBcCbqmqoTOUM7Vib5Nl0p9HdCvxeW9/1SS4EbgC2ACdV1QNtOQvdds8DXgFcl+76UYA/Yhnek2205eVL/L7sAZybZAe6IHhhVX0yyQ3ABUneAnyFLqDS/n44yQa6jPUxs7VPDzfDd+IRAFX1PkYcCxbbHPrzUuBVSbYAP6K7g2Bfd6Bn+m7+AqzI7TOX/qyk7TNTzHoT8KWquoQZ4pTmxvjU688/jFeMMj4Zn4ZifOr15x+MT33ePksan9Lf90GSJEmSJEl9NM6XvEmSJEmSJGkRmFCSJEmSJEnSUEwoSZIkSZIkaSgmlCRJkiRJkjQUE0qSJEmSJEkaigklSZIkSZIkDcWEkiRJkiRJkoZiQkmSJEmSJElDMaEkSZIkSZKkoZhQkiRJkiRJ0lBMKEmSJEmSJGkoJpQkSZIkSZI0FBNKkiRJkiRJGooJJUmSJEmSJA3FhJIkSZIkSZKGYkJJkiRJkiRJQzGhJEmSJEmSpKGYUJIkSZIkSdJQTChJkiRJkiRpKCaUJEmSJEmSNBQTSpIkSZIkSRqKCSUtuSSfTrJukZa9OcmTF2PZkvonyUSSf7/c7ZCkvnLfSJK0WEwobUeS3Jrkp0l2n1J+bZJKss8sr9+n1Vu1kHZU1RFVdW5b5vFJ/n6ur02yc5Jzknw7yQ+S/GOSNw4s+7FVdfNC2iepf1r8+lE7MLoryQeTPHYEy/yNebxuIsk9SR65HOuX1H9t/+a6JPe3fZb3JHnCEqz3YUn2wX2jJB9K8pbFboeklS/Jv07yv5Pcl2RTkv+V5Ffmcfw2kmNI9ZMJpe3PLcDLJyeSPBPYaSlWnM5CP3NnAI8FngY8AXgJ8M2Ftk3SivCbVfVY4ADgV4A/XuoGtMT7/wEUXfyRpK0kORl4O/Cf6PZVDgb2AT6b5BHL2DRJmpMkjwc+CZwJ7ArsCfwp8JPlbJf6x4TS9ufDwHED0+uA8yYnkrwoyVeSfD/JbUn+ZKDu59vfe9tZAr+a5E+S/PXA67fKQLdfyk5P8r+A+4EnT/56luRpwPuAX23Lu7dlve8azGAn+T+TXNsmfwX4SFXdU1X/UlVfr6qLBupWkqck+fm2zMnH/UlqoN6/S3JjO8vgsiRPWtjbKmmpVNXtwKeBZ7SiJ7VfzX6Q5LODZ2EmeUmS61t8mWhxhyQfBn4B+O8tRrxhW/UHHAdcCXyILn4+qP3y/552We/m1qafS/IXLdZ8PclztrV+SStbOwj7U+A1VfWZqvrnqroV+G1gX+B3p54llGRtko0D06ck+WaLaTck+a2Beccn+fskf97iyi1JjmjzTqdLeP9liyt/2con941OBI4F3tDm//ck/ynJ307pw5lJ/mKx3iNJK8IvAVTVR6vqgar6UVV9Fvhnphy/wfDHkO01Ho+NARNK258rgccneVqSHYDfAf56YP4P6Q6YdgZeBLwqydFt3vPb353b6dNfmOM6XwGcCDwO+KfJwqq6EfgPwBfa8nauqquB7wEvHHj9/0WXCJts/+lJXplkv5lWWFV3tGU+tp3R8AngAoDWnz8C/i3ws8DfAR+dY18kLbMkewNHAl9pRb8LvBJ4IrAj8Iet3i/RfbdfR/ddv5QugbNjVb0C+BbtrKeq+rNt1R9Y/XHA+e1xWJLVU5r323RnTu1O9yveF4Avt+mLgHcCTLf+Ubw3kpbdrwGPAj4+WFhVm+kS4YfOYRnfpEsMPYEuOfXXSfYYmH8Q8A26uPJnwNlJUlX/mW6f5tUtrrx6ShvOootdf9bm/ybdPuDhSXYGaD/o/Q4P7XdJ2j79I/BAknOTHJFkF5j++K3VH+oY0uOx8WFCafs0eZbSC4GvA7dPzqiqiaq6rp3981W6L/avL3B9H6qq66tqS1X98xzqn0uXRCLJrsBhwEfavNfQ7Qy9GrghyYbJX+Zmkm6MpV8G/l0r+j3g/62qG6tqC/BW4NlmxaXe+2/tl7C/B/4n3XcX4INV9Y9V9SPgQuDZrfx3gE9V1foWe/6c7hLfX5th+dusn+RfA08CLqyqa+gO+n53yjI+UVXXVNWP6RLZP66q86rqAeBjwHMW+B5I6rfdge+2/Yup7qQ7cNqmqvqb9sPYv1TVx4CbgAMHqvxTVb2/xZVzgT2AqcntOamqO+nOHnhZKzq8tf+a+SxP0nioqu8D/5ruEv/3A99Jcsk0P6RN1h/2GNLjsTFhQmn79GG6g6DjGbjcDSDJQUmuSPKdJPfRZaB3f/gihnLbkPX/GvjNdAPu/jbwd22Hh3a65Vur6rnAbnQHj3/TEk8P05JNrwWObgeb0B0Qvqtd0nIvsAkI3bXBkvrr6HYm45Oq6vcHvtPfHqhzP904awA/z9ZnRf4LXTya6bs+W/11wGer6rtt+iNMuewNuGvg+Y+mmV7QQOKSeu+7wO6ZfvDZPYDvzLaAJMelu2HK5H7KM9h6X+zBmFdV97enC4ktD/6Qx9ZnhUvajrVkz/FVtRddHPp5YNrLYedxDOnx2JgwobQdqqp/ohuc+0imnJJNd4B0CbB3VT2B7hrZTL50msX9EHj0wPTPTbfKbTVnmvbdTneZyG/RXS437Y5Ny5y/FXgM3bgEW0nyVLqdpN+uqsGk1m3A77UD08nHTlX1v7fRTkkrzx10OyxAd2MAYG8eOitzavyZsX6SnegS3L+e7o5N3wb+I/CsJM+aZ/u2FRslrUxfoLvc9d8OFiZ5DHAE3dmVM+47tV/n3093JvZu7XKSr/HQvthsZosr083/b8C/SvIM4MV0Z4JL0oOq6ut040c+g+njyLDHkB6PjQkTStuvE4AXVNUPp5Q/DthUVT9OciBbX87xHeBfgCcPlF0LPD/JL6S7He6pQ7bjLmCvKWOUQHfm1BuAZ9JdNgJAkv8n3cDdOyZ5FN3ZR/fSjSXAQL3HAxcDf1xVU29r+T7g1CRPb3WfkORlSBo3FwIvSnJIujsrnUx3oDe5s3IXW8ezbdU/GngA2J/ukrpn091t8u/Y+kYHw5i6fkkrXFXdRzfu0ZlJDk/yiHR3h/wburOXzqfbdzoyya5Jfo5u3LZJj6E7+PoOQJJX8tANCOZitrjysPntEt2L6A4Iv1hV3xpifZLGUJJfTnJykr3a9N50dwq/kumP34Y9hvR4bEyYUNpOVdU3q+pL08z6feBNSX4A/Be6A6zJ19wPnA78r3Z64sFVtZ5uXJCvAtfQ3V5yGJ8Drge+neS7A+WfoDtT4BNTkl4FfJBup+wOunGgXtQGuxx0APBU4J35/9m793i5yvrQ/5+vRBCNyNU0JthgSbUoFTEFrK3NAbmI1thTsCiVoLScVry04hHweIpVsdgjIkLVgxIJFgmIWqiiEIH989gCIhdBQCVCChEENQGJeAt+f3+sZ2CymX2Z2XNZM/vzfr3mtWc961lrvmvt2c9e61nPpWm2t3IcX6CazndVRPyU6snfpOMwSRo+mfldqu4bp1OVGX9KNQj2r0qWfwLeVcqzt0+RfznVWE13ZeYPGy/gDODwCbq3TGWzz5/JsUqqjzLI/jupxmF7iKpV+JOBl5Zrmk8D3wLWApdRXUc1tr0VOIWqpdN9VA/W/qONjz8NOKTMmvSRFuvPAnYr5c6/NaWvLJ9ldzdJUJVdewPXRMTPqCqSvk31sK3V/Vu795Dej42IyLTFveopIr5P1RTyq4OORZIkqRMR8QaqVksvrmvrn4h4JtVELb9VhhSQJGlKnTxRlXouIv6cqjXSFYOORZIkqVOZuSIifk01Y2TtKpQi4gnA24BVViZJktphhZJqJyLGqMYpeV2ZZUmSJGloZWYtu5KVwcLvo5rh8qABhyNJGjJ2eZMkSZIkSVJbHJRbkiRJkiRJbRnaLm877rhjLlq0aMp8P/vZz3jKU57S+4CmoS6x1CUOqE8sdYkD6hPLdOO47rrrfpyZO/UhpKFh+TT8cUB9YqlLHFCfWNqJwzJqc9Mtn4ZNXb6b3TaqxwWje2yWT53bcccdc6eddhrK78Uwfp+HMWYYzriHMeZpl0+ZOZSvF77whTkdV1555bTy9UNdYqlLHJn1iaUucWTWJ5bpxgF8M2tQJtTpZfnUubrEkVmfWOoSR2Z9YmknDsuozsqnYVOX72a3jepxZY7usVk+zax8GtbvxTDGPYwxZw5n3MMY83TLJ7u8SZIkSZIkqS1WKEmSJEmSJKktVihJkiRJkiSpLVYoSZIkSZIkqS1WKEmSJEmSJKktVihJkiRJkiSpLVYoSZIkSZIkqS1zBh2AemPR8V+acN2xu2/iyEnWT2TtyS+fSUiS+mCyv/3JTFYu+LcvzT6dliWTsSyR1A2WT1J9TNlCKSJWRMT9EfHtprTtI2J1RNxefm5X0iMiPhIRayLipojYs2mb5SX/7RGxvCn9hRFxc9nmIxER3T5ISZIkSZIkdc90urydDRw0Lu144PLMXAxcXpYBXgYsLq+jgY9BVQEFnAjsDewFnNiohCp5jm7abvxnSZIkSZIkqUamrFDKzK8B68clLwNWlvcrgVc1pZ+TlauBbSNiPnAgsDoz12fmBmA1cFBZt01mXpWZCZzTtC9JkiRJkiTVUKeDcs/LzHsBys+nl/QFwN1N+daVtMnS17VIlyRJkiT1gMOaSOqGbg/K3aqgyA7SW+884miq7nHMmzePsbGxKQPauHHjtPL1Qz9jOXb3TROum7f15Osn0ovY6/L7qUscUJ9Y6hKHJEmSuu5s4AyqHiINjWFNTo6I48vycWw+rMneVEOW7N00rMkSqnu46yLi4tIjpTGsydXAJVTDmny5D8clqY86rVC6LyLmZ+a9pdva/SV9HbBzU76FwD0lfem49LGSvrBF/pYy80zgTIAlS5bk0qVLJ8r6qLGxMaaTrx/6Gctks7gdu/smTrm5/V/92sOXziCi1ury+6lLHFCfWOoShyRJkrorM78WEYvGJS/jsXu2lVT3a8fRNKwJcHVENIY1WUoZ1gQgIhrDmoxRhjUp6Y1hTaxQkkZMpxVKFwPLgZPLz4ua0t8UEauoaq8fLJVOlwLvbxqI+wDghMxcHxEPRcQ+wDXAEcDpHcYkSZIkSerMZsOaRETPhzUZ3wNlOi3kO+lpMZWZtsofxpb9wxgzDGfcwxjzdE1ZoRQR51HVPu8YEeuomjWeDFwQEUcBdwGHluyXAAcDa4CHgdcDlIqj9wLXlnzvadRkA39L1eRya6paa2uuJUmSJKkeejasyfgeKHPnzp2yhfxkPTE6NdOeGMPYsn8YY4bhjHsYY56uKSuUMvM1E6zar0XeBI6ZYD8rgBUt0r8JPG+qOCRJkoZFRKwAXgHcn5nPK2n/B/hT4FfA94HXZ+YDZd0JwFHAI8BbMvPSkn4QcBqwBfDJzDy5pO8CrAK2B64HXpeZv+rfEUoaQQMZ1kTS8Op0ljdJqrXSv//CiPhORNwWES/q5uwlkjSFs6kGoW22GnheZv4+8D3gBICI2A04DHhu2eajEbFFRGwB/AvVgLi7Aa8peQE+AJyamYuBDVSVUZI0E41hTeDxw5ocUa6X9qEMawJcChwQEduVa6oDgEvLuociYp8yu9sRTfuSNEKsUJI0qk4DvpKZzwGeD9zGY7OXLAYuL8uw+ewlR1PNTELT7CV7A3sBJzaNBSdJE8rMrwHrx6VdlpmNwT+u5rEn+MuAVZn5y8y8k2rogL3Ka01m3lFaH60ClpUbtH2BC8v2K6kGvJWkaSnDmlwFPDsi1pWhTE4G9o+I24H9yzJUw5rcQVU2fQJ4I1TDmgCNYU2u5fHDmnyybPN9HNZEGkmdDsotSbUVEdsALwGOBCg3Yr+KiK7MXgKc169jkTSy3gCcX94voKpgamgewHb8gLd7AzsADzRVTk044K0kteKwJpK6wQolSaPoWcCPgE9FxPOB64C30r3ZSySpYxHxv4BNwLmNpBbZktYtydsa8LZ83mazKE1nppk6zqI0mVGdQWdUjwtG99hG9bgkqRUrlCSNojnAnsCbM/OaiDiNx7q3tTLjWUo6uWHrxUVnpzeB87aeeNt+XhjX6UK8LrHUJQ6oTyx1iaMTZSy2VwD7laf+MPGAt0yQ/mNg24iYU1opTTrg7fhZlKYz00wdZ1GazKjOoDOqxwWje2yjelyS1IoVSpJG0TpgXWZeU5YvpKpQ6tbsJY/TyQ3b6edexClf/9n0jmjaOivWj919E6fc3HrbXt4EjlenC/G6xFKXOKA+sdQljnaVGduOA/4kMx9uWnUx8JmI+BDwDKrx3L5BVam9uMzo9gOqgbtfm5kZEVcCh1CNq9Q8eK4kSVJfOCi3pJGTmT8E7o6IZ5ek/YBb6dLsJf06DknDa4IBb88AngqsjogbI+LjAJl5C3ABVTn1FeCYzHyktD56E1W5cxtwQckLVcXU2yJiDdWYSmf18fAkSZJsoSRpZL0ZODcitqSameT1VJXoF5Qbu7uAQ0veS4CDqWYiebjkJTPXR0Rj9hLYfPYSSZrQBAPeTljpk5knASe1SL+Eqowan34H1SxwkiRJA2GFkqSRlJk3AktarOrK7CWSJEmSNJvZ5U2SJEmSJEltsUJJkiRJkiRJbbFCSZIkSZIkSW2xQkmSJEmSJEltsUJJkiRJkiRJbbFCSZIkSZIkSW2xQkmSJEmSJEltsUJJkiRJkiRJbbFCSZIkSZIkSW2xQkmSJEmSJEltsUJJkiRJkiRJbbFCSZIkSZIkSW2xQkmSJEmSJEltsUJJkiRJkiRJbbFCSZIkSZIkSW2ZUYVSRPx9RNwSEd+OiPMi4kkRsUtEXBMRt0fE+RGxZcm7VVleU9YvatrPCSX9uxFx4MwOSZIkSZIkSb3UcYVSRCwA3gIsycznAVsAhwEfAE7NzMXABuCosslRwIbM3BU4teQjInYr2z0XOAj4aERs0WlckiRJdRARKyLi/oj4dlPa9hGxujx4Wx0R25X0iIiPlAdsN0XEnk3bLC/5b4+I5U3pL4yIm8s2H4mI6O8RSpKk2WymXd7mAFtHxBzgycC9wL7AhWX9SuBV5f2yskxZv1+58FkGrMrMX2bmncAaYK8ZxiVplouIteVG68aI+GZJ69qNnCRNw9lUD8uaHQ9cXh68XV6WAV4GLC6vo4GPQVVuAScCe1NdH53YKLtKnqObthv/WZLUNnuhSJquOZ1umJk/iIgPAncBPwcuA64DHsjMTSXbOmBBeb8AuLtsuykiHgR2KOlXN+26eZvNRMTRVBdOzJs3j7GxsSnj3Lhx47Ty9UM/Yzl2900Trpu39eTrJ9KL2Ovy+6lLHFCfWOoSxwz9t8z8cdNy40bu5Ig4viwfx+Y3cntT3aTt3XQjtwRI4LqIuDgzN/TzICQNp8z8WvPNVbEMWFrerwTGqMqhZcA5mZnA1RGxbUTML3lXZ+Z6gIhYDRwUEWPANpl5VUk/h+oh3pd7d0SSRl1TL5TdMvPnEXEBVW+Sg6l6oayKiI9T9T75GE29UCKi0VvlL8b1QnkG8NWI+N3MfGQAhyWpRzquUCpPx5YBuwAPAJ+luikbLxubTLBuovTHJ2aeCZwJsGTJkly6dOmUcY6NjTGdfP3Qz1iOPP5LE647dvdNnHJz+7/6tYcvnUFErdXl91OXOKA+sdQlji7ryo0ccF5/w5Y0QuZl5r0AmXlvRDy9pD/64K1oPGCbLH1di/TH6eSBXCcPnqbSy4cUI/IQ5HFG9bhgdI9tRI6r0Qvl12zeC+W1Zf1K4N1UFUrLynuoeqGcMb4XCnBnRDR6oVzVp2OQ1AcdVygBLwXuzMwfAUTE54E/BLaNiDmlldJC4J6Sfx2wM7CudJF7GrC+Kb2heRtJ6lQCl0VEAv+3VEh360bucTq5Yeu0tWAvTBZLPy+M63QhXpdY6hIH1CeWusTRZe0+eOvpA7nJHkx1qhcPphpG9CHIyB4XjO6xDftx9bsXyvjrp+mU73Ws8B7G/0vDGDMMZ9zDGPN0zaRC6S5gn4h4MlVhsx/wTeBK4BBgFbAcuKjkv7gsX1XWX5GZGREXA5+JiA9RNYdcDHxjBnFJEsCLM/OeUmm0OiK+M0negdywnX7uRR21FuyFyVou9vImcLw6XYjXJZa6xAH1iaUucXTovoiYXyq15wP3l/SJHrCt47GWlY30sZK+sEV+SepYv3uhjL9+mjt37pTlex0rvIfx/9IwxgzDGfcwxjxdHQ/KnZnXUDVrvB64uezrTKruI28rzRp3AM4qm5wF7FDS30YZhDIzbwEuAG4FvgIcY99aSTOVmfeUn/cDX6BqZn1fuYGjjRs5W1BK6qbGAzZ4/IO3I8okAfsAD5YWlZcCB0TEduVG7wDg0rLuoYjYp3QvOaJpX5LUqUd7oWTmr4HNeqGUPK16oWAvFGn2mdEsb5l5YmY+JzOfl5mvKzO13ZGZe2Xmrpl5aOk3S2b+oizvWtbf0bSfkzLzdzLz2ZnpYJKSZiQinhIRT228p7oB+zZdupHr46FIGmIRcR5Vy+xnR8S6iDgKOBnYPyJuB/YvywCXAHdQzXb7CeCNAGUMt/cC15bXexrjugF/C3yybPN9HJBb0sw92gulVFbvR/Xgv9ELBVr3QoGmXigl/bAyC9wu2AtFGkn16GshSd01D/hCdR3EHOAzmfmViLgWuKDc1N0FHFryX0I1e8ka4GHg9VDdyEVE40YONr+Rk6RJZeZrJli1X4u8CRwzwX5WACtapH8TeN5MYpSkZpl5TUQ0eqFsAm6g6oXyJWBVRLyvpDX3Qvl06YWynmpmNzLzljJD3K1lP/ZCkUaQFUqSRk5pAfn8Fuk/oUs3cpIkSaMoM08EThyXfAfV8AHj8/6Cxx7QjV93EnBS1wOUVBsz6vImSZIkSZKk2ccKJUmSJEmSJLXFCiVJkiRJkiS1xQolSZIkSZIktcUKJUmSJEmSJLXFCiVJkiRJkiS1xQolSZIkSZIktcUKJUmSJEmSJLXFCiVJkiRJkiS1xQolSZIkSZIktcUKJUmSJEmSJLXFCiVJkiRJkiS1xQolSZIkSZIktcUKJUmSJEmSJLXFCiVJkiRJkiS1xQolSZIkSZIktcUKJUkjKyK2iIgbIuKLZXmXiLgmIm6PiPMjYsuSvlVZEyW+RgAAIABJREFUXlPWL2raxwkl/bsRceBgjkTSKImIv4+IWyLi2xFxXkQ8yfJJkiQNGyuUJI2ytwK3NS1/ADg1MxcDG4CjSvpRwIbM3BU4teQjInYDDgOeCxwEfDQituhT7JJGUEQsAN4CLMnM5wFbUJUzlk+SJGmoWKEkaSRFxELg5cAny3IA+wIXliwrgVeV98vKMmX9fiX/MmBVZv4yM+8E1gB79ecIJI2wOcDWETEHeDJwL5ZPkiRpyMwZdACS1CMfBt4BPLUs7wA8kJmbyvI6YEF5vwC4GyAzN0XEgyX/AuDqpn02byNJbcvMH0TEB4G7gJ8DlwHX0cPyKSKOBo4GmDdvHmNjY1PGeezum6bM067pfG6nNm7c2NP9D8qoHheM7rGN6nFJUitWKEkaORHxCuD+zLwuIpY2kltkzSnWTbbN+M9s+4Zt3ta9uWnrxGSx9PPCuE4X4nWJpS5xQH1iqUscnYiI7ahaF+0CPAB8FnhZi6xdK58y80zgTIAlS5bk0qVLp4zzyOO/NGWedq09fOrP7dTY2BjTOa5hM6rHBaN7bKN6XJLUyowqlCJiW6ruJM+juoh5A/Bd4HxgEbAWeHVmbijNs08DDgYeBo7MzOvLfpYD7yq7fV9mrkSSOvdi4JURcTDwJGAbqhZL20bEnNIKYCFwT8m/DtgZWFe6oDwNWN+U3tC8zWY6uWE7/dyLOOXmetTrH7v7pglj6eVN4Hh1uhCvSyx1iQPqE0td4ujQS4E7M/NHABHxeeAP6WH5JEmS1AszHUPpNOArmfkc4PlUg98eD1xeBpW8vCxD9fRtcXkdDXwMICK2B04E9qbq+39ieXonSR3JzBMyc2FmLqIatPaKzDwcuBI4pGRbDlxU3l9clinrr8jMLOmHlVmWdqEqv77Rp8OQNJruAvaJiCeXh237Abdi+SRJkoZMxxVKEbEN8BLgLIDM/FVmPsDmg0eOH1TynKxcTfUkbj5wILA6M9dn5gZgNdVsJZLUbccBb4uINVRjkJxV0s8Cdijpb6NUhGfmLcAFVDd7XwGOycxH+h61pJGRmddQDa59PXAz1bXYmVg+SaqJiNg2Ii6MiO9ExG0R8aKI2D4iVkfE7eXndiVvRMRHImJNRNwUEXs27Wd5yX976ZEiacTMpK/Fs4AfAZ+KiOdTDSj5VmBeZt4LkJn3RsTTS/5HB5UsGoNHTpQuSTOWmWPAWHl/By1mQcrMXwCHTrD9ScBJvYtQ0myTmSdStc5uZvkkqS4avVAOiYgtqWajfCdVL5STI+J4qsrt49i8F8reVL1Q9m7qhbKEamiU6yLi4tKAQNKImEmF0hxgT+DNmXlNRJzGY93bWhnIoLd1Grizn7FMNtBvpwMB9yL2uvx+6hIH1CeWusQhSZKk/mjqhXIkVL1QgF9FxDJgacm2kuph3XE09UIBri6tm+aXvKszc33Zb6MXynn9OhZJvTeTCqV1wLrSdBuq5tvHA/dFxPzSOmk+cH9T/laDR67jscKpkT7W6gM7GfS2TgN39jOWyWZnmWzw3cn0YmDeuvx+6hIH1CeWusQhSZKkvulrL5TxDQam80CzFzPkzvQh6jA+iB3GmGE44x7GmKer4wqlzPxhRNwdEc/OzO/y2KCSt1INHnkyjx9U8k0RsYqqOeSDpTC6FHh/00DcBwAndBqXJEmSJKkjfe2FMr7BwNy5c6d8oDnZg/NOzfTB+TA+iB3GmGE44x7GmKdrpvNVvxk4t/StvQN4PdXgkhdExFFUM5k0+v1fAhwMrAEeLnnJzPUR8V7g2pLvPY2mkZIkSZKkvul7LxRJw2tGFUqZeSPVQGvj7dcibwLHTLCfFcCKmcQiSZIkSeqcvVAktWOmLZQkSZIkSaPDXiiSpsUKJUmSJEkSYC8USdP3hEEHIEmSJEmSpOFihZIkSZIkSZLaYoWSJEmSJEmS2mKFkiRJkiRJktpihZIkSZIkSZLaYoWSJEmSJEmS2mKFkiRJkiRJktpihZIkSZIkSZLaYoWSJEmSJEmS2mKFkiRJUh9FxLYRcWFEfCcibouIF0XE9hGxOiJuLz+3K3kjIj4SEWsi4qaI2LNpP8tL/tsjYvngjkiSJM1GVihJGkkR8aSI+EZEfCsibomIfyzpu0TENeUG7PyI2LKkb1WW15T1i5r2dUJJ/25EHDiYI5I0Qk4DvpKZzwGeD9wGHA9cnpmLgcvLMsDLgMXldTTwMYCI2B44Edgb2As4sVEJJUmS1A9WKEkaVb8E9s3M5wN7AAdFxD7AB4BTy03bBuCokv8oYENm7gqcWvIREbsBhwHPBQ4CPhoRW/T1SCSNjIjYBngJcBZAZv4qMx8AlgErS7aVwKvK+2XAOVm5Gtg2IuYDBwKrM3N9Zm4AVlOVUZIkSX1hhZKkkVRuvjaWxSeWVwL7AheW9PE3bY2buQuB/SIiSvqqzPxlZt4JrKFqDSBJnXgW8CPgUxFxQ0R8MiKeAszLzHsBys+nl/wLgLubtl9X0iZKlyRJ6os5gw5AknqltCS6DtgV+Bfg+8ADmbmpZGm+AXv05iwzN0XEg8AOJf3qpt22vGmLiKOpuqMwb948xsbGpoxv3tZw7O6bpszXD5PFMp1j6ZaNGzf29fMmU5dY6hIH1CeWusTRoTnAnsCbM/OaiDiNx7q3tRIt0nKS9MfvoIPyqRdlUy9/Z0P+nZjQqB4XjO6xjepxSVIrVihJGlmZ+QiwR0RsC3wB+L1W2crPGd20ZeaZwJkAS5YsyaVLl04Z3+nnXsQpN9ejGD52900TxrL28KV9i2NsbIzpnLt+qEssdYkD6hNLXeLo0DpgXWZeU5YvpKpQui8i5mfmvaVL2/1N+Xdu2n4hcE9JXzoufazVB3ZSPh15/JemdzRt6GVZMuTfiQmN6nHB6B7bqB6XJLVilzdJI6+MTzIG7EM1/kij5qRxYwZNN21l/dOA9Ux8MydJbcvMHwJ3R8SzS9J+wK3AxUBjprblwEXl/cXAEWW2t32AB0uXuEuBAyJiuzIY9wElTZIkqS+sUJI0kiJip9IyiYjYGngp1UxKVwKHlGzjb9oaN3OHAFdkZpb0w8oscLtQzbT0jf4chaQR9Wbg3Ii4iWrSgPcDJwP7R8TtwP5lGeAS4A6q8ds+AbwRIDPXA+8Fri2v95Q0SZKkvqhHXwtJ6r75wMoyjtITgAsy84sRcSuwKiLeB9xAmWmp/Px0RKyhapl0GEBm3hIRF1C1INgEHFO60klSRzLzRmBJi1X7tcibwDET7GcFsKK70UmSJE2PFUqSRlJm3gS8oEX6HbSYpS0zfwEcOsG+TgJO6naMkiRJkjSs7PImSZIkSZKktlihJEmSJEmSpLZYoSRJkiRJkqS2zLhCKSK2iIgbIuKLZXmXiLgmIm6PiPMjYsuSvlVZXlPWL2raxwkl/bsRceBMY5IkSZIkSVLvdKOF0luppuJu+ABwamYuBjYAR5X0o4ANmbkrcGrJR0TsRjWb0nOBg4CPllmZJEmSJEl9ZIMBSdM1owqliFgIvBz4ZFkOYF/gwpJlJfCq8n5ZWaas36/kXwasysxfZuadwBpazMAkSZIkSeo5GwxImpY5M9z+w8A7gKeW5R2ABzJzU1leBywo7xcAdwNk5qaIeLDkXwBc3bTP5m02ExFHA0cDzJs3j7GxsSkD3Lhx47Ty9UM/Yzl2900Trpu39eTrJ9KL2Ovy+6lLHFCfWOoShyRJkvqjqcHAScDbmhoMvLZkWQm8G/gYVcOAd5f0C4EzxjcYAO6MiEaDgav6dBiS+qTjCqWIeAVwf2ZeFxFLG8ktsuYU6ybbZvPEzDOBMwGWLFmSS5cubZVtM2NjY0wnXz/0M5Yjj//ShOuO3X0Tp9zc/q9+7eFLZxBRa3X5/dQlDqhPLHWJQ5IkSX0z0AYD03mg2cmD8anM9CHqMD6IHcaYYTjjHsaYp2smLZReDLwyIg4GngRsQ1UAbRsRc0qhsxC4p+RfB+wMrIuIOcDTgPVN6Q3N20iSJEmSeqwODQbmzp075QPNyR6cd2qmD86H8UHsMMYMwxn3MMY8XR2PoZSZJ2TmwsxcRNVH9orMPBy4EjikZFsOXFTeX1yWKeuvyMws6YeVQd12ARYD3+g0LkmSJElS2xoNBtYCq6i6uj3aYKDkadVgABsMSLPTTMdQauU4YFVEvA+4ATirpJ8FfLr0oV1PVQlFZt4SERcAtwKbgGMy85EexCVJkiRJaiEzTwBOACgtlN6emYdHxGepGgSsonWDgatoajAQERcDn4mIDwHPwAYDmgUWTTHkTCct69ae/PKZhNQXXalQyswxYKy8v4MWs7Rl5i+AQyfY/iSqgd8kSZIkSfVhgwFJLfWihZIkSZIkaUjZYEDSdHQ8hpIkSZIkSZJmJyuUJEmSJEmS1BYrlCRJkiRJktSWkR9D6eYfPNjRiOqTGYbR1qXZLCJ2Bs4Bfgv4DXBmZp4WEdsD5wOLgLXAqzNzQ0QEcBpwMPAwcGRmXl/2tRx4V9n1+zJzZT+PRdJoiogtgG8CP8jMV0TELlQzKG0PXA+8LjN/FRFbUZVnLwR+AvxFZq4t+zgBOAp4BHhLZl7a/yORJEmzlS2UJI2iTcCxmfl7wD7AMRGxG3A8cHlmLgYuL8sAL6Oa0nYxcDTwMYBSAXUisDfVYJQnRsR2/TwQSSPrrcBtTcsfAE4t5dMGqooiys8NmbkrcGrJRynTDgOeCxwEfLRUUkmSJPWFFUqSRk5m3ttoYZSZD1HdtC0AlgGNFkYrgVeV98uAc7JyNbBtRMwHDgRWZ+b6zNwArKa6cZOkjkXEQuDlwCfLcgD7AheWLOPLp0a5dSGwX8m/DFiVmb/MzDuBNbSYhUmSJKlXRr7Lm6TZLSIWAS8ArgHmZea9UFU6RcTTS7YFwN1Nm60raROlS9JMfBh4B/DUsrwD8EBmbirLzWXNo+VQZm6KiAdL/gXA1U37nLB8ioijqVpfMm/ePMbGxqYM8NjdN02Zp13T+dxObdy4saf7H5RRPS4Y3WMb1eOSpFasUJI0siJiLvA54O8y86fVQ/3WWVuk5STprT6r7Ru2eVv35qatE5PF0s8L4zpdiNcllrrEAfWJpS5xdCIiXgHcn5nXRcTSRnKLrDnFummXT5l5JnAmwJIlS3Lp0qWtsm2m2+NPAqw9fOrP7dTY2BjTOa5hM6rHBaN7bKN6XJLUihVKkkZSRDyRqjLp3Mz8fEm+LyLml9ZJ84H7S/o6YOemzRcC95T0pePSx1p9Xic3bKefexGn3FyPYvjY3TdNGEsvbwLHq9OFeF1iqUscUJ9Y6hJHh14MvDIiDgaeBGxD1WJp24iYU1opNcogeKx8WhcRc4CnAeuZuNySJEnqC8dQkjRyyvgiZwG3ZeaHmlZdDCwv75cDFzWlHxGVfYAHS9e4S4EDImK7Mhj3ASVNkjqSmSdk5sLMXEQ1qPYVmXk4cCVwSMk2vnxqlFuHlPxZ0g+LiK3KDHGLgW/06TAkSZJsoSRpJL0YeB1wc0TcWNLeCZwMXBARRwF3AYeWdZcAB1MNavsw8HqAzFwfEe8Fri353pOZ6/tzCJJmmeOAVRHxPuAGqkpxys9PR8QaqpZJhwFk5i0RcQFwK9XMlsdk5iP9D1uSJM1WVihJGjmZ+XVajy8CsF+L/AkcM8G+VgAruhedJFUyc4zSjTYz76DFLG2Z+Qseq/wev+4k4KTeRShJkjQxu7xJkiRJkiSpLVYoSZIkSZIkqS1WKEmSJEmSJKktVihJkiRJkiSpLVYoSZIkSZIkqS1WKEmSJEmSJKktVihJkiRJkiSpLVYoSZIkSZIkqS1WKEmSJEmSJKktVihJkiRJkiSpLR1XKEXEzhFxZUTcFhG3RMRbS/r2EbE6Im4vP7cr6RERH4mINRFxU0Ts2bSv5SX/7RGxfOaHJUmSJEmSpF6ZM4NtNwHHZub1EfFU4LqIWA0cCVyemSdHxPHA8cBxwMuAxeW1N/AxYO+I2B44EVgCZNnPxZm5YQaxSZK6ZNHxX+rq/tae/PKu7k+SJHVHROwMnAP8FvAb4MzMPK3cs50PLALWAq/OzA0REcBpwMHAw8CRmXl92ddy4F1l1+/LzJX9PBZJvddxC6XMvLdRWGTmQ8BtwAJgGdAoLFYCryrvlwHnZOVqYNuImA8cCKzOzPWlEmk1cFCncUmSJEmSOtJoNPB7wD7AMRGxG1UjgcszczFweVmGzRsNHE3VaICmRgN7A3sBJzZ6rkgaHTNpofSoiFgEvAC4BpiXmfdCVekUEU8v2RYAdzdttq6kTZTe6nOOpiqomDdvHmNjY1PGNm9rOHb3TdM/mGmYzue2snHjxo63bddkx9zpOelF7P08J8MQB9QnlrrEIUmSpP4o93GNe7mHIqK50cDSkm0lMEbVC+XRRgPA1RHRaDSwlNJoAKD0ZDkIOK9vByOp52ZcoRQRc4HPAX+XmT+tWj22ztoiLSdJf3xi5pnAmQBLlizJpUuXThnf6edexCk3d6Xe7FFrD5/6c1sZGxtjOjF3w5GTdFE5dvdNHZ2TTo97Mv08J8MQB9QnlrrEIUmSpP7rR6OB8Q0GpvNAs9uNBWDmD86H8UHsMMYM9Y17WBp0dNuMaloi4olUlUnnZubnS/J9ETG/FDTzgftL+jpg56bNFwL3lPSl49LHZhKXJEmSJKkz/Wo0ML7BwNy5c6d8oDnZg/NOzfTB+TA+iB3GmKG+cQ9Lg45um8ksbwGcBdyWmR9qWnUx0JipbTlwUVP6EWW2t32AB0st96XAARGxXelXe0BJkyRJkiT10WSNBsr66TYaaJUuaYR0XKEEvBh4HbBvRNxYXgcDJwP7R8TtwP5lGeAS4A5gDfAJ4I0ApV/te4Fry+s9jb62ktSpiFgREfdHxLeb0raPiNURcXv5uV1Jj4j4SESsiYibImLPpm2Wl/y3l9lKJKljEbFzRFwZEbdFxC0R8daSbvkkaeBsNCCpHR13ecvMr9O6KSPAfi3yJ3DMBPtaAazoNBZJauFs4AyqqW8bGjOUnBwRx5fl49h8hpK9qWYo2btphpIlVM20r4uIi8uMlJLUicYMStdHxFOpypXVwJFYPkkavEajgZsj4saS9k6qRgIXRMRRwF3AoWXdJcDBVI0GHgZeD1WjgYhoNBoAGw1II6m7o1VLUk1k5tfKYJLNnKFE0kA5g5KkOrPRgKR2WKEkaTbpyQwl8PhZSqYzK0OnMz70Qj9jmezc1GnmjrrEUpc4oD6x1CWOmerHDErlc9oun+o4i9JkRuU7Md6oHheM7rGN6nFJUitWKEnSDGcogcfPUjKd2SdOP/eijmZ86IVOZ5/oxGQzVtRp5o66xFKXOKA+sdQljpno1wxK0Fn5VMdZlCYzCt+JVkb1uGB0j21Uj0uSWpnJoNySNGycoUTSwDmDkiRJGgVWKEmaTZyhRNJAOYOSJEkaFfXoayFJXRYR51ENWrtjRKyjmg3JGUokDZozKEmSpJFghZJGyqIOx3w4dvdNE44Xsfbkl88kJA1IZr5mglXOUCJpYJxBSZIkjQq7vEmSJEmSJKktVihJkiRJkiSpLVYoSZIkSZIkqS1WKEmSJEmSJKktDsotSeqryQbPn2yA/Mk4eL5Uf51OnDEZ//YlSRocWyhJkiRJkiSpLVYoSZIkSZIkqS1WKEmSJEmSJKktVihJkiRJkiSpLVYoSZIkSZIkqS3O8iZJkiRJmrVmOgtlq1lqnYVSs4EtlCRJkiRJktQWK5QkSZIkSZLUFru8SZKG3kybqrdy9kFP6fo+JXVX42+/VXeTTthFRZKk6bOFkiRJkiRJktpihZIkSZIkSZLaUpsKpYg4KCK+GxFrIuL4QccjSQ2WT5LqyvJJUl1ZPkmjrxZjKEXEFsC/APsD64BrI+LizLx1sJFJmu0sn2avm3/wYFfGZGlwbBZ1m+WTpLqyfJJmh1pUKAF7AWsy8w6AiFgFLAMscCQNmuWTuqLTgcMnG2zYSqpZz/Kpy3oxwL9/p5qlLJ+kWaAuFUoLgLubltcBew8oFmnoOMNVT1k+qbZ68bc/mW7NpDVTlk+PsnwaAjP5O53ob85KKg2BWV8+dft/dC/+7q1E10xFZg46BiLiUODAzPyrsvw6YK/MfPO4fEcDR5fFZwPfncbudwR+3MVwZ6IusdQlDqhPLHWJA+oTy3Tj+O3M3KnXwQyK5VPf1SUOqE8sdYkD6hNLO3GMbBnV4/Jp2NTlu9lto3pcMLrHZvnEjMqnnzCc34th/D4PY8wwnHEPY8zTKp/q0kJpHbBz0/JC4J7xmTLzTODMdnYcEd/MzCUzC6876hJLXeKA+sRSlzigPrHUJY4asHyahXFAfWKpSxxQn1jqEkcN9Kx8Gjaj+p0Y1eOC0T22UT2uDnRUPg3r+RvGuIcxZhjOuIcx5umqyyxv1wKLI2KXiNgSOAy4eMAxSRJYPkmqL8snSXVl+STNArVooZSZmyLiTcClwBbAisy8ZcBhSZLlk6TasnySVFeWT9LsUIsKJYDMvAS4pAe7rlMT77rEUpc4oD6x1CUOqE8sdYlj4Cyf+qoucUB9YqlLHFCfWOoSx8D1sHwaNqP6nRjV44LRPbZRPa62dVg+Dev5G8a4hzFmGM64hzHmaanFoNySJEmSJEkaHnUZQ0mSJEmSJElDYiQqlCJiRUTcHxHfnmB9RMRHImJNRNwUEXsOMJalEfFgRNxYXv/Qozh2jogrI+K2iLglIt7aIk/Pz8s04+jXOXlSRHwjIr5VYvnHFnm2iojzyzm5JiIWDSiOIyPiR03n5K+6Hce4z9siIm6IiC+2WNfzczIbRcRBEfHdcl6PH2AcayPi5vI9+2afP/tx5WVEbB8RqyPi9vJzuwHF8e6I+EHT3+DBvY6jfG7LMrPf52WSOPp+XiYqM8tAr9eUc3J+VIO+apYZZBnWbXUpE3uhTuVsN9WlzK6r8deXEfGmct2TEbFjU75lUd2L3BgR34yIPyrpe0TEVeXc3hQRf9G0TU/+B8w05qb125Tv9xlNaS8s5dWaqO7BohsxdyvuiHhmRFxWvs+3Rrnmr/O5joh/Lt+P25rPaR3OdVP+P4iIRyLikKa05eV83h4Ry5vSexZ3z2Tm0L+AlwB7At+eYP3BwJeBAPYBrhlgLEuBL/bhnMwH9izvnwp8D9it3+dlmnH065wEMLe8fyJwDbDPuDxvBD5e3h8GnD+gOI4Ezuj1OWn6vLcBn2n1e+jHOZltL6rBKb8PPAvYEvjW+L+LPsayFthxQJ/9uPIS+Gfg+PL+eOADA4rj3cDbB3BOWpaZ/T4vk8TR9/MyUZkJXAAcVtI/Dvxtv39fvgb/GmQZ1oNjqUWZ2MdjG0g52+XjqkWZXdfX+OtL4AXAovF/t8BcHhuK5feB75T3vwssLu+fAdwLbFuWe/I/YKYxN60/reznjKa0bwAvKv/Xvgy8rC7nuiyPAfs35Xtync818IfAf1BdV28BXAUsrcu5Luu2AK6gGkvskJK2PXBH+bldeb9dr+Pu1WskWihl5teA9ZNkWQack5WrgW0jYv6AYumLzLw3M68v7x8CbgMWjMvW8/MyzTj6ohznxrL4xPIaP4jYMmBleX8hsF+3a4anGUffRMRC4OXAJyfI0vNzMgvtBazJzDsy81fAKqrzPKtMUF42f99WAq8aUBwDMUmZ2dfzMiRl975UZRL06bsi9VJdysReqFM52011KbPrqNX1ZWbekJlrx+fNzI1Z7qaBp1CuizPze5l5e3l/D3A/sFO5Du36/4BuxFz280JgHnBZU9p8YJvMvKpsd043Yu5W3BGxGzAnM1c35Xu45uc6gSdRPZzdiur64L66nOvizcDnqL67DQcCqzNzfWZuAFYDB/Uy7l4aiQqlaVgA3N20vI4BXRgXL4qq6f6XI+K5vf6w0lzxBVRPdZv19bxMEgf06ZyUJoo3Uv1Rr87MCc9JZm4CHgR2GEAcAH9emndeGBE7dzuGJh8G3gH8ZoL1fTkns0ydyqQELouI6yLi6AHF0GxeZt4L1YU68PQBxvKm8je4IgbQXWFcmTmw89Ki7O77eRlfZlK18HuglEkw+P/rGpy6lWHdVqcysRcGWs52U13K7BqZ6vpyMxHxZxHxHeBLwBtarN+LquLg+1TXob34HzDjmCPiCcApwP8cl31BibOhm/+3unGufxd4ICI+X7pz/Z+I2IIan+vMvAq4kqrl2r3ApZnZqNQd+LmOiAXAn1G16mo20X1AL+PumdlSodSqNcWgWoRcD/x2Zj4fOB34t15+WETMpaoV/bvM/On41S026cl5mSKOvp2TzHwkM/cAFgJ7RcTzxofaarMBxPHvwKLM/H3gqzz2lKurIuIVwP2Zed1k2VqkOT3kzNTpnL44M/cEXgYcExEvGVAcdfMx4HeAPaguUk7p54dPUWYOMo6BnJfxZSbwe62y9SMW1Y5l2PAaaDnbTXUps+timteXm8nML2Tmc6haZLx33P7mA58GXp+Zv6EH11FdjPmNwCWZefe47D259uti3HOAPwbeDvwB1bAMR1Ljcx0Ru1JdDyykqnjZt/wPqMu5/jBwXGY+Mn5XLfLmJOm1NlsqlNYBzS08FgL3DCKQzPxpo+l+Zl4CPLHV4F3dEBFPpPrndm5mfr5Flr6cl6ni6Oc5afrMB6j6CR80btWj5yQi5gBPo4dNtCeKIzN/kpm/LIufAF7YoxBeDLwyItZSdbvaNyL+dVyevp6TWaJOZdI95ef9wBeobtYHqdFUuXEBef8U+XsiM+8rlRi/ofob7Nt5maDM7Pt5aRXHIM9L+fxGmbkPVTftOWXVwP6GNFg1LMO6rRZlYi8MujzplrqU2TUznevLlkr3yN9p3AtExDZUrVLeldUQHQA/pvv/A7oV84uoWt6tBT4IHBERJ1Nd+y1s2qxb/7e6Ffc64IashmPYRPWAf0/qfa7/DLi6dInbSDXm0D7U51wvAVY0NQFuAAAgAElEQVSV/IcAH42IVzHxfUCv4u6p2VKhdDHVH3NExD7Ag41mqP0WEb9V+qI2mm4+AfhJDz4ngLOA2zLzQxNk6/l5mU4cfTwnO0XEtuX91sBLge+My3Yx0Bhp/xDgiqY+u32LIzYfy+qVVH3yuy4zT8jMhZm5iGrA7Ssy8y/HZev5OZmFrgUWRzVrxpZU5/7ifgcREU+JiKc23gMHAC1nqOyj5u/bcuCiQQQx7m/wz+jTeZmkzOzreZkojkGclwnKzNuomrk3ZkwZ2HdFg1PTMqzbalEm9sKgytluqkuZXTfTvL58VETs2nQvsCdV17aflGukL1CN+frZpv0nXf4f0K2YM/PwzHxm2c/bS+zHl3ushyJin7LdETONuZtxU12bbhcRO5Ws+wK31vlcA3cBfxIRc0rF7p9Q/S3W4lxn5i6ZuajkvxB4Y2b+G3ApcEBEbBdVV98DqLrr9STunssajAw+0xdwHlVT2V9T1ewdBfwN8DdlfQD/QtXn9mZgyQBjeRNwC9WsTlcDf9ijOP6IqoncTcCN5XVwv8/LNOPo1zn5feCGEsu3gX8o6e8BXlnePwn4LLCGapT9Zw0ojn9qOidXAs/p1Xe2Ka6lPDZbQV/PyWx8lb+D75W/v/81oBieVb5j3yrft77GMUF5uQNwOXB7+bn9gOL4dCkXb6K6MZjfp3MyUZnZ1/MySRx9Py+TlJnPKmXSmlJGbdXP76+vwb8GXYb14HhqUSb28dgGUs52+bhqUWbX+TXu+vIt5fe/iarlxSdL+nHlb/hGqpm6/qik/2X5ztzY9NqjrOvZ/4CZxDxuP0ey+SxvS8r/se8DZ1BmLqtL3MD+5bt8M3A2sGWdzzXVDGr/l+oh063Ah+p0rsflP5syy1tZfkM5n2uounL2Je5evBrT70mSJEmSJEnTMlu6vEmSJEmSJKlLrFCSJEmSJElSW6xQkiRJkiRJUlusUJIkSZIkSVJbrFCSJEmSJElSW6xQkiRJkiRJUlusUJIkSZIkSVJbrFCSJEmSJElSW6xQkiRJkiRJUlusUJIkSZIkSVJbrFCSJEmSJElSW6xQkiRJkiRJUlusUJIkSZIkSVJbrFCSJEmSJElSW6xQkiRJkiRJUlusUJIkSZIkSVJbrFCSJEmSJElSW6xQkiRJkiRJUlusUJIkSZIkSVJbrFCSJEmSJElSW6xQkiRJkiRJUlusUFJfRcQfR8R3m5bXRsRLy/t3RsQnu/x5SyNiXTf3KUmS1A8R8cyI2BgRW9QgFq+ppBETER+PiP89yfqMiF37GZOGixVKepyI+KOI+M+IeDAi1kfEf0TEH0TEkRHx9ZnsOzP/X2Y+e4J178/Mv5rJ/iWpWbkRa7x+ExE/b1o+fNDxSRouEXFpRLynRfqyiPhhRMzp5udl5l2ZOTczH5npviLi7Ih4XzfikjQcpiqzgDdl5nv7FEtExB0RcWsX9mVFV01YoaTNRMQ2wBeB04HtgQXAPwK/7MK+u3qRJUlTKTdiczNzLnAX8KdNaecOOj5JQ+ds4HUREePSXwecm5mb+h+SJE3obOpTZr0EeDrwrIj4gz5+rnrICiWN97sAmXleZj6SmT/PzMuAXwMfB15Unuw/ABARW0XEByPiroi4rzSb3LqsWxoR6yLiuFID/qnJmktHxLsj4l/L+zPGtSzYFBHvLuueERGfi4gfRcSdEfGWpn1sXZ7AbSi13xZWklqKiAUR8XBEbNuUtnejlUFE/FVEfC0iPlpabN4WEf+tKe+2EfGpiLi3lHXviQj/r0qj7d+oHrj9cSMhIrYDXgGcExEvj4gbIuKnEXF349qlKW+jFfgDZf2RJX3riDglIv6rlDdfL2mLypP4OSXfWES8t7QefygiLouIHZv2/9lShj1Yyq/nlvSjgcOBd5Trqn8v6V5TSaNtqjJrs5aLEfE/y3XNPRHxhuYdTXbfV9b/dUSsiaqHy8UR8YxxsSwHLgIuKe+b9z0WEe8r5ePGiPj3iNghIs4t5em1EbGo5P1a2exbJe9fzPAcaQa88NV43wMeiYiVEfGyUuCQmbcBfwNcVZ7sN27APkBVCbUHsCtVi6Z/aNrfb1EVYr8NHD3dIDLzTU2tCv4I2ABcVG7W/h34Vvms/YC/i4gDy6YnAr9TXgcyrrCSpIbM/AHwdeDQpuS/BM5remL3h8B3gB2B9wJfaKqA+lfg51TlzRLg5cDr+xC6pAHJzJ8DFwBHNCW/GvhOZn4L+FlZty1VmfC3EfEqqMZDAr5M1Qp8J6prpxvLPj4IvJCqzNkeeAfwmwnCeC1VWfN0YEvg7U3rvgwsLuuuB84tcZ9Z3v9zub76U6+ppNE3jTLrURFxEFV5sj9VOfLScbub8L4vIvYF/qnsez7wX8Cqpn0/GTiEqhw6FzgsIrYct//DqFpOLaAqd64CPkVVJt5GVSaRmS8p+Z9fyrPzp31C1HVWKGkzmflTqgqcBD4B/KjUMM8bnzciAvhr4O8zc31mPgS8n6owaPgNcGJm/rIUaG2JiJ2oatbfnJk3UD0d2ykz35OZv8rMO0qcjc98NXBSiedu4CPtfqakWWUlVSVSo1vuXwCfblp/L3B6Zv46Mz8D3AG8LCIaN19/n5kPZ+YPgQ+zefknaTStBA5tejJ/REkjM8cy8+bM/E1m3gScB/xJyXc48NXSCvzXmfmTzLyxVOy8AXhrZv6gtBD/z8ycaLiBT2Xm95puFPdorMjMFZn5UNn23cDzI+JpE+zHayppdpiwzBrn1VTly7cz82dUZQgwrfu+w4EVmXl9KX9OoOrZsqis/+9UQ6hcRjW8yhyqSvdmn8rM72fmg1SV49/PzK+Wh3yfBV7Q6QlQ7zimjR6ntEY6EiAinkP1FP7DwKXjsu4EPBm4Lh7rlhtA80wkP8rMX3QSR0Q8EbgQ+ExmNmq4fxt4RpQud8UWwP8r758B3N207r86+WxJs8YXgH8pLQd+n6rMur5p/brMzKbl/6IqZ34b2Aq4r6n8ewKwtucRSxqozPx6RPwIWBYR36CqmPnvUHWbBU4GnkfVemgrqhshgJ2B77fY5Y7AkyZY18oPm94/DMwtn70FcBJVq8udeKyF047Agy324zWVNAtMVmaN8wzguqbl5r/5qe77nkHVKrLxmRsj4idUrY3WUrVwvKBUDm2KiM+XtC80fcZ9Te9/3mJ57pQHq76zQkmTyszvRMTZwP8AvjJu9Y+p/rifW7qOtNzFDD7+dOAh4F1NaXcDd2bm4gm2uZfqgu2WsvzMGXy+pBGXmQ9HxOeonqztweatkwAWjlt+JnAPVVn0MLB9Zk7ULUXS6DqH6in/s4HLMrNx4/MZ4AzgZZn5i4j4MFWFDlTlxl4t9vVj4BdUXTy+1WL9dL0WWEbVTWUt8DSqIQMad3/jr8m8ppJmj4nKrGaNv/mG5r/5qe777qGqpAYgIp4C7AD8ICIWAvsCe0XEn5csTwaeFBE7ZuaPOzwm1YBd3rSZiHhORBxb/vCJiJ2B1wBXU9USL2z0dy03UZ8ATo2Ip5f8C5r63s8kjv9B1UT8teNu1r4B/DSqgb63jogtIuJ58dhMARcAJ0TEduUY3jzTWCSNvHOoupu8nKpFZrP5EfGmqAbpPozqhu8rpfvH/wd8MCK2iYgnRMSuEfESJM0G51BV3Pw1m3cdeSqwvlQm7UVVydNwLvDSiHh1KVN2iIg9ynXOCuBDZZDsLSLiRRGxVZsxPZWqS8lPqG7W3j9u/X3As5qWvaaSZo+JyqxmFwBHRsRuZcyjExsrpnHf9xng9RGxRym73g9ck5lrqcZF+h5VZdYe5fW7wDqq+8xOjC/PNCBWKGm8h4C9gWsi4mdUFUnfBo4FrqB6SvXDiGjUJB8HrAGujoifAl+lKixm6jVUhcQ98dhMb+/MzEeAP6UqiO6kqi3/JNVTOIB/pGqeeSdVH93xrQ0kabyvUTXZviYzx89C+Z/Ac4H1VGMJ/Hlmbijr/hJ4CnArVSuAz1JNRCBpxJWbpP+kKgMublr1RuA9EfEQ1WC1FzRtcxdwMNU11XqqAbmfX1a/HbgZuLas+wDtX6efQ3UN9AOqcunqcevPAnaLaoa5f/OaSpo9JimzmvN8mWqYkyuo7u+uGJdlwvu+zLwc+N/A56haOv0Oj42vtBz4aGb+sPlFNYN4p4P9vxtYWcqzV3e4D3VBbD40hCRJs0+ZgnZFZp7dlPZXwF9m5tJBxSVJkiTVlS2UJEn/f3v3H2VpVd97/v0JLYoYBTRWSDf3NsaOCUpU7AGMa7IqdsIvXTazFiYYRhqHu3omIUoyzBLIzYR7VbJw3RhFEnH6SkvjEJEQM/QIih20xpV1A/IzIKKhg1xoIWLshtjBH2nznT+eXXKorqKquk5VnXP6/VrrrHqe/ezznL3Pc86u5/me/ey9X0tyPN0Aun8xW15JkiRJHQNKkqT9VpKr6SYcOLdNkStJkiRpDrzlTZIkSZIkSfNiDyVJkiRJkiTNy4rlLsC+eslLXlKrV6+eNd+//Mu/cPDBBy9+gZaI9Rlco1QXmHt97rjjjn+qqp9agiINjVFrn4ahnJaxf4ahnPMpo23UM41a+zRX1mewjVJ9bJ/2ne3TaLA+g2sx2qehDSitXr2a22+/fdZ8ExMTjI+PL36Bloj1GVyjVBeYe32S/PfFL81wGbX2aRjKaRn7ZxjKOZ8y2kY906i1T3NlfQbbKNXH9mnf2T6NBuszuBajffKWN0mSJEmSJM2LASVJkiRJkiTNiwElSZIkSZIkzYsBJUmSJEmSJM2LASVJkiRJkiTNy6wBpSSbkzye5Cs9aYcl2Zbkgfb30JaeJB9Osj3JPUmO6XnOhpb/gSQbetJfl+Te9pwPJ0m/KylJkiRJkqT+mUsPpSuBk6akXQDcXFVrgJvbOsDJwJr22AhcDl0ACrgIOA44FrhoMgjV8mzsed7U15KkeUvye0nuS/KVJJ9M8rwkRya5tQW2P5XkwJb3uW19e9u+umc/F7b0ryc5cbnqI0mSJEmDZMVsGarqS70XV816YLwtbwEmgPNb+lVVVcAtSQ5JcnjLu62qdgIk2QaclGQCeGFV/W1Lvwo4FfjsQiql4XHvN5/krAtu6Nv+HrrkTX3bl4ZXkpXAu4Cjqup7Sa4FTgdOAT5YVdck+ShwNl1Q+2xgV1W9PMnpwPuB30hyVHveK4GfAf46yc9V1Y/6Uc5+f/7B74Ak7Q88f9L+zPMnaXDMGlCawVhVPQZQVY8leWlLXwk80pNvR0t7tvQd06RPK8lGut5MjI2NMTExMWtBd+/ePad8w2LU6jN2EJx39J6+7W8535tROzYjUJ8VwEFJ/hV4PvAY8EbgN9v2LcB/ogsorW/LANcBf9puv10PXFNVPwC+kWQ7XS/Lv12iOkiSJPVdks3Am4HHq+pVU7b9H8B/AX6qqv6pnRNdSvfD3FPAWVV1Z8u7AfiD9tT3VdWWlv46ujtdDgJuBM5tnQ4kjZB9DSjNZLrxj2of0qdVVZuATQBr166t8fHxWQs0MTHBXPINi1Grz2VXX88H7u3fx/ChM8b7tq/5GrVjM8z1qapvJvlj4GHge8DngTuAJ6pqMoLZG8D+cdC7qvYkeRJ4cUu/pWfXzxr0lqS5SPIK4FM9SS8D/hC4qqWvBh4Cfr2qdu3LxZwkzeJK4E/p2p0fS3IE8Gt051CTeoc1OY7ux7jjeoY1WUt3DXdHkq1VtYunhzW5hS6gdBLehSKNnH29kv9WksNb76TDgcdb+g7giJ58q4BHW/r4lPSJlr5qmvyStM/aGG3rgSOBJ4C/oDsZmmoygL3goPe+9KDsdw89WJxeesPQW80y9s8wlHMYyvhsqurrwGsAkhwAfBP4K54eo/KSJBe09fPZt4s5SZrRDMOaAHwQeDdwfU+aw5pImta+BpS2AhuAS9rf63vSfyfJNXQnPE+2oNNNwB/1DMR9AnBhVe1M8t0kxwO3AmcCl+1jmSRp0q8C36iqbwMk+TTwS8AhSVa0Xkq9AezJYPiOJCuAFwE7mTlIvpd96UHZ7x56sDi99Iaht5pl7J9hKOcwlHEe1gH/UFX/PUlfxqgEPrmkNZA0EpK8BfhmVf3dlIm3F3VYE0nDa9YrmSSfpDtheUmSHXS/hF0CXJvkbLrukG9t2W+k6469na5L9jsAWuDovcBtLd97Jk9+gN/i6ftrP4uRa0kL9zBwfJLn093ytg64HfgicBpwDXsHwzfQjY10GvCFqqokW4E/T/IndINyrwG+vJQVkTTyTufpAFC/xqh8BsegHL36jNIYlDBax2dY69LOmf4j3Q//e22eJq0vw5qMcg/vuRrWz8xMrM/gWoy6zGWWt7fNsGndNHkLOGeG/WwGNk+Tfjvwqr2fIUn7pqpuTXIdcCewB7iLrvfQDcA1Sd7X0q5oT7kC+EQbdHsn3QUeVXVfmyHuq20/5/RrhjdJSnIg8BbgwtmyTpM254s2x6AcvfqM0hiUMFrHZ4jr8rN0QwVM9k5aBdyZ5FgWcViTUe7hPVdD/JmZlvUZXItRl34Pyi1JA6GqLqLrUdnrQbpZ2qbm/T5P97Scuu1i4OK+F1CSurGR7qyqb7X1fo1RKUnzUlX3ApO9IknyELC2zfLmsCaSpvUTy10ASZKk/dTbeOZ4R5O338Let+Wemc7xtIs54CbghCSHtgu6E1qaJD2rNqzJ3wKvSLKjDWUykxvpfpTbDvxX4LehG9YEmBzW5Db2HtbkY+05/4DDmkgjyR5KkiRJS6yNV/JrwP/ak9zPMSolaUbPMqzJ5PbVPcsOayJpWgaUJEmSllhVPQW8eErad+jTGJWSJEmLzVveJEmSJEmSNC8GlCRJkiRJkjQvBpQkSZIkSZI0LwaUJEmSJEmSNC8GlCRJkiRJkjQvBpQkSZIkSZI0LwaUJEmSJEmSNC8GlCRJkiRJkjQvBpQkSZIkSZI0LwaUJEmSJEmSNC8GlCRJkiRJkjQvBpQkSZIkSZI0LwaUJEmSJEmSNC8GlCRJkiRpP5Jkc5LHk3ylJ+2/JPlaknuS/FWSQ3q2XZhke5KvJzmxJ/2klrY9yQU96UcmuTXJA0k+leTApaudpKViQEmSJGkJJTkkyXXtwu3+JK9PcliSbe3ia1uSQ1veJPlwu1i7J8kxPfvZ0PI/kGTD8tVI0hC6EjhpSto24FVV9YvA3wMXAiQ5CjgdeGV7zkeSHJDkAODPgJOBo4C3tbwA7wc+WFVrgF3A2YtbHUnLYcVyF0CSJI2u1Rfc0Pd9XnnSwX3f5xK7FPhcVZ3WfrV/PvD7wM1VdUn7lf8C4Hy6C7U17XEccDlwXJLDgIuAtUABdyTZWlW7lr46koZNVX0pyeopaZ/vWb0FOK0trweuqaofAN9Ish04tm3bXlUPAiS5Blif5H7gjcBvtjxbgP9E135JGiH2UJIkSVoiSV4I/DJwBUBV/bCqnqC7YNvSsm0BTm3L64GrqnMLcEiSw4ETgW1VtbMFkbaxd28DSdpX/wvw2ba8EnikZ9uOljZT+ouBJ6pqz5R0SSPGHkqSJElL52XAt4GPJ3k1cAdwLjBWVY8BVNVjSV7a8s/3Qm4vSTYCGwHGxsaYmJiYtZC7d++eU75hMWr1GTsIzjt6z+wZ52i535tROj6jUJck/xHYA1w9mTRNtmL6zgn1LPmne615t0/9/vzD8n4HRuEz08v6DK7FqIsBJUmSpKWzAjgGeGdV3ZrkUrrb22Yy04XZnC/YqmoTsAlg7dq1NT4+PmshJyYmmEu+YTFq9bns6uv5wL39O41/6Izxvu1rX4zS8Rn2urTx2N4MrKuqyTZlB3BET7ZVwKNtebr0f6LrTbmi9VLqzf8M+9I+9fvzD8v7HRj2z8xU1mdwLUZdvOVNkiRp6ewAdlTVrW39OroA07farWy0v4/35J/ugu3ZLvAkad6SnEQ3dttbquqpnk1bgdOTPDfJkXRjun0ZuA1Y02Z0O5Bu4O6tLRD1RZ4eg2kDcP1S1UPS0llQaDfJ7wH/ge4XsXuBdwCHA9cAhwF3Am+vqh8meS5wFfA64DvAb1TVQ20/F9KN/P8j4F1VddNCyiVJkjSIquofkzyS5BVV9XVgHfDV9tgAXMIzL762Ar/TBrs9Dniy3RJ3E/BHk7PBASfQZmTqh3u/+SRn9XlA9YcueVNf9ydp3yX5JDAOvCTJDrpB/i8EngtsSwJwS1X9b1V1X5Jr6dqpPcA5VfWjtp/fAW4CDgA2V9V97SXOB65J8j7gLtq4cZJGyz4HlJKsBN4FHFVV32uNzOnAKXRTRF6T5KN0gaLL299dVfXyJKfTTSX5G1OmofwZ4K+T/NxkIyVJkjRi3glc3X7Rf5DuB7mfAK5NcjbwMPDWlvdGunOr7cBTLS9VtTPJe+l6CAC8p6p2Ll0VJA2zqnrbNMkzBn2q6mLg4mnSb6Rrp6amP8jTM8FJGlELvfl0BXBQkn+lm/L2MWaeInJ9W4aue/efpgt9zzQN5d8usGySJEkDp6ruBtZOs2ndNHkLOGeG/WwGNve3dJIkSXOzzwGlqvpmkj+m+xXte8Dn6WYqmWmKyB/PRlJVe5I8STel5Erglp5dO0vJsxi1+ozSLCWjdmxGrT6SJEmSpP5ZyC1vh9L1LjoSeAL4C+DkabJOzg7gLCV9MGr1GaVZSkbt2IxafSRJkiRJ/bOQWd5+FfhGVX27qv4V+DTwS7QpIlue3hlHfjwbSdv+ImAnzlIiSZIkSZI0VBYSUHoYOD7J89tYSJOzlMw0ReTWtk7b/oU2LsBM01BKkiRJkiRpAC1kDKVbk1wH3Ek3feRddLej3cD0U0ReAXyiDbq9k25mN55tGkpJkiRJkiQNngUNXlNVFwEXTUmedorIqvo+T0+BO3XbtNNQSpIkSZIkafAs5JY3SRpYSQ5Jcl2SryW5P8nrkxyWZFuSB9rfQ1veJPlwku1J7klyTM9+NrT8DyTZMPMrSpIkSdL+w4CSpFF1KfC5qvp54NXA/cAFwM1VtQa4ua1DN0PlmvbYCFwOkOQwul6Yx9H1vLxoMgglSZIkSfszA0qSRk6SFwK/TBvDrap+WFVPAOuBLS3bFuDUtrweuKo6t9DNVnk4cCKwrap2VtUuYBtw0hJWRZIkSZIGkgElSaPoZcC3gY8nuSvJx5IcDIxV1WMA7e9LW/6VwCM9z9/R0mZKlyRJkqT92oIG5ZakAbUCOAZ4Z5uR8lKevr1tOpkmrZ4lfe8dJBvpbpdjbGyMiYmJWQs5dhCcd/SeWfPNx1xed7527969KPvtJ8vYP/0uZ78/4zA876UkSdIoM6AkaRTtAHZU1a1t/Tq6gNK3khxeVY+1W9oe78l/RM/zVwGPtvTxKekT071gVW0CNgGsXbu2xsfHp8v2DJddfT0fuLe/zfBDZ8z+uvM1MTHBXOqznCxj//S7nGddcEPf9jXpypMOHor3UpIkaZR5y5ukkVNV/wg8kuQVLWkd8FVgKzA5U9sG4Pq2vBU4s832djzwZLsl7ibghCSHtsG4T2hpkiRJkrRfs4eSpFH1TuDqJAcCDwLvoAuiX5vkbOBh4K0t743AKcB24KmWl6rameS9wG0t33uqaufSVUGSJEmSBpM9lCSNpKq6u6rWVtUvVtWpVbWrqr5TVeuqak37u7Plrao6p6p+tqqOrqrbe/azuape3h4fX74aSRolSR5Kcm+Su5Pc3tIOS7ItyQPt76EtPUk+nGR7knuSHNOznw0t/wNJNsz0epLUK8nmJI8n+UpPWt/aoCSva23c9vbc6callDTkDChJkiQtj1+pqtdU1dq2fgFwc1WtAW7m6ckETgbWtMdG4HLoLv6Ai4DjgGOBiyYvACVpFlcCJ01J62cbdHnLO/m8qa8laQQYUJIkSRoM64EtbXkLcGpP+lWtN+UtwCFtYoETgW1VtbOqdgHb8KJN0hxU1ZeAqbfx96UNatteWFV/W1UFXNWzL0kjxDGUJEmSll4Bn09SwP/VZoocaxMC0GajfGnLuxJ4pOe5O1raTOnPkGQjXU8BxsbGmJiYmLVwYwfBeUfvmW+dntVcXnex7N69e1lfv9/6fXyW+70ZpeMz5HXpVxu0si1PTd+L7dPQf2b2Yn0G12LUxYCSJEnS0ntDVT3aLti2Jfnas+SdbuyRepb0ZyZ0wapNAGvXrq3x8fFZC3fZ1dfzgXv7e5r40Bmzv+5imZiYYC71Hhb9Pj7LeWxgtI7PKNWlx3zboDm1TWD7BKP3mbE+g2sx6uItb5IkSUusqh5tfx8H/opu/JFvtVtFaH8fb9l3AEf0PH0V8OizpEvSvuhXG7SjLU9NlzRiDChJkiQtoSQHJ/nJyWXgBOArwFZgcpakDcD1bXkrcGabael44Ml2W8pNwAlJDm0D4Z7Q0iRpX/SlDWrbvpvk+Da725k9+5I0QrzlTZIkaWmNAX/VZtFeAfx5VX0uyW3AtUnOBh4G3try3wicAmwHngLeAVBVO5O8F7it5XtPVU0dZFeS9pLkk8A48JIkO+hma7uE/rVBv0U3k9xBwGfbQ9KIMaAkSZK0hKrqQeDV06R/B1g3TXoB58ywr83A5n6XUdJoq6q3zbCpL21QVd0OvGohZZQ0+LzlTZIkSZIkSfNiQEmSJEmSJEnzYkBJkiRJkiRJ82JASZIkSZIkSfNiQEmSJEmSJEnzYkBJkiRJkiRJ82JASZIkSZIkSfOyoIBSkkOSXJfka0nuT/L6JIcl2Zbkgfb30JY3ST6cZHuSe5Ic07OfDS3/A0k2LLRSkiRJkiRJWjwL7aF0KfC5qvp54NXA/cAFwM1VtQa4ua0DnAysaY+NwOUASQ4DLgKOA44FLpoMQkmSJEmSJGnw7HNAKckLgV8GrgCoqh9W1RPAemBLy7YFOLUtrweuqs4twCFJDgdOBLZV1c6q2gVsA07a13JJkiRJkiRpca1YwHNfBnwb+HiSVwN3AOcCY1X1GEBVPZbkpS3/Smc1V6YAAB6USURBVOCRnufvaGkzpe8lyUa63k2MjY0xMTExayF37949p3zDYtTqM3YQnHf0nr7tbznfm1E7NqNWH0mSJElS/ywkoLQCOAZ4Z1XdmuRSnr69bTqZJq2eJX3vxKpNwCaAtWvX1vj4+KyFnJiYYC75hsWo1eeyq6/nA/cu5GP4TA+dMd63fc3XqB2bUauPJEmSJKl/FjKG0g5gR1Xd2tavowswfavdykb7+3hP/iN6nr8KePRZ0iVJkiRJkjSA9jmgVFX/CDyS5BUtaR3wVWArMDlT2wbg+ra8FTizzfZ2PPBkuzXuJuCEJIe2wbhPaGmSJEmSJEkaQAud5e2dwNVJ7gFeA/wRcAnwa0keAH6trQPcCDwIbAf+K/DbAFW1E3gvcFt7vKelSZIkjaQkByS5K8ln2vqRSW5N8kCSTyU5sKU/t61vb9tX9+zjwpb+9SQnLk9NJI2aJL+X5L4kX0nyySTPs42SNJ0FBZSq6u6qWltVv1hVp1bVrqr6TlWtq6o17e/Olreq6pyq+tmqOrqqbu/Zz+aqenl7fHyhlZIkSRpw5wL396y/H/hgVa0BdgFnt/SzgV1V9XLggy0fSY4CTgdeSTc77keSHLBEZZc0opKsBN4FrK2qVwEH0LU1tlGS9rLQHkqSJEmahySrgDcBH2vrAd5INx4lwBbg1La8vq3Ttq9r+dcD11TVD6rqG3Q9wI9dmhpIGnErgIOSrACeDzyGbZSkafRvei1JkiTNxYeAdwM/2dZfDDxRVXva+g5gZVteCTwCUFV7kjzZ8q8EbunZZ+9zniHJRmAjwNjYGBMTE7MWcOwgOO/oPbPmm4+5vO5i2b1797K+fr/1+/gs93szSsdn2OtSVd9M8sfAw8D3gM8Dd7BIbZTt0/B/ZqayPoNrMepiQEmSJGmJJHkz8HhV3ZFkfDJ5mqw1y7Zne84zE6s2AZsA1q5dW+Pj49Nle4bLrr6eD9zb39PEh86Y/XUXy8TEBHOp97Do9/FZzmMDo3V8hr0ubZKk9cCRwBPAXwAnT5O1L22U7dPwf2amsj6DazHqYkBJkiRp6bwBeEuSU4DnAS+k67F0SJIVrQfAKuDRln8HcASwo91+8iJgZ0/6pN7nSNK++lXgG1X1bYAknwZ+CdsoSdNwDCVJkqQlUlUXVtWqqlpNN2DtF6rqDOCLwGkt2wbg+ra8ta3Ttn+hqqqln95mWDoSWAN8eYmqIWl0PQwcn+T5bSykdcBXsY2SNA17KEmSJC2/84FrkrwPuAu4oqVfAXwiyXa6X/1PB6iq+5JcS3ehtwc4p6p+tPTFljRKqurWJNcBd9K1LXfR3ZJ2A7ZRkqYwoCRJkrQMqmoCmGjLDzLNDEhV9X3grTM8/2Lg4sUroaT9UVVdBFw0Jdk2StJevOVNkiRJkiRJ82JASdLISnJAkruSfKatH5nk1iQPJPlUkgNb+nPb+va2fXXPPi5s6V9PcuLy1ESSJEmSBosBJUmj7Fzg/p719wMfrKo1wC7g7JZ+NrCrql4OfLDlI8lRdGMBvBI4CfhIkgOWqOySJEmSNLAMKEkaSUlWAW8CPtbWA7wRuK5l2QKc2pbXt3Xa9nUt/3rgmqr6QVV9A9jONOMHSJIkSdL+xoCSpFH1IeDdwL+19RcDT1TVnra+A1jZllcCjwC07U+2/D9On+Y5kiRJkrTfcpY3SSMnyZuBx6vqjiTjk8nTZK1Ztj3bc6a+5kZgI8DY2BgTExOzlnPsIDjv6D2z5puPubzufO3evXtR9ttPlrF/+l3Ofn/GYXjeS0mSpFFmQEnSKHoD8JYkpwDPA15I12PpkCQrWi+kVcCjLf8O4AhgR5IVwIuAnT3pk3qf8wxVtQnYBLB27doaHx+ftZCXXX09H7i3v83wQ2fM/rrzNTExwVzqs5wsY//0u5xnXXBD3/Y16cqTDh6K91KSJGmUecubpJFTVRdW1aqqWk03qPYXquoM4IvAaS3bBuD6try1rdO2f6GqqqWf3maBOxJYA3x5iaohSZIkSQPLHkqS9ifnA9ckeR9wF3BFS78C+ESS7XQ9k04HqKr7klwLfBXYA5xTVT9a+mJLkiRJ0mAxoCRppFXVBDDRlh9kmlnaqur7wFtneP7FwMWLV0JJkiRJGj7e8iZJkiRJkqR5MaAkSZIkSZKkeTGgJEmSJEmSpHkxoCRJkiRJkqR5MaAkSZK0hJI8L8mXk/xdkvuS/OeWfmSSW5M8kORTSQ5s6c9t69vb9tU9+7qwpX89yYnLUyNJoyTJIUmuS/K1JPcneX2Sw5Jsa+3TtiSHtrxJ8uHWDt2T5Jie/Wxo+R9IsmH5aiRpsRhQkiRJWlo/AN5YVa8GXgOclOR44P3AB6tqDbALOLvlPxvYVVUvBz7Y8pHkKOB04JXAScBHkhywpDWRNIouBT5XVT8PvBq4H7gAuLm1Tze3dYCTgTXtsRG4HCDJYcBFwHF0M+xeNBmEkjQ6DChJkiQtoersbqvPaY8C3ghc19K3AKe25fVtnbZ9XZK09Guq6gdV9Q1gO92FmyTtkyQvBH4ZuAKgqn5YVU/wzHZoavt0VWvXbgEOSXI4cCKwrap2VtUuYBtd4FvSCFmx0B20X8JuB75ZVW9OciRwDXAYcCfw9qr6YZLnAlcBrwO+A/xGVT3U9nEh3a9vPwLeVVU3LbRckiRJg6qdP90BvBz4M+AfgCeqak/LsgNY2ZZXAo8AVNWeJE8CL27pt/Tstvc5va+1ka7nAGNjY0xMTMxavrGD4Lyj98yabz7m8rqLZffu3cv6+v3W7+Oz3O/NKB2fEajLy4BvAx9P8mq6dupcYKyqHgOoqseSvLTl/3H71Ey2QzOlP4Pt00h8Zp7B+gyuxajLggNKdA3M/cAL2/pkd+1rknyULlB0OT3dtZOc3vL9xpTu2j8D/HWSn6uqH/WhbJIkSQOnnee8JskhwF8BvzBdtvY3M2ybKX3qa20CNgGsXbu2xsfHZy3fZVdfzwfu7cdp4tMeOmP2110sExMTzKXew6Lfx2c5jw2M1vEZgbqsAI4B3llVtya5lKdvb5uO7dMCjcBn5hmsz+BajLos6Ja3JKuANwEfa+vB7tqSJElz0m4lmQCOp7tVZPIqaRXwaFveARwB0La/CNjZmz7NcyRpX+wAdlTVrW39OroA07farWy0v4/35J+uHbJ9kvYDCx1D6UPAu4F/a+svZo7dtYHe7tqzdoeUJEkaBUl+qvVMIslBwK/S9fb+InBay7YBuL4tb23rtO1fqKpq6ae3WeCOpBsU98tLUwtJo6iq/hF4JMkrWtI64Ks8sx2a2j6d2WZ7Ox54st0adxNwQpJD22DcJ7Q0SSNkn/sKJnkz8HhV3ZFkfDJ5mqx96a7dXnPe99iO0j2PMHr1GaUxAEbt2IxafSRpgBwObGnjKP0EcG1VfSbJV4FrkrwPuIs2KG77+4kk2+l6Jp0OUFX3JbmW7mJvD3COQwZI6oN3AlcnORB4EHgHra1KcjbwMPDWlvdG4BS6u0yeanmpqp1J3gvc1vK9p6p2Ll0VJC2Fhdx8+gbgLUlOAZ5HN4bSh2jdtVsvpOm6a+/Y1+7a+3KP7Sjd8wijV59RGgNg1I7NqNVHkgZFVd0DvHaa9AeZ5rb/qvo+T1+8Td12MXBxv8soaf9VVXcDa6fZtG6avAWcM8N+NgOb+1s6SYNkn295q6oLq2pVVa2m+6XsC1V1BnbXliRJkiRJGmn9HR6/cz5215YkSZIkSRpZfQkoVdUE3QwldteWJEmSJEkacQud5U2SJEmSJEn7GQNKkiRJkiRJmhcDSpIkSZIkSZoXA0qSJEmSJEmaFwNKkiRJkiRJmhcDSpIkSZIkSZoXA0qSJEmSJEmaFwNKkiRJkiRJmhcDSpIkSZIkSZqXFctdgMV27zef5KwLbujrPh+65E193Z8kSZIkSdIwsYeSJEmSJEmS5sWAkiRJ0hJJckSSLya5P8l9Sc5t6Ycl2Zbkgfb30JaeJB9Osj3JPUmO6dnXhpb/gSQblqtOkkZLkgOS3JXkM239yCS3trbmU0kObOnPbevb2/bVPfu4sKV/PcmJy1MTSYvNgJIkSdLS2QOcV1W/ABwPnJPkKOAC4OaqWgPc3NYBTgbWtMdG4HLoAlDARcBxwLHARZNBKElaoHOB+3vW3w98sLVPu4CzW/rZwK6qejnwwZaP1qadDrwSOAn4SJIDlqjskpaQASVJkqQlUlWPVdWdbfm7dBdtK4H1wJaWbQtwalteD1xVnVuAQ5IcDpwIbKuqnVW1C9hGd+EmSfssySrgTcDH2nqANwLXtSxT26fJdus6YF3Lvx64pqp+UFXfALbTBb4ljZiRH5RbkiRpELXbQ14L3AqMVdVj0AWdkry0ZVsJPNLztB0tbaZ0SVqIDwHvBn6yrb8YeKKq9rT13rbmx+1QVe1J8mTLvxK4pWefM7ZPSTbS9b5kbGyMiYmJWQs4dhCcd/SeWfPNx1xed7Hs3r17WV+/36zP4FqMuhhQkiRJWmJJXgD8JfC7VfXP3Y/602edJq2eJX261/KCbYQuCKD/x2e535tROj7DXJckbwYer6o7koxPJk+TtWbZNuf2qao2AZsA1q5dW+Pj49Nle4bLrr6eD9zb38vYh86Y/XUXy8TEBHOp97CwPoNrMepiQEnSyElyBHAV8NPAvwGbqurSNubIp4DVwEPAr1fVrtY9+1LgFOAp4KzJW1LaQLd/0Hb9vqragiQtQJLn0AWTrq6qT7fkbyU5vPVOOhx4vKXvAI7oefoq4NGWPj4lfWK61/OCbbQuCKD/x2c5jw2M1vEZ8rq8AXhLklOA5wEvpOuxdEiSFa2X0mQbBE+3TzuSrABeBOxk5nZL0ohxDCVJo8hBbyUNpBbAvgK4v6r+pGfTVmByprYNwPU96We22d6OB55st8bdBJyQ5NDWLp3Q0iRpn1TVhVW1qqpW0w2q/YWqOgP4InBayza1fZpst05r+auln95mgTuS7vzqy0tUDUlLyB5KkkZOu9iaHIvku0l6B70db9m20P2afz49g94CtySZHPR2nDboLUCSyUFvP7lklZE0at4AvB24N8ndLe33gUuAa5OcDTwMvLVtu5Gu9+R2uh6U7wCoqp1J3gvc1vK9Z7KtkjR3qy+4oa/7u/Kkg/u6vwFxPnBNkvcBd9EFxWl/P5FkO13PpNMBquq+JNcCX6X7ke+cqvrR0hdb0mIzoCRppDnoraRBUlV/w/TjiwCsmyZ/AefMsK/NwOb+lU6SOlU1QbuNtqoeZJpZ2qrq+zwd/J667WLg4sUroaRBYEBJ0shy0Nv+GIYBRi1j//S7nP3+jMPwvJeSJEmjzICSpJHkoLf9MwwDjFrG/ul3Oc/q8+0k0N1SMgzvpSRJ0ihzUG5JI8dBbyVJkiRpcdlDSdIoctBbSZIkSVpE+xxQSnIEcBXw08C/AZuq6tI2zfangNXAQ8CvV9Wu1mPgUrqLtqeAs6rqzravDcAftF2/r6q27Gu5JMlBbyVJkiRpcS3klrc9wHlV9QvA8cA5SY4CLgBurqo1wM1tHeBkYE17bAQuB2gBqIuA4+hmD7io3VoiSZIkSZKkAbTPAaWqemyyh1FVfRe4n2467fXAZA+jLcCpbXk9cFV1bgEOaYPinghsq6qdVbUL2AactK/lkiRJkiRJ0uLqy6DcSVYDrwVuBcbaYLa0vy9t2VYCj/Q8bUdLmyldkiRJkiRJA2jBg3IneQHd1Ny/W1X/3A2VNH3WadLqWdKne62NdLfLMTY2xsTExKzlGzsIzjt6z6z55mMur7tYdu/evayv32/9Pj4em/4ZtfpIkiRJkvpnQQGlJM+hCyZdXVWfbsnfSnJ4VT3Wbml7vKXvAI7oefoq4NGWPj4lfWK616uqTcAmgLVr19b4+Ph02Z7hsquv5wP39ncyu4fOmP11F8vExARzqfew6Pfx8dj0z6jVR5IkSZLUP/t8y1ubte0K4P6q+pOeTVuBDW15A3B9T/qZ6RwPPNluibsJOCHJoW0w7hNamiRJkiRJkgbQQrqGvAF4O3Bvkrtb2u8DlwDXJjkbeBh4a9t2I3AKsB14CngHQFXtTPJe4LaW7z1VtXMB5ZL2O6svuKHv+7zypIP7vk9JkiRJ0mjY54BSVf0N049/BLBumvwFnDPDvjYDm/e1LJIkSZIkSVo6fZnlTZIkSZIkSfsPA0qSJElLKMnmJI8n+UpP2mFJtiV5oP09tKUnyYeTbE9yT5Jjep6zoeV/IMmG6V5LkuYjyRFJvpjk/iT3JTm3pdtGSdqLASVJkqSldSVw0pS0C4Cbq2oNcHNbBzgZWNMeG4HLobu4Ay4CjgOOBS6avMCTpAXYA5xXVb8AHA+ck+QobKMkTcOAkiRJ0hKqqi8BUycgWQ9sactbgFN70q+qzi3AIUkOB04EtlXVzqraBWxj7yCVJM1LVT1WVXe25e8C9wMrsY2SNA0DSpIkSctvrKoeg+6CDnhpS18JPNKTb0dLmyldkvoiyWrgtcCt2EZJmsY+z/ImSZKkRTfdjLr1LOl77yDZSHcrCmNjY0xMTMz6omMHwXlH75l7KedgLq+7WHbv3r2sr99v/T4+y/3eLOfx6ffnfFQ+a0leAPwl8LtV9c/JTJN7L6yNsn0anc/MJOszuBajLgaUJEmSlt+3khxeVY+120Ueb+k7gCN68q0CHm3p41PSJ6bbcVVtAjYBrF27tsbHx6fL9gyXXX09H7i3v6eJD50x++sulomJCeZS72HR7+OznMcGlvf4nHXBDX3d35UnHTz0n7Ukz6ELJl1dVZ9uyYvSRtk+jV77ZH0G12LUxVveJEmSlt9WYHIWpA3A9T3pZ7aZlI4Hnmy3m9wEnJDk0DbQ7QktTZL2WbquSFcA91fVn/Rsso2StBd7KEmSJC2hJJ+k++X+JUl20M2EdAlwbZKzgYeBt7bsNwKnANuBp4B3AFTVziTvBW5r+d5TVVMH+pak+XoD8Hbg3iR3t7TfxzZK0jQMKEmSJC2hqnrbDJvWTZO3gHNm2M9mYHMfiyZpP1dVf8P04x+BbZSkKbzlTZIkSZIkSfNiQEmSJEmSJEnzYkBJkiRJkiRJ82JASZIkSZIkSfNiQEmSJEmSJEnzYkBJkiRJkiRJ82JASZIkSZIkSfNiQEmSJEmSJEnzYkBJkiRJkiRJ82JASZIkSZIkSfNiQEmSJEmSJEnzYkBJkiRJkiRJ82JASZIkSZIkSfOyYrkLIEmSJEnScll9wQ193+dDl7yp7/uUBs3A9FBKclKSryfZnuSC5S6PJE2yfZI0qGyfJA0q2ydp9A1EQCnJAcCfAScDRwFvS3LU8pZKkmyfJA0u2ydJg8r2Sdo/DERACTgW2F5VD1bVD4FrgPXLXCZJAtsnSYPL9knSoLJ9kvYDgzKG0krgkZ71HcBxy1QWSepl+yRpUNk+SRpU+337NNdxmc47eg9nLcIYTnPhOE9aqEEJKGWatNorU7IR2NhWdyf5+hz2/RLgnxZQtr3k/f3c27z1vT7LrK/18dj0z6+8f871+feLXZZlZvs0HJ9ty9g/A1/OebRPMNptlO3T3A3853qeRun8CUbo+Ng+/dhQtU/L6V3LWJ/9+LxxPkapPn1vnwYloLQDOKJnfRXw6NRMVbUJ2DSfHSe5varWLqx4g8P6DK5RqguMXn0WYL9vn4ahnJaxf4ahnMNQxiWy37dPc2V9Btso1WeU6rJAtk9zZH0G2yjVZzHqMihjKN0GrElyZJIDgdOBrctcJkkC2ydJg8v2SdKgsn2S9gMD0UOpqvYk+R3gJuAAYHNV3bfMxZIk2ydJA8v2SdKgsn2S9g8DEVACqKobgRsXYdfz6kI5BKzP4BqlusDo1Wef2T4NRTktY/8MQzmHoYxLwvZpzqzPYBul+oxSXRbE9mnOrM9gG6X69L0uqdprbDRJkiRJkiRpRoMyhpIkSZIkSZKGxEgElJJsTvJ4kq/MsD1JPpxke5J7khyz1GWcjznUZzzJk0nubo8/XOoyzlWSI5J8Mcn9Se5Lcu40eYbm+MyxPsN0fJ6X5MtJ/q7V5z9Pk+e5ST7Vjs+tSVYvfUmH17C0T3Mo5xmtfPck+W9JXj1oZezJ9z8k+VGS05aqbD2vPWsZWxtxd/vO/X9LWb6eMsx2vF+U5P/taRvesQxlHKn/H4NoWNqnuRql8ycYre+A50+eP/VLkpOSfL29rxcsd3kWYi7fi2GT5IAkdyX5zHKXZaGSHJLkuiRfa8fo9ctdpoVI8nvtc/aVJJ9M8ry+7Liqhv4B/DJwDPCVGbafAnwWCHA8cOtyl3mB9RkHPrPc5ZxjXQ4HjmnLPwn8PXDUsB6fOdZnmI5PgBe05ecAtwLHT8nz28BH2/LpwKeWu9zD9BiW9mkO5fwl4NC2fPJylHO2MrY8BwBfoBuz4bRBKyNwCPBV4N+19ZcO6PH+feD9bfmngJ3AgUtcxpH6/zGIj2Fpn/pYn6H5/9zKOzLfAc+fPH/q0/t+APAPwMuAA4G/m/o5GqbHXL4Xw/YA/nfgz4fluzxLXbYA/6EtHwgcstxlWkBdVgLfAA5q69cCZ/Vj3yPRQ6mqvkR3sjuT9cBV1bkFOCTJ4UtTuvmbQ32GRlU9VlV3tuXvAvfTfaB7Dc3xmWN9hkZ7z3e31ee0x9SB1dbTNagA1wHrkmSJijj0hqV9mq2cVfXfqmpXW70FWLUkBXtmGebSNr4T+Evg8cUv0d7mUMbfBD5dVQ+3/INazgJ+sn3XX9Dy7lmKsv24ACP2/2MQDUv7NFejdP4Eo/Ud8PzJ86c+ORbYXlUPVtUPgWvo3uehNGrfiySrgDcBH1vusixUkhfS/UhxBUBV/bCqnljeUi3YCuCgJCuA5wOP9mOnIxFQmoOVwCM96zsY4i9r8/rWzfazSV653IWZi9bV97V0v+L0Gsrj8yz1gSE6Pq1r6t10F+DbqmrG41NVe4AngRcvbSlH2jB+/s+m+0V8oCRZCfxPwEeXuyzP4ueAQ5NMJLkjyZnLXaAZ/CnwC3QnG/cC51bVvy1XYUbt/8cQGcX3d2j+P/cape+A509agKH7vM/VLN+LYfEh4N3Asp0v9NHLgG8DH2+38H0sycHLXah9VVXfBP4YeBh4DHiyqj7fj33vLwGl6X4NGObp7e4E/n1VvRq4DPh/lrk8s0ryArpeA79bVf88dfM0Txno4zNLfYbq+FTVj6rqNXQ9To5N8qopWYbu+AyZoXp/k/wKXUDp/OUuyzQ+BJxfVT9a7oI8ixXA6+h+wTsR+D+T/NzyFmlaJwJ3Az8DvAb40/Zr3ZIbtf8fQ2bU3t+h+v88aZS+A54/De6xGRIj+Z7O8r0YCkneDDxeVXcsd1n6ZAXdLdSXV9VrgX8BhnbMriSH0vXmO5Lu3O7gJP9zP/a9vwSUdgBH9Kyvok9dvJZDVf3zZDfbqroReE6SlyxzsWaU5Dl0jeTVVfXpabIM1fGZrT7DdnwmtW6cE8BJUzb9+Pi0LpIvYoRuKRgAQ/P5T/KLdN2Y11fVd5a7PNNYC1yT5CHgNOAjSU5d3iLtZQfwuar6l6r6J+BLwJIPcD4H76C7Na+qajvdffc/v9SFGLX/H0NopN7fYfz/PErfAc+fPH/qg6H5vM/VHL7jw+INwFvaOdg1wBuT/N/LW6QF2QHs6Ol5eB1dgGlY/Srwjar6dlX9K/BpuvFRF2x/CShtBc5sM2EcT9fF67HlLtS+SvLTk/dgJzmW7jgO4sUdrZxXAPdX1Z/MkG1ojs9c6jNkx+enkhzSlg+ia2y+NiXbVmBDWz4N+EJVDf2vQQNkKD7/Sf4d3T+ft1fV3y93eaZTVUdW1eqqWk33j/+3q2rQfuG+Hvgfk6xI8nzgOLoxEwbNw8A6gCRjwCuAB5eyAKP2/2NIjdT7O0z/n2G0vgOeP3n+1Ce3AWuSHJnkQLrBzrcuc5n22Ry/40Ohqi6sqlXtHOx0us97X3rALIeq+kfgkSSvaEnr6CZVGVYPA8cneX773K2jT+efK/qxk+WW5JN0M0O8JMkO4CK6wfGoqo/SzfZzCrAdeIrul9eBNYf6nAb8VpI9wPeA0wf4H9QbgLcD97b7zKGbPejfwVAen7nUZ5iOz+HAliQH0J24XVtVn0nyHuD2qtpK94/uE0m20/2ydvryFXf4DEv7NIdy/iHd2A8faef7e6pq7YCVcdnNVsaquj/J54B76MYY+FhVTTvF+XKWE3gvcGWSe+luMTi/9ahaSqP2/2PgDEv7NFcjdv4Eo/Ud8PzJ86cFq6o9SX4HuIluxrfNVXXfMhdrIab9XrQeelp+7wSubsHLBxnc9nVWVXVrkuvobi3eA9wFbOrHvjO47bQkSZIkSZIG0f5yy5skSZIkSZL6xICSJEmSJEmS5sWAkiRJkiRJkubFgJIkSZIkSZLmxYCSJEmSJEmS5sWAkiRJkiRJkubFgJIkSZIkSZLmxYCSJEmSJEmS5uX/ByDlCVncADBbAAAAAElFTkSuQmCC\n",
      "text/plain": [
       "<Figure size 1440x1440 with 20 Axes>"
      ]
     },
     "metadata": {
      "needs_background": "light"
     },
     "output_type": "display_data"
    }
   ],
   "source": [
    "train.hist(figsize=(20,20))"
   ]
  },
  {
   "cell_type": "markdown",
   "metadata": {},
   "source": [
    "<b>Most of the variables do not have a normal distribution which means we will probably want to standardize them later on. The target variable 'AdoptionSpeed' has a low count of '0' values which could negatively impact training a classifier on the training set.\n",
    "\n",
    "We can also see that most pets have only one breed and one color as there are many zero values for 'Breed2', 'Color2', and 'Color3'."
   ]
  },
  {
   "cell_type": "markdown",
   "metadata": {},
   "source": [
    "<b>Now we can look at some of the value counts of various columns just to get a feel of the distribution of the pets."
   ]
  },
  {
   "cell_type": "markdown",
   "metadata": {},
   "source": [
    "## Are dogs or cats more common?"
   ]
  },
  {
   "cell_type": "code",
   "execution_count": 31,
   "metadata": {},
   "outputs": [
    {
     "data": {
      "text/plain": [
       "Text(0.5, 1.0, 'Type Distribution')"
      ]
     },
     "execution_count": 31,
     "metadata": {},
     "output_type": "execute_result"
    },
    {
     "data": {
      "image/png": "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\n",
      "text/plain": [
       "<Figure size 1080x432 with 1 Axes>"
      ]
     },
     "metadata": {
      "needs_background": "light"
     },
     "output_type": "display_data"
    }
   ],
   "source": [
    "train['Type'].value_counts().rename({1:'Dog',\n",
    "                                        2:'Cat'}).plot(kind='barh',\n",
    "                                                       figsize=(15,6))\n",
    "plt.yticks(fontsize='xx-large')\n",
    "plt.title('Type Distribution', fontsize='xx-large')"
   ]
  },
  {
   "cell_type": "markdown",
   "metadata": {},
   "source": [
    "<b>Slightly more dogs than cats."
   ]
  },
  {
   "cell_type": "markdown",
   "metadata": {},
   "source": [
    "## Do dogs and cats have different adoption rates on average?"
   ]
  },
  {
   "cell_type": "code",
   "execution_count": 54,
   "metadata": {
    "scrolled": true
   },
   "outputs": [
    {
     "data": {
      "text/plain": [
       "Text(0.5, 1.0, 'Adoption Speed Distribution (Dogs)')"
      ]
     },
     "execution_count": 54,
     "metadata": {},
     "output_type": "execute_result"
    },
    {
     "data": {
      "image/png": "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\n",
      "text/plain": [
       "<Figure size 1080x432 with 1 Axes>"
      ]
     },
     "metadata": {
      "needs_background": "light"
     },
     "output_type": "display_data"
    }
   ],
   "source": [
    "train['AdoptionSpeed'][train['Type'] == 1].value_counts().sort_index().plot(kind='barh',\n",
    "                                                       figsize=(15,6))\n",
    "plt.yticks(fontsize='xx-large')\n",
    "plt.ylabel('Adoption Speed')\n",
    "plt.title('Adoption Speed Distribution (Dogs)', fontsize='xx-large')"
   ]
  },
  {
   "cell_type": "code",
   "execution_count": 53,
   "metadata": {},
   "outputs": [
    {
     "data": {
      "text/plain": [
       "Text(0.5, 1.0, 'Adoption Speed Distribution (Cats)')"
      ]
     },
     "execution_count": 53,
     "metadata": {},
     "output_type": "execute_result"
    },
    {
     "data": {
      "image/png": "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\n",
      "text/plain": [
       "<Figure size 1080x432 with 1 Axes>"
      ]
     },
     "metadata": {
      "needs_background": "light"
     },
     "output_type": "display_data"
    }
   ],
   "source": [
    "train['AdoptionSpeed'][train['Type'] == 2].value_counts().sort_index().plot(kind='barh',\n",
    "                                                       figsize=(15,6))\n",
    "plt.yticks(fontsize='xx-large')\n",
    "plt.ylabel('Adoption Speed')\n",
    "plt.title('Adoption Speed Distribution (Cats)', fontsize='xx-large')"
   ]
  },
  {
   "cell_type": "code",
   "execution_count": 57,
   "metadata": {
    "scrolled": true
   },
   "outputs": [
    {
     "data": {
      "text/plain": [
       "Text(0.5, 1.0, 'Average Adoption Speed')"
      ]
     },
     "execution_count": 57,
     "metadata": {},
     "output_type": "execute_result"
    },
    {
     "data": {
      "image/png": "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\n",
      "text/plain": [
       "<Figure size 1080x432 with 1 Axes>"
      ]
     },
     "metadata": {
      "needs_background": "light"
     },
     "output_type": "display_data"
    }
   ],
   "source": [
    "pd.DataFrame([train['AdoptionSpeed'][train['Type'] == 1].mean(),train['AdoptionSpeed'][train['Type'] == 2].mean()]).rename({0:'Dogs',\n",
    "                                        1:'Cats'}).plot(kind='barh',\n",
    "                                                       figsize=(15,6), legend=None)\n",
    "plt.yticks(fontsize='xx-large')\n",
    "plt.xlabel('Adoption Speed')\n",
    "plt.title('Average Adoption Speed', fontsize='xx-large')"
   ]
  },
  {
   "cell_type": "markdown",
   "metadata": {},
   "source": [
    "<b> The largest number of dogs aren't adopted after 100 days of being listed whereas the largest number of cats are adopted in the first month of being listed. Dogs on average take a longer amount of time to be adopted than cats."
   ]
  },
  {
   "cell_type": "markdown",
   "metadata": {},
   "source": [
    "## What breeds are most common?"
   ]
  },
  {
   "cell_type": "code",
   "execution_count": 36,
   "metadata": {},
   "outputs": [
    {
     "data": {
      "text/plain": [
       "Text(0.5, 1.0, 'Breed Distribution (Breed1)')"
      ]
     },
     "execution_count": 36,
     "metadata": {},
     "output_type": "execute_result"
    },
    {
     "data": {
      "image/png": "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\n",
      "text/plain": [
       "<Figure size 1080x432 with 1 Axes>"
      ]
     },
     "metadata": {
      "needs_background": "light"
     },
     "output_type": "display_data"
    }
   ],
   "source": [
    "train['Breed1'].value_counts().head(10).plot(kind='barh',\n",
    "                                                       figsize=(15,6))\n",
    "plt.yticks(fontsize='xx-large')\n",
    "plt.ylabel('Breed ID')\n",
    "plt.title('Breed Distribution (Breed1)', fontsize='xx-large')"
   ]
  },
  {
   "cell_type": "markdown",
   "metadata": {},
   "source": [
    "<b> Breed 307 which signifies an unknown breed is the most common primary breed followed by Breed 266 which are domestic shorthair cats."
   ]
  },
  {
   "cell_type": "code",
   "execution_count": 37,
   "metadata": {},
   "outputs": [
    {
     "data": {
      "text/plain": [
       "Text(0.5, 1.0, 'Breed Distribution(Breed2)')"
      ]
     },
     "execution_count": 37,
     "metadata": {},
     "output_type": "execute_result"
    },
    {
     "data": {
      "image/png": "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\n",
      "text/plain": [
       "<Figure size 1080x432 with 1 Axes>"
      ]
     },
     "metadata": {
      "needs_background": "light"
     },
     "output_type": "display_data"
    }
   ],
   "source": [
    "train['Breed2'].value_counts().head(10).plot(kind='barh',\n",
    "                                                       figsize=(15,6))\n",
    "plt.yticks(fontsize='xx-large')\n",
    "plt.ylabel('Breed ID')\n",
    "plt.title('Breed Distribution(Breed2)', fontsize='xx-large')"
   ]
  },
  {
   "cell_type": "markdown",
   "metadata": {},
   "source": [
    "<b> Most pets do not have a second breed but the largest number of the ones that do have an unknown second breed."
   ]
  },
  {
   "cell_type": "markdown",
   "metadata": {},
   "source": [
    "## More male or female pets?"
   ]
  },
  {
   "cell_type": "code",
   "execution_count": 66,
   "metadata": {},
   "outputs": [
    {
     "data": {
      "text/plain": [
       "Text(0.5, 1.0, 'Gender Distribution (excluding groups of pets)')"
      ]
     },
     "execution_count": 66,
     "metadata": {},
     "output_type": "execute_result"
    },
    {
     "data": {
      "image/png": "iVBORw0KGgoAAAANSUhEUgAAA50AAAF5CAYAAAAcZk73AAAABHNCSVQICAgIfAhkiAAAAAlwSFlzAAALEgAACxIB0t1+/AAAADl0RVh0U29mdHdhcmUAbWF0cGxvdGxpYiB2ZXJzaW9uIDMuMC4wLCBodHRwOi8vbWF0cGxvdGxpYi5vcmcvqOYd8AAAIABJREFUeJzt3Xm8bWVdP/DPV1AGmURQUUvE+EGOoZSY1g+nDC212bQUzLTU1LRMywx/Py3RHPJnzgPOYznPqWiaoWDOiICCIihODCJI6fP741lHNpt9zj3ncp97zuW+36/Xeu27n/WstZ69nrXX3Z+zpmqtBQAAAEa4yno3AAAAgCsvoRMAAIBhhE4AAACGEToBAAAYRugEAABgGKETAACAYYROgM1UVftXVauqI9e7LSupquOq6rituLxWVUfPvD98KnvAVmzDkdMy999ay1ymHUdV1Xerao/1bMfUlqV+OHz0fKvq6KryTLZtSFXtXlUvqqqzp/48dr3btBZVtVtVfWdr7meA1RM6gQ2tqvasqr+uquOr6tyquqSqvlFV766qP6mqXda7jVtTVZ0+/SBsVfXjqjqvqk6uqldV1d2qqrbQcq4yBYd7bon5jVBVe09tPHy927JIVe2c5AlJ/qm1dv56twc24a+T/FGSlyb5wyTP39oNqKr7V9UjNmfa1tr3kzwrydHb2/8LsC3Ycb0bALCcqrpZknck2S/Jm5K8Osn5Sa6V5JeSPDvJ7ZP83nq1cZ18Kcn/nf599SQHJLlHknsneXdV/XZr7cKZ+r+yGcu4SpK/S/KyJG9e47S7JPmfzVjmWu2d3sYkOW5u3CuSvDbJD7dCO5ZznyTXTfK8dWzDenlikievdyNYk9sn+Xxr7a/XsQ33T3L9JM/czOmfl+Rvk9w36xCageUJncCGVFW7J3lrkl2T3Lq19sm5KsdU1Y2S3H2rN26gqtq1tfaDTVT7VmvtlXPTPSbJ0Uken+Q5Se63NK61dsmWbue8qtohyQ6ttUtaaxePXt6mtNZ+lORH69yMP07ygdbaN9e5HVtda+1/snX+8DDE7Pa83m3Ziq6V5Kz1bsQV0Vr7ZlV9MMkDInTChuL0WmCjelCS/ZM8ckHgTJK01k5rrT1jvryqfqOqPlpV35+G91fVL87VWbrm7y5V9biq+lpVXTxNd4sF8/yZqnp7VV1YVd+uqhcmWXidXlVdvar+vqpOq6ofVtVZVfWcqrrGXL3jqurMqjqoqt5ZVecneeeq19Bl10Vrrf1dkg8k+YMpkM8u57i5Zf9WVf3ndMry96dTdJ83jds/yX9PVe83czrvcdP4pWv4/riq/qKqTks/oviL0/jLXNN52cXWX06nCF9cVSdW1Z3mKix73eE03bFL9ZKcMo36u5k2Lo1feE1nVR1WVe+tqvOnvvxoVR2xYFmtql5ZVf97OrX7oqo6o6r+bMHnWvRBr5fk1kneu8z4W1TVm6Zr0C6uqs9U1VFzdZ5TVT+qqv89V/7oqX3z9W83bUffndp7clVd7vsxN82xVXX6gvKF/VBVh1bVh6f5n11VxyS52oLpL3dN58z2/tNV9eaqumBq6/OqaqcF87hvVX1xWj8nVdUfLprvCp9tv6p67dTX507/vvb89rmK7bmq6s+r6gvT9/mb03q77qY+81R+uWu/Z7bPI6rqydX3ERdN6/aWc9PvUFWPndbFD6Z1dmJVPWSV6+GIaTu/cFoX76mqW8+3JckNk9x25rt0+ArzPHqqc0hVvaD6PvHC6vvIAxbU3+Q+cdoOb5vkBjNtaDPjl91nzXlPkkOr6qdXs36ArcORTmCjumeSi9NPkVy16tcDPSPJ25M8Nv0H8R8l+WBV3aG19tG5SZ6YpCV5evppoX+R5M1VdeB0tCZVtU+SDyfZK8n/S/L1JL+dfurp/PJ3SvL+JDdJ8oIkJyf5X0kekuSwqrpNa232lM9dk/xb+g+lv8gVPzp3bJI7pJ9S+9xFFarqjkneMH2mx6UHzAOS/PpU5VvpR0pfluTfp8+RJPNH7B6e/v/IC5L8IMnZm2jbQ5LsmUuPQDwoyTunfvnIpj/aZZyUvr7+Mf3U63+dyk9bboKqum1633w7yVOTXJTkqCTvqKp7tdZePzfJzdPX0wvT18XvJ3lWVX2htfb+TbTvl6bXTyxoxy8med/U1qckuSB93b+kqvZprT11qvqo9FMeX15VN2+tnVdVP5d+avW/ttZeOjPP30vyqvRt85+TnJnep7+b5M830dZVqaqDk3wwPZAdk36q+/2yttO3d0nvgw8l+cskt0nfDr6Vflrk0rLum77OP5X+Pd49va+/vsq27pz+vToo/XtwUpI7Z+U/6iy3Pf+/9G33felnEeyf5KFJbl9Vt2ytfWc1bVrGPySp9M+2xzTfD1bVoa21pT+qPH4ajk3fT+2c5Mbp29g/rzTzqvrd9H3oyelnQlwtyZ8k+VBV3XHaH344/RrOZyT5bi49df+kVbT/penbwf9Jcr0kf5bkw9P2+t2pDavdJz4ifbvaO3Pb7Cr2WbOOn15/Kf07AWwErTWDwWDYcEP6j59PLSjfJck+s8PMuOsnuSTJP85Ns1uSryb5yEzZkelh8xNJdpwp/82p/K4zZU+dyo6YKdsxyUem8iNnyh89teGWc224+1T3ATNlx01lj1nDejl99nMsGH/INM+nzy3nuJn3z0hy3uznXjCfHaf5HLtg3OHTuG8m2XPB+Jbk6AX1z0tynZny/dID1/EL6h6+zGc/dub9z8wva0H/7j9T9vEkFyb56ZmyPZOckR4wrjr3GX4024/pP/bPSfL6VfTTE6Z5/NRceSX5fJKPza//9OB84ew6TXKraXt65bT8z6WfAnnNmTq7J/le+rW+e83N8yorrdv0IHP6Cn08W/cN0zq56dx367QFdY9OPwA/O8/jpnqPmCt/a5JzZt5fNck3kpyaZNeZ8oPSw0abb++C9v/ZtKwHzpW/YoXt83Lbc3pQaknekqRmyu8xlf/jSp95Kt8/l99PLG2fpyXZbab8FtM6ft1M2X8lecemPvMy3+GzknxtdrtI309ekOSEBd+vZfctc3WPntr/0Vx2//nrU/kxM2Vr2Sd+ZJntcZP7rJm615vm+6S1rjODwTBucHotsFHtkf7DaN5D0o+KzA5LfjP9B+urq2qfpSH9x/r7k9ymqnadm98L23REc/LB6fVGM2W/nuTk1tq7lgqmaZ61oH33SnJCkq/OteFj6UfW7rhgmoVHJDfT0jrbfYU656XfgOhXr+CyXtVaO28N9V/bWvvG0pvW2tlJXpPkF6rqWlewLSuqqmsn+fkkr2mtfXWmDeel33zkOtP4Wce3mVO7W79W9WO57LaxnH2n1+/Nld8s/SjVq5PsNbeNvDP9yPdhM8s8Mf1mSfdJ3zZvnB5eZo+u3Tn9KPwxrbVzZxfWWvvxKtq6SdWvcTwiyb+11j43M//vZ23Xzv14Qf0PJtm3+nXcSQ/a107/bv7k+ubW2snpZwSsxt3Sj8C9dK78n1aYZtH2vHQk7amttZ+c6tlae0v6Ebsrek35i6Z1uDTfT6fvq+5aVUu/0c5LcpOq+tk1zvvQ9D/sPH92u2itnZm+/d1q/hThzfDs2f1na+1t6ae9zx6B3Jx94ry17LOWvhv7rKIusJUIncBGdX4WB6fXp//IvnP6j7NZB0+vJ+bywfTI9H3eNeemOWP2TWttKSTsPVO8f/pRpHknLyg7OP2Uwfnln5N+lHY+XH13jcFtU5bW2aLAvuQ5Sb6Y5G3TtVWvrqp7V9VV17isr6yx/qL1tVR2wzXOa62W5r/olMEvLNOGM+YrpofIvReUr9bSNvqsXH4beeE0bn4bOSb9R/thSf65tTZ/neiB0+tnrkC7NmXf9B/9K/XhapzTWrtormz+O7f/9HpKLm/R93CR/ZOc0Vr777nylaZftD0vtWXRdnPSzPjNtdz63C2X/uHib9O/11+Yrit9dlXdfhXzXmrbWrb5tVqu/bPzXes+cZG17LP8toUNyDWdwEb1hfS/xO/UZq6BnI5SfTXpN8CYm2bpx8ZvJPl+FvvW3PvlrqGcf97lah90f5X0v+A/fpnx80e+5n+AX1E3m14X/WBPkrTWzqmqQ9Kv/bxL+jV5v5/k0VV1u9kjL5uw1ravZh2uVGeHNS5vtfOvZcatdttYZGk7u0Yuuy0ubaNHp5+auMjn594fkGTpKNfNquoqyxzBXO02uppp5tf1cutorVa6ZrnmXlfqq02pZaZfyUrb82rastp1uZppLq3Q2r9PN+e5W5I7pe/fHlJVL2mt/dGmpl9mGVuqP1cz/Vr3iZdfyNr2WUs3J/r2KtoGbCVCJ7BRvTn9Toa/n37d2WqcOr2e1Vr7+BZsy+np15PNW1R2avr1U/+2BZe/Fkemn8L4vpUqTUeA3jMNqaoHp9+U5N7pN/u4oj9GFzl4QdnSOlw6yrT0A3T+Tr87p58qOGstbTx9er3xCu06fcG4zbV0dOlG6dfULVnaRi9azTYyndb6ivSb9/x9kiel32DoqTPVlv7AcPP0I6Jr8b3MrevJ/B1Iz0m/3nSlPtxSlraF/7Vg3IELypabx22q6qpzRzsXzXMlp0+vN06/3nDWwbnsNvO9JKmqa8ycMZFcfl3Oz2PeQel/qPjJH8imsyFenX7pwI7pN1m6f1Ud01pb7ujtbNv/dW7cltrmD06/5nTWQbnsUeO17BOX/U6vYp+1ZOn09y8E2DCcggBsVM9PP73xaVV1q2XqzB9peGP6swGPnn6YXbby5l83+PYkB9XMozWm+T9sQd3XJPnZqrr3guXvUFVX5NTMZVX3hPS7nb6qtXbqCnXnTzFOkqVrF/dOfvKcy4uzOJBsrntV1XVm2rFf+h8VPtFaO2cqPj29D+8wN+3DcvkjRktHNzbZxula0hOmNlx/pg27p9899RtZcKfZK+Dfp9f560Q/mX764cOn69ouo6r2nSt6XPpptQ9qrf19enh4Yl32sT7vS3Jukr+qqj3n5repI4OnJNlj9jtWVVdL8uDZStP28O4kd6qqm87U3S19/W1JJ6aH3AfMXoNdVQelH+VajXemXxd+1Fz5ou/sSt42vT5qdl1W1a+nh6u3zdRdCv93mKlX6XfFXc4DqurqM/VvkX6N47uWjmbPf1+nayg/O71daX9yQvoNsh5YVT95vNN0Hed9knyytXZFn8v50Nl97bReDkzfZy5Zyz7x++nXJ8/X2+Q+a8bS42DWekdsYCBHOoENqbV2wfQD5h1Jjq+qN6X/iDg//SYjt0u/scnsTWFOr6pHpd8s5MSqen36j9frp9+h8sfpoWytnpL+I+1fqupZ6Y9t+J30a9zmPS3JXZO8sqp+Lf20sqTfafW30kPEsZvRhln7VtUfTP/eNf1Iyj3TfwS/O8mfbmL6F00B/P3p62+f9McoXJTLHhH5RHrI+Iv0R3Cc01r7wBVo91eSfKz6s/VqWubO6Y8+SZK01s6vqlclefD0g/1z6deD/VLmTpdr/UHwX00Pkl9Kv4HIV1prx2exP09/jMZ/VtVz00P1UUlukOReC67/22ytta9X1cfTTwN86kz5j6s/X/O96dfovTjJl9P74JD0u6LulCTVn6X4uCQvb629cZrFA9MDxyunx2r8cPquPDj9DrefrqqXpffX/uk3cVnpxkevSX9sx5ur6plT2R/k0ue0zvrb9Bu5fLCqnp3+XTxyet1iWmv/XVWPSfKSJB+tqpenX+P40PTPfsgqZvPC9O/Bc6aQ/MX068CXnt24qqPkrbXPV9Vz0kP4u6vqbenby0PTvzt/P1N96TE4L5pu+nNe+nd+/uZlsy5I8h/Vny+7R/pdd3+QmcfHJDmpqj6S/n38Zvr3/KHpf7w4cYW2/0/1R0i9Nn2bf0kufWTKVbNyGF6tqyf5QFW9If2usQ9LD7pPmamzln3iJ5L8alX9U/qjT37cWnttVr/PSvo2emJrbdE12cB6We/b5xoMBsNKQ/ojLf4m/cfIeem33v9G+ilWD0qyy4Jp7pL+o/7c9GDxlfQfXneZqXNk+g/POy2Y/nKP4Uj/6/07008x/E76j9qbZ+5RCFPdnac2f25a/rlJPp3+Q2z2cR3HJTlzjevj9GmZLT1EX5B+c5RXpV/zVQumOS6XfWTKb02f5ez00zbPSvIvSQ6Zm+4m6c9TvHBa3nFT+eGZe9TBSutvpv4fpz+b8fRpuZ+c7ZOZ+nulB6jzps/3lvQf+qdn7hEuSX45/YjOxZl5xEsWPDJlKj8sPRxckP7j/qOZeTzO3Gd45YLyY7PgkQ7LrIcHpB+1vc6CcQdPn/Hs9G3661O7HjyNv/rUr19JsseC7fvHmXkszlR++2ke502f7YtJnragHw5fZh3+MD2sPj79aNuiur+QfhT34qntx6QH69U+MuVy2/sKfXVUerD6Yfrpyn+Q/jzLi1a5/q+bfuOxC6Z18rr0AN6S/NWC9bLc9nyVJI+c2vDD9D9kvSzJ9RbUven0OS+e6v1T+umtyz0y5YhpHZ49TfPvSQ6dm+djk/xH+h9dLk4Pts9Kcu1Vroe7pm/nP5jWxXuTHLbMvmWtj0w5JH1f+J30/cQ7k/zMgvqr3SfukX4a8XfTt/G2xn3WtdO/c3+yms9hMBi23lCtjbhsBwC2b9N1qKekPxbjCevdniuDqnpLkp9tra312syl6Q9J/2PHfVprr96ijVtbO45Mf5zLndv6Xf+92arq6PRH+RzYVjiVf2urqr9LPxvgwDbzuB1g/bmmEwAGaP25no9Pv35zj03V51JVtdP89ahVdXD6UbtVneJdVbssKH5k+hG0D13hRrKhTNcXPyz9LAuBEzYY13QCwCCttZemH9FibQ5J8tLpWsGvpV//96D0U0SfstKEM15bVRck+Xj6Tajuln7a8LNba1/f8k1mPbX+2JRFNxwCNgChEwDYaM5Mf17pUUmulX694IeS/E1r7curnMe70q8j/rUku6TfsOkxuezjZgDYClzTCQAAwDCu6QQAAGAYp9dupn322aftv//+690MAACAdXHiiSd+u7W276bqCZ2baf/9988JJ5yw3s0AAABYF1V1xmrqOb0WAACAYYROAAAAhhE6AQAAGEboBAAAYBihEwAAgGGETgAAAIYROgEAABhG6AQAAGAYoRMAAIBhhE4AAACGEToBAAAYRugEAABgGKETAACAYYROAAAAhhE6AQAAGEboBAAAYBihEwAAgGGETgAAAIYROgEAABhG6AQAAGAYoRMAAIBhhE4AAACGEToBAAAYRugEAABgGKETAACAYYROAAAAhhE6AQAAGEboBAAAYBihEwAAgGGETgAAAIYROgEAABhG6AQAAGAYoRMAAIBhhE4AAACGEToBAAAYRugEAABgGKETAACAYYROAAAAhtlxvRuwzTrrv5Kj91zvVgAAXPkdfd56twC4AhzpBAAAYBihEwAAgGGETgAAAIYROgEAABhG6AQAAGAYoRMAAIBhhE4AAACGEToBAAAYRugEAABgGKETAACAYYROAAAAhhE6AQAAGEboBAAAYBihEwAAgGGETgAAAIYROgEAABhG6AQAAGAYoRMAAIBhhE4AAACGEToBAAAYRugEAABgGKETAACAYYROAAAAhhE6AQAAGEboBAAAYBihEwAAgGGETgAAAIYROgEAABhG6AQAAGAYoRMAAIBhhE4AAACGEToBAAAYRugEAABgGKETAACAYbaL0FlVp1fVsevdDgAAgO3NuofOqjq8qto0PHqZOo+aqXP4Vm4iAAAAm2ndQ+eMi5P84TLj7juNBwAAYBuykULn25LctKp+brawqm6W5OZJ3rourQIAAGCzbaTQ+f4kZ+fyRzvvl+SsafxPVNXNqurFVXVKVf2gqs6tqndX1c+vdoFV9cdV9cmqumia/i1VdeMr/EkAAABIsrFC54+SvDrJvatqhySZXu89lf94rv5dktwiyeuSPDzJPyY5KMmHqurgTS2sqp6Z5HlJTkryqCTHJLlVkv+oqp/ZEh8IAABge7eRQmeSvDzJdZLceXp/pyT7JXnFgrrPba0d2lp7XGvtha21Jyb5+STfT/KIlRZSVbdOD6oPb63dp7X2nNbaPyQ5LH2dHL3MdA+sqhOq6oRv/aBtxscDAADYvmyo0Nla+0ySz+TSU2zvm+TTU/l83QuX/l1Vu1bVNae3H08Pnyv5vSSXJHlTVe2zNKTfrOgTSe64TPteMAXdQ/fdtdby0QAAALZLO653AxZ4RZInVNV+Se6Z5PGLKlXVHkmemOR30o+OzvrKJpZxcJKrJTlzmfHzp/ICAACwGTZi6HxVkicneWWSndKv51zkNelHJJ+R5JNJzksPi49NcqNNLOMqSX6Q5B5boL0AAAAsY8OFztba2VX1/iS/kuQ9rbWz5+tU1V5J7prkCa21o+fG/d9VLObU9BsRfba19s0r3moAAAAW2VDXdM44OskTpmGRHyVpmWt/VR2e5NarmP9rptf/s2hkVe27mkYCAACwsg13pDNJWmsfS/KxFcZfMB0NfXRV7ZLkS0luluSoJJ9Psvsm5v/Rqnp6kkdOz+V8W5Jzk9wgyRHpNzM6cgt8FAAAgO3ahgydq3SfJE9Lcr8kV0/y6fQbD/1hksM3NXFr7VFVdUKShyT52/Sjpmcl+UiS549pMgAAwPalWvO8yc1x6HV3aCc8cLf1bgYAwJXf0eetdwuABarqxNbaoZuqt1Gv6QQAAOBKQOgEAABgGKETAACAYYROAAAAhhE6AQAAGEboBAAAYBihEwAAgGGETgAAAIYROgEAABhG6AQAAGAYoRMAAIBhhE4AAACGEToBAAAYRugEAABgGKETAACAYYROAAAAhhE6AQAAGEboBAAAYBihEwAAgGGETgAAAIYROgEAABhG6AQAAGAYoRMAAIBhhE4AAACGEToBAAAYRugEAABgGKETAACAYYROAAAAhhE6AQAAGEboBAAAYBihEwAAgGGETgAAAIbZcb0bsM267iHJ0SesdysAAAA2NEc6AQAAGEboBAAAYBihEwAAgGGETgAAAIYROgEAABhG6AQAAGAYoRMAAIBhhE4AAACGEToBAAAYRugEAABgGKETAACAYYROAAAAhhE6AQAAGEboBAAAYBihEwAAgGGETgAAAIYROgEAABhG6AQAAGAYoRMAAIBhhE4AAACGEToBAAAYRugEAABgGKETAACAYYROAAAAhhE6AQAAGEboBAAAYBihEwAAgGGETgAAAIYROgEAABhG6AQAAGAYoRMAAIBhhE4AAACGEToBAAAYRugEAABgGKETAACAYYROAAAAhhE6AQAAGEboBAAAYBihEwAAgGGETgAAAIYROgEAABhG6AQAAGAYoRMAAIBhhE4AAACGEToBAAAYRugEAABgGKETAACAYYROAAAAhhE6AQAAGEboBAAAYBihEwAAgGGETgAAAIYROgEAABhG6AQAAGAYoRMAAIBhhE4AAACGEToBAAAYRugEAABgGKETAACAYYROAAAAhhE6AQAAGEboBAAAYBihEwAAgGGETgAAAIYROgEAABhG6AQAAGAYoRMAAIBhhE4AAACGEToBAAAYRugEAABgGKETAACAYYROAAAAhhE6AQAAGEboBAAAYBihEwAAgGGETgAAAIYROgEAABhG6AQAAGAYoRMAAIBhhE4AAACG2XG9G7Ct+uzXz8v+j3nHejcDAAC4kjr9yXdb7yZsEY50AgAAMIzQCQAAwDBCJwAAAMMInQAAAAwjdAIAADCM0AkAAMAwQicAAADDCJ0AAAAMI3QCAAAwjNAJAADAMEInAAAAwwidAAAADCN0AgAAMIzQCQAAwDBCJwAAAMMInQAAAAwjdAIAADCM0AkAAMAwQicAAADDCJ0AAAAMI3QCAAAwjNAJAADAMEInAAAAwwidAAAADCN0AgAAMIzQCQAAwDBCJwAAAMMInQAAAAwjdAIAADCM0AkAAMAwQicAAADDCJ0AAAAMI3QCAAAwjNAJAADAMFf60FlVd6qqVlW3W++2AAAAbG9WFTqr6vApuC0avj26kQAAAGybdlxj/RcnOW6u7OIt0xQAAACubNYaOv+ztfbKIS0BAADgSmeLXtNZVdeqqudU1ZlVdUlVfaWqnlRVO83VO7OqjquqW1XVh6vqB1V1RlX96TT+gKp6W1WdX1Xfrqp/qKqam8f9q+q9VXX2tKwzquqZVbXblmwrAAAAm2+tRzp3q6p95souaK39sKr2TXJ8kl2TvCDJ15IcmuQxSW6a5B5z010/yduTvDzJ65IcleQ5VXVRkidM4/4qyW9O8zglyUtmpn9Yki8meUaS85LcKsmDk9wkyZ1X+hCb0VYAAAA2w1pD5zOmYdZRSY5N8qQkeyS5eWvt69O4F1TVF5M8raoOb60dNzPdjZL8WmvtHUlSVW9ID38vSfKQ1tpzp/IXT+UPymVD521baxfONqSqjk/yoqo6tLV2wgqfY61tXZr/A5M8MEl22GPfFWYPAABAsvbQ+fQk75or+3xVXSXJ7yZ5R5Ifzh0Nfd/0esdc9iZEX1sKnEnSWjunqk5JclD6DYuWyi+pqk8kuc3sQpcC57Ts3ZNcNcmHp9E/n2Rh6NzMti4t8wXpR0az034HtkXzBwAA4FJrDZ0ntdb+bb6wqq6bZM8k956GRa419/6MBXXOTfKN1tolC8r3nlvmYUmemOS2SXaeq3+NZdqQJNfZjLYCAACwGdYaOpezdEOiNyZ5/jJ1vj73/kfL1Fuu/Ceq6oAkH0hyWpK/TA+wFyW5WvoRzJVukLQ5bQUAAGAzbKnQ+Y0k30+y06IjoQP8RpJdkhzRWjtzqbCqbrKKabd2WwEAALZbW+SRKa21/0k/cni3qrrN/Piq2rmqdt8Sy5osHQ2db/9fbWrCdWgrAADAdmtLHelMkkcnuV2S46rqpUk+lf5IkoOS/E6Suyf5yBZa1ruSPDnJe6rq+UnaNP+9NmBbAQAAtltbLHS21r5VVbdO8tj001/vn+T8JF9O8swkn9+Cyzq5qu6efiOhJyW5MP25nvdOP312w7QVAABge1atefLH5thpvwPbfvd75no3AwAAuJI6/cl3W+8mrKiqTmytHbqa96xGAAAH9ElEQVSpelvkmk4AAABYROgEAABgGKETAACAYYROAAAAhhE6AQAAGEboBAAAYBihEwAAgGGETgAAAIYROgEAABhG6AQAAGAYoRMAAIBhhE4AAACGEToBAAAYRugEAABgGKETAACAYYROAAAAhhE6AQAAGEboBAAAYBihEwAAgGGETgAAAIYROgEAABhG6AQAAGAYoRMAAIBhhE4AAACGEToBAAAYRugEAABgGKETAACAYYROAAAAhhE6AQAAGEboBAAAYBihEwAAgGGETgAAAIbZcb0bsK262fX2zAlPvtt6NwMAAGBDc6QTAACAYYROAAAAhhE6AQAAGEboBAAAYBihEwAAgGGETgAAAIYROgEAABhG6AQAAGAYoRMAAIBhhE4AAACGEToBAAAYRugEAABgGKETAACAYYROAAAAhhE6AQAAGEboBAAAYBihEwAAgGGETgAAAIYROgEAABhG6AQAAGAYoRMAAIBhhE4AAACGEToBAAAYRugEAABgGKETAACAYYROAAAAhhE6AQAAGEboBAAAYBihEwAAgGGETgAAAIYROgEAABhG6AQAAGAYoRMAAIBhhE4AAACGEToBAAAYRugEAABgGKETAACAYYROAAAAhhE6AQAAGEboBAAAYJhqra13G7ZJVXVBkpPXux2syT5Jvr3ejWDN9Nu2R59tm/TbtkefbZv027ZHny3vBq21fTdVacet0ZIrqZNba4eudyNYvao6QZ9te/TbtkefbZv027ZHn22b9Nu2R59dcU6vBQAAYBihEwAAgGGEzs33gvVuAGumz7ZN+m3bo8+2Tfpt26PPtk36bdujz64gNxICAABgGEc6AQAAGEboXKOq+tWqOrmqTq2qx6x3e7Z3VfWSqjqnqj43U7Z3Vb2vqk6ZXq8xlVdVPWvqu89U1S1nprnfVP+UqrrfenyW7UVV/VRVfbCqTqqqz1fVw6dy/baBVdXOVfXxqvr01G9PmMpvWFXHT33wuqq62lS+0/T+1Gn8/jPzeuxUfnJV3WV9PtH2o6p2qKr/qqq3T+/12QZXVadX1Wer6lNVdcJUZh+5gVXVXlX1xqr64vT/22302cZWVQdN37Gl4fyqeoR+G6S1ZljlkGSHJKclOSDJ1ZJ8OsmN17td2/OQ5JeT3DLJ52bKnpLkMdO/H5PkmOnfd03yriSV5LAkx0/leyf58vR6jenf11jvz3ZlHZLsl+SW0793T/KlJDfWbxt7mNb/btO/r5rk+Kk/Xp/kXlP585L86fTvByd53vTveyV53fTvG0/7zp2S3HDap+6w3p/vyjwkeWSSVyd5+/Ren23wIcnpSfaZK7OP3MBDkpclecD076sl2UufbTtD+m/8byS5gX4bMzjSuTa/kOTU1tqXW2uXJHltknusc5u2a621Dyf57lzxPdJ3/ple7zlT/vLW/WeSvapqvyR3SfK+1tp3W2vfS/K+JL86vvXbp9ba2a21T07/viDJSUmuF/22oU3r//vT26tOQ0tyhyRvnMrn+22pP9+Y5I5VVVP5a1trP2ytfSXJqen7VgaoqusnuVuSF03vK/psW2UfuUFV1R7pfwR/cZK01i5prZ0bfbYtuWOS01prZ0S/DSF0rs31knxt5v2ZUxkby7Vba2cnPeAkudZUvlz/6dd1Mp2+d0j6UTP9tsFNp2l+Ksk56f+pnpbk3Nba/0xVZvvgJ/0zjT8vyTWj37a2ZyZ5dJIfT++vGX22LWhJ3ltVJ1bVA6cy+8iN64Ak30ry0ulU9hdV1dWjz7Yl90rymunf+m0AoXNtakGZ2/9uO5brP/26DqpqtyT/kuQRrbXzV6q6oEy/rYPW2o9aaz+X5PrpR7p+dlG16VW/rbOq+rUk57TWTpwtXlBVn208t22t3TLJEUkeUlW/vEJd/bb+dky/1Oe5rbVDklyYflrmcvTZBjJd1373JG/YVNUFZfptlYTOtTkzyU/NvL9+krPWqS0s75vT6Q6ZXs+ZypfrP/26lVXVVdMD56taa/86Feu3bcR02thx6de07FVVO06jZvvgJ/0zjd8z/VR4/bb13DbJ3avq9PTLQe6QfuRTn21wrbWzptdzkrwp/Y889pEb15lJzmytHT+9f2N6CNVn24YjknyytfbN6b1+G0DoXJtPJDlwuvPf1dIPxb91ndvE5b01ydKdw+6X5C0z5fed7j52WJLzptMm3pPkV6rqGtMdyn5lKmOA6RqxFyc5qbX29JlR+m0Dq6p9q2qv6d+7JLlT+vW4H0zy21O1+X5b6s/fTvKB1lqbyu9V/U6pN0xyYJKPb51PsX1prT22tXb91tr+6f9ffaC1dp/osw2tqq5eVbsv/Tt93/a52EduWK21byT5WlUdNBXdMckXos+2Fb+fS0+tTfTbGOt9J6NtbUi/c9WX0q9l+pv1bs/2PqTvJM5O8t/pf2n6o/RrkN6f5JTpde+pbiX556nvPpvk0Jn53D/95hinJjlqvT/XlXlIcrv0004+k+RT03BX/baxhyQ3T/JfU799Lsnjp/ID0gPIqemnJu00le88vT91Gn/AzLz+ZurPk5Mcsd6fbXsYkhyeS+9eq8828DD1z6en4fNLvzXsIzf2kOTnkpww7SPfnH4XU322wYckuyb5TpI9Z8r024ChphUFAAAAW5zTawEAABhG6AQAAGAYoRMAAIBhhE4AAACGEToBAAAYRugEAABgGKETAACAYYROAAAAhvn/ibmKNTjm13oAAAAASUVORK5CYII=\n",
      "text/plain": [
       "<Figure size 1080x432 with 1 Axes>"
      ]
     },
     "metadata": {
      "needs_background": "light"
     },
     "output_type": "display_data"
    }
   ],
   "source": [
    "train['Gender'][(train['Gender'] == 1) | (train['Gender'] == 2)].value_counts().rename({1:'Male',\n",
    "                                        2:'Female'}).plot(kind='barh',\n",
    "                                                       figsize=(15,6))\n",
    "plt.yticks(fontsize='xx-large')\n",
    "plt.title('Gender Distribution (excluding groups of pets)', fontsize='xx-large')"
   ]
  },
  {
   "cell_type": "markdown",
   "metadata": {},
   "source": [
    "<b> More pets are female."
   ]
  },
  {
   "cell_type": "markdown",
   "metadata": {},
   "source": [
    "## "
   ]
  },
  {
   "cell_type": "code",
   "execution_count": 79,
   "metadata": {},
   "outputs": [
    {
     "data": {
      "text/plain": [
       "Text(0.5, 1.0, 'Amount of Photos Distribution')"
      ]
     },
     "execution_count": 79,
     "metadata": {},
     "output_type": "execute_result"
    },
    {
     "data": {
      "image/png": "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\n",
      "text/plain": [
       "<Figure size 1440x1080 with 1 Axes>"
      ]
     },
     "metadata": {
      "needs_background": "light"
     },
     "output_type": "display_data"
    }
   ],
   "source": [
    "train['PhotoAmt'].value_counts().sort_index().plot(kind='barh',\n",
    "                                                       figsize=(20,15))\n",
    "plt.yticks(fontsize='xx-large')\n",
    "plt.ylabel('Number of Photos')\n",
    "plt.title('Amount of Photos Distribution', fontsize='xx-large')"
   ]
  },
  {
   "cell_type": "markdown",
   "metadata": {},
   "source": [
    "<b>Most listings that have photos only have 1-5 of them."
   ]
  },
  {
   "cell_type": "markdown",
   "metadata": {},
   "source": [
    "## Add image metadata"
   ]
  },
  {
   "cell_type": "markdown",
   "metadata": {},
   "source": [
    "<b>The image metadata is given by a collection of JSON files with the 'PetID' of the corresponding pet in the name of the file. Some pets have multiple pictures but I will initially just use the first three photos of each pet if available as these are likely the main photos seen by people searching for pets to adopt and thus have the largest effect on drawing in a perspective adoption.\n",
    "  "
   ]
  },
  {
   "cell_type": "code",
   "execution_count": 92,
   "metadata": {},
   "outputs": [],
   "source": [
    "for index, row in train.iterrows():  ## First photo\n",
    "    file = 'train_metadata/' + row['PetID'] + '-1.json'\n",
    "    if os.path.exists(file):\n",
    "        data = json.load(open(file, encoding=\"utf8\"))\n",
    "        vertex_x = data['cropHintsAnnotation']['cropHints'][0]['boundingPoly']['vertices'][2]['x']\n",
    "        vertex_y = data['cropHintsAnnotation']['cropHints'][0]['boundingPoly']['vertices'][2]['y']\n",
    "        bounding_confidence = data['cropHintsAnnotation']['cropHints'][0]['confidence']\n",
    "        bounding_importance_frac = data['cropHintsAnnotation']['cropHints'][0].get('importanceFraction', -1)\n",
    "        dominant_blue = data['imagePropertiesAnnotation']['dominantColors']['colors'][0]['color']['blue']\n",
    "        dominant_green = data['imagePropertiesAnnotation']['dominantColors']['colors'][0]['color']['green']\n",
    "        dominant_red = data['imagePropertiesAnnotation']['dominantColors']['colors'][0]['color']['red']\n",
    "        dominant_pixel_frac = data['imagePropertiesAnnotation']['dominantColors']['colors'][0]['pixelFraction']\n",
    "        dominant_score = data['imagePropertiesAnnotation']['dominantColors']['colors'][0]['score']\n",
    "        train.loc[index, 'vertex_x']= vertex_x\n",
    "        train.loc[index, 'vertex_y']= vertex_y\n",
    "        train.loc[index, 'bounding_conf']= bounding_confidence\n",
    "        train.loc[index, 'bounding_imp']= bounding_importance_frac\n",
    "        train.loc[index, 'dom_blue']= dominant_blue\n",
    "        train.loc[index, 'dom_green']= dominant_green\n",
    "        train.loc[index, 'dom_red']= dominant_red\n",
    "        train.loc[index, 'pixel_frac']= dominant_pixel_frac\n",
    "        train.loc[index, 'score']= dominant_score\n",
    "    else:\n",
    "        train.loc[index, 'vertex_x']= -1\n",
    "        train.loc[index, 'vertex_y']= -1\n",
    "        train.loc[index, 'bounding_conf']= -1\n",
    "        train.loc[index, 'bounding_imp']= -1\n",
    "        train.loc[index, 'dom_blue']= -1\n",
    "        train.loc[index, 'dom_green']= -1\n",
    "        train.loc[index, 'dom_red']= -1\n",
    "        train.loc[index, 'pixel_frac']= -1\n",
    "        train.loc[index, 'score']= -1"
   ]
  },
  {
   "cell_type": "code",
   "execution_count": 96,
   "metadata": {},
   "outputs": [],
   "source": [
    "for index, row in train.iterrows():  ## Second photo\n",
    "    file = 'train_metadata/' + row['PetID'] + '-2.json'\n",
    "    if os.path.exists(file):\n",
    "        data = json.load(open(file, encoding=\"utf8\"))\n",
    "        vertex_x = data['cropHintsAnnotation']['cropHints'][0]['boundingPoly']['vertices'][2]['x']\n",
    "        vertex_y = data['cropHintsAnnotation']['cropHints'][0]['boundingPoly']['vertices'][2]['y']\n",
    "        bounding_confidence = data['cropHintsAnnotation']['cropHints'][0]['confidence']\n",
    "        bounding_importance_frac = data['cropHintsAnnotation']['cropHints'][0].get('importanceFraction', -1)\n",
    "        try:\n",
    "            dominant_blue = data['imagePropertiesAnnotation']['dominantColors']['colors'][0]['color']['blue']\n",
    "        except:\n",
    "            dominant_blue = -1\n",
    "        try:\n",
    "            dominant_green = data['imagePropertiesAnnotation']['dominantColors']['colors'][0]['color']['green']\n",
    "        except: \n",
    "            dominant_green = -1\n",
    "        try: \n",
    "            dominant_red = data['imagePropertiesAnnotation']['dominantColors']['colors'][0]['color']['red']\n",
    "        except:\n",
    "            dominant_red = -1\n",
    "        dominant_pixel_frac = data['imagePropertiesAnnotation']['dominantColors']['colors'][0]['pixelFraction']\n",
    "        dominant_score = data['imagePropertiesAnnotation']['dominantColors']['colors'][0]['score']\n",
    "        train.loc[index, 'vertex_x2']= vertex_x\n",
    "        train.loc[index, 'vertex_y2']= vertex_y\n",
    "        train.loc[index, 'bounding_conf2']= bounding_confidence\n",
    "        train.loc[index, 'bounding_imp2']= bounding_importance_frac\n",
    "        train.loc[index, 'dom_blue2']= dominant_blue\n",
    "        train.loc[index, 'dom_green2']= dominant_green\n",
    "        train.loc[index, 'dom_red2']= dominant_red\n",
    "        train.loc[index, 'pixel_frac2']= dominant_pixel_frac\n",
    "        train.loc[index, 'score2']= dominant_score\n",
    "    else:\n",
    "        train.loc[index, 'vertex_x2']= -1\n",
    "        train.loc[index, 'vertex_y2']= -1\n",
    "        train.loc[index, 'bounding_conf2']= -1\n",
    "        train.loc[index, 'bounding_imp2']= -1\n",
    "        train.loc[index, 'dom_blue2']= -1\n",
    "        train.loc[index, 'dom_green2']= -1\n",
    "        train.loc[index, 'dom_red2']= -1\n",
    "        train.loc[index, 'pixel_frac2']= -1\n",
    "        train.loc[index, 'score2']= -1"
   ]
  },
  {
   "cell_type": "code",
   "execution_count": 97,
   "metadata": {},
   "outputs": [],
   "source": [
    "for index, row in train.iterrows():  ## Third photo\n",
    "    file = 'train_metadata/' + row['PetID'] + '-3.json'\n",
    "    if os.path.exists(file):\n",
    "        data = json.load(open(file, encoding=\"utf8\"))\n",
    "        vertex_x = data['cropHintsAnnotation']['cropHints'][0]['boundingPoly']['vertices'][2]['x']\n",
    "        vertex_y = data['cropHintsAnnotation']['cropHints'][0]['boundingPoly']['vertices'][2]['y']\n",
    "        bounding_confidence = data['cropHintsAnnotation']['cropHints'][0]['confidence']\n",
    "        bounding_importance_frac = data['cropHintsAnnotation']['cropHints'][0].get('importanceFraction', -1)\n",
    "        try:\n",
    "            dominant_blue = data['imagePropertiesAnnotation']['dominantColors']['colors'][0]['color']['blue']\n",
    "        except:\n",
    "            dominant_blue = -1\n",
    "        try:\n",
    "            dominant_green = data['imagePropertiesAnnotation']['dominantColors']['colors'][0]['color']['green']\n",
    "        except: \n",
    "            dominant_green = -1\n",
    "        try: \n",
    "            dominant_red = data['imagePropertiesAnnotation']['dominantColors']['colors'][0]['color']['red']\n",
    "        except:\n",
    "            dominant_red = -1\n",
    "        dominant_pixel_frac = data['imagePropertiesAnnotation']['dominantColors']['colors'][0]['pixelFraction']\n",
    "        dominant_score = data['imagePropertiesAnnotation']['dominantColors']['colors'][0]['score']\n",
    "        train.loc[index, 'vertex_x3']= vertex_x\n",
    "        train.loc[index, 'vertex_y3']= vertex_y\n",
    "        train.loc[index, 'bounding_conf3']= bounding_confidence\n",
    "        train.loc[index, 'bounding_imp3']= bounding_importance_frac\n",
    "        train.loc[index, 'dom_blue3']= dominant_blue\n",
    "        train.loc[index, 'dom_green3']= dominant_green\n",
    "        train.loc[index, 'dom_red3']= dominant_red\n",
    "        train.loc[index, 'pixel_frac3']= dominant_pixel_frac\n",
    "        train.loc[index, 'score3']= dominant_score\n",
    "    else:\n",
    "        train.loc[index, 'vertex_x3']= -1\n",
    "        train.loc[index, 'vertex_y3']= -1\n",
    "        train.loc[index, 'bounding_conf3']= -1\n",
    "        train.loc[index, 'bounding_imp3']= -1\n",
    "        train.loc[index, 'dom_blue3']= -1\n",
    "        train.loc[index, 'dom_green3']= -1\n",
    "        train.loc[index, 'dom_red3']= -1\n",
    "        train.loc[index, 'pixel_frac3']= -1\n",
    "        train.loc[index, 'score3']= -1"
   ]
  },
  {
   "cell_type": "code",
   "execution_count": 98,
   "metadata": {
    "scrolled": true
   },
   "outputs": [],
   "source": [
    "for index, row in test.iterrows():  # First photo\n",
    "    file = 'test_metadata/' + row['PetID'] + '-1.json'\n",
    "    if os.path.exists(file):\n",
    "        data = json.load(open(file, encoding=\"utf8\"))\n",
    "        vertex_x = data['cropHintsAnnotation']['cropHints'][0]['boundingPoly']['vertices'][2]['x']\n",
    "        vertex_y = data['cropHintsAnnotation']['cropHints'][0]['boundingPoly']['vertices'][2]['y']\n",
    "        bounding_confidence = data['cropHintsAnnotation']['cropHints'][0]['confidence']\n",
    "        bounding_importance_frac = data['cropHintsAnnotation']['cropHints'][0].get('importanceFraction', -1)\n",
    "        dominant_blue = data['imagePropertiesAnnotation']['dominantColors']['colors'][0]['color']['blue']\n",
    "        dominant_green = data['imagePropertiesAnnotation']['dominantColors']['colors'][0]['color']['green']\n",
    "        dominant_red = data['imagePropertiesAnnotation']['dominantColors']['colors'][0]['color']['red']\n",
    "        dominant_pixel_frac = data['imagePropertiesAnnotation']['dominantColors']['colors'][0]['pixelFraction']\n",
    "        dominant_score = data['imagePropertiesAnnotation']['dominantColors']['colors'][0]['score']\n",
    "        test.loc[index, 'vertex_x']= vertex_x\n",
    "        test.loc[index, 'vertex_y']= vertex_y\n",
    "        test.loc[index, 'bounding_conf']= bounding_confidence\n",
    "        test.loc[index, 'bounding_imp']= bounding_importance_frac\n",
    "        test.loc[index, 'dom_blue']= dominant_blue\n",
    "        test.loc[index, 'dom_green']= dominant_green\n",
    "        test.loc[index, 'dom_red']= dominant_red\n",
    "        test.loc[index, 'pixel_frac']= dominant_pixel_frac\n",
    "        test.loc[index, 'score']= dominant_score\n",
    "    else:\n",
    "        test.loc[index, 'vertex_x']= -1\n",
    "        test.loc[index, 'vertex_y']= -1\n",
    "        test.loc[index, 'bounding_conf']= -1\n",
    "        test.loc[index, 'bounding_imp']= -1\n",
    "        test.loc[index, 'dom_blue']= -1\n",
    "        test.loc[index, 'dom_green']= -1\n",
    "        test.loc[index, 'dom_red']= -1\n",
    "        test.loc[index, 'pixel_frac']= -1\n",
    "        test.loc[index, 'score']= -1"
   ]
  },
  {
   "cell_type": "code",
   "execution_count": 99,
   "metadata": {
    "scrolled": true
   },
   "outputs": [],
   "source": [
    "for index, row in test.iterrows(): # Second photo\n",
    "    file = 'test_metadata/' + row['PetID'] + '-2.json'\n",
    "    if os.path.exists(file):\n",
    "        data = json.load(open(file, encoding=\"utf8\"))\n",
    "        vertex_x = data['cropHintsAnnotation']['cropHints'][0]['boundingPoly']['vertices'][2]['x']\n",
    "        vertex_y = data['cropHintsAnnotation']['cropHints'][0]['boundingPoly']['vertices'][2]['y']\n",
    "        bounding_confidence = data['cropHintsAnnotation']['cropHints'][0]['confidence']\n",
    "        bounding_importance_frac = data['cropHintsAnnotation']['cropHints'][0].get('importanceFraction', -1)\n",
    "        try:\n",
    "            dominant_blue = data['imagePropertiesAnnotation']['dominantColors']['colors'][0]['color']['blue']\n",
    "        except:\n",
    "            dominant_blue = -1\n",
    "        try:\n",
    "            dominant_green = data['imagePropertiesAnnotation']['dominantColors']['colors'][0]['color']['green']\n",
    "        except: \n",
    "            dominant_green = -1\n",
    "        try: \n",
    "            dominant_red = data['imagePropertiesAnnotation']['dominantColors']['colors'][0]['color']['red']\n",
    "        except:\n",
    "            dominant_red = -1\n",
    "        dominant_pixel_frac = data['imagePropertiesAnnotation']['dominantColors']['colors'][0]['pixelFraction']\n",
    "        dominant_score = data['imagePropertiesAnnotation']['dominantColors']['colors'][0]['score']\n",
    "        test.loc[index, 'vertex_x2']= vertex_x\n",
    "        test.loc[index, 'vertex_y2']= vertex_y\n",
    "        test.loc[index, 'bounding_conf2']= bounding_confidence\n",
    "        test.loc[index, 'bounding_imp2']= bounding_importance_frac\n",
    "        test.loc[index, 'dom_blue2']= dominant_blue\n",
    "        test.loc[index, 'dom_green2']= dominant_green\n",
    "        test.loc[index, 'dom_red2']= dominant_red\n",
    "        test.loc[index, 'pixel_frac2']= dominant_pixel_frac\n",
    "        test.loc[index, 'score2']= dominant_score\n",
    "    else:\n",
    "        test.loc[index, 'vertex_x2']= -1\n",
    "        test.loc[index, 'vertex_y2']= -1\n",
    "        test.loc[index, 'bounding_conf2']= -1\n",
    "        test.loc[index, 'bounding_imp2']= -1\n",
    "        test.loc[index, 'dom_blue2']= -1\n",
    "        test.loc[index, 'dom_green2']= -1\n",
    "        test.loc[index, 'dom_red2']= -1\n",
    "        test.loc[index, 'pixel_frac2']= -1\n",
    "        test.loc[index, 'score2']= -1"
   ]
  },
  {
   "cell_type": "code",
   "execution_count": 100,
   "metadata": {
    "scrolled": true
   },
   "outputs": [],
   "source": [
    "for index, row in test.iterrows(): # Third photo\n",
    "    file = 'test_metadata/' + row['PetID'] + '-3.json'\n",
    "    if os.path.exists(file):\n",
    "        data = json.load(open(file, encoding=\"utf8\"))\n",
    "        vertex_x = data['cropHintsAnnotation']['cropHints'][0]['boundingPoly']['vertices'][2]['x']\n",
    "        vertex_y = data['cropHintsAnnotation']['cropHints'][0]['boundingPoly']['vertices'][2]['y']\n",
    "        bounding_confidence = data['cropHintsAnnotation']['cropHints'][0]['confidence']\n",
    "        bounding_importance_frac = data['cropHintsAnnotation']['cropHints'][0].get('importanceFraction', -1)\n",
    "        try:\n",
    "            dominant_blue = data['imagePropertiesAnnotation']['dominantColors']['colors'][0]['color']['blue']\n",
    "        except:\n",
    "            dominant_blue = -1\n",
    "        try:\n",
    "            dominant_green = data['imagePropertiesAnnotation']['dominantColors']['colors'][0]['color']['green']\n",
    "        except: \n",
    "            dominant_green = -1\n",
    "        try: \n",
    "            dominant_red = data['imagePropertiesAnnotation']['dominantColors']['colors'][0]['color']['red']\n",
    "        except:\n",
    "            dominant_red = -1\n",
    "        dominant_pixel_frac = data['imagePropertiesAnnotation']['dominantColors']['colors'][0]['pixelFraction']\n",
    "        dominant_score = data['imagePropertiesAnnotation']['dominantColors']['colors'][0]['score']\n",
    "        test.loc[index, 'vertex_x3']= vertex_x\n",
    "        test.loc[index, 'vertex_y3']= vertex_y\n",
    "        test.loc[index, 'bounding_conf3']= bounding_confidence\n",
    "        test.loc[index, 'bounding_imp3']= bounding_importance_frac\n",
    "        test.loc[index, 'dom_blue3']= dominant_blue\n",
    "        test.loc[index, 'dom_green3']= dominant_green\n",
    "        test.loc[index, 'dom_red3']= dominant_red\n",
    "        test.loc[index, 'pixel_frac3']= dominant_pixel_frac\n",
    "        test.loc[index, 'score3']= dominant_score\n",
    "    else:\n",
    "        test.loc[index, 'vertex_x3']= -1\n",
    "        test.loc[index, 'vertex_y3']= -1\n",
    "        test.loc[index, 'bounding_conf3']= -1\n",
    "        test.loc[index, 'bounding_imp3']= -1\n",
    "        test.loc[index, 'dom_blue3']= -1\n",
    "        test.loc[index, 'dom_green3']= -1\n",
    "        test.loc[index, 'dom_red3']= -1\n",
    "        test.loc[index, 'pixel_frac3']= -1\n",
    "        test.loc[index, 'score3']= -1"
   ]
  },
  {
   "cell_type": "markdown",
   "metadata": {},
   "source": [
    "## Add sentiment data"
   ]
  },
  {
   "cell_type": "markdown",
   "metadata": {},
   "source": [
    "<b> The sentiment data, similar to the image data, is provided as JSON files with the 'PetID' of the corresponding pet as the file name.\n",
    "    The relevant values I chose to include from the sentiment data are magnitude and score."
   ]
  },
  {
   "cell_type": "code",
   "execution_count": 101,
   "metadata": {},
   "outputs": [],
   "source": [
    "for index, row in train.iterrows():\n",
    "    file = 'train_sentiment/' + row['PetID'] + '.json'\n",
    "    if os.path.exists(file):\n",
    "        data = json.load(open(file, encoding=\"utf8\"))\n",
    "        mag = data['documentSentiment']['magnitude']\n",
    "        score = data['documentSentiment']['score']     \n",
    "        train.loc[index, 'magnitude']= mag\n",
    "        train.loc[index, 'sentiment_score']= score\n",
    "    else:\n",
    "        train.loc[index, 'magnitude']= -1\n",
    "        train.loc[index, 'sentiment_score']= -1"
   ]
  },
  {
   "cell_type": "code",
   "execution_count": 102,
   "metadata": {},
   "outputs": [],
   "source": [
    "for index, row in test.iterrows():\n",
    "    file = 'test_sentiment/' + row['PetID'] + '.json'\n",
    "    if os.path.exists(file):\n",
    "        data = json.load(open(file, encoding=\"utf8\"))\n",
    "        mag = data['documentSentiment']['magnitude']\n",
    "        score = data['documentSentiment']['score']     \n",
    "        test.loc[index, 'magnitude']= mag\n",
    "        test.loc[index, 'sentiment_score']= score\n",
    "    else:\n",
    "        test.loc[index, 'magnitude']= -1\n",
    "        test.loc[index, 'sentiment_score']= -1"
   ]
  },
  {
   "cell_type": "markdown",
   "metadata": {},
   "source": [
    "## Save data before adding addtional columns"
   ]
  },
  {
   "cell_type": "markdown",
   "metadata": {},
   "source": [
    "<b> I will be adding additional columns of data but wanted to save a copy of the train and test sets to compare with later on."
   ]
  },
  {
   "cell_type": "code",
   "execution_count": 103,
   "metadata": {},
   "outputs": [],
   "source": [
    "train.to_csv('pre_train.csv')\n",
    "test.to_csv('pre_test.csv')"
   ]
  },
  {
   "cell_type": "markdown",
   "metadata": {},
   "source": [
    "## Add name and description length"
   ]
  },
  {
   "cell_type": "markdown",
   "metadata": {},
   "source": [
    "<b> To include a bit more data on 'Description' column and the otherwise unused 'Name' column, I decided to include the length of each as new columns of data. "
   ]
  },
  {
   "cell_type": "code",
   "execution_count": 113,
   "metadata": {},
   "outputs": [],
   "source": [
    "train['NameLength'] = train['Name'].map(lambda x: len(str(x))).astype('int')\n",
    "train['DescLength'] = train['Description'].map(lambda x: len(str(x))).astype('int')\n",
    "test['NameLength'] = test['Name'].map(lambda x: len(str(x))).astype('int')\n",
    "test['DescLength'] = test['Description'].map(lambda x: len(str(x))).astype('int')"
   ]
  },
  {
   "cell_type": "code",
   "execution_count": 125,
   "metadata": {
    "scrolled": true
   },
   "outputs": [
    {
     "data": {
      "text/plain": [
       "Text(0.5, 1.0, 'Average Description Length')"
      ]
     },
     "execution_count": 125,
     "metadata": {},
     "output_type": "execute_result"
    },
    {
     "data": {
      "image/png": "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\n",
      "text/plain": [
       "<Figure size 1152x360 with 1 Axes>"
      ]
     },
     "metadata": {
      "needs_background": "light"
     },
     "output_type": "display_data"
    }
   ],
   "source": [
    "pd.DataFrame([train['DescLength'][train['AdoptionSpeed'] == 0].mean(),\n",
    "              train['DescLength'][train['AdoptionSpeed'] == 1].mean(),\n",
    "              train['DescLength'][train['AdoptionSpeed'] == 2].mean(),\n",
    "              train['DescLength'][train['AdoptionSpeed'] == 3].mean(),\n",
    "              train['DescLength'][train['AdoptionSpeed'] == 4].mean()]).plot(kind='barh',figsize=(16,5))\n",
    "plt.yticks(fontsize='xx-large')\n",
    "plt.ylabel('Adoption Speed')\n",
    "plt.xlabel('Description Length')\n",
    "plt.title('Average Description Length', fontsize='xx-large')"
   ]
  },
  {
   "cell_type": "markdown",
   "metadata": {},
   "source": [
    "<b> There average description length trends upward as the adoption speed window increases until it hits level 4, where the average description length then is lower."
   ]
  },
  {
   "cell_type": "markdown",
   "metadata": {},
   "source": [
    "## Add dog data"
   ]
  },
  {
   "cell_type": "markdown",
   "metadata": {},
   "source": [
    "<b> Using data from an AKC website as well as Wikipedia, I assigned a breed group to each dog breed as I suspect that there is a difference in adoptability amongst the dog breed groups. I added these breed groups in Microsoft Excel and generated a csv file 'dog_breeds' using the providing csv of breed labels. Now I just have to add a new column 'Group' to the train and test set. Since this only works for dogs, any cats will just be assigned the group 'Cat'."
   ]
  },
  {
   "cell_type": "code",
   "execution_count": 126,
   "metadata": {},
   "outputs": [],
   "source": [
    "dog_data = pd.read_csv('dog_breeds.csv')"
   ]
  },
  {
   "cell_type": "code",
   "execution_count": 127,
   "metadata": {},
   "outputs": [
    {
     "data": {
      "text/html": [
       "<div>\n",
       "<style scoped>\n",
       "    .dataframe tbody tr th:only-of-type {\n",
       "        vertical-align: middle;\n",
       "    }\n",
       "\n",
       "    .dataframe tbody tr th {\n",
       "        vertical-align: top;\n",
       "    }\n",
       "\n",
       "    .dataframe thead th {\n",
       "        text-align: right;\n",
       "    }\n",
       "</style>\n",
       "<table border=\"1\" class=\"dataframe\">\n",
       "  <thead>\n",
       "    <tr style=\"text-align: right;\">\n",
       "      <th></th>\n",
       "      <th>Unnamed: 0</th>\n",
       "      <th>BreedID</th>\n",
       "      <th>Type</th>\n",
       "      <th>BreedName</th>\n",
       "      <th>Group</th>\n",
       "    </tr>\n",
       "  </thead>\n",
       "  <tbody>\n",
       "    <tr>\n",
       "      <th>0</th>\n",
       "      <td>0</td>\n",
       "      <td>1</td>\n",
       "      <td>1</td>\n",
       "      <td>Affenpinscher</td>\n",
       "      <td>Toy</td>\n",
       "    </tr>\n",
       "    <tr>\n",
       "      <th>1</th>\n",
       "      <td>1</td>\n",
       "      <td>2</td>\n",
       "      <td>1</td>\n",
       "      <td>Afghan Hound</td>\n",
       "      <td>Hound</td>\n",
       "    </tr>\n",
       "    <tr>\n",
       "      <th>2</th>\n",
       "      <td>2</td>\n",
       "      <td>3</td>\n",
       "      <td>1</td>\n",
       "      <td>Airedale Terrier</td>\n",
       "      <td>Terrier</td>\n",
       "    </tr>\n",
       "    <tr>\n",
       "      <th>3</th>\n",
       "      <td>3</td>\n",
       "      <td>4</td>\n",
       "      <td>1</td>\n",
       "      <td>Akbash</td>\n",
       "      <td>Working</td>\n",
       "    </tr>\n",
       "    <tr>\n",
       "      <th>4</th>\n",
       "      <td>4</td>\n",
       "      <td>5</td>\n",
       "      <td>1</td>\n",
       "      <td>Akita</td>\n",
       "      <td>Working</td>\n",
       "    </tr>\n",
       "  </tbody>\n",
       "</table>\n",
       "</div>"
      ],
      "text/plain": [
       "   Unnamed: 0  BreedID  Type         BreedName    Group\n",
       "0           0        1     1     Affenpinscher      Toy\n",
       "1           1        2     1      Afghan Hound    Hound\n",
       "2           2        3     1  Airedale Terrier  Terrier\n",
       "3           3        4     1            Akbash  Working\n",
       "4           4        5     1             Akita  Working"
      ]
     },
     "execution_count": 127,
     "metadata": {},
     "output_type": "execute_result"
    }
   ],
   "source": [
    "dog_data.head()"
   ]
  },
  {
   "cell_type": "code",
   "execution_count": 128,
   "metadata": {},
   "outputs": [],
   "source": [
    "for index, row in train.iterrows():\n",
    "    for i, r in dog_data.iterrows():\n",
    "        if row['Breed1'] == r['BreedID']:\n",
    "            train.at[index,'Group'] = r['Group']\n",
    "            break"
   ]
  },
  {
   "cell_type": "code",
   "execution_count": 129,
   "metadata": {},
   "outputs": [],
   "source": [
    "for index, row in test.iterrows():\n",
    "    for i, r in dog_data.iterrows():\n",
    "        if row['Breed1'] == r['BreedID']:\n",
    "            test.at[index,'Group'] = r['Group']\n",
    "            break"
   ]
  },
  {
   "cell_type": "code",
   "execution_count": 130,
   "metadata": {},
   "outputs": [
    {
     "data": {
      "text/plain": [
       "6853"
      ]
     },
     "execution_count": 130,
     "metadata": {},
     "output_type": "execute_result"
    }
   ],
   "source": [
    "train.Group.isna().sum()"
   ]
  },
  {
   "cell_type": "code",
   "execution_count": 131,
   "metadata": {},
   "outputs": [
    {
     "data": {
      "text/plain": [
       "Index(['Unnamed: 0', 'BreedID', 'Type', 'BreedName', 'Group'], dtype='object')"
      ]
     },
     "execution_count": 131,
     "metadata": {},
     "output_type": "execute_result"
    }
   ],
   "source": [
    "dog_data.columns"
   ]
  },
  {
   "cell_type": "code",
   "execution_count": 132,
   "metadata": {},
   "outputs": [],
   "source": [
    "for index, row in train.iterrows():\n",
    "    try:\n",
    "        breed = row['Breed1']\n",
    "        group = dog_data[dog_data['BreedID'] == breed]['Group'].values[0]\n",
    "    except:\n",
    "        group = 'Cat'\n",
    "    train.loc[index,'Group'] = group    "
   ]
  },
  {
   "cell_type": "code",
   "execution_count": 133,
   "metadata": {},
   "outputs": [],
   "source": [
    "for index, row in test.iterrows():\n",
    "    try:\n",
    "        breed = row['Breed1']\n",
    "        group = dog_data[dog_data['BreedID'] == breed]['Group'].values[0]\n",
    "    except:\n",
    "        group = 'Cat'\n",
    "    test.loc[index,'Group'] = group "
   ]
  },
  {
   "cell_type": "code",
   "execution_count": 134,
   "metadata": {},
   "outputs": [
    {
     "data": {
      "text/plain": [
       "Text(0.5, 1.0, 'Distribution of Dog Groups')"
      ]
     },
     "execution_count": 134,
     "metadata": {},
     "output_type": "execute_result"
    },
    {
     "data": {
      "image/png": "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\n",
      "text/plain": [
       "<Figure size 1440x1080 with 1 Axes>"
      ]
     },
     "metadata": {
      "needs_background": "light"
     },
     "output_type": "display_data"
    }
   ],
   "source": [
    "train['Group'][train['Group'] != 'Cat'].value_counts().sort_index().plot(kind='barh',\n",
    "                                                       figsize=(20,15))\n",
    "plt.yticks(fontsize='xx-large')\n",
    "plt.title('Distribution of Dog Groups', fontsize='xx-large')"
   ]
  },
  {
   "cell_type": "markdown",
   "metadata": {},
   "source": [
    "<b> It seems that 'Misc' is by far the most common group assigned to the dogs. "
   ]
  },
  {
   "cell_type": "code",
   "execution_count": 144,
   "metadata": {},
   "outputs": [
    {
     "data": {
      "text/plain": [
       "Text(0.5, 1.0, 'Distribution of Dog Groups')"
      ]
     },
     "execution_count": 144,
     "metadata": {},
     "output_type": "execute_result"
    },
    {
     "data": {
      "image/png": "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\n",
      "text/plain": [
       "<Figure size 1440x1080 with 1 Axes>"
      ]
     },
     "metadata": {
      "needs_background": "light"
     },
     "output_type": "display_data"
    }
   ],
   "source": [
    "train['Group'][(train['Group'] != 'Cat') & (train['Group'] != 'Misc')].value_counts().sort_index().plot(kind='barh',\n",
    "                                                       figsize=(20,15))\n",
    "plt.yticks(fontsize='xx-large')\n",
    "plt.title('Distribution of Dog Groups', fontsize='xx-large')"
   ]
  },
  {
   "cell_type": "markdown",
   "metadata": {},
   "source": [
    "<b> Removing the 'Misc' group we can see the distribution of the other groups much better. From this, 'Sporting' and 'Toy' are the most common with 'Hunting' being the least common."
   ]
  },
  {
   "cell_type": "markdown",
   "metadata": {},
   "source": [
    "## Add cat data"
   ]
  },
  {
   "cell_type": "markdown",
   "metadata": {},
   "source": [
    "<b> Using data from http://www.catbreedslist.com, I decided to include two new variables for the 'Cats' in the dataset. The first is 'Hypo' which is whether or not the cat breed is hypoallergenic. The second is 'Cute' which if the value in this column is 1 then that cat breed is one of the top 10 cutest cat breeds. "
   ]
  },
  {
   "cell_type": "code",
   "execution_count": 135,
   "metadata": {},
   "outputs": [],
   "source": [
    "cat_data = pd.read_csv('cat_info.csv')"
   ]
  },
  {
   "cell_type": "code",
   "execution_count": 136,
   "metadata": {},
   "outputs": [
    {
     "data": {
      "text/html": [
       "<div>\n",
       "<style scoped>\n",
       "    .dataframe tbody tr th:only-of-type {\n",
       "        vertical-align: middle;\n",
       "    }\n",
       "\n",
       "    .dataframe tbody tr th {\n",
       "        vertical-align: top;\n",
       "    }\n",
       "\n",
       "    .dataframe thead th {\n",
       "        text-align: right;\n",
       "    }\n",
       "</style>\n",
       "<table border=\"1\" class=\"dataframe\">\n",
       "  <thead>\n",
       "    <tr style=\"text-align: right;\">\n",
       "      <th></th>\n",
       "      <th>BreedID</th>\n",
       "      <th>Type</th>\n",
       "      <th>BreedName</th>\n",
       "      <th>Cute</th>\n",
       "      <th>Hypo</th>\n",
       "    </tr>\n",
       "  </thead>\n",
       "  <tbody>\n",
       "    <tr>\n",
       "      <th>0</th>\n",
       "      <td>241</td>\n",
       "      <td>2</td>\n",
       "      <td>Abyssinian</td>\n",
       "      <td>0</td>\n",
       "      <td>0</td>\n",
       "    </tr>\n",
       "    <tr>\n",
       "      <th>1</th>\n",
       "      <td>242</td>\n",
       "      <td>2</td>\n",
       "      <td>American Curl</td>\n",
       "      <td>1</td>\n",
       "      <td>0</td>\n",
       "    </tr>\n",
       "    <tr>\n",
       "      <th>2</th>\n",
       "      <td>243</td>\n",
       "      <td>2</td>\n",
       "      <td>American Shorthair</td>\n",
       "      <td>1</td>\n",
       "      <td>0</td>\n",
       "    </tr>\n",
       "    <tr>\n",
       "      <th>3</th>\n",
       "      <td>244</td>\n",
       "      <td>2</td>\n",
       "      <td>American Wirehair</td>\n",
       "      <td>0</td>\n",
       "      <td>0</td>\n",
       "    </tr>\n",
       "    <tr>\n",
       "      <th>4</th>\n",
       "      <td>245</td>\n",
       "      <td>2</td>\n",
       "      <td>Applehead Siamese</td>\n",
       "      <td>0</td>\n",
       "      <td>0</td>\n",
       "    </tr>\n",
       "  </tbody>\n",
       "</table>\n",
       "</div>"
      ],
      "text/plain": [
       "   BreedID  Type           BreedName  Cute  Hypo\n",
       "0      241     2          Abyssinian     0     0\n",
       "1      242     2       American Curl     1     0\n",
       "2      243     2  American Shorthair     1     0\n",
       "3      244     2   American Wirehair     0     0\n",
       "4      245     2   Applehead Siamese     0     0"
      ]
     },
     "execution_count": 136,
     "metadata": {},
     "output_type": "execute_result"
    }
   ],
   "source": [
    "cat_data.head()"
   ]
  },
  {
   "cell_type": "code",
   "execution_count": 137,
   "metadata": {},
   "outputs": [],
   "source": [
    "for index, row in train.iterrows():\n",
    "    try:\n",
    "        breed = row['Breed1']\n",
    "        cute = cat_data[cat_data['BreedID'] == breed]['Cute'].values[0]\n",
    "        hypo = cat_data[cat_data['BreedID'] == breed]['Hypo'].values[0]\n",
    "    except:\n",
    "        cute = -1\n",
    "        hypo = -1\n",
    "    train.loc[index,'Cat_Cute'] = cute\n",
    "    train.loc[index,'Cat_Hypo'] = hypo"
   ]
  },
  {
   "cell_type": "code",
   "execution_count": 138,
   "metadata": {},
   "outputs": [],
   "source": [
    "for index, row in test.iterrows():\n",
    "    try:\n",
    "        breed = row['Breed1']\n",
    "        cute = cat_data[cat_data['BreedID'] == breed]['Cute'].values[0]\n",
    "        hypo = cat_data[cat_data['BreedID'] == breed]['Hypo'].values[0]\n",
    "    except:\n",
    "        cute = -1\n",
    "        hypo = -1\n",
    "    test.loc[index,'Cat_Cute'] = cute\n",
    "    test.loc[index,'Cat_Hypo'] = hypo"
   ]
  },
  {
   "cell_type": "code",
   "execution_count": 155,
   "metadata": {},
   "outputs": [
    {
     "data": {
      "text/plain": [
       "Text(0.5, 1.0, 'Hypoallergenic Adoption Speeds')"
      ]
     },
     "execution_count": 155,
     "metadata": {},
     "output_type": "execute_result"
    },
    {
     "data": {
      "image/png": "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\n",
      "text/plain": [
       "<Figure size 1152x360 with 1 Axes>"
      ]
     },
     "metadata": {
      "needs_background": "light"
     },
     "output_type": "display_data"
    }
   ],
   "source": [
    "pd.DataFrame([train['AdoptionSpeed'][train['Cat_Hypo'] == 0].mean(),train['AdoptionSpeed'][train['Cat_Hypo'] == 1].mean()]).rename({1:'Hypoallergenic', 0:'Non-hypoallergenic'}).plot(kind='barh',figsize=(16,5))\n",
    "plt.yticks(fontsize='xx-large')\n",
    "plt.title('Hypoallergenic Adoption Speeds', fontsize='xx-large')"
   ]
  },
  {
   "cell_type": "markdown",
   "metadata": {},
   "source": [
    "<b> It seems that hypoallergenic cat breeds are adopted more quickly on average than non-hypoallergenic cat breeds."
   ]
  },
  {
   "cell_type": "markdown",
   "metadata": {},
   "source": [
    "## Add state data"
   ]
  },
  {
   "cell_type": "markdown",
   "metadata": {},
   "source": [
    "<b> Using census data found on Wikipedia for the states in Malaysia, I added the population, percentage of urban environment, and population density for each state.\n",
    " "
   ]
  },
  {
   "cell_type": "code",
   "execution_count": 150,
   "metadata": {},
   "outputs": [
    {
     "data": {
      "text/html": [
       "<div>\n",
       "<style scoped>\n",
       "    .dataframe tbody tr th:only-of-type {\n",
       "        vertical-align: middle;\n",
       "    }\n",
       "\n",
       "    .dataframe tbody tr th {\n",
       "        vertical-align: top;\n",
       "    }\n",
       "\n",
       "    .dataframe thead th {\n",
       "        text-align: right;\n",
       "    }\n",
       "</style>\n",
       "<table border=\"1\" class=\"dataframe\">\n",
       "  <thead>\n",
       "    <tr style=\"text-align: right;\">\n",
       "      <th></th>\n",
       "      <th>State</th>\n",
       "      <th>Population</th>\n",
       "      <th>StateID</th>\n",
       "      <th>UrbanPercent</th>\n",
       "      <th>PopDensity</th>\n",
       "    </tr>\n",
       "  </thead>\n",
       "  <tbody>\n",
       "    <tr>\n",
       "      <th>0</th>\n",
       "      <td>Kuala Lumpur</td>\n",
       "      <td>1627172</td>\n",
       "      <td>41401</td>\n",
       "      <td>100.0</td>\n",
       "      <td>6891</td>\n",
       "    </tr>\n",
       "    <tr>\n",
       "      <th>1</th>\n",
       "      <td>Labuan</td>\n",
       "      <td>86908</td>\n",
       "      <td>41415</td>\n",
       "      <td>82.3</td>\n",
       "      <td>950</td>\n",
       "    </tr>\n",
       "    <tr>\n",
       "      <th>2</th>\n",
       "      <td>Johor</td>\n",
       "      <td>3348283</td>\n",
       "      <td>41336</td>\n",
       "      <td>71.9</td>\n",
       "      <td>174</td>\n",
       "    </tr>\n",
       "    <tr>\n",
       "      <th>3</th>\n",
       "      <td>Kedah</td>\n",
       "      <td>1890098</td>\n",
       "      <td>41325</td>\n",
       "      <td>64.6</td>\n",
       "      <td>199</td>\n",
       "    </tr>\n",
       "    <tr>\n",
       "      <th>4</th>\n",
       "      <td>Kelantan</td>\n",
       "      <td>1459994</td>\n",
       "      <td>41367</td>\n",
       "      <td>42.4</td>\n",
       "      <td>97</td>\n",
       "    </tr>\n",
       "  </tbody>\n",
       "</table>\n",
       "</div>"
      ],
      "text/plain": [
       "          State  Population  StateID  UrbanPercent  PopDensity\n",
       "0  Kuala Lumpur     1627172    41401         100.0        6891\n",
       "1        Labuan       86908    41415          82.3         950\n",
       "2         Johor     3348283    41336          71.9         174\n",
       "3         Kedah     1890098    41325          64.6         199\n",
       "4      Kelantan     1459994    41367          42.4          97"
      ]
     },
     "execution_count": 150,
     "metadata": {},
     "output_type": "execute_result"
    }
   ],
   "source": [
    "state_data = pd.read_csv('state_data.csv')\n",
    "state_data.head()"
   ]
  },
  {
   "cell_type": "code",
   "execution_count": 151,
   "metadata": {},
   "outputs": [],
   "source": [
    "for index, row in train.iterrows():\n",
    "    state = row['State']\n",
    "    urban = state_data[state_data['StateID'] == state]['UrbanPercent'].values[0]\n",
    "    pop = state_data[state_data['StateID'] == state]['Population'].values[0]\n",
    "    pop_den = state_data[state_data['StateID'] == state]['PopDensity'].values[0]\n",
    "\n",
    "    train.loc[index,'UrbanPercent'] = urban\n",
    "    train.loc[index,'Population'] = pop\n",
    "    train.loc[index,'PopDensity'] = pop_den"
   ]
  },
  {
   "cell_type": "code",
   "execution_count": 152,
   "metadata": {},
   "outputs": [],
   "source": [
    "for index, row in test.iterrows():\n",
    "    state = row['State']\n",
    "    urban = state_data[state_data['StateID'] == state]['UrbanPercent'].values[0]\n",
    "    pop = state_data[state_data['StateID'] == state]['Population'].values[0]\n",
    "    pop_den = state_data[state_data['StateID'] == state]['PopDensity'].values[0]\n",
    "\n",
    "    test.loc[index,'UrbanPercent'] = urban\n",
    "    test.loc[index,'Population'] = pop\n",
    "    test.loc[index,'PopDensity'] = pop_den"
   ]
  },
  {
   "cell_type": "markdown",
   "metadata": {},
   "source": [
    "## Save preprocessed data"
   ]
  },
  {
   "cell_type": "markdown",
   "metadata": {},
   "source": [
    "Saving data at this step to avoid repeating it in the future."
   ]
  },
  {
   "cell_type": "code",
   "execution_count": 170,
   "metadata": {},
   "outputs": [],
   "source": [
    "#train.to_csv('processed_train.csv')\n",
    "#test.to_csv('processed_test.csv')"
   ]
  },
  {
   "cell_type": "markdown",
   "metadata": {},
   "source": [
    "## Import preprocessed data"
   ]
  },
  {
   "cell_type": "code",
   "execution_count": 304,
   "metadata": {},
   "outputs": [],
   "source": [
    "train = pd.read_csv('processed_train.csv')\n",
    "test = pd.read_csv('processed_test.csv')"
   ]
  },
  {
   "cell_type": "markdown",
   "metadata": {},
   "source": [
    "## Encode categorical variables"
   ]
  },
  {
   "cell_type": "code",
   "execution_count": 305,
   "metadata": {},
   "outputs": [],
   "source": [
    "train = pd.get_dummies(train, columns = ['Breed1', 'Breed2', 'Gender', 'Color1', 'Color2', 'Color3',\n",
    "                                 'MaturitySize', 'FurLength', 'Vaccinated', 'Dewormed', 'Sterilized', 'Health',\n",
    "                                 'State', 'Type', 'Group'\n",
    "                                ])\n",
    "test = pd.get_dummies(test, columns = ['Breed1', 'Breed2', 'Gender', 'Color1', 'Color2', 'Color3',\n",
    "                                 'MaturitySize', 'FurLength', 'Vaccinated', 'Dewormed', 'Sterilized', 'Health',\n",
    "                                 'State', 'Type', 'Group'\n",
    "                                ])"
   ]
  },
  {
   "cell_type": "markdown",
   "metadata": {},
   "source": [
    "## Make sure train and test have same columns"
   ]
  },
  {
   "cell_type": "markdown",
   "metadata": {},
   "source": [
    "Encoding variables like 'Breed1' creates many new columns, some of which may only exist in the training set or test set. To remedy this we can make sure each dataset has the same columns and if a column was missing, its values will be fill with 0."
   ]
  },
  {
   "cell_type": "code",
   "execution_count": 306,
   "metadata": {},
   "outputs": [],
   "source": [
    "diff_columns = set(train.columns).difference(set(test.columns))\n",
    "for i in diff_columns:\n",
    "    test[i] = test.apply(lambda _: 0, axis=1)\n",
    "diff_columns2 = set(test.columns).difference(set(train.columns))\n",
    "for i in diff_columns2:\n",
    "    train[i] = train.apply(lambda _: 0, axis=1)\n",
    "test = test[train.columns]"
   ]
  },
  {
   "cell_type": "code",
   "execution_count": 307,
   "metadata": {},
   "outputs": [
    {
     "data": {
      "text/plain": [
       "(14993, 453)"
      ]
     },
     "execution_count": 307,
     "metadata": {},
     "output_type": "execute_result"
    }
   ],
   "source": [
    "train.shape"
   ]
  },
  {
   "cell_type": "code",
   "execution_count": 308,
   "metadata": {},
   "outputs": [
    {
     "data": {
      "text/plain": [
       "(3948, 453)"
      ]
     },
     "execution_count": 308,
     "metadata": {},
     "output_type": "execute_result"
    }
   ],
   "source": [
    "test.shape"
   ]
  },
  {
   "cell_type": "markdown",
   "metadata": {},
   "source": [
    "Training set and test set now have the same number of columns."
   ]
  },
  {
   "cell_type": "markdown",
   "metadata": {},
   "source": [
    "## Check multicollinearity"
   ]
  },
  {
   "cell_type": "markdown",
   "metadata": {},
   "source": [
    "To deal with variables that may be highly correlated with eachother, we can grab all of those pairs where the correlation value is above the threshold of 0.85."
   ]
  },
  {
   "cell_type": "code",
   "execution_count": 309,
   "metadata": {},
   "outputs": [
    {
     "data": {
      "text/plain": [
       "[('bounding_conf', 'bounding_imp'),\n",
       " ('bounding_conf', 'pixel_frac'),\n",
       " ('dom_blue', 'dom_green'),\n",
       " ('dom_green', 'dom_red'),\n",
       " ('vertex_y2', 'bounding_conf2'),\n",
       " ('vertex_y2', 'bounding_imp2'),\n",
       " ('vertex_y2', 'pixel_frac2'),\n",
       " ('vertex_y2', 'score2'),\n",
       " ('bounding_conf2', 'bounding_imp2'),\n",
       " ('bounding_conf2', 'pixel_frac2'),\n",
       " ('bounding_conf2', 'score2'),\n",
       " ('bounding_imp2', 'pixel_frac2'),\n",
       " ('bounding_imp2', 'score2'),\n",
       " ('dom_blue2', 'dom_green2'),\n",
       " ('dom_blue2', 'dom_red2'),\n",
       " ('dom_green2', 'dom_red2'),\n",
       " ('pixel_frac2', 'score2'),\n",
       " ('vertex_x3', 'vertex_y3'),\n",
       " ('vertex_x3', 'bounding_conf3'),\n",
       " ('vertex_x3', 'bounding_imp3'),\n",
       " ('vertex_x3', 'pixel_frac3'),\n",
       " ('vertex_x3', 'score3'),\n",
       " ('vertex_y3', 'bounding_conf3'),\n",
       " ('vertex_y3', 'bounding_imp3'),\n",
       " ('vertex_y3', 'pixel_frac3'),\n",
       " ('vertex_y3', 'score3'),\n",
       " ('bounding_conf3', 'bounding_imp3'),\n",
       " ('bounding_conf3', 'pixel_frac3'),\n",
       " ('bounding_conf3', 'score3'),\n",
       " ('bounding_imp3', 'pixel_frac3'),\n",
       " ('bounding_imp3', 'score3'),\n",
       " ('dom_blue3', 'dom_green3'),\n",
       " ('dom_blue3', 'dom_red3'),\n",
       " ('dom_green3', 'dom_red3'),\n",
       " ('pixel_frac3', 'score3'),\n",
       " ('Cat_Cute', 'Cat_Hypo'),\n",
       " ('Cat_Cute', 'Type_2'),\n",
       " ('Cat_Cute', 'Group_Cat'),\n",
       " ('Cat_Hypo', 'Type_2'),\n",
       " ('Cat_Hypo', 'Group_Cat'),\n",
       " ('Population', 'State_41326'),\n",
       " ('PopDensity', 'State_41401'),\n",
       " ('Breed1_143', 'Breed2_146'),\n",
       " ('Breed1_155', 'Breed2_155'),\n",
       " ('Breed1_307', 'Group_Misc'),\n",
       " ('Type_2', 'Group_Cat')]"
      ]
     },
     "execution_count": 309,
     "metadata": {},
     "output_type": "execute_result"
    }
   ],
   "source": [
    "corr = train.corr()\n",
    "indices = np.where(corr > 0.85)\n",
    "indices = [(corr.index[x], corr.columns[y]) for x, y in zip(*indices)\n",
    "                                        if x != y and x < y]\n",
    "indices"
   ]
  },
  {
   "cell_type": "markdown",
   "metadata": {},
   "source": [
    "Before immediately dropping one of each of the above pairs, I decided to look at the list closely and decided that some in some pairs, dropping one of the variables over the other is better. These are 'Group_Cat' and 'Type_2' because the inclusion of 'Cat_Cute' and 'Cat_Hypo' made them redundant. And also 'State_41326' and 'State_41401' because they correlated highly with 'Population' and 'PopDensity' respectively, but the latter two are more important to keep in the dataset."
   ]
  },
  {
   "cell_type": "code",
   "execution_count": 310,
   "metadata": {},
   "outputs": [],
   "source": [
    "drop_list = list(['Group_Cat', 'Type_2', 'State_41326', 'State_41401'])\n",
    "for i in manual_drop:\n",
    "    train.drop(i, axis=1, inplace=True)\n",
    "    test.drop(i, axis=1, inplace=True)"
   ]
  },
  {
   "cell_type": "code",
   "execution_count": 311,
   "metadata": {},
   "outputs": [],
   "source": [
    "for i in indices:\n",
    "    if (i[0] in drop_list) or (i[1] in drop_list):\n",
    "        pass\n",
    "    else:\n",
    "        try:\n",
    "            train.drop(i[0], axis=1, inplace=True)\n",
    "            test.drop(i[0], axis=1, inplace=True)\n",
    "            drop_list.append(i[0])\n",
    "        except:\n",
    "            ## already dropped\n",
    "            pass"
   ]
  },
  {
   "cell_type": "markdown",
   "metadata": {},
   "source": [
    "Below are all the columns that were dropped to deal with multicollinearity."
   ]
  },
  {
   "cell_type": "code",
   "execution_count": 312,
   "metadata": {},
   "outputs": [
    {
     "data": {
      "text/plain": [
       "['Group_Cat',\n",
       " 'Type_2',\n",
       " 'State_41326',\n",
       " 'State_41401',\n",
       " 'bounding_conf',\n",
       " 'dom_blue',\n",
       " 'dom_green',\n",
       " 'vertex_y2',\n",
       " 'bounding_conf2',\n",
       " 'bounding_imp2',\n",
       " 'dom_blue2',\n",
       " 'dom_green2',\n",
       " 'pixel_frac2',\n",
       " 'vertex_x3',\n",
       " 'vertex_y3',\n",
       " 'bounding_conf3',\n",
       " 'bounding_imp3',\n",
       " 'dom_blue3',\n",
       " 'dom_green3',\n",
       " 'pixel_frac3',\n",
       " 'Cat_Cute',\n",
       " 'Breed1_143',\n",
       " 'Breed1_155',\n",
       " 'Breed1_307']"
      ]
     },
     "execution_count": 312,
     "metadata": {},
     "output_type": "execute_result"
    }
   ],
   "source": [
    "drop_list"
   ]
  },
  {
   "cell_type": "markdown",
   "metadata": {},
   "source": [
    "## Set target variable"
   ]
  },
  {
   "cell_type": "code",
   "execution_count": 315,
   "metadata": {},
   "outputs": [],
   "source": [
    "target = train['AdoptionSpeed'].astype('int')"
   ]
  },
  {
   "cell_type": "markdown",
   "metadata": {},
   "source": [
    "## Drop irrelevent columns"
   ]
  },
  {
   "cell_type": "markdown",
   "metadata": {},
   "source": [
    "Dropping unnecessary columns as well as target column 'AdoptionSpeed'."
   ]
  },
  {
   "cell_type": "code",
   "execution_count": 314,
   "metadata": {},
   "outputs": [],
   "source": [
    "X = train.drop(['Name', 'RescuerID', 'Description', 'PetID', 'AdoptionSpeed', 'Unnamed: 0'], axis=1)\n",
    "X_pred = test.drop(['Name', 'RescuerID', 'Description', 'Unnamed: 0'], axis=1)"
   ]
  },
  {
   "cell_type": "markdown",
   "metadata": {},
   "source": [
    "## Test metric"
   ]
  },
  {
   "cell_type": "markdown",
   "metadata": {},
   "source": [
    "According to the rules for the Kaggle competition, the results are scored using the quadratic weighted kappa. I will be using the cohen_kappa_score with 'weights' set to quadratic from sklearn.metrics to evaluate my results."
   ]
  },
  {
   "cell_type": "markdown",
   "metadata": {},
   "source": [
    "## Set aside validation set"
   ]
  },
  {
   "cell_type": "markdown",
   "metadata": {},
   "source": [
    "Although the data provided is labeled as 'train', to test classifier performance we need to set aside a validation set."
   ]
  },
  {
   "cell_type": "code",
   "execution_count": 70,
   "metadata": {},
   "outputs": [],
   "source": [
    "X_train, X_val, target_train, target_val = train_test_split(X, \n",
    "                                                      target, \n",
    "                                                      test_size=0.25, \n",
    "                                                      random_state=47)"
   ]
  },
  {
   "cell_type": "markdown",
   "metadata": {},
   "source": [
    "## Baseline classifier performance"
   ]
  },
  {
   "cell_type": "markdown",
   "metadata": {},
   "source": [
    "<b> Now it is time to start testing some classifiers. I will grab a baseline score for a RandomForest, XGBoost, and Adaboost classifier."
   ]
  },
  {
   "cell_type": "markdown",
   "metadata": {},
   "source": [
    "### Baseline RandomForest"
   ]
  },
  {
   "cell_type": "code",
   "execution_count": 71,
   "metadata": {},
   "outputs": [
    {
     "name": "stderr",
     "output_type": "stream",
     "text": [
      "C:\\Users\\Matthew\\Anaconda3\\lib\\site-packages\\sklearn\\ensemble\\forest.py:248: FutureWarning: The default value of n_estimators will change from 10 in version 0.20 to 100 in 0.22.\n",
      "  \"10 in version 0.20 to 100 in 0.22.\", FutureWarning)\n"
     ]
    },
    {
     "data": {
      "text/plain": [
       "RandomForestClassifier(bootstrap=True, class_weight=None, criterion='gini',\n",
       "            max_depth=None, max_features='auto', max_leaf_nodes=None,\n",
       "            min_impurity_decrease=0.0, min_impurity_split=None,\n",
       "            min_samples_leaf=1, min_samples_split=2,\n",
       "            min_weight_fraction_leaf=0.0, n_estimators=10, n_jobs=None,\n",
       "            oob_score=False, random_state=None, verbose=0,\n",
       "            warm_start=False)"
      ]
     },
     "execution_count": 71,
     "metadata": {},
     "output_type": "execute_result"
    }
   ],
   "source": [
    "clf_rf = RandomForestClassifier()\n",
    "clf_rf.fit(X_train, target_train)"
   ]
  },
  {
   "cell_type": "code",
   "execution_count": 72,
   "metadata": {},
   "outputs": [
    {
     "data": {
      "text/plain": [
       "0.29257257000903714"
      ]
     },
     "execution_count": 72,
     "metadata": {},
     "output_type": "execute_result"
    }
   ],
   "source": [
    "cohen_kappa_score(target_val, clf_rf.predict(X_val), weights='quadratic')"
   ]
  },
  {
   "cell_type": "code",
   "execution_count": 73,
   "metadata": {},
   "outputs": [
    {
     "data": {
      "text/html": [
       "<div>\n",
       "<style scoped>\n",
       "    .dataframe tbody tr th:only-of-type {\n",
       "        vertical-align: middle;\n",
       "    }\n",
       "\n",
       "    .dataframe tbody tr th {\n",
       "        vertical-align: top;\n",
       "    }\n",
       "\n",
       "    .dataframe thead th {\n",
       "        text-align: right;\n",
       "    }\n",
       "</style>\n",
       "<table border=\"1\" class=\"dataframe\">\n",
       "  <thead>\n",
       "    <tr style=\"text-align: right;\">\n",
       "      <th></th>\n",
       "      <th>importance</th>\n",
       "    </tr>\n",
       "  </thead>\n",
       "  <tbody>\n",
       "    <tr>\n",
       "      <th>score</th>\n",
       "      <td>0.045825</td>\n",
       "    </tr>\n",
       "    <tr>\n",
       "      <th>DescLength</th>\n",
       "      <td>0.044196</td>\n",
       "    </tr>\n",
       "    <tr>\n",
       "      <th>pixel_frac</th>\n",
       "      <td>0.043875</td>\n",
       "    </tr>\n",
       "    <tr>\n",
       "      <th>Age</th>\n",
       "      <td>0.041879</td>\n",
       "    </tr>\n",
       "    <tr>\n",
       "      <th>dom_red</th>\n",
       "      <td>0.041559</td>\n",
       "    </tr>\n",
       "    <tr>\n",
       "      <th>magnitude</th>\n",
       "      <td>0.039455</td>\n",
       "    </tr>\n",
       "    <tr>\n",
       "      <th>score2</th>\n",
       "      <td>0.036550</td>\n",
       "    </tr>\n",
       "    <tr>\n",
       "      <th>NameLength</th>\n",
       "      <td>0.034588</td>\n",
       "    </tr>\n",
       "    <tr>\n",
       "      <th>dom_red2</th>\n",
       "      <td>0.033189</td>\n",
       "    </tr>\n",
       "    <tr>\n",
       "      <th>sentiment_score</th>\n",
       "      <td>0.033013</td>\n",
       "    </tr>\n",
       "    <tr>\n",
       "      <th>vertex_x</th>\n",
       "      <td>0.032567</td>\n",
       "    </tr>\n",
       "    <tr>\n",
       "      <th>vertex_y</th>\n",
       "      <td>0.030376</td>\n",
       "    </tr>\n",
       "    <tr>\n",
       "      <th>dom_red3</th>\n",
       "      <td>0.028200</td>\n",
       "    </tr>\n",
       "    <tr>\n",
       "      <th>score3</th>\n",
       "      <td>0.027632</td>\n",
       "    </tr>\n",
       "    <tr>\n",
       "      <th>PhotoAmt</th>\n",
       "      <td>0.025038</td>\n",
       "    </tr>\n",
       "    <tr>\n",
       "      <th>vertex_x2</th>\n",
       "      <td>0.023397</td>\n",
       "    </tr>\n",
       "    <tr>\n",
       "      <th>Population</th>\n",
       "      <td>0.015160</td>\n",
       "    </tr>\n",
       "    <tr>\n",
       "      <th>UrbanPercent</th>\n",
       "      <td>0.014829</td>\n",
       "    </tr>\n",
       "    <tr>\n",
       "      <th>Quantity</th>\n",
       "      <td>0.013536</td>\n",
       "    </tr>\n",
       "    <tr>\n",
       "      <th>PopDensity</th>\n",
       "      <td>0.012904</td>\n",
       "    </tr>\n",
       "    <tr>\n",
       "      <th>Fee</th>\n",
       "      <td>0.012840</td>\n",
       "    </tr>\n",
       "    <tr>\n",
       "      <th>Group_Misc</th>\n",
       "      <td>0.010596</td>\n",
       "    </tr>\n",
       "    <tr>\n",
       "      <th>Gender_2</th>\n",
       "      <td>0.010524</td>\n",
       "    </tr>\n",
       "    <tr>\n",
       "      <th>Color1_1</th>\n",
       "      <td>0.010236</td>\n",
       "    </tr>\n",
       "    <tr>\n",
       "      <th>Sterilized_2</th>\n",
       "      <td>0.010147</td>\n",
       "    </tr>\n",
       "  </tbody>\n",
       "</table>\n",
       "</div>"
      ],
      "text/plain": [
       "                 importance\n",
       "score              0.045825\n",
       "DescLength         0.044196\n",
       "pixel_frac         0.043875\n",
       "Age                0.041879\n",
       "dom_red            0.041559\n",
       "magnitude          0.039455\n",
       "score2             0.036550\n",
       "NameLength         0.034588\n",
       "dom_red2           0.033189\n",
       "sentiment_score    0.033013\n",
       "vertex_x           0.032567\n",
       "vertex_y           0.030376\n",
       "dom_red3           0.028200\n",
       "score3             0.027632\n",
       "PhotoAmt           0.025038\n",
       "vertex_x2          0.023397\n",
       "Population         0.015160\n",
       "UrbanPercent       0.014829\n",
       "Quantity           0.013536\n",
       "PopDensity         0.012904\n",
       "Fee                0.012840\n",
       "Group_Misc         0.010596\n",
       "Gender_2           0.010524\n",
       "Color1_1           0.010236\n",
       "Sterilized_2       0.010147"
      ]
     },
     "execution_count": 73,
     "metadata": {},
     "output_type": "execute_result"
    }
   ],
   "source": [
    "feature_importances = pd.DataFrame(clf_rf.feature_importances_,\n",
    "                                   index = X_train.columns,\n",
    "                                    columns=['importance']).sort_values('importance', ascending=False)\n",
    "feature_importances.head(25)"
   ]
  },
  {
   "cell_type": "markdown",
   "metadata": {},
   "source": [
    "<b> The top three importance features for the baseline RandomForest classifier are 'score', 'dom_red', and 'DescLength'."
   ]
  },
  {
   "cell_type": "markdown",
   "metadata": {},
   "source": [
    "### Baseline XGBoost"
   ]
  },
  {
   "cell_type": "code",
   "execution_count": 74,
   "metadata": {},
   "outputs": [
    {
     "data": {
      "text/plain": [
       "XGBClassifier(base_score=0.5, booster='gbtree', colsample_bylevel=1,\n",
       "       colsample_bytree=1, gamma=0, learning_rate=0.1, max_delta_step=0,\n",
       "       max_depth=3, min_child_weight=1, missing=None, n_estimators=100,\n",
       "       n_jobs=1, nthread=None, objective='multi:softprob', random_state=0,\n",
       "       reg_alpha=0, reg_lambda=1, scale_pos_weight=1, seed=None,\n",
       "       silent=True, subsample=1)"
      ]
     },
     "execution_count": 74,
     "metadata": {},
     "output_type": "execute_result"
    }
   ],
   "source": [
    "clf_xgb = xgb.XGBClassifier()\n",
    "clf_xgb.fit(X_train, target_train)"
   ]
  },
  {
   "cell_type": "code",
   "execution_count": 110,
   "metadata": {},
   "outputs": [
    {
     "data": {
      "text/plain": [
       "0.36919141456485527"
      ]
     },
     "execution_count": 110,
     "metadata": {},
     "output_type": "execute_result"
    }
   ],
   "source": [
    "cohen_kappa_score(target_val, clf_xgb.predict(X_val), weights='quadratic')"
   ]
  },
  {
   "cell_type": "markdown",
   "metadata": {},
   "source": [
    "<b> Using an XGBClassifier improved the cohen score significantly."
   ]
  },
  {
   "cell_type": "code",
   "execution_count": 75,
   "metadata": {
    "scrolled": true
   },
   "outputs": [
    {
     "data": {
      "image/png": "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\n",
      "text/plain": [
       "<Figure size 864x1296 with 1 Axes>"
      ]
     },
     "metadata": {
      "needs_background": "light"
     },
     "output_type": "display_data"
    }
   ],
   "source": [
    "from xgboost import plot_importance\n",
    "fig, ax = plt.subplots(figsize=(12,18))\n",
    "plot_importance(clf_xgb, max_num_features=25, height=0.8, ax=ax)\n",
    "plt.show()"
   ]
  },
  {
   "cell_type": "markdown",
   "metadata": {},
   "source": [
    "<b> From the feature importance chart it seems that 'Age', 'DescLength', and 'score' are the top 3 most important features."
   ]
  },
  {
   "cell_type": "markdown",
   "metadata": {},
   "source": [
    "### AdaBoost Baseline"
   ]
  },
  {
   "cell_type": "code",
   "execution_count": 123,
   "metadata": {},
   "outputs": [
    {
     "data": {
      "text/plain": [
       "AdaBoostClassifier(algorithm='SAMME.R', base_estimator=None,\n",
       "          learning_rate=1.0, n_estimators=50, random_state=None)"
      ]
     },
     "execution_count": 123,
     "metadata": {},
     "output_type": "execute_result"
    }
   ],
   "source": [
    "clf_ada = AdaBoostClassifier()\n",
    "clf_ada.fit(X_train, target_train)"
   ]
  },
  {
   "cell_type": "code",
   "execution_count": 124,
   "metadata": {},
   "outputs": [
    {
     "data": {
      "text/plain": [
       "0.33028851731478026"
      ]
     },
     "execution_count": 124,
     "metadata": {},
     "output_type": "execute_result"
    }
   ],
   "source": [
    "cohen_kappa_score(target_val, clf_ada.predict(X_val), weights='quadratic')"
   ]
  },
  {
   "cell_type": "code",
   "execution_count": 125,
   "metadata": {},
   "outputs": [
    {
     "data": {
      "text/html": [
       "<div>\n",
       "<style scoped>\n",
       "    .dataframe tbody tr th:only-of-type {\n",
       "        vertical-align: middle;\n",
       "    }\n",
       "\n",
       "    .dataframe tbody tr th {\n",
       "        vertical-align: top;\n",
       "    }\n",
       "\n",
       "    .dataframe thead th {\n",
       "        text-align: right;\n",
       "    }\n",
       "</style>\n",
       "<table border=\"1\" class=\"dataframe\">\n",
       "  <thead>\n",
       "    <tr style=\"text-align: right;\">\n",
       "      <th></th>\n",
       "      <th>importance</th>\n",
       "    </tr>\n",
       "  </thead>\n",
       "  <tbody>\n",
       "    <tr>\n",
       "      <th>Age</th>\n",
       "      <td>0.06</td>\n",
       "    </tr>\n",
       "    <tr>\n",
       "      <th>vertex_y</th>\n",
       "      <td>0.06</td>\n",
       "    </tr>\n",
       "    <tr>\n",
       "      <th>DescLength</th>\n",
       "      <td>0.06</td>\n",
       "    </tr>\n",
       "    <tr>\n",
       "      <th>Group_Misc</th>\n",
       "      <td>0.04</td>\n",
       "    </tr>\n",
       "    <tr>\n",
       "      <th>pixel_frac</th>\n",
       "      <td>0.04</td>\n",
       "    </tr>\n",
       "    <tr>\n",
       "      <th>magnitude</th>\n",
       "      <td>0.04</td>\n",
       "    </tr>\n",
       "    <tr>\n",
       "      <th>UrbanPercent</th>\n",
       "      <td>0.04</td>\n",
       "    </tr>\n",
       "    <tr>\n",
       "      <th>Color1_7</th>\n",
       "      <td>0.02</td>\n",
       "    </tr>\n",
       "    <tr>\n",
       "      <th>Type_1</th>\n",
       "      <td>0.02</td>\n",
       "    </tr>\n",
       "    <tr>\n",
       "      <th>State_41336</th>\n",
       "      <td>0.02</td>\n",
       "    </tr>\n",
       "    <tr>\n",
       "      <th>Sterilized_3</th>\n",
       "      <td>0.02</td>\n",
       "    </tr>\n",
       "    <tr>\n",
       "      <th>Sterilized_2</th>\n",
       "      <td>0.02</td>\n",
       "    </tr>\n",
       "    <tr>\n",
       "      <th>Dewormed_2</th>\n",
       "      <td>0.02</td>\n",
       "    </tr>\n",
       "    <tr>\n",
       "      <th>FurLength_3</th>\n",
       "      <td>0.02</td>\n",
       "    </tr>\n",
       "    <tr>\n",
       "      <th>FurLength_1</th>\n",
       "      <td>0.02</td>\n",
       "    </tr>\n",
       "    <tr>\n",
       "      <th>Color3_5</th>\n",
       "      <td>0.02</td>\n",
       "    </tr>\n",
       "    <tr>\n",
       "      <th>Color1_1</th>\n",
       "      <td>0.02</td>\n",
       "    </tr>\n",
       "    <tr>\n",
       "      <th>Breed1_179</th>\n",
       "      <td>0.02</td>\n",
       "    </tr>\n",
       "    <tr>\n",
       "      <th>Breed1_11</th>\n",
       "      <td>0.02</td>\n",
       "    </tr>\n",
       "    <tr>\n",
       "      <th>Gender_1</th>\n",
       "      <td>0.02</td>\n",
       "    </tr>\n",
       "    <tr>\n",
       "      <th>Breed1_213</th>\n",
       "      <td>0.02</td>\n",
       "    </tr>\n",
       "    <tr>\n",
       "      <th>Breed2_291</th>\n",
       "      <td>0.02</td>\n",
       "    </tr>\n",
       "    <tr>\n",
       "      <th>Breed2_247</th>\n",
       "      <td>0.02</td>\n",
       "    </tr>\n",
       "    <tr>\n",
       "      <th>Breed2_207</th>\n",
       "      <td>0.02</td>\n",
       "    </tr>\n",
       "    <tr>\n",
       "      <th>Breed1_283</th>\n",
       "      <td>0.02</td>\n",
       "    </tr>\n",
       "  </tbody>\n",
       "</table>\n",
       "</div>"
      ],
      "text/plain": [
       "              importance\n",
       "Age                 0.06\n",
       "vertex_y            0.06\n",
       "DescLength          0.06\n",
       "Group_Misc          0.04\n",
       "pixel_frac          0.04\n",
       "magnitude           0.04\n",
       "UrbanPercent        0.04\n",
       "Color1_7            0.02\n",
       "Type_1              0.02\n",
       "State_41336         0.02\n",
       "Sterilized_3        0.02\n",
       "Sterilized_2        0.02\n",
       "Dewormed_2          0.02\n",
       "FurLength_3         0.02\n",
       "FurLength_1         0.02\n",
       "Color3_5            0.02\n",
       "Color1_1            0.02\n",
       "Breed1_179          0.02\n",
       "Breed1_11           0.02\n",
       "Gender_1            0.02\n",
       "Breed1_213          0.02\n",
       "Breed2_291          0.02\n",
       "Breed2_247          0.02\n",
       "Breed2_207          0.02\n",
       "Breed1_283          0.02"
      ]
     },
     "execution_count": 125,
     "metadata": {},
     "output_type": "execute_result"
    }
   ],
   "source": [
    "feature_importances = pd.DataFrame(clf_ada.feature_importances_,\n",
    "                                   index = X_train.columns,\n",
    "                                    columns=['importance']).sort_values('importance', ascending=False)\n",
    "feature_importances.head(25)"
   ]
  },
  {
   "cell_type": "markdown",
   "metadata": {},
   "source": [
    "## Parameter tuning"
   ]
  },
  {
   "cell_type": "markdown",
   "metadata": {},
   "source": [
    "<b> Now I will try to improve the baseline scores of the three classifiers by using GridSearchCV to find the optimal parameters for each classifier."
   ]
  },
  {
   "cell_type": "markdown",
   "metadata": {},
   "source": [
    "### RandomForest Tuning"
   ]
  },
  {
   "cell_type": "code",
   "execution_count": 103,
   "metadata": {},
   "outputs": [],
   "source": [
    "rf_params = {\n",
    "    'bootstrap': [True, False],\n",
    "    'max_depth': [25, 50, 75, 100],\n",
    "    'max_features': ['auto'],\n",
    "    'min_samples_leaf': [2, 3, 5, 10],\n",
    "    'min_samples_split': [5, 10, 15],\n",
    "    'n_jobs':[-1],\n",
    "    'n_estimators': [50, 100, 200, 300],\n",
    "    'random_state' : [47]\n",
    "}"
   ]
  },
  {
   "cell_type": "code",
   "execution_count": 104,
   "metadata": {},
   "outputs": [],
   "source": [
    "rf_gridsearch = GridSearchCV(estimator = clf_rf, \n",
    "                                      param_grid = rf_params, \n",
    "                                      cv = 3, \n",
    "                                      n_jobs = -1, \n",
    "                                      verbose = 1, \n",
    "                                      scoring=make_scorer(cohen_kappa_score,weights='quadratic'))"
   ]
  },
  {
   "cell_type": "code",
   "execution_count": 105,
   "metadata": {},
   "outputs": [
    {
     "name": "stdout",
     "output_type": "stream",
     "text": [
      "Fitting 3 folds for each of 384 candidates, totalling 1152 fits\n"
     ]
    },
    {
     "name": "stderr",
     "output_type": "stream",
     "text": [
      "[Parallel(n_jobs=-1)]: Using backend LokyBackend with 12 concurrent workers.\n",
      "[Parallel(n_jobs=-1)]: Done  26 tasks      | elapsed:   10.9s\n",
      "[Parallel(n_jobs=-1)]: Done 176 tasks      | elapsed:  1.1min\n",
      "[Parallel(n_jobs=-1)]: Done 426 tasks      | elapsed:  2.4min\n",
      "[Parallel(n_jobs=-1)]: Done 776 tasks      | elapsed:  5.0min\n",
      "[Parallel(n_jobs=-1)]: Done 1152 out of 1152 | elapsed:  8.0min finished\n"
     ]
    },
    {
     "data": {
      "text/plain": [
       "GridSearchCV(cv=3, error_score='raise-deprecating',\n",
       "       estimator=RandomForestClassifier(bootstrap=True, class_weight=None, criterion='gini',\n",
       "            max_depth=None, max_features='auto', max_leaf_nodes=None,\n",
       "            min_impurity_decrease=0.0, min_impurity_split=None,\n",
       "            min_samples_leaf=1, min_samples_split=2,\n",
       "            min_weight_fraction_leaf=0.0, n_estimators=10, n_jobs=None,\n",
       "            oob_score=False, random_state=None, verbose=0,\n",
       "            warm_start=False),\n",
       "       fit_params=None, iid='warn', n_jobs=-1,\n",
       "       param_grid={'n_estimators': [50, 100, 200, 300], 'bootstrap': [True, False], 'n_jobs': [-1], 'min_samples_leaf': [2, 3, 5, 10], 'max_features': ['auto'], 'max_depth': [25, 50, 75, 100], 'min_samples_split': [5, 10, 15], 'random_state': [47]},\n",
       "       pre_dispatch='2*n_jobs', refit=True, return_train_score='warn',\n",
       "       scoring=make_scorer(cohen_kappa_score, weights=quadratic),\n",
       "       verbose=1)"
      ]
     },
     "execution_count": 105,
     "metadata": {},
     "output_type": "execute_result"
    }
   ],
   "source": [
    "rf_gridsearch.fit(X_train, target_train)"
   ]
  },
  {
   "cell_type": "code",
   "execution_count": 106,
   "metadata": {},
   "outputs": [
    {
     "data": {
      "text/plain": [
       "{'bootstrap': False,\n",
       " 'max_depth': 25,\n",
       " 'max_features': 'auto',\n",
       " 'min_samples_leaf': 2,\n",
       " 'min_samples_split': 5,\n",
       " 'n_estimators': 300,\n",
       " 'n_jobs': -1,\n",
       " 'random_state': 47}"
      ]
     },
     "execution_count": 106,
     "metadata": {},
     "output_type": "execute_result"
    }
   ],
   "source": [
    "rf_gridsearch.best_params_"
   ]
  },
  {
   "cell_type": "code",
   "execution_count": 107,
   "metadata": {},
   "outputs": [
    {
     "data": {
      "text/plain": [
       "0.343240804127584"
      ]
     },
     "execution_count": 107,
     "metadata": {},
     "output_type": "execute_result"
    }
   ],
   "source": [
    "rf_gridsearch.best_score_"
   ]
  },
  {
   "cell_type": "markdown",
   "metadata": {},
   "source": [
    "### Testing best parameters on validation set"
   ]
  },
  {
   "cell_type": "code",
   "execution_count": 113,
   "metadata": {},
   "outputs": [],
   "source": [
    "clf_rf_best = RandomForestClassifier(bootstrap=False, max_depth=25, max_features='auto', min_samples_leaf=2,\n",
    "                                min_samples_split=5, \n",
    "                                n_estimators=300, n_jobs=-1, random_state=47)"
   ]
  },
  {
   "cell_type": "code",
   "execution_count": 114,
   "metadata": {},
   "outputs": [
    {
     "data": {
      "text/plain": [
       "RandomForestClassifier(bootstrap=False, class_weight=None, criterion='gini',\n",
       "            max_depth=25, max_features='auto', max_leaf_nodes=None,\n",
       "            min_impurity_decrease=0.0, min_impurity_split=None,\n",
       "            min_samples_leaf=2, min_samples_split=5,\n",
       "            min_weight_fraction_leaf=0.0, n_estimators=300, n_jobs=-1,\n",
       "            oob_score=False, random_state=47, verbose=0, warm_start=False)"
      ]
     },
     "execution_count": 114,
     "metadata": {},
     "output_type": "execute_result"
    }
   ],
   "source": [
    "clf_rf_best.fit(X_train, target_train)"
   ]
  },
  {
   "cell_type": "code",
   "execution_count": 115,
   "metadata": {},
   "outputs": [
    {
     "data": {
      "text/plain": [
       "0.3582847219900983"
      ]
     },
     "execution_count": 115,
     "metadata": {},
     "output_type": "execute_result"
    }
   ],
   "source": [
    "cohen_kappa_score(target_val, clf_rf_best.predict(X_val),weights='quadratic')"
   ]
  },
  {
   "cell_type": "markdown",
   "metadata": {},
   "source": [
    "### XGBoost Tuning"
   ]
  },
  {
   "cell_type": "code",
   "execution_count": 108,
   "metadata": {},
   "outputs": [],
   "source": [
    "xgb_params = {'objective' : ['multi:softmax'],\n",
    "              'eta' : [0.01],\n",
    "              'max_depth' : [3, 4, 6],\n",
    "              'min_child_weight' : [2, 3, 4],\n",
    "}"
   ]
  },
  {
   "cell_type": "code",
   "execution_count": 109,
   "metadata": {},
   "outputs": [],
   "source": [
    "xgb_gridsearch = GridSearchCV(estimator = clf_xgb, \n",
    "                                      param_grid = xgb_params, \n",
    "                                      cv = 3, \n",
    "                                      n_jobs = -1, \n",
    "                                      verbose = 1, \n",
    "                                      scoring=make_scorer(cohen_kappa_score,weights='quadratic'))"
   ]
  },
  {
   "cell_type": "code",
   "execution_count": 110,
   "metadata": {},
   "outputs": [
    {
     "name": "stdout",
     "output_type": "stream",
     "text": [
      "Fitting 3 folds for each of 9 candidates, totalling 27 fits\n"
     ]
    },
    {
     "name": "stderr",
     "output_type": "stream",
     "text": [
      "[Parallel(n_jobs=-1)]: Using backend LokyBackend with 12 concurrent workers.\n",
      "[Parallel(n_jobs=-1)]: Done  27 out of  27 | elapsed:  4.3min finished\n"
     ]
    },
    {
     "data": {
      "text/plain": [
       "GridSearchCV(cv=3, error_score='raise-deprecating',\n",
       "       estimator=XGBClassifier(base_score=0.5, booster='gbtree', colsample_bylevel=1,\n",
       "       colsample_bytree=1, gamma=0, learning_rate=0.1, max_delta_step=0,\n",
       "       max_depth=3, min_child_weight=1, missing=None, n_estimators=100,\n",
       "       n_jobs=1, nthread=None, objective='multi:softprob', random_state=0,\n",
       "       reg_alpha=0, reg_lambda=1, scale_pos_weight=1, seed=None,\n",
       "       silent=True, subsample=1),\n",
       "       fit_params=None, iid='warn', n_jobs=-1,\n",
       "       param_grid={'min_child_weight': [2, 3, 4], 'objective': ['multi:softmax'], 'max_depth': [3, 4, 6], 'eta': [0.01]},\n",
       "       pre_dispatch='2*n_jobs', refit=True, return_train_score='warn',\n",
       "       scoring=make_scorer(cohen_kappa_score, weights=quadratic),\n",
       "       verbose=1)"
      ]
     },
     "execution_count": 110,
     "metadata": {},
     "output_type": "execute_result"
    }
   ],
   "source": [
    "xgb_gridsearch.fit(X_train, target_train)"
   ]
  },
  {
   "cell_type": "code",
   "execution_count": 111,
   "metadata": {},
   "outputs": [
    {
     "data": {
      "text/plain": [
       "{'eta': 0.01,\n",
       " 'max_depth': 4,\n",
       " 'min_child_weight': 4,\n",
       " 'objective': 'multi:softmax'}"
      ]
     },
     "execution_count": 111,
     "metadata": {},
     "output_type": "execute_result"
    }
   ],
   "source": [
    "xgb_gridsearch.best_params_"
   ]
  },
  {
   "cell_type": "code",
   "execution_count": 112,
   "metadata": {},
   "outputs": [
    {
     "data": {
      "text/plain": [
       "0.34320068021975203"
      ]
     },
     "execution_count": 112,
     "metadata": {},
     "output_type": "execute_result"
    }
   ],
   "source": [
    "xgb_gridsearch.best_score_"
   ]
  },
  {
   "cell_type": "markdown",
   "metadata": {},
   "source": [
    "### Testing best parameters on validation set"
   ]
  },
  {
   "cell_type": "code",
   "execution_count": 137,
   "metadata": {},
   "outputs": [],
   "source": [
    "clf_xgb_best = xgb.XGBClassifier(eta = 0.01, max_depth = 4, min_child_weight = 4, objective = 'multi:softmax')"
   ]
  },
  {
   "cell_type": "code",
   "execution_count": 138,
   "metadata": {},
   "outputs": [
    {
     "data": {
      "text/plain": [
       "XGBClassifier(base_score=0.5, booster='gbtree', colsample_bylevel=1,\n",
       "       colsample_bytree=1, eta=0.01, gamma=0, learning_rate=0.1,\n",
       "       max_delta_step=0, max_depth=4, min_child_weight=4, missing=None,\n",
       "       n_estimators=100, n_jobs=1, nthread=None,\n",
       "       objective='multi:softprob', random_state=0, reg_alpha=0,\n",
       "       reg_lambda=1, scale_pos_weight=1, seed=None, silent=True,\n",
       "       subsample=1)"
      ]
     },
     "execution_count": 138,
     "metadata": {},
     "output_type": "execute_result"
    }
   ],
   "source": [
    "clf_xgb_best.fit(X_train, target_train)"
   ]
  },
  {
   "cell_type": "code",
   "execution_count": 139,
   "metadata": {},
   "outputs": [
    {
     "data": {
      "text/plain": [
       "0.38268750072423174"
      ]
     },
     "execution_count": 139,
     "metadata": {},
     "output_type": "execute_result"
    }
   ],
   "source": [
    "cohen_kappa_score(target_val, clf_xgb_best.predict(X_val),weights='quadratic')"
   ]
  },
  {
   "cell_type": "markdown",
   "metadata": {},
   "source": [
    "### AdaBoost Tuning"
   ]
  },
  {
   "cell_type": "code",
   "execution_count": 128,
   "metadata": {},
   "outputs": [],
   "source": [
    "ada_params = {'base_estimator': [None, DecisionTreeClassifier(max_depth=3), DecisionTreeClassifier(max_depth=5)],\n",
    "              'n_estimators': [50, 100, 200, 300]}"
   ]
  },
  {
   "cell_type": "code",
   "execution_count": 130,
   "metadata": {},
   "outputs": [],
   "source": [
    "ada_gridsearch = GridSearchCV(estimator = clf_ada, \n",
    "                                      param_grid = ada_params, \n",
    "                                      cv = 3, \n",
    "                                      n_jobs = -1, \n",
    "                                      verbose = 1, \n",
    "                                      scoring=make_scorer(cohen_kappa_score,weights='quadratic'))"
   ]
  },
  {
   "cell_type": "code",
   "execution_count": 131,
   "metadata": {},
   "outputs": [
    {
     "name": "stdout",
     "output_type": "stream",
     "text": [
      "Fitting 3 folds for each of 12 candidates, totalling 36 fits\n"
     ]
    },
    {
     "name": "stderr",
     "output_type": "stream",
     "text": [
      "[Parallel(n_jobs=-1)]: Using backend LokyBackend with 12 concurrent workers.\n",
      "[Parallel(n_jobs=-1)]: Done  36 out of  36 | elapsed:   57.9s finished\n"
     ]
    },
    {
     "data": {
      "text/plain": [
       "GridSearchCV(cv=3, error_score='raise-deprecating',\n",
       "       estimator=AdaBoostClassifier(algorithm='SAMME.R', base_estimator=None,\n",
       "          learning_rate=1.0, n_estimators=50, random_state=None),\n",
       "       fit_params=None, iid='warn', n_jobs=-1,\n",
       "       param_grid={'base_estimator': [None, DecisionTreeClassifier(class_weight=None, criterion='gini', max_depth=3,\n",
       "            max_features=None, max_leaf_nodes=None,\n",
       "            min_impurity_decrease=0.0, min_impurity_split=None,\n",
       "            min_samples_leaf=1, min_samples_split=2,\n",
       "            min_weigh...resort=False, random_state=None,\n",
       "            splitter='best')], 'n_estimators': [50, 100, 200, 300]},\n",
       "       pre_dispatch='2*n_jobs', refit=True, return_train_score='warn',\n",
       "       scoring=make_scorer(cohen_kappa_score, weights=quadratic),\n",
       "       verbose=1)"
      ]
     },
     "execution_count": 131,
     "metadata": {},
     "output_type": "execute_result"
    }
   ],
   "source": [
    "ada_gridsearch.fit(X_train, target_train)"
   ]
  },
  {
   "cell_type": "code",
   "execution_count": 132,
   "metadata": {},
   "outputs": [
    {
     "data": {
      "text/plain": [
       "{'base_estimator': None, 'n_estimators': 100}"
      ]
     },
     "execution_count": 132,
     "metadata": {},
     "output_type": "execute_result"
    }
   ],
   "source": [
    "ada_gridsearch.best_params_"
   ]
  },
  {
   "cell_type": "code",
   "execution_count": 133,
   "metadata": {},
   "outputs": [
    {
     "data": {
      "text/plain": [
       "0.30248923825346563"
      ]
     },
     "execution_count": 133,
     "metadata": {},
     "output_type": "execute_result"
    }
   ],
   "source": [
    "ada_gridsearch.best_score_"
   ]
  },
  {
   "cell_type": "markdown",
   "metadata": {},
   "source": [
    "### Testing best parameters on validation set"
   ]
  },
  {
   "cell_type": "code",
   "execution_count": 134,
   "metadata": {},
   "outputs": [],
   "source": [
    "clf_ada_best = AdaBoostClassifier(base_estimator=None, n_estimators=100)"
   ]
  },
  {
   "cell_type": "code",
   "execution_count": 135,
   "metadata": {},
   "outputs": [
    {
     "data": {
      "text/plain": [
       "AdaBoostClassifier(algorithm='SAMME.R', base_estimator=None,\n",
       "          learning_rate=1.0, n_estimators=100, random_state=None)"
      ]
     },
     "execution_count": 135,
     "metadata": {},
     "output_type": "execute_result"
    }
   ],
   "source": [
    "clf_ada_best.fit(X_train, target_train)"
   ]
  },
  {
   "cell_type": "code",
   "execution_count": 136,
   "metadata": {},
   "outputs": [
    {
     "data": {
      "text/plain": [
       "0.3467641968995947"
      ]
     },
     "execution_count": 136,
     "metadata": {},
     "output_type": "execute_result"
    }
   ],
   "source": [
    "cohen_kappa_score(target_val, clf_ada_best.predict(X_val),weights='quadratic')"
   ]
  },
  {
   "cell_type": "markdown",
   "metadata": {},
   "source": [
    "## Combining tuned classifiers with VotingClassifier"
   ]
  },
  {
   "cell_type": "markdown",
   "metadata": {},
   "source": [
    "<b> Since all three classifiers have decent, comparable performances, I will combined all three into one final ensemble classifier using VotingClassifer with soft voting."
   ]
  },
  {
   "cell_type": "code",
   "execution_count": 141,
   "metadata": {},
   "outputs": [],
   "source": [
    "clf_vot = VotingClassifier(estimators=[('RF',clf_rf_best),('XGB',clf_xgb_best),('ADA',clf_ada_best)],voting='soft')"
   ]
  },
  {
   "cell_type": "code",
   "execution_count": 142,
   "metadata": {},
   "outputs": [
    {
     "data": {
      "text/plain": [
       "VotingClassifier(estimators=[('RF', RandomForestClassifier(bootstrap=False, class_weight=None, criterion='gini',\n",
       "            max_depth=25, max_features='auto', max_leaf_nodes=None,\n",
       "            min_impurity_decrease=0.0, min_impurity_split=None,\n",
       "            min_samples_leaf=2, min_samples_split=5,\n",
       "            min_wei...='SAMME.R', base_estimator=None,\n",
       "          learning_rate=1.0, n_estimators=100, random_state=None))],\n",
       "         flatten_transform=None, n_jobs=None, voting='soft', weights=None)"
      ]
     },
     "execution_count": 142,
     "metadata": {},
     "output_type": "execute_result"
    }
   ],
   "source": [
    "clf_vot.fit(X_train, target_train)"
   ]
  },
  {
   "cell_type": "code",
   "execution_count": 143,
   "metadata": {
    "scrolled": true
   },
   "outputs": [
    {
     "data": {
      "text/plain": [
       "0.3863173663782099"
      ]
     },
     "execution_count": 143,
     "metadata": {},
     "output_type": "execute_result"
    }
   ],
   "source": [
    "cohen_kappa_score(target_val, clf_vot.predict(X_val),weights='quadratic')"
   ]
  },
  {
   "cell_type": "markdown",
   "metadata": {},
   "source": [
    "To visualize the differences in predictions of the three base classifiers and the ensemble classifier, we can look at bar charts of each 'AdoptionSpeed' prediction for the classifiers below."
   ]
  },
  {
   "cell_type": "code",
   "execution_count": 173,
   "metadata": {},
   "outputs": [],
   "source": [
    "probas = [c.fit(X_train, target_train).predict(X_val) for c in (clf_rf_best, clf_xgb_best, clf_ada_best, clf_vot)]"
   ]
  },
  {
   "cell_type": "code",
   "execution_count": 191,
   "metadata": {},
   "outputs": [],
   "source": [
    "class_0 = list()\n",
    "class_1 = list()\n",
    "class_2 = list()\n",
    "class_3 = list()\n",
    "class_4 = list()\n",
    "\n",
    "for i in probas:\n",
    "    class_0.append(np.array(np.unique(i, return_counts=True))[1][0])\n",
    "    class_1.append(np.array(np.unique(i, return_counts=True))[1][1])\n",
    "    class_2.append(np.array(np.unique(i, return_counts=True))[1][2])\n",
    "    class_3.append(np.array(np.unique(i, return_counts=True))[1][3])\n",
    "    class_4.append(np.array(np.unique(i, return_counts=True))[1][4])"
   ]
  },
  {
   "cell_type": "code",
   "execution_count": 289,
   "metadata": {},
   "outputs": [
    {
     "data": {
      "image/png": "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\n",
      "text/plain": [
       "<Figure size 1440x1080 with 5 Axes>"
      ]
     },
     "metadata": {
      "needs_background": "light"
     },
     "output_type": "display_data"
    }
   ],
   "source": [
    "N = 4  # number of groups\n",
    "ind = np.arange(N)  # group positions\n",
    "width = 0.5 # bar width\n",
    "\n",
    "ax1 = plt.subplot2grid((2,6), (0,0), colspan=2)\n",
    "ax2 = plt.subplot2grid((2,6), (0,2), colspan=2)\n",
    "ax3 = plt.subplot2grid((2,6), (0,4), colspan=2)\n",
    "ax4 = plt.subplot2grid((2,6), (1,1), colspan=2)\n",
    "ax5 = plt.subplot2grid((2,6), (1,3), colspan=2)\n",
    "\n",
    "# bars for base classifiers\n",
    "p0 = ax1.bar(ind + width, np.hstack(([class_0[:-1], [0]])), width, color='green', alpha=0.5, edgecolor='k')\n",
    "p1 = ax2.bar(ind + width, np.hstack(([class_1[:-1], [0]])), width, color='blue',alpha=0.5, edgecolor='k')\n",
    "p2 = ax3.bar(ind + width, np.hstack(([class_2[:-1], [0]])), width, color='red',alpha=0.5, edgecolor='k')\n",
    "p3 = ax4.bar(ind + width, np.hstack(([class_3[:-1], [0]])), width, color='orange',alpha=0.5, edgecolor='k')\n",
    "p4 = ax5.bar(ind + width, np.hstack(([class_4[:-1], [0]])), width, color='purple',alpha=0.5, edgecolor='k')\n",
    "\n",
    "# bars for voting classifier\n",
    "p5 = ax1.bar(ind + width, [0, 0, 0, class_0[-1]], width,color='green', edgecolor='k')\n",
    "p6 = ax2.bar(ind + width, [0, 0, 0, class_1[-1]], width,color='blue', edgecolor='k')\n",
    "p7 = ax3.bar(ind + width, [0, 0, 0, class_2[-1]], width,color='red', edgecolor='k')\n",
    "p8 = ax4.bar(ind + width, [0, 0, 0, class_3[-1]], width,color='orange', edgecolor='k')\n",
    "p9 = ax5.bar(ind + width, [0, 0, 0, class_4[-1]], width,color='purple', edgecolor='k')\n",
    "\n",
    "# plot annotations\n",
    "ax1.set_xticks(ind + width)\n",
    "ax1.set_ylabel('Number of predictions')\n",
    "ax1.set_xticklabels(['RandomForest',\n",
    "                    'XGBoost',\n",
    "                    'AdaBoost',\n",
    "                    'VotingClassifier'],\n",
    "                   rotation=40,\n",
    "                   ha='right')\n",
    "ax2.set_xticks(ind + width)\n",
    "ax2.set_xticklabels(['RandomForest',\n",
    "                    'XGBoost',\n",
    "                    'AdaBoost',\n",
    "                    'VotingClassifier'],\n",
    "                   rotation=40,\n",
    "                   ha='right')\n",
    "ax3.set_xticks(ind + width)\n",
    "ax3.set_xticklabels(['RandomForest',\n",
    "                    'XGBoost',\n",
    "                    'AdaBoost',\n",
    "                    'VotingClassifier'],\n",
    "                   rotation=40,\n",
    "                   ha='right')\n",
    "ax4.set_xticks(ind + width)\n",
    "ax4.set_ylabel('Number of predictions')\n",
    "ax4.set_xticklabels(['RandomForest',\n",
    "                    'XGBoost',\n",
    "                    'AdaBoost',\n",
    "                    'VotingClassifier'],\n",
    "                   rotation=40,\n",
    "                   ha='right')\n",
    "ax5.set_xticks(ind + width)\n",
    "ax5.set_xticklabels(['RandomForest',\n",
    "                    'XGBoost',\n",
    "                    'AdaBoost',\n",
    "                    'VotingClassifier'],\n",
    "                   rotation=40,\n",
    "                   ha='right')\n",
    "ax1.set_title('Adoption Speed 0')\n",
    "ax2.set_title('Adoption Speed 1')\n",
    "ax3.set_title('Adoption Speed 2')\n",
    "ax4.set_title('Adoption Speed 3')\n",
    "ax5.set_title('Adoption Speed 4')\n",
    "\n",
    "plt.rcParams[\"figure.figsize\"] = [20,20]\n",
    "plt.show()"
   ]
  },
  {
   "cell_type": "markdown",
   "metadata": {},
   "source": [
    "From the above chart we can see how the voting classifier averages out the predictions of the three base classifiers to better predict 'AdoptionSpeed'. One thing to note is that for 'Adoption Speed 0', the RandomForest and XGBoost classifiers predicted far less cases of this value than the AdaBoost classifier. This ultimately did not raise the average generated by the VotingClassifier, but it is still a significantly outlier when comparing the charts side by side."
   ]
  },
  {
   "cell_type": "markdown",
   "metadata": {},
   "source": [
    "## Fitting classifier to whole train data"
   ]
  },
  {
   "cell_type": "markdown",
   "metadata": {},
   "source": [
    "Now that we have our final classifier, we can fit it to the entire training set."
   ]
  },
  {
   "cell_type": "code",
   "execution_count": 291,
   "metadata": {},
   "outputs": [],
   "source": [
    "clf_vot_final = VotingClassifier(estimators=[('RF',clf_rf_best),('XGB',clf_xgb_best),('ADA',clf_ada_best)],voting='soft')"
   ]
  },
  {
   "cell_type": "code",
   "execution_count": 292,
   "metadata": {},
   "outputs": [
    {
     "data": {
      "text/plain": [
       "VotingClassifier(estimators=[('RF', RandomForestClassifier(bootstrap=False, class_weight=None, criterion='gini',\n",
       "            max_depth=25, max_features='auto', max_leaf_nodes=None,\n",
       "            min_impurity_decrease=0.0, min_impurity_split=None,\n",
       "            min_samples_leaf=2, min_samples_split=5,\n",
       "            min_wei...='SAMME.R', base_estimator=None,\n",
       "          learning_rate=1.0, n_estimators=100, random_state=None))],\n",
       "         flatten_transform=None, n_jobs=None, voting='soft', weights=None)"
      ]
     },
     "execution_count": 292,
     "metadata": {},
     "output_type": "execute_result"
    }
   ],
   "source": [
    "clf_vot_final.fit(X, target)"
   ]
  },
  {
   "cell_type": "markdown",
   "metadata": {},
   "source": [
    "## Predictions on test data"
   ]
  },
  {
   "cell_type": "markdown",
   "metadata": {},
   "source": [
    "With the final classifier trained on all the data, we can now make predictions based on the given test data from the Kaggle competition."
   ]
  },
  {
   "cell_type": "code",
   "execution_count": 316,
   "metadata": {},
   "outputs": [],
   "source": [
    "test_pred = clf_vot_final.predict(X_pred.drop(['AdoptionSpeed','PetID'], axis=1))"
   ]
  },
  {
   "cell_type": "markdown",
   "metadata": {},
   "source": [
    "Now we can view the distribution of predictions on the test data."
   ]
  },
  {
   "cell_type": "code",
   "execution_count": 344,
   "metadata": {},
   "outputs": [
    {
     "data": {
      "text/plain": [
       "([<matplotlib.axis.XTick at 0x2291f2bd4a8>,\n",
       "  <matplotlib.axis.XTick at 0x22971b59e10>,\n",
       "  <matplotlib.axis.XTick at 0x22971b59b38>,\n",
       "  <matplotlib.axis.XTick at 0x2291f2cdeb8>,\n",
       "  <matplotlib.axis.XTick at 0x2291f2a5630>],\n",
       " <a list of 5 Text xticklabel objects>)"
      ]
     },
     "execution_count": 344,
     "metadata": {},
     "output_type": "execute_result"
    },
    {
     "data": {
      "image/png": "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\n",
      "text/plain": [
       "<Figure size 504x504 with 1 Axes>"
      ]
     },
     "metadata": {
      "needs_background": "light"
     },
     "output_type": "display_data"
    }
   ],
   "source": [
    "plt.rcParams[\"figure.figsize\"] = [7,7]\n",
    "pd.DataFrame(test_pred).hist()\n",
    "plt.title('Adoption Speed Predictions on Test Data')\n",
    "plt.ylabel('Number of prediction')\n",
    "plt.xticks(np.arange(5))"
   ]
  },
  {
   "cell_type": "code",
   "execution_count": 348,
   "metadata": {},
   "outputs": [
    {
     "data": {
      "text/plain": [
       "4    1788\n",
       "2    1257\n",
       "1     684\n",
       "3     219\n",
       "Name: 0, dtype: int64"
      ]
     },
     "execution_count": 348,
     "metadata": {},
     "output_type": "execute_result"
    }
   ],
   "source": [
    "pd.DataFrame(test_pred)[0].value_counts()"
   ]
  },
  {
   "cell_type": "markdown",
   "metadata": {},
   "source": [
    "Somewhat surprising, there are no predictions of an 'AdoptionSpeed' of 0 for any of the test data. In the training data, there were significantly fewer cases of the lowest 'AdoptionSpeed' which may be why it's possible for the test set to have zero occurances. However, it still seems unusual for that kind of imbalance and could be investigated further."
   ]
  },
  {
   "cell_type": "markdown",
   "metadata": {},
   "source": [
    "## Saving predictions on test data"
   ]
  },
  {
   "cell_type": "markdown",
   "metadata": {},
   "source": [
    "Saving the predictions to a seperate CSV file will allow me to upload it to the Kaggle competition to receive a scoring."
   ]
  },
  {
   "cell_type": "code",
   "execution_count": 350,
   "metadata": {},
   "outputs": [],
   "source": [
    "pred['PetID'] = X_pred['PetID']\n",
    "pred['AdoptionSpeed'] = test_pred\n",
    "pred.set_index('PetID').to_csv(\"submission.csv\", index=True)"
   ]
  },
  {
   "cell_type": "markdown",
   "metadata": {},
   "source": [
    "## Scoring results on Kaggle"
   ]
  },
  {
   "cell_type": "markdown",
   "metadata": {},
   "source": [
    "The prediction submitted received a score of <b>0.333</b> on the Kaggle competition. This placed us in about the 50th percentile of all of the competitors."
   ]
  },
  {
   "cell_type": "markdown",
   "metadata": {},
   "source": [
    "## Summary"
   ]
  },
  {
   "cell_type": "markdown",
   "metadata": {},
   "source": [
    "The current high score on the Kaggle competition is 0.452 so there is certainly room for improvement. However, the final classifier of this project still scored decently well given this was my first participation in a Kaggle competition. The final classifier was a definite improvement over the baseline classifiers and even the tuned classifiers so choosing to ensemble them using a VotingClassifier was a good choice. "
   ]
  },
  {
   "cell_type": "markdown",
   "metadata": {},
   "source": [
    "## Future work"
   ]
  },
  {
   "cell_type": "markdown",
   "metadata": {},
   "source": [
    "<b>With more time I would focus on the following:"
   ]
  },
  {
   "cell_type": "markdown",
   "metadata": {},
   "source": [
    "1) Class imbalance\n",
    "    - The lowest 'AdoptionSpeed' had a very low occurence in the training data and no occurence in the test predictions. This seems unusual and could be investigate further. I would want to look into the confusion matrix of predictions on the training data to see how well or how not so well the classifier predicts an 'AdoptionSpeed' of 0. \n",
    "    - I would consider using SMOTE to balance the classes of 'AdoptionSpeed' better.\n",
    "2) Removing data\n",
    "    - I added a few of my own columns to the dataset. In hindsight, some of this additional data could have just added noise to the dataset. I would test removing some of the added columns of data.\n",
    "    - I would also test not using as much of the image data as I did - maybe only the first photo for each pet.\n",
    "3) Further investigation of image and sentiment data\n",
    "    - For both the image and sentiment data, I simply used the variables provided without much research into the Google APIs behind them. I would like to learn more about how these APIs work and what the values they generate signify.\n",
    "    - I would also like to possibly try running either the images or descriptions through my own computer vision or NLP algorithm.\n",
    "4) Utilize other classifiers\n",
    "    - Most of the highest scoring kernals on the Kaggle competition use LightGBM for their predictions. I would have liked to learn how to utilize that as a classifier to improve my score.\n",
    "    - I could also include more base classifiers in my VotingClassifier as well as trying out other ensemble methods."
   ]
  },
  {
   "cell_type": "code",
   "execution_count": null,
   "metadata": {},
   "outputs": [],
   "source": []
  }
 ],
 "metadata": {
  "kernelspec": {
   "display_name": "Python 3",
   "language": "python",
   "name": "python3"
  },
  "language_info": {
   "codemirror_mode": {
    "name": "ipython",
    "version": 3
   },
   "file_extension": ".py",
   "mimetype": "text/x-python",
   "name": "python",
   "nbconvert_exporter": "python",
   "pygments_lexer": "ipython3",
   "version": "3.5.6"
  }
 },
 "nbformat": 4,
 "nbformat_minor": 2
}
