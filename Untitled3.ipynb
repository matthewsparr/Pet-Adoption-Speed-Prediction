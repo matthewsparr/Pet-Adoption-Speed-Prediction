{
 "cells": [
  {
   "cell_type": "code",
   "execution_count": 6,
   "metadata": {},
   "outputs": [],
   "source": [
    "import pandas as pd\n",
    "import numpy as np\n",
    "import matplotlib.pyplot as plt\n",
    "%matplotlib inline"
   ]
  },
  {
   "cell_type": "code",
   "execution_count": 7,
   "metadata": {},
   "outputs": [],
   "source": [
    "df = pd.read_csv('dogs_train.csv')"
   ]
  },
  {
   "cell_type": "code",
   "execution_count": 8,
   "metadata": {},
   "outputs": [
    {
     "name": "stdout",
     "output_type": "stream",
     "text": [
      "<class 'pandas.core.frame.DataFrame'>\n",
      "RangeIndex: 8132 entries, 0 to 8131\n",
      "Data columns (total 26 columns):\n",
      "Unnamed: 0       8132 non-null int64\n",
      "Type             8132 non-null int64\n",
      "Name             7483 non-null object\n",
      "Age              8132 non-null int64\n",
      "Breed1           8132 non-null int64\n",
      "Breed2           8132 non-null int64\n",
      "Gender           8132 non-null int64\n",
      "Color1           8132 non-null int64\n",
      "Color2           8132 non-null int64\n",
      "Color3           8132 non-null int64\n",
      "MaturitySize     8132 non-null int64\n",
      "FurLength        8132 non-null int64\n",
      "Vaccinated       8132 non-null int64\n",
      "Dewormed         8132 non-null int64\n",
      "Sterilized       8132 non-null int64\n",
      "Health           8132 non-null int64\n",
      "Quantity         8132 non-null int64\n",
      "Fee              8132 non-null int64\n",
      "State            8132 non-null int64\n",
      "RescuerID        8132 non-null object\n",
      "VideoAmt         8132 non-null int64\n",
      "Description      8129 non-null object\n",
      "PetID            8132 non-null object\n",
      "PhotoAmt         8132 non-null int64\n",
      "AdoptionSpeed    8132 non-null int64\n",
      "Group            8132 non-null object\n",
      "dtypes: int64(21), object(5)\n",
      "memory usage: 1.6+ MB\n"
     ]
    }
   ],
   "source": [
    "df.info()"
   ]
  },
  {
   "cell_type": "code",
   "execution_count": 9,
   "metadata": {},
   "outputs": [
    {
     "data": {
      "text/plain": [
       "0    Misc\n",
       "1    Misc\n",
       "2    Misc\n",
       "3    Misc\n",
       "4    Misc\n",
       "Name: Group, dtype: object"
      ]
     },
     "execution_count": 9,
     "metadata": {},
     "output_type": "execute_result"
    }
   ],
   "source": [
    "df.Group.head()"
   ]
  },
  {
   "cell_type": "code",
   "execution_count": 10,
   "metadata": {},
   "outputs": [
    {
     "data": {
      "text/plain": [
       "Misc            6018\n",
       "Sporting         448\n",
       "Toy              408\n",
       "Working          364\n",
       "Terrier          310\n",
       "Non-Sporting     247\n",
       "Herding          166\n",
       "Hound            154\n",
       "FSS               12\n",
       "Hunting            5\n",
       "Name: Group, dtype: int64"
      ]
     },
     "execution_count": 10,
     "metadata": {},
     "output_type": "execute_result"
    }
   ],
   "source": [
    "df.Group.value_counts()"
   ]
  },
  {
   "cell_type": "code",
   "execution_count": 11,
   "metadata": {},
   "outputs": [
    {
     "data": {
      "text/plain": [
       "0"
      ]
     },
     "execution_count": 11,
     "metadata": {},
     "output_type": "execute_result"
    }
   ],
   "source": [
    "df.Group.isna().sum()"
   ]
  },
  {
   "cell_type": "code",
   "execution_count": 12,
   "metadata": {},
   "outputs": [
    {
     "data": {
      "text/plain": [
       "307    5923\n",
       "213      89\n",
       "0         4\n",
       "143       1\n",
       "81        1\n",
       "Name: Breed1, dtype: int64"
      ]
     },
     "execution_count": 12,
     "metadata": {},
     "output_type": "execute_result"
    }
   ],
   "source": [
    "df['Breed1'][df['Group']=='Misc'].value_counts()"
   ]
  },
  {
   "cell_type": "code",
   "execution_count": 13,
   "metadata": {},
   "outputs": [],
   "source": [
    "df.Group = df.Group.astype('str')"
   ]
  },
  {
   "cell_type": "code",
   "execution_count": null,
   "metadata": {},
   "outputs": [],
   "source": [
    "cats = pd.read_csv('train.csv')"
   ]
  },
  {
   "cell_type": "code",
   "execution_count": null,
   "metadata": {},
   "outputs": [],
   "source": []
  }
 ],
 "metadata": {
  "kernelspec": {
   "display_name": "Python 3",
   "language": "python",
   "name": "python3"
  },
  "language_info": {
   "codemirror_mode": {
    "name": "ipython",
    "version": 3
   },
   "file_extension": ".py",
   "mimetype": "text/x-python",
   "name": "python",
   "nbconvert_exporter": "python",
   "pygments_lexer": "ipython3",
   "version": "3.7.1"
  }
 },
 "nbformat": 4,
 "nbformat_minor": 2
}
